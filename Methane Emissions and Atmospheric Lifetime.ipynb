{
 "cells": [
  {
   "cell_type": "markdown",
   "metadata": {},
   "source": [
    "# Purpose: Produce estimate <CH4> atmospheric lifetime and use it to combine reported emissions and emissions inferred from <CH4> data sources described at the end of this notebook."
   ]
  },
  {
   "cell_type": "markdown",
   "metadata": {},
   "source": [
    "Clear all variables and reset the working directory and import necessary libraries"
   ]
  },
  {
   "cell_type": "code",
   "execution_count": 1,
   "metadata": {},
   "outputs": [],
   "source": [
    "%reset -f\n",
    "import os\n",
    "import pandas as pd\n",
    "import datetime\n",
    "import matplotlib.pyplot as plt\n",
    "import numpy as np\n",
    "from scipy.optimize import curve_fit\n",
    "import csv\n",
    "import xlrd\n",
    "from xlrd import open_workbook\n",
    "from openpyxl import Workbook\n",
    "os.chdir('C:\\\\Users\\\\cd7\\\\Desktop\\\\Heat17CH4')"
   ]
  },
  {
   "cell_type": "markdown",
   "metadata": {},
   "source": [
    "Read three input files separately and assign the year values and methane concentration data"
   ]
  },
  {
   "cell_type": "code",
   "execution_count": 2,
   "metadata": {},
   "outputs": [],
   "source": [
    "df1 = pd.read_excel('v432_CH4_1970_2012.xls','v4.3.2_EM_CH4')\n",
    "df1.to_csv('v432_CH4 _1970_2012.csv',header=False,index=False)\n",
    "df1 = pd.read_csv('v432_CH4 _1970_2012.csv')\n",
    "\n",
    "df2 = pd.read_excel('v432_CH4_1970_2012.xls','TOTALS BY COUNTRY')\n",
    "df2.to_csv('TOTALS BY COUNTRY.csv',header=False,index=False)\n",
    "df2 = pd.read_csv('TOTALS BY COUNTRY.csv')\n",
    "\n",
    "df4 = pd.read_excel('heat17-ch4-1-2017dec14.xlsx')\n",
    "df4.to_csv('heat17-ch4-1-2017dec14.csv',header=False,index=False)\n",
    "df4 = pd.read_csv('heat17-ch4-1-2017dec14.csv')\n",
    "df4.drop(df4.index[[-1]],inplace=True)\n",
    "# print (df4)"
   ]
  },
  {
   "cell_type": "code",
   "execution_count": 3,
   "metadata": {},
   "outputs": [
    {
     "name": "stdout",
     "output_type": "stream",
     "text": [
      "heat18ch4emitjul15\n"
     ]
    }
   ],
   "source": [
    "out1 = 'heat'\n",
    "out2 = 'ch4emit'\n",
    "months = ['jan', 'feb', 'mar', 'apr', 'may', 'jun', 'jul', 'aug', 'sep', 'oct', 'nov', 'dec'] # abbreviations for months to insert in output file name\n",
    "date = datetime.date.today().strftime(\"%Y-%m-%d\")\n",
    "date_split = date.split('-') # split the date string we create by symbol \"-\"\n",
    "yrs = str(int(date_split[0])-2000) # real years minus 2000 \n",
    "seq = [out1, yrs, out2,months[int(date_split[1])-1],date_split[2]]\n",
    "seperator = ','\n",
    "filename = seperator.join(seq).replace(',', '')\n",
    "print (filename)"
   ]
  },
  {
   "cell_type": "markdown",
   "metadata": {},
   "source": [
    "Assemble Data"
   ]
  },
  {
   "cell_type": "markdown",
   "metadata": {},
   "source": [
    "Emissions Data"
   ]
  },
  {
   "cell_type": "code",
   "execution_count": 4,
   "metadata": {},
   "outputs": [
    {
     "name": "stdout",
     "output_type": "stream",
     "text": [
      "0     1970\n",
      "1     1971\n",
      "2     1972\n",
      "3     1973\n",
      "4     1974\n",
      "5     1975\n",
      "6     1976\n",
      "7     1977\n",
      "8     1978\n",
      "9     1979\n",
      "10    1980\n",
      "11    1981\n",
      "12    1982\n",
      "13    1983\n",
      "14    1984\n",
      "15    1985\n",
      "16    1986\n",
      "17    1987\n",
      "18    1988\n",
      "19    1989\n",
      "20    1990\n",
      "21    1991\n",
      "22    1992\n",
      "23    1993\n",
      "24    1994\n",
      "25    1995\n",
      "26    1996\n",
      "27    1997\n",
      "28    1998\n",
      "29    1999\n",
      "30    2000\n",
      "31    2001\n",
      "32    2002\n",
      "33    2003\n",
      "34    2004\n",
      "35    2005\n",
      "36    2006\n",
      "37    2007\n",
      "38    2008\n",
      "39    2009\n",
      "40    2010\n",
      "41    2011\n",
      "42    2012\n",
      "Name: 0, dtype: object\n",
      "Unnamed: 6     266.099581\n",
      "Unnamed: 7     275.813505\n",
      "Unnamed: 8     284.351780\n",
      "Unnamed: 9     300.081619\n",
      "Unnamed: 10    302.598475\n",
      "Unnamed: 11    298.030333\n",
      "Unnamed: 12    311.719321\n",
      "Unnamed: 13    310.683298\n",
      "Unnamed: 14    318.609033\n",
      "Unnamed: 15    315.709341\n",
      "Unnamed: 16    308.702040\n",
      "Unnamed: 17    292.750700\n",
      "Unnamed: 18    292.800437\n",
      "Unnamed: 19    290.647024\n",
      "Unnamed: 20    289.558977\n",
      "Unnamed: 21    290.955770\n",
      "Unnamed: 22    292.466318\n",
      "Unnamed: 23    291.144128\n",
      "Unnamed: 24    300.807085\n",
      "Unnamed: 25    304.828926\n",
      "Unnamed: 26    301.328293\n",
      "Unnamed: 27    300.270905\n",
      "Unnamed: 28    301.367262\n",
      "Unnamed: 29    300.341884\n",
      "Unnamed: 30    301.187056\n",
      "Unnamed: 31    302.276033\n",
      "Unnamed: 32    303.425742\n",
      "Unnamed: 33    299.843887\n",
      "Unnamed: 34    293.320099\n",
      "Unnamed: 35    292.647948\n",
      "Unnamed: 36    292.957305\n",
      "Unnamed: 37    293.513123\n",
      "Unnamed: 38    294.866410\n",
      "Unnamed: 39    302.436776\n",
      "Unnamed: 40    309.969716\n",
      "Unnamed: 41    317.539294\n",
      "Unnamed: 42    324.424374\n",
      "Unnamed: 43    327.896760\n",
      "Unnamed: 44    333.545960\n",
      "Unnamed: 45    333.897130\n",
      "Unnamed: 46    341.648094\n",
      "Unnamed: 47    347.557166\n",
      "Unnamed: 48    352.983204\n",
      "dtype: float64\n",
      "   yrsec    ppbperyr\n",
      "0   1970   95.719274\n",
      "1   1971   99.213491\n",
      "2   1972  102.284813\n",
      "3   1973  107.943029\n",
      "4   1974  108.848372\n",
      "5   1975  107.205156\n",
      "6   1976  112.129252\n",
      "7   1977  111.756582\n",
      "8   1978  114.607566\n",
      "9   1979  113.564511\n",
      "10  1980  111.043899\n",
      "11  1981  105.306007\n",
      "12  1982  105.323898\n",
      "13  1983  104.549289\n",
      "14  1984  104.157906\n",
      "15  1985  104.660349\n",
      "16  1986  105.203712\n",
      "17  1987  104.728104\n",
      "18  1988  108.203987\n",
      "19  1989  109.650693\n",
      "20  1990  108.391472\n",
      "21  1991  108.011117\n",
      "22  1992  108.405490\n",
      "23  1993  108.036649\n",
      "24  1994  108.340668\n",
      "25  1995  108.732386\n",
      "26  1996  109.145950\n",
      "27  1997  107.857513\n",
      "28  1998  105.510827\n",
      "29  1999  105.269046\n",
      "30  2000  105.380326\n",
      "31  2001  105.580260\n",
      "32  2002  106.067054\n",
      "33  2003  108.790207\n",
      "34  2004  111.499898\n",
      "35  2005  114.222768\n",
      "36  2006  116.699415\n",
      "37  2007  117.948475\n",
      "38  2008  119.980561\n",
      "39  2009  120.106881\n",
      "40  2010  122.894998\n",
      "41  2011  125.020563\n",
      "42  2012  126.972375\n"
     ]
    },
    {
     "data": {
      "text/plain": [
       "<matplotlib.axes._subplots.AxesSubplot at 0x27d6c380ac8>"
      ]
     },
     "execution_count": 4,
     "metadata": {},
     "output_type": "execute_result"
    },
    {
     "data": {
      "image/png": "[encoded data removed]",
      "text/plain": [
       "<matplotlib.figure.Figure at 0x27d6c380dd8>"
      ]
     },
     "metadata": {},
     "output_type": "display_data"
    }
   ],
   "source": [
    "yrsec = df1.iloc[0,6:49]\n",
    "yrsec.index = np.arange(0, len(yrsec))\n",
    "print (yrsec)\n",
    "df2 = df2.iloc[1:]  # ecall = df2\n",
    "df2 = df2.fillna(0) # replace all the NaN values with Zero's in a pandas dataframe\n",
    "df2.index = np.arange(0, len(df2))\n",
    "\n",
    "ecbycontryraw = [] \n",
    "for i in range(0,len(df2)):\n",
    "    sub_list=[]\n",
    "    for m in range(6,len(df2.columns)):\n",
    "        x = df2.iloc[i,m].tolist()\n",
    "        sub_list.append(float(x))\n",
    "    ecbycontryraw.append(sub_list)\n",
    "  \n",
    "giggatonneperyr = df2.iloc[:, 6:len(df2.columns)].sum(axis=0)/1000\n",
    "ppbperyr = giggatonneperyr /2.78\n",
    "ppbperyr.index = np.arange(0, len(ppbperyr))\n",
    "# ppbperyr=ppbperyr.tolist()\n",
    "print (giggatonneperyr)\n",
    "\n",
    "df3 = pd.concat([yrsec, ppbperyr], axis=1).reset_index()\n",
    "df3 = df3.drop('index',axis=1)\n",
    "df3.columns = ['yrsec','ppbperyr']\n",
    "\n",
    "print (df3)\n",
    "df3 = df3.astype(float) # Cast a pandas object to a specified dtype float.\n",
    "df3.plot.scatter(x='yrsec',y='ppbperyr',s=2,color = 'r', alpha = 0.5,label ='data',marker='o')\n",
    "                           "
   ]
  },
  {
   "cell_type": "markdown",
   "metadata": {},
   "source": [
    "CH4 Data and Finite Differences"
   ]
  },
  {
   "cell_type": "code",
   "execution_count": 5,
   "metadata": {},
   "outputs": [
    {
     "name": "stdout",
     "output_type": "stream",
     "text": [
      "<class 'pandas.core.series.Series'>\n",
      "2015\n"
     ]
    }
   ],
   "source": [
    "yrs2 = df4['Julian']\n",
    "yrs2 = yrs2.iloc[1:-1]\n",
    "print (type(yrs2))\n",
    "\n",
    "ch4 = df4.iloc[:,1:2]\n",
    "ch4 = ch4['ppb'].tolist()\n",
    "ch4 = list(map(float, ch4))\n",
    "# del record[-1]\n",
    "# print (ch4[0])\n",
    "\n",
    "dch4dt = []\n",
    "\n",
    "# for i in range(0,len(ch4)-1):\n",
    "# #     sub_list=[]\n",
    "#     if i == 0:\n",
    "#         x = ch4[1]-ch4[0]\n",
    "#         dch4dt.append(float(x))\n",
    "#     else:\n",
    "#         x = (ch4[i+1]-ch4[i-1])/2\n",
    "#         dch4dt.append(float(x))\n",
    "        \n",
    "for i in range(0,len(ch4)-2):\n",
    "        x = (ch4[i+2]-ch4[i])/2\n",
    "        dch4dt.append(float(x))\n",
    "\n",
    "print (len(dch4dt))\n",
    "\n",
    "ch40 = 732.138\n",
    "\n",
    "\n",
    "b0 = dch4dt[int(yrsec.iloc[-1])-1]\n",
    "# print (b0)\n",
    "\n",
    "\n",
    "\n",
    "# index = list(range(int(yrsec.iloc[0])-1, int(yrsec.iloc[-1])))\n",
    "\n",
    "index1 = list(range(int(yrsec.iloc[0])-1, int(yrsec.iloc[-1])))\n",
    "index2 = list(range(int(yrsec.iloc[0]), int(yrsec.iloc[-1])+1))\n",
    "\n",
    "c0 = [ dch4dt[i] for i in index1]\n",
    "\n",
    "c1 = [ ch4[i] for i in index2]\n",
    "\n",
    "# print(len(c1))\n",
    "ppbperyr = df3['ppbperyr'].tolist()\n",
    "ppbperyr = list(map(float, ppbperyr))\n",
    "\n",
    "l1 = [ppbperyr[i]-c0[i] for i in range(0,len(c0))]"
   ]
  },
  {
   "cell_type": "code",
   "execution_count": 6,
   "metadata": {},
   "outputs": [
    {
     "name": "stdout",
     "output_type": "stream",
     "text": [
      "[9.51428385]\n"
     ]
    }
   ],
   "source": [
    "def err(d0,lifetofind):\n",
    "    y = (d0 - ch40)/lifetofind\n",
    "    return y\n",
    "param_bounds=(0,50)\n",
    "popt, pcov = curve_fit(err, c1, l1, bounds=param_bounds)\n",
    "print (popt)"
   ]
  },
  {
   "cell_type": "code",
   "execution_count": 7,
   "metadata": {
    "scrolled": true
   },
   "outputs": [
    {
     "name": "stdout",
     "output_type": "stream",
     "text": [
      "<class 'int'>\n",
      "1.0091803971749314\n"
     ]
    },
    {
     "data": {
      "text/plain": [
       "[<matplotlib.lines.Line2D at 0x27d6c60e978>]"
      ]
     },
     "execution_count": 7,
     "metadata": {},
     "output_type": "execute_result"
    },
    {
     "data": {
      "image/png": "[encoded data removed]",
      "text/plain": [
       "<matplotlib.figure.Figure at 0x27d6c5e1668>"
      ]
     },
     "metadata": {},
     "output_type": "display_data"
    }
   ],
   "source": [
    "# tlastpre = 1749\n",
    "# del ch4[-1]\n",
    "# x = np.array(ch4)\n",
    "# fit = err(x, *popt)\n",
    "# emitlate = fit + dch4dt\n",
    "# emitlate = emitlate[tlastpre:] \n",
    "\n",
    "# yrs2 = yrs2.tolist()\n",
    "# yrs2 = list(map(int, yrs2))\n",
    "# yrslate = yrs2[tlastpre:] \n",
    "\n",
    "# itemindex = yrslate.index(int(yrsec[0]))\n",
    "\n",
    "# rescale = ppbperyr[0]/emitlate[itemindex]\n",
    "# print (rescale)\n",
    "# print (emitlate[itemindex+1])\n",
    "# print(ppbperyr[0])\n",
    "\n",
    "\n",
    "tlastpre = 1749\n",
    "# print (len(n2o))\n",
    "# del n2o[-3]\n",
    "ch4 = ch4[1:-1]\n",
    "# print (len(n2o))\n",
    "x = np.array(ch4)\n",
    "fit = err(x, *popt)\n",
    "emitlate = fit + dch4dt\n",
    "emitlate = emitlate[tlastpre-1:] \n",
    "\n",
    "yrs2 = yrs2.tolist()\n",
    "yrs2 = list(map(int, yrs2))\n",
    "yrslate = yrs2[tlastpre-1:]\n",
    "\n",
    "itemindex1 = yrslate.index(int(yrsec[0]))\n",
    "itemindex2 = yrslate.index(int(yrsec.iloc[-1]))\n",
    "\n",
    "print(type(itemindex1))\n",
    "# print(itemindex2)\n",
    "# print (emitlate[itemindex1:itemindex2+1])\n",
    "rescale = np.mean(ppbperyr)/np.mean(emitlate[itemindex1:itemindex2+1])\n",
    "print (rescale)\n",
    "\n",
    "rescaleemitlate = rescale * emitlate\n",
    "plt.plot(yrslate,rescaleemitlate)\n",
    "\n",
    "# print (emitlate[itemindex])\n",
    "# print(ppbperyr[0])"
   ]
  },
  {
   "cell_type": "markdown",
   "metadata": {},
   "source": [
    "Export data to excel sheet"
   ]
  },
  {
   "cell_type": "code",
   "execution_count": 8,
   "metadata": {},
   "outputs": [
    {
     "name": "stdout",
     "output_type": "stream",
     "text": [
      "267\n"
     ]
    },
    {
     "data": {
      "text/plain": [
       "<matplotlib.legend.Legend at 0x27d6c4c7d30>"
      ]
     },
     "execution_count": 8,
     "metadata": {},
     "output_type": "execute_result"
    },
    {
     "data": {
      "image/png": "[encoded data removed]",
      "text/plain": [
       "<matplotlib.figure.Figure at 0x27d6c4c7e48>"
      ]
     },
     "metadata": {},
     "output_type": "display_data"
    }
   ],
   "source": [
    "list1 = rescaleemitlate[0:itemindex1].tolist()\n",
    "\n",
    "list2 = ppbperyr\n",
    "\n",
    "list3 = float(rescale)*emitlate[itemindex2+1:]\n",
    "list3 = rescaleemitlate[itemindex2+1:].tolist()\n",
    "\n",
    "emitout = list1 + list2 + list3\n",
    "print(len(emitout))\n",
    "\n",
    "plt.scatter(yrslate,emitout,s=2,color = 'r', alpha = 0.5,label ='data',marker='o')\n",
    "plt.legend(loc='best')"
   ]
  },
  {
   "cell_type": "code",
   "execution_count": 9,
   "metadata": {},
   "outputs": [],
   "source": [
    "df5 = pd.DataFrame({'Year' : yrslate, 'EmitCH4' : emitout},columns=[\"Year\", \"EmitCH4\"]) \n",
    "df5.loc[-1]=['Julian','ppb/yr']\n",
    "df5.index = df5.index+1\n",
    "df5 = df5.sort_index()\n",
    "df5.loc[(len(df5))] = ['15Jul2018','heat18ch4emissionsdec16.nb']\n",
    "df5.to_csv(filename + '.csv', index=False, encoding='utf-8')\n",
    "\n",
    "df6 = pd.DataFrame({'CH4' : popt, 'Lifetime' : 'years'},columns=[\"CH4\", \"Lifetime\"])\n",
    "df6.loc[(len(df6))] = ['16Jul2018','heat18ch4emissionsdec16.nb']\n",
    "df6.to_csv('CAGE_CH4_Lifetime.csv', index=False,encoding='utf-8')"
   ]
  }
 ],
 "metadata": {
  "kernelspec": {
   "display_name": "Python 3",
   "language": "python",
   "name": "python3"
  },
  "language_info": {
   "codemirror_mode": {
    "name": "ipython",
    "version": 3
   },
   "file_extension": ".py",
   "mimetype": "text/x-python",
   "name": "python",
   "nbconvert_exporter": "python",
   "pygments_lexer": "ipython3",
   "version": "3.6.4"
  }
 },
 "nbformat": 4,
 "nbformat_minor": 2
}
