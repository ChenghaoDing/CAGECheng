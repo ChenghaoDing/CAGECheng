{
 "cells": [
  {
   "cell_type": "markdown",
   "metadata": {},
   "source": [
    "# Purpose: Approximately integrate methane emissions starting from 1750, and compare to data"
   ]
  },
  {
   "cell_type": "markdown",
   "metadata": {},
   "source": [
    "Clear all variables and reset the working directory and import necessary libraries"
   ]
  },
  {
   "cell_type": "code",
   "execution_count": 1,
   "metadata": {},
   "outputs": [],
   "source": [
    "%reset -f\n",
    "import os\n",
    "import pandas as pd\n",
    "import datetime\n",
    "import matplotlib.pyplot as plt\n",
    "import numpy as np\n",
    "from scipy.special import erf\n",
    "from scipy.optimize import curve_fit\n",
    "import math\n",
    "os.chdir('C:\\\\Users\\\\cd7\\\\Desktop\\\\Heat17CH4')"
   ]
  },
  {
   "cell_type": "markdown",
   "metadata": {},
   "source": [
    "Read two input files separately and assign the year values and methane concentration data"
   ]
  },
  {
   "cell_type": "code",
   "execution_count": 2,
   "metadata": {},
   "outputs": [],
   "source": [
    "df1 = pd.read_excel('heat18parameters04jan.xlsx')\n",
    "df1.to_csv('heat18parameters04jan.csv',header=False,index=False)\n",
    "df1 = pd.read_csv('heat18parameters04jan.csv')\n",
    "# print (df1)\n",
    "\n",
    "df2 = pd.read_excel('heat17-ch4-1-2017dec14.xlsx') # results of excel sheet from code of radiative forcing\n",
    "df2.to_csv('heat17-ch4-1-2017dec14.csv',header=False,index=False)\n",
    "df3 = pd.read_csv('heat17-ch4-1-2017dec14.csv')\n",
    "df3.drop(df3.index[[-1]],inplace=True)\n",
    "# print (df3)"
   ]
  },
  {
   "cell_type": "markdown",
   "metadata": {},
   "source": [
    "Rename the files"
   ]
  },
  {
   "cell_type": "code",
   "execution_count": 3,
   "metadata": {},
   "outputs": [],
   "source": [
    "out1 = 'historical'\n",
    "out2 = 'ch4'\n",
    "months = ['jan', 'feb', 'mar', 'apr', 'may', 'jun', 'jul', 'aug', 'sep', 'oct', 'nov', 'dec'] # abbreviations for months to insert in output file name\n",
    "date = datetime.date.today().strftime(\"%Y-%m-%d\")\n",
    "date_split = date.split('-') # split the date string we create by symbol \"-\"\n",
    "yrs = str(int(date_split[0])-2000) # real years minus 2000\n",
    "seq = [out1, yrs, out2,months[int(date_split[1])-1],date_split[2]]\n",
    "seperator = ','\n",
    "filename = seperator.join(seq).replace(',', '')"
   ]
  },
  {
   "cell_type": "code",
   "execution_count": 4,
   "metadata": {},
   "outputs": [
    {
     "name": "stdout",
     "output_type": "stream",
     "text": [
      "722.065\n",
      "     Julian                 ppb\n",
      "1749   1750   742.5796049119058\n",
      "1750   1751   742.1584623598503\n",
      "1751   1752   741.9478910838226\n",
      "1752   1753   742.0531767218364\n",
      "1753   1754   742.2637479978641\n",
      "1754   1755   742.5796049119058\n",
      "1755   1756   743.0007474639614\n",
      "1756   1757   743.5271756540308\n",
      "1757   1758   744.2641751201279\n",
      "1758   1759   745.0011745862251\n",
      "1759   1760     745.94874532835\n",
      "1760   1761   747.0016017084888\n",
      "1761   1762   748.1597437266415\n",
      "1762   1763    749.528457020822\n",
      "1763   1764   751.0024559530162\n",
      "1764   1765   752.6870261612385\n",
      "1765   1766   754.3715963694606\n",
      "1766   1767   756.0561665776827\n",
      "1767   1768   757.7407367859048\n",
      "1768   1769   759.4253069941268\n",
      "1769   1770    761.004591564335\n",
      "1770   1771   762.3733048585156\n",
      "1771   1772   763.6367325146821\n",
      "1772   1773   764.6895888948209\n",
      "1773   1774   765.3213027229042\n",
      "1774   1775   765.7424452749597\n",
      "1775   1776   765.8477309129736\n",
      "1776   1777   765.7424452749597\n",
      "1777   1778   765.6371596369459\n",
      "1778   1779   765.4265883609181\n",
      "...     ...                 ...\n",
      "1987   1988              1693.2\n",
      "1988   1989              1704.1\n",
      "1989   1990                1714\n",
      "1990   1991              1724.7\n",
      "1991   1992              1735.3\n",
      "1992   1993              1736.3\n",
      "1993   1994              1741.8\n",
      "1994   1995              1748.7\n",
      "1995   1996                1751\n",
      "1996   1997              1754.4\n",
      "1997   1998              1765.4\n",
      "1998   1999                1772\n",
      "1999   2000              1773.2\n",
      "2000   2001                1771\n",
      "2001   2002              1772.6\n",
      "2002   2003              1776.9\n",
      "2003   2004              1776.9\n",
      "2004   2005                1774\n",
      "2005   2006              1774.7\n",
      "2006   2007                1781\n",
      "2007   2008              1786.9\n",
      "2008   2009              1793.2\n",
      "2009   2010              1798.6\n",
      "2010   2011                1803\n",
      "2011   2012              1808.2\n",
      "2012   2013              1813.3\n",
      "2013   2014              1822.5\n",
      "2014   2015                1834\n",
      "2015   2016                1843\n",
      "2016   2017  1852.4989691840278\n",
      "\n",
      "[268 rows x 2 columns]\n"
     ]
    }
   ],
   "source": [
    "b9 = df1.iloc[8,0:4]\n",
    "ch40 = df1.iloc[18,2]\n",
    "print (ch40)\n",
    "ndrop = 1749\n",
    "df4 = df3.iloc[ndrop:]\n",
    "print (df4)"
   ]
  },
  {
   "cell_type": "code",
   "execution_count": 5,
   "metadata": {},
   "outputs": [
    {
     "data": {
      "text/plain": [
       "<matplotlib.axes._subplots.AxesSubplot at 0x198584349e8>"
      ]
     },
     "execution_count": 5,
     "metadata": {},
     "output_type": "execute_result"
    },
    {
     "data": {
      "image/png": "[encoded data removed]",
      "text/plain": [
       "<matplotlib.figure.Figure at 0x198584345c0>"
      ]
     },
     "metadata": {},
     "output_type": "display_data"
    }
   ],
   "source": [
    "df4 = df4.astype(float)\n",
    "df4.plot.scatter(x='Julian',y='ppb',s=2,color = 'r', alpha = 0.5,label ='data',marker='o')"
   ]
  },
  {
   "cell_type": "code",
   "execution_count": 6,
   "metadata": {},
   "outputs": [
    {
     "name": "stdout",
     "output_type": "stream",
     "text": [
      "9.51428\n",
      "0.2299045998898114 -5.410597434732601 0.00444908666345861\n"
     ]
    }
   ],
   "source": [
    "life = b9[3]  # (* from heat17ch4emissions14dec.nb *)\n",
    "print (life)\n",
    "eps = life/b9[2]\n",
    "def yrs(t):\n",
    "    y = (t - b9[1])/b9[2]\n",
    "    return y\n",
    "def u(x):\n",
    "    y = 1/(1 + np.exp(-x))\n",
    "#     y = 1/(1 + math.exp(-x))\n",
    "    return y\n",
    "x0 = (1750 - b9[1])/b9[2]\n",
    "u0 = 1/(1 + np.exp(-x0))\n",
    "print (eps,x0,u0)\n",
    "def ch4fit(u):\n",
    "    y = ch40 + life*b9[0]*u(x)*(1-eps*(1-u(x))-eps**2*(1-u(x))(1-2*u(x)))-life*b9[0]*u0*(1-eps*(1-u0)-eps**2(1-u0)*(1-2*u0))\n",
    "    return y"
   ]
  },
  {
   "cell_type": "code",
   "execution_count": 7,
   "metadata": {},
   "outputs": [
    {
     "name": "stdout",
     "output_type": "stream",
     "text": [
      "[1750, 1751, 1752, 1753, 1754, 1755, 1756, 1757, 1758, 1759, 1760, 1761, 1762, 1763, 1764, 1765, 1766, 1767, 1768, 1769, 1770, 1771, 1772, 1773, 1774, 1775, 1776, 1777, 1778, 1779, 1780, 1781, 1782, 1783, 1784, 1785, 1786, 1787, 1788, 1789, 1790, 1791, 1792, 1793, 1794, 1795, 1796, 1797, 1798, 1799, 1800, 1801, 1802, 1803, 1804, 1805, 1806, 1807, 1808, 1809, 1810, 1811, 1812, 1813, 1814, 1815, 1816, 1817, 1818, 1819, 1820, 1821, 1822, 1823, 1824, 1825, 1826, 1827, 1828, 1829, 1830, 1831, 1832, 1833, 1834, 1835, 1836, 1837, 1838, 1839, 1840, 1841, 1842, 1843, 1844, 1845, 1846, 1847, 1848, 1849, 1850, 1851, 1852, 1853, 1854, 1855, 1856, 1857, 1858, 1859, 1860, 1861, 1862, 1863, 1864, 1865, 1866, 1867, 1868, 1869, 1870, 1871, 1872, 1873, 1874, 1875, 1876, 1877, 1878, 1879, 1880, 1881, 1882, 1883, 1884, 1885, 1886, 1887, 1888, 1889, 1890, 1891, 1892, 1893, 1894, 1895, 1896, 1897, 1898, 1899, 1900, 1901, 1902, 1903, 1904, 1905, 1906, 1907, 1908, 1909, 1910, 1911, 1912, 1913, 1914, 1915, 1916, 1917, 1918, 1919, 1920, 1921, 1922, 1923, 1924, 1925, 1926, 1927, 1928, 1929, 1930, 1931, 1932, 1933, 1934, 1935, 1936, 1937, 1938, 1939, 1940, 1941, 1942, 1943, 1944, 1945, 1946, 1947, 1948, 1949, 1950, 1951, 1952, 1953, 1954, 1955, 1956, 1957, 1958, 1959, 1960, 1961, 1962, 1963, 1964, 1965, 1966, 1967, 1968, 1969, 1970, 1971, 1972, 1973, 1974, 1975, 1976, 1977, 1978, 1979, 1980, 1981, 1982, 1983, 1984, 1985, 1986, 1987, 1988, 1989, 1990, 1991, 1992, 1993, 1994, 1995, 1996, 1997, 1998, 1999, 2000, 2001, 2002, 2003, 2004, 2005, 2006, 2007, 2008, 2009, 2010, 2011, 2012, 2013, 2014, 2015, 2016, 2017]\n"
     ]
    },
    {
     "ename": "TypeError",
     "evalue": "'numpy.ndarray' object is not callable",
     "output_type": "error",
     "traceback": [
      "\u001b[1;31m---------------------------------------------------------------------------\u001b[0m",
      "\u001b[1;31mTypeError\u001b[0m                                 Traceback (most recent call last)",
      "\u001b[1;32m<ipython-input-7-67258da0d943>\u001b[0m in \u001b[0;36m<module>\u001b[1;34m()\u001b[0m\n\u001b[0;32m      5\u001b[0m \u001b[0mt\u001b[0m \u001b[1;33m=\u001b[0m \u001b[0mlist\u001b[0m\u001b[1;33m(\u001b[0m\u001b[0mrange\u001b[0m\u001b[1;33m(\u001b[0m\u001b[0mt0\u001b[0m\u001b[1;33m,\u001b[0m\u001b[0mtmax\u001b[0m\u001b[1;33m+\u001b[0m\u001b[1;36m1\u001b[0m\u001b[1;33m)\u001b[0m\u001b[1;33m)\u001b[0m\u001b[1;33m\u001b[0m\u001b[0m\n\u001b[0;32m      6\u001b[0m \u001b[0mprint\u001b[0m \u001b[1;33m(\u001b[0m\u001b[0mt\u001b[0m\u001b[1;33m)\u001b[0m\u001b[1;33m\u001b[0m\u001b[0m\n\u001b[1;32m----> 7\u001b[1;33m \u001b[0mplt\u001b[0m\u001b[1;33m.\u001b[0m\u001b[0mplot\u001b[0m\u001b[1;33m(\u001b[0m\u001b[0mt\u001b[0m\u001b[1;33m,\u001b[0m\u001b[0mch4fit\u001b[0m\u001b[1;33m(\u001b[0m\u001b[0mu\u001b[0m\u001b[1;33m(\u001b[0m\u001b[0mx\u001b[0m\u001b[1;33m(\u001b[0m\u001b[0mt\u001b[0m\u001b[1;33m)\u001b[0m\u001b[1;33m)\u001b[0m\u001b[1;33m)\u001b[0m\u001b[1;33m,\u001b[0m\u001b[0mlabel\u001b[0m\u001b[1;33m=\u001b[0m\u001b[1;34m\"simulation\"\u001b[0m\u001b[1;33m)\u001b[0m\u001b[1;33m\u001b[0m\u001b[0m\n\u001b[0m\u001b[0;32m      8\u001b[0m \u001b[1;31m# q = eval('ch4fit(u(x(t1)))')\u001b[0m\u001b[1;33m\u001b[0m\u001b[1;33m\u001b[0m\u001b[0m\n\u001b[0;32m      9\u001b[0m \u001b[1;31m# c = eval('x(t1)')\u001b[0m\u001b[1;33m\u001b[0m\u001b[1;33m\u001b[0m\u001b[0m\n",
      "\u001b[1;32m<ipython-input-6-b5e187ed3f90>\u001b[0m in \u001b[0;36mch4fit\u001b[1;34m(u)\u001b[0m\n\u001b[0;32m     13\u001b[0m \u001b[0mprint\u001b[0m \u001b[1;33m(\u001b[0m\u001b[0meps\u001b[0m\u001b[1;33m,\u001b[0m\u001b[0mx0\u001b[0m\u001b[1;33m,\u001b[0m\u001b[0mu0\u001b[0m\u001b[1;33m)\u001b[0m\u001b[1;33m\u001b[0m\u001b[0m\n\u001b[0;32m     14\u001b[0m \u001b[1;32mdef\u001b[0m \u001b[0mch4fit\u001b[0m\u001b[1;33m(\u001b[0m\u001b[0mu\u001b[0m\u001b[1;33m)\u001b[0m\u001b[1;33m:\u001b[0m\u001b[1;33m\u001b[0m\u001b[0m\n\u001b[1;32m---> 15\u001b[1;33m     \u001b[0my\u001b[0m \u001b[1;33m=\u001b[0m \u001b[0mch40\u001b[0m \u001b[1;33m+\u001b[0m \u001b[0mlife\u001b[0m\u001b[1;33m*\u001b[0m\u001b[0mb9\u001b[0m\u001b[1;33m[\u001b[0m\u001b[1;36m0\u001b[0m\u001b[1;33m]\u001b[0m\u001b[1;33m*\u001b[0m\u001b[0mu\u001b[0m\u001b[1;33m(\u001b[0m\u001b[0mx\u001b[0m\u001b[1;33m)\u001b[0m\u001b[1;33m*\u001b[0m\u001b[1;33m(\u001b[0m\u001b[1;36m1\u001b[0m\u001b[1;33m-\u001b[0m\u001b[0meps\u001b[0m\u001b[1;33m*\u001b[0m\u001b[1;33m(\u001b[0m\u001b[1;36m1\u001b[0m\u001b[1;33m-\u001b[0m\u001b[0mu\u001b[0m\u001b[1;33m(\u001b[0m\u001b[0mx\u001b[0m\u001b[1;33m)\u001b[0m\u001b[1;33m)\u001b[0m\u001b[1;33m-\u001b[0m\u001b[0meps\u001b[0m\u001b[1;33m**\u001b[0m\u001b[1;36m2\u001b[0m\u001b[1;33m*\u001b[0m\u001b[1;33m(\u001b[0m\u001b[1;36m1\u001b[0m\u001b[1;33m-\u001b[0m\u001b[0mu\u001b[0m\u001b[1;33m(\u001b[0m\u001b[0mx\u001b[0m\u001b[1;33m)\u001b[0m\u001b[1;33m)\u001b[0m\u001b[1;33m(\u001b[0m\u001b[1;36m1\u001b[0m\u001b[1;33m-\u001b[0m\u001b[1;36m2\u001b[0m\u001b[1;33m*\u001b[0m\u001b[0mu\u001b[0m\u001b[1;33m(\u001b[0m\u001b[0mx\u001b[0m\u001b[1;33m)\u001b[0m\u001b[1;33m)\u001b[0m\u001b[1;33m)\u001b[0m\u001b[1;33m-\u001b[0m\u001b[0mlife\u001b[0m\u001b[1;33m*\u001b[0m\u001b[0mb9\u001b[0m\u001b[1;33m[\u001b[0m\u001b[1;36m0\u001b[0m\u001b[1;33m]\u001b[0m\u001b[1;33m*\u001b[0m\u001b[0mu0\u001b[0m\u001b[1;33m*\u001b[0m\u001b[1;33m(\u001b[0m\u001b[1;36m1\u001b[0m\u001b[1;33m-\u001b[0m\u001b[0meps\u001b[0m\u001b[1;33m*\u001b[0m\u001b[1;33m(\u001b[0m\u001b[1;36m1\u001b[0m\u001b[1;33m-\u001b[0m\u001b[0mu0\u001b[0m\u001b[1;33m)\u001b[0m\u001b[1;33m-\u001b[0m\u001b[0meps\u001b[0m\u001b[1;33m**\u001b[0m\u001b[1;36m2\u001b[0m\u001b[1;33m(\u001b[0m\u001b[1;36m1\u001b[0m\u001b[1;33m-\u001b[0m\u001b[0mu0\u001b[0m\u001b[1;33m)\u001b[0m\u001b[1;33m*\u001b[0m\u001b[1;33m(\u001b[0m\u001b[1;36m1\u001b[0m\u001b[1;33m-\u001b[0m\u001b[1;36m2\u001b[0m\u001b[1;33m*\u001b[0m\u001b[0mu0\u001b[0m\u001b[1;33m)\u001b[0m\u001b[1;33m)\u001b[0m\u001b[1;33m\u001b[0m\u001b[0m\n\u001b[0m\u001b[0;32m     16\u001b[0m     \u001b[1;32mreturn\u001b[0m \u001b[0my\u001b[0m\u001b[1;33m\u001b[0m\u001b[0m\n",
      "\u001b[1;31mTypeError\u001b[0m: 'numpy.ndarray' object is not callable"
     ]
    }
   ],
   "source": [
    "t0 = ndrop + 1\n",
    "tmax = 2017\n",
    "t1 = 1950\n",
    "# t = range(t0,tmax+1)\n",
    "t = list(range(t0,tmax+1))\n",
    "print (t)\n",
    "plt.plot(t,ch4fit(u(x(t))),label=\"simulation\")\n",
    "# q = eval('ch4fit(u(x(t1)))')\n",
    "# c = eval('x(t1)')\n",
    "# d = eval('u(c)')\n",
    "# e = eval('ch4fit(d)') \n",
    "# # print (c)\n",
    "# print (e)\n",
    "# ch40 = eval('ch4raw(mlist)')"
   ]
  }
 ],
 "metadata": {
  "kernelspec": {
   "display_name": "Python 3",
   "language": "python",
   "name": "python3"
  },
  "language_info": {
   "codemirror_mode": {
    "name": "ipython",
    "version": 3
   },
   "file_extension": ".py",
   "mimetype": "text/x-python",
   "name": "python",
   "nbconvert_exporter": "python",
   "pygments_lexer": "ipython3",
   "version": "3.6.4"
  }
 },
 "nbformat": 4,
 "nbformat_minor": 2
}
