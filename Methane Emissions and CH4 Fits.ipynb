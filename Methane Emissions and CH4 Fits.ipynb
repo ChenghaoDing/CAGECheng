{
 "cells": [
  {
   "cell_type": "markdown",
   "metadata": {},
   "source": [
    "# Purpose: Approximately integrate methane emissions starting from 1750, and compare to data"
   ]
  },
  {
   "cell_type": "markdown",
   "metadata": {},
   "source": [
    "Clear all variables and reset the working directory and import necessary libraries"
   ]
  },
  {
   "cell_type": "code",
   "execution_count": 1,
   "metadata": {},
   "outputs": [],
   "source": [
    "%reset -f\n",
    "import os\n",
    "import pandas as pd\n",
    "import datetime\n",
    "import matplotlib.pyplot as plt\n",
    "import numpy as np\n",
    "from scipy.special import erf\n",
    "# from scipy.optimize import curve_fit\n",
    "os.chdir('C:\\\\Users\\\\cd7\\\\Desktop\\\\Heat17CH4')"
   ]
  },
  {
   "cell_type": "markdown",
   "metadata": {},
   "source": [
    "Read two input files separately and assign the year values and methane concentration data"
   ]
  },
  {
   "cell_type": "code",
   "execution_count": 2,
   "metadata": {},
   "outputs": [],
   "source": [
    "df1 = pd.read_excel('heat18parameters04jan.xlsx')\n",
    "df1.to_csv('heat18parameters04jan.csv',header=False,index=False)\n",
    "df1 = pd.read_csv('heat18parameters04jan.csv')\n",
    "\n",
    "df2 = pd.read_excel('heat17-ch4-1-2017dec14.xlsx') # results of excel sheet from code of radiative forcing\n",
    "df2.to_csv('heat17-ch4-1-2017dec14.csv',header=False,index=False)\n",
    "df3 = pd.read_csv('heat17-ch4-1-2017dec14.csv')\n",
    "df3.drop(df3.index[[-1]],inplace=True)"
   ]
  },
  {
   "cell_type": "markdown",
   "metadata": {},
   "source": [
    "Rename the files"
   ]
  },
  {
   "cell_type": "code",
   "execution_count": 3,
   "metadata": {},
   "outputs": [],
   "source": [
    "out1 = 'historical'\n",
    "out2 = 'ch4'\n",
    "months = ['jan', 'feb', 'mar', 'apr', 'may', 'jun', 'jul', 'aug', 'sep', 'oct', 'nov', 'dec'] # abbreviations for months to insert in output file name\n",
    "date = datetime.date.today().strftime(\"%Y-%m-%d\")\n",
    "date_split = date.split('-') # split the date string we create by symbol \"-\"\n",
    "yrs = str(int(date_split[0])-2000) # real years minus 2000\n",
    "seq = [out1, yrs, out2,months[int(date_split[1])-1],date_split[2]]\n",
    "seperator = ','\n",
    "filename = seperator.join(seq).replace(',', '')"
   ]
  },
  {
   "cell_type": "code",
   "execution_count": 4,
   "metadata": {},
   "outputs": [
    {
     "name": "stdout",
     "output_type": "stream",
     "text": [
      "    Julian                 ppb\n",
      "0     1750   742.5796049119058\n",
      "1     1751   742.1584623598503\n",
      "2     1752   741.9478910838226\n",
      "3     1753   742.0531767218364\n",
      "4     1754   742.2637479978641\n",
      "5     1755   742.5796049119058\n",
      "6     1756   743.0007474639614\n",
      "7     1757   743.5271756540308\n",
      "8     1758   744.2641751201279\n",
      "9     1759   745.0011745862251\n",
      "10    1760     745.94874532835\n",
      "11    1761   747.0016017084888\n",
      "12    1762   748.1597437266415\n",
      "13    1763    749.528457020822\n",
      "14    1764   751.0024559530162\n",
      "15    1765   752.6870261612385\n",
      "16    1766   754.3715963694606\n",
      "17    1767   756.0561665776827\n",
      "18    1768   757.7407367859048\n",
      "19    1769   759.4253069941268\n",
      "20    1770    761.004591564335\n",
      "21    1771   762.3733048585156\n",
      "22    1772   763.6367325146821\n",
      "23    1773   764.6895888948209\n",
      "24    1774   765.3213027229042\n",
      "25    1775   765.7424452749597\n",
      "26    1776   765.8477309129736\n",
      "27    1777   765.7424452749597\n",
      "28    1778   765.6371596369459\n",
      "29    1779   765.4265883609181\n",
      "..     ...                 ...\n",
      "238   1988              1693.2\n",
      "239   1989              1704.1\n",
      "240   1990                1714\n",
      "241   1991              1724.7\n",
      "242   1992              1735.3\n",
      "243   1993              1736.3\n",
      "244   1994              1741.8\n",
      "245   1995              1748.7\n",
      "246   1996                1751\n",
      "247   1997              1754.4\n",
      "248   1998              1765.4\n",
      "249   1999                1772\n",
      "250   2000              1773.2\n",
      "251   2001                1771\n",
      "252   2002              1772.6\n",
      "253   2003              1776.9\n",
      "254   2004              1776.9\n",
      "255   2005                1774\n",
      "256   2006              1774.7\n",
      "257   2007                1781\n",
      "258   2008              1786.9\n",
      "259   2009              1793.2\n",
      "260   2010              1798.6\n",
      "261   2011                1803\n",
      "262   2012              1808.2\n",
      "263   2013              1813.3\n",
      "264   2014              1822.5\n",
      "265   2015                1834\n",
      "266   2016                1843\n",
      "267   2017  1852.4989691840278\n",
      "\n",
      "[268 rows x 2 columns]\n"
     ]
    }
   ],
   "source": [
    "b9 = df1.iloc[8,0:4]\n",
    "ch40 = df1.iloc[18,2]\n",
    "ndrop = 1749\n",
    "df4 = df3.iloc[ndrop:]\n",
    "df4.index = np.arange(0, len(df4))\n",
    "print (df4)"
   ]
  },
  {
   "cell_type": "code",
   "execution_count": 5,
   "metadata": {},
   "outputs": [
    {
     "name": "stdout",
     "output_type": "stream",
     "text": [
      "41.3836\n",
      "9.51428\n",
      "176.655\n",
      "722.065\n",
      "0.003662804020792513\n"
     ]
    }
   ],
   "source": [
    "life = b9[3]  # (* from heat17ch4emissions14dec.nb *)\n",
    "life = float(life)\n",
    "eps = life/float(b9[2])\n",
    "print(float(b9[2]))\n",
    "print(life)\n",
    "\n",
    "def x(t):\n",
    "    y = (t - float(b9[1]))/float(b9[2])\n",
    "    return y\n",
    "x = np.vectorize(x)\n",
    "\n",
    "def u(t):\n",
    "    y = 1/(1 + np.exp(-x(t)))\n",
    "    return y\n",
    "\n",
    "x0 = (1750 - float(b9[1]))/float(b9[2])\n",
    "u0 = 1/(1 + np.exp(-x0))\n",
    "print (float(b9[0]))\n",
    "\n",
    "def ch4fit(t):\n",
    "#     y = float(ch40) + life*float(b9[0])*u(t)*(1-eps*(1-u(t))-eps**2*(1-u(t))*(1-2*u(t)))-life*float(b9[0])*u0*(1-eps*(1-u0)-eps**2*(1-u0)*(1-2*u0))\n",
    "    y = float(ch40) + life*float(b9[0])*u(t)*(1-eps*(1-u(t))+eps**2*(1-u(t))*(1-2*u(t)))-life*float(b9[0])*u0*(1-eps*(1-u0)+eps**2*(1-u0)*(1-2*u0))\n",
    "#     y = float(ch40) + life*(1/float(b9[0]))*u(t)*(1-eps*(1-u(t))+eps**2*(1-u(t))*(1-2*u(t)))-life*(1/float(b9[0]))*u0*(1-eps*(1-u0)+eps**2*(1-u0)*(1-2*u0))\n",
    "    return y\n",
    "print(float(ch40))\n",
    "print(u0*(1-eps*(1-u0)+eps**2*(1-u0)*(1-2*u0)))"
   ]
  },
  {
   "cell_type": "code",
   "execution_count": 6,
   "metadata": {},
   "outputs": [
    {
     "name": "stdout",
     "output_type": "stream",
     "text": [
      "1236.8282700490856\n",
      "722.065\n"
     ]
    }
   ],
   "source": [
    "t0 = ndrop + 1\n",
    "tmax = 2017\n",
    "t = range(t0,tmax+1)\n",
    "\n",
    "t1 = 1950\n",
    "q = eval('ch4fit(t1)')\n",
    "print (q)\n",
    "\n",
    "t1 = 1750\n",
    "q1 = eval('ch4fit(t1)')\n",
    "print (q1)"
   ]
  },
  {
   "cell_type": "markdown",
   "metadata": {},
   "source": [
    "Plot final results"
   ]
  },
  {
   "cell_type": "code",
   "execution_count": 7,
   "metadata": {},
   "outputs": [
    {
     "data": {
      "image/png": "[encoded data removed]",
      "text/plain": [
       "<matplotlib.figure.Figure at 0x2385ad6f358>"
      ]
     },
     "metadata": {},
     "output_type": "display_data"
    }
   ],
   "source": [
    "df4 = df4.astype(float)\n",
    "df4.plot.scatter(x='Julian',y='ppb',s=2,color = 'r', alpha = 0.5,label ='data',marker='o')\n",
    "y = ch4fit(t)\n",
    "plt.plot(t,y,label=\"integration\")\n",
    "plt.legend(loc='best')\n",
    "plt.xlabel('Year')\n",
    "plt.savefig('ch4010.eps',dpi=1000)\n",
    "plt.savefig('ch4010.pdf',dpi=1000)\n",
    "plt.show()"
   ]
  },
  {
   "cell_type": "code",
   "execution_count": 8,
   "metadata": {},
   "outputs": [
    {
     "name": "stdout",
     "output_type": "stream",
     "text": [
      "     <CH4>ppbv   historical     for CESM\n",
      "0         1750   742.579605   722.065000\n",
      "1         1751   742.158462   722.214946\n",
      "2         1752   741.947891   722.368529\n",
      "3         1753   742.053177   722.525835\n",
      "4         1754   742.263748   722.686956\n",
      "5         1755   742.579605   722.851981\n",
      "6         1756   743.000747   723.021005\n",
      "7         1757   743.527176   723.194124\n",
      "8         1758   744.264175   723.371436\n",
      "9         1759   745.001175   723.553042\n",
      "10        1760   745.948745   723.739044\n",
      "11        1761   747.001602   723.929548\n",
      "12        1762   748.159744   724.124662\n",
      "13        1763   749.528457   724.324495\n",
      "14        1764   751.002456   724.529162\n",
      "15        1765   752.687026   724.738777\n",
      "16        1766   754.371596   724.953458\n",
      "17        1767   756.056167   725.173326\n",
      "18        1768   757.740737   725.398506\n",
      "19        1769   759.425307   725.629124\n",
      "20        1770   761.004592   725.865309\n",
      "21        1771   762.373305   726.107194\n",
      "22        1772   763.636733   726.354916\n",
      "23        1773   764.689589   726.608611\n",
      "24        1774   765.321303   726.868423\n",
      "25        1775   765.742445   727.134497\n",
      "26        1776   765.847731   727.406982\n",
      "27        1777   765.742445   727.686028\n",
      "28        1778   765.637160   727.971793\n",
      "29        1779   765.426588   728.264435\n",
      "..         ...          ...          ...\n",
      "238       1988  1693.200000  1600.482592\n",
      "239       1989  1704.100000  1610.485314\n",
      "240       1990  1714.000000  1620.474162\n",
      "241       1991  1724.700000  1630.446334\n",
      "242       1992  1735.300000  1640.399045\n",
      "243       1993  1736.300000  1650.329529\n",
      "244       1994  1741.800000  1660.235044\n",
      "245       1995  1748.700000  1670.112873\n",
      "246       1996  1751.000000  1679.960325\n",
      "247       1997  1754.400000  1689.774744\n",
      "248       1998  1765.400000  1699.553506\n",
      "249       1999  1772.000000  1709.294025\n",
      "250       2000  1773.200000  1718.993756\n",
      "251       2001  1771.000000  1728.650195\n",
      "252       2002  1772.600000  1738.260881\n",
      "253       2003  1776.900000  1747.823405\n",
      "254       2004  1776.900000  1757.335403\n",
      "255       2005  1774.000000  1766.794565\n",
      "256       2006  1774.700000  1776.198635\n",
      "257       2007  1781.000000  1785.545413\n",
      "258       2008  1786.900000  1794.832755\n",
      "259       2009  1793.200000  1804.058578\n",
      "260       2010  1798.600000  1813.220861\n",
      "261       2011  1803.000000  1822.317642\n",
      "262       2012  1808.200000  1831.347026\n",
      "263       2013  1813.300000  1840.307183\n",
      "264       2014  1822.500000  1849.196347\n",
      "265       2015  1834.000000  1858.012821\n",
      "266       2016  1843.000000  1866.754976\n",
      "267       2017  1852.498969  1875.421251\n",
      "\n",
      "[268 rows x 3 columns]\n"
     ]
    }
   ],
   "source": [
    "ch4data = df4['ppb']\n",
    "yrsuse = pd.DataFrame({'<CH4>ppbv':t})\n",
    "ch4data = pd.DataFrame({'historical':ch4data})\n",
    "ch4fitout = pd.DataFrame({'for CESM':y})\n",
    "df5 = pd.merge(yrsuse, ch4data,left_index =True, right_index =True,how='outer')\n",
    "df6 = pd.merge(df5, ch4fitout,left_index =True, right_index =True,how='outer')\n",
    "print (df6)\n",
    "\n",
    "df6.loc[-1]=['Year','Data','Fit'] # add an another header\n",
    "df6.index = df6.index+1 \n",
    "df6 = df6.sort_index() # reorder rows by sorting their index number in an ascending way\n",
    "df6.loc[(len(df6))] = ['2018/6/29','heatch4forcing05mayhui.nb',''] # add a footer\n",
    "df6.to_csv(filename + '.csv', index=False)"
   ]
  }
 ],
 "metadata": {
  "kernelspec": {
   "display_name": "Python 3",
   "language": "python",
   "name": "python3"
  },
  "language_info": {
   "codemirror_mode": {
    "name": "ipython",
    "version": 3
   },
   "file_extension": ".py",
   "mimetype": "text/x-python",
   "name": "python",
   "nbconvert_exporter": "python",
   "pygments_lexer": "ipython3",
   "version": "3.6.4"
  }
 },
 "nbformat": 4,
 "nbformat_minor": 2
}
