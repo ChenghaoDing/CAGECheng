{
 "cells": [
  {
   "cell_type": "markdown",
   "metadata": {},
   "source": [
    "# Purpose: Do analytically integrable functional fits from 1750-2011 to radiative shielding for the negative of the radiative forcing from tropospheric ozone and for, anthropogenic aerosols, and black carbon on snow."
   ]
  },
  {
   "cell_type": "markdown",
   "metadata": {},
   "source": [
    "Clear all variables and reset the working directory and import necessary libraries"
   ]
  },
  {
   "cell_type": "code",
   "execution_count": 1,
   "metadata": {},
   "outputs": [],
   "source": [
    "%reset -f\n",
    "import os\n",
    "import pandas as pd\n",
    "# import datetime\n",
    "import matplotlib.pyplot as plt\n",
    "import numpy as np\n",
    "# import sympy as sp\n",
    "from scipy.optimize import curve_fit\n",
    "import csv\n",
    "import scipy\n",
    "# import sympy\n",
    "# import sympy as sym\n",
    "import sympy as sp\n",
    "from sympy import *\n",
    "os.chdir('C:\\\\Users\\\\cd7\\\\Desktop\\\\Heat17Forcings')"
   ]
  },
  {
   "cell_type": "markdown",
   "metadata": {},
   "source": [
    "Read the specified input file"
   ]
  },
  {
   "cell_type": "code",
   "execution_count": 2,
   "metadata": {},
   "outputs": [
    {
     "name": "stdout",
     "output_type": "stream",
     "text": [
      "            b1  JulianYrEtc    b3(Years)           b4  No.  No..1  \\\n",
      "0    10.664400  2003.343831    31.480115     1.000000   r1      1   \n",
      "1     3.465660  2003.343831   162.813000   212.309000   f2      1   \n",
      "2    18.252000  2011.180000    29.304500     2.130000   r3      4   \n",
      "3     0.242542  1910.930000    19.632700     0.271308   g4      5   \n",
      "4     0.199856  1932.790000     5.562510     1.515180   g5      5   \n",
      "5     0.770546  1959.730000     9.130070     1.000000   g6      5   \n",
      "6     0.964413  1993.140000    15.208900     1.000000   g7      5   \n",
      "7    64.156200   871.320000   237.898000     1.000000   f8      1   \n",
      "8   176.655000  1973.910000    41.383600     9.514280   r9      1   \n",
      "9     5.140880   735.908000     7.279600     1.000000  r10      1   \n",
      "10    2.391109  2003.343831    40.318314   121.000000  r11      1   \n",
      "11    0.360664  1980.040000     7.521900  1750.000000  r12      1   \n",
      "12    0.169096  2026.340000    17.811800  2017.000000  r13      1   \n",
      "13    3.465660  2003.340000   162.813000   161.441000  r14      1   \n",
      "14    0.592935  2000.390000    29.980600     1.000000  g15      2   \n",
      "15    0.147705  1952.340000    20.064000     1.000000  r16      1   \n",
      "16    8.509880  1893.040000    42.944000     1.000000  r17      3   \n",
      "17    0.000000     0.016545   277.853000     1.000000  l18      3   \n",
      "18    0.000000     0.000461   722.065000     1.000000  l19      3   \n",
      "19    0.000000     0.003061   267.291000     1.000000  l20      3   \n",
      "20    0.292705     0.760918     0.166427    34.731000  r21      3   \n",
      "21    0.077245  1782.000000     1.000000     0.251137  t22      3   \n",
      "22    3.810880  1956.340000     5.084310     1.000000  r23      1   \n",
      "23    0.154660   841.916000  1365.570000  1365.570000  s24      3   \n",
      "24    0.046142  1566.390000   257.658000     0.144291  s25      3   \n",
      "25    0.131567  1854.180000    11.000000   286.681000  s26      2   \n",
      "26    0.182904  2013.950000     5.500000     1.000000  s27      2   \n",
      "27    0.131567  1836.000000     1.000000    -0.049034  r28      1   \n",
      "\n",
      "            Type       Units      Units.1  \\\n",
      "0       Logistic     Billion            1   \n",
      "1       Logistic         Gha      ppm/Gha   \n",
      "2   Ln[1+Exp[x]]  GtonneC/yr  GtonneC/ppm   \n",
      "3       Guassian  GtonneC/yr            1   \n",
      "4       Guassian  GtonneC/yr            1   \n",
      "5       Guassian  GtonneC/yr            1   \n",
      "6       Guassian  GtonneC/yr            1   \n",
      "7       Logistic         ppb            1   \n",
      "8            NaN      ppb/yr           yr   \n",
      "9            NaN         ppb            1   \n",
      "10           NaN      ppb/yr           yr   \n",
      "11           NaN     W/(m*m)           yr   \n",
      "12           NaN     W/(m*m)           yr   \n",
      "13           NaN     W/(m*m)            1   \n",
      "14           NaN     W/(m*m)            1   \n",
      "15           NaN     W/(m*m)            1   \n",
      "16           NaN     W/(m*m)            1   \n",
      "17           NaN     W/(m*m)            1   \n",
      "18           NaN     W/(m*m)            1   \n",
      "19           NaN     W/(m*m)            1   \n",
      "20           NaN     W/(m*m)    Wyr/(m*m)   \n",
      "21           NaN          yr      W/(m*m)   \n",
      "22           NaN     W/(m*m)            1   \n",
      "23           NaN     W/(m*m)      W/(m*m)   \n",
      "24           NaN     W/(m*m)    julian yr   \n",
      "25           NaN     W/(m*m)      degreeK   \n",
      "26           NaN     W/(m*m)            1   \n",
      "27           NaN     W/(m*m)      W/(m*m)   \n",
      "\n",
      "                                    Description                      0  \n",
      "0            population increase from year 1820                      0  \n",
      "1     cumulative deforestation and land use CO2                      0  \n",
      "2                   industrial carbon emissions            GtonneC/ppm  \n",
      "3                    land use carbon emissions           kept fraction  \n",
      "4                    land use carbon emissions   industrial multiplier  \n",
      "5                     land use carbon emissions                      0  \n",
      "6                     land use carbon emissions                      0  \n",
      "7               preindustrial CH4 concentration                      0  \n",
      "8         post-1749 CH4 emissions rate increase                      0  \n",
      "9               preindustrial N2O concentration                      0  \n",
      "10        post-1749 N2O emissions rate increase                      0  \n",
      "11                 other greenhouse gas forcing   industrial start, t0  \n",
      "12                             contrail forcing        last year, tmax  \n",
      "13                   aerosols less black carbon                      0  \n",
      "14                   aerosols less black carbon                      0  \n",
      "15                       land use change albedo                      0  \n",
      "16       land use change albedo, d(logistic)/dt                      0  \n",
      "17         b2 in W/(m*m*ppm) and b3 in ppm CO2                       0  \n",
      "18         b2 in W/(m*m*ppb) and b3 in ppm CH4                       0  \n",
      "19         b2 in W/(m*m*ppb) and b3 in ppm N2O                       0  \n",
      "20               add to integrated volcano rate                      0  \n",
      "21                           volcanic shielding                      0  \n",
      "22                        1750 to c. 1955 <N2O>                      0  \n",
      "23     irradiance longest period cos function;                  radref  \n",
      "24  irradiance next longest period cos function    irradiance constant  \n",
      "25              irradiance guassian to subtract                   tup0  \n",
      "26              irradiance guassian to subtract                      0  \n",
      "27                           volcanic shielding                  rate3  \n",
      "<class 'pandas.core.frame.DataFrame'>\n"
     ]
    }
   ],
   "source": [
    "df1 = pd.read_excel('C:\\\\Users\\\\cd7\\\\Desktop\\\\Heat17Population\\\\heat19parameters16jul.xlsx')\n",
    "df1.to_csv('heat19parameters16jul.csv',header=False,index=False)\n",
    "df1 = pd.read_csv('heat19parameters16jul.csv')\n",
    "# df1.drop(df1.head(1).index, inplace=True)\n",
    "# df1.index = np.arange(0, len(df1))\n",
    "# df1.drop(df1.head(1).index, inplace=True)\n",
    "# df1.index = np.arange(0, len(df1))\n",
    "\n",
    "df2 = pd.read_csv('OtherForcings.csv')\n",
    "df2.drop(df2.tail(5).index,inplace=True) # drop last 5 rows\n",
    "df2.index = np.arange(0, len(df2))\n",
    "print (df1) \n",
    "print (type(df2)) "
   ]
  },
  {
   "cell_type": "code",
   "execution_count": 3,
   "metadata": {},
   "outputs": [
    {
     "name": "stdout",
     "output_type": "stream",
     "text": [
      "       Year    Both\n",
      "0    1750.0 -0.0000\n",
      "1    1751.0  0.0017\n",
      "2    1752.0  0.0033\n",
      "3    1753.0  0.0050\n",
      "4    1754.0  0.0065\n",
      "5    1755.0  0.0082\n",
      "6    1756.0  0.0098\n",
      "7    1757.0  0.0115\n",
      "8    1758.0  0.0131\n",
      "9    1759.0  0.0148\n",
      "10   1760.0  0.0164\n",
      "11   1761.0  0.0180\n",
      "12   1762.0  0.0197\n",
      "13   1763.0  0.0213\n",
      "14   1764.0  0.0230\n",
      "15   1765.0  0.0246\n",
      "16   1766.0  0.0262\n",
      "17   1767.0  0.0278\n",
      "18   1768.0  0.0295\n",
      "19   1769.0  0.0312\n",
      "20   1770.0  0.0328\n",
      "21   1771.0  0.0345\n",
      "22   1772.0  0.0360\n",
      "23   1773.0  0.0377\n",
      "24   1774.0  0.0393\n",
      "25   1775.0  0.0410\n",
      "26   1776.0  0.0426\n",
      "27   1777.0  0.0443\n",
      "28   1778.0  0.0459\n",
      "29   1779.0  0.0475\n",
      "..      ...     ...\n",
      "232  1982.0  0.7250\n",
      "233  1983.0  0.7377\n",
      "234  1984.0  0.7502\n",
      "235  1985.0  0.7629\n",
      "236  1986.0  0.7755\n",
      "237  1987.0  0.7881\n",
      "238  1988.0  0.8007\n",
      "239  1989.0  0.8134\n",
      "240  1990.0  0.8259\n",
      "241  1991.0  0.8316\n",
      "242  1992.0  0.8373\n",
      "243  1993.0  0.8428\n",
      "244  1994.0  0.8485\n",
      "245  1995.0  0.8541\n",
      "246  1996.0  0.8597\n",
      "247  1997.0  0.8654\n",
      "248  1998.0  0.8710\n",
      "249  1999.0  0.8766\n",
      "250  2000.0  0.8822\n",
      "251  2001.0  0.8800\n",
      "252  2002.0  0.8778\n",
      "253  2003.0  0.8756\n",
      "254  2004.0  0.8733\n",
      "255  2005.0  0.8711\n",
      "256  2006.0  0.8689\n",
      "257  2007.0  0.8667\n",
      "258  2008.0  0.8644\n",
      "259  2009.0  0.8622\n",
      "260  2010.0  0.8600\n",
      "261  2011.0  0.8600\n",
      "\n",
      "[262 rows x 2 columns]\n",
      "     O3 (Trop)\n",
      "0       0.0000\n",
      "1       0.0004\n",
      "2       0.0008\n",
      "3       0.0013\n",
      "4       0.0017\n",
      "5       0.0021\n",
      "6       0.0025\n",
      "7       0.0030\n",
      "8       0.0034\n",
      "9       0.0038\n",
      "10      0.0042\n",
      "11      0.0047\n",
      "12      0.0051\n",
      "13      0.0055\n",
      "14      0.0059\n",
      "15      0.0064\n",
      "16      0.0068\n",
      "17      0.0072\n",
      "18      0.0076\n",
      "19      0.0081\n",
      "20      0.0085\n",
      "21      0.0089\n",
      "22      0.0093\n",
      "23      0.0098\n",
      "24      0.0102\n",
      "25      0.0106\n",
      "26      0.0110\n",
      "27      0.0114\n",
      "28      0.0119\n",
      "29      0.0123\n",
      "..         ...\n",
      "232     0.3389\n",
      "233     0.3432\n",
      "234     0.3475\n",
      "235     0.3517\n",
      "236     0.3560\n",
      "237     0.3603\n",
      "238     0.3646\n",
      "239     0.3689\n",
      "240     0.3731\n",
      "241     0.3746\n",
      "242     0.3761\n",
      "243     0.3775\n",
      "244     0.3790\n",
      "245     0.3804\n",
      "246     0.3819\n",
      "247     0.3833\n",
      "248     0.3848\n",
      "249     0.3862\n",
      "250     0.3877\n",
      "251     0.3889\n",
      "252     0.3901\n",
      "253     0.3914\n",
      "254     0.3926\n",
      "255     0.3938\n",
      "256     0.3951\n",
      "257     0.3963\n",
      "258     0.3975\n",
      "259     0.3988\n",
      "260     0.4000\n",
      "261     0.4000\n",
      "\n",
      "[262 rows x 1 columns]\n"
     ]
    },
    {
     "data": {
      "image/png": "[encoded data removed]",
      "text/plain": [
       "<matplotlib.figure.Figure at 0x1cba1b27dd8>"
      ]
     },
     "metadata": {},
     "output_type": "display_data"
    },
    {
     "data": {
      "image/png": "[encoded data removed]",
      "text/plain": [
       "<matplotlib.figure.Figure at 0x1cba1f78b38>"
      ]
     },
     "metadata": {},
     "output_type": "display_data"
    }
   ],
   "source": [
    "yrs = df2.iloc[:,0:1]\n",
    "# yrs = df2.iloc[:,0]\n",
    "# print (yrs)\n",
    "# print (type(yrs))\n",
    "shield = df2.iloc[:,6:7]\n",
    "\n",
    "shield = df2['Aerosol (Total)'] + df2['BC Snow']\n",
    "\n",
    "shield = shield.multiply(-1)\n",
    "# shield = -data2[[All, 7]]\n",
    "# print (shield)\n",
    "\n",
    "\n",
    "shield = shield.to_frame(name='Both')\n",
    "\n",
    "# print (type(shield))\n",
    "df3 = pd.merge(yrs, shield, left_index =True, right_index =True,how='outer')\n",
    "df3 = df3.astype(float)\n",
    "print (df3)\n",
    "df3.plot.scatter(x=\"Year\", y=\"Both\", color = 'r',label ='Aerosol&BC', s=2, alpha = 0.5)\n",
    "plt.legend(loc='best')\n",
    "plt.xlabel('Year')\n",
    "plt.ylabel('ppb') \n",
    "plt.savefig('bc1.eps',dpi=1000)\n",
    "plt.savefig('bc1.pdf',dpi=1000)\n",
    "\n",
    "o3force = df2.iloc[:,3:4]\n",
    "print (o3force)\n",
    "df4 = pd.merge(yrs, o3force, left_index =True, right_index =True,how='outer')\n",
    "df4 = df4.astype(float)\n",
    "df4.plot.scatter(x=\"Year\", y=\"O3 (Trop)\", color = 'r',label ='Trop O3 ', s=2, alpha = 0.5)\n",
    "plt.ylabel('ppb') \n",
    "plt.savefig('bc2.eps',dpi=1000)\n",
    "plt.savefig('bc2.pdf',dpi=1000)"
   ]
  },
  {
   "cell_type": "markdown",
   "metadata": {},
   "source": [
    "Fitting of Aerosol and Black Carbon snow"
   ]
  },
  {
   "cell_type": "code",
   "execution_count": 4,
   "metadata": {},
   "outputs": [
    {
     "name": "stdout",
     "output_type": "stream",
     "text": [
      "3.4656599999999997 2003.34383068 162.813\n",
      "<class 'numpy.float64'>\n"
     ]
    }
   ],
   "source": [
    "# df1 = df1.astype(float)\n",
    "d1 = df1.iloc[1,0]\n",
    "d2 = df1.iloc[1,1]\n",
    "d3 = df1.iloc[1,2]\n",
    "print(d1,d2,d3)\n",
    "print(type(d1))"
   ]
  },
  {
   "cell_type": "code",
   "execution_count": 5,
   "metadata": {},
   "outputs": [
    {
     "name": "stdout",
     "output_type": "stream",
     "text": [
      "0.0030623168018340985\n",
      "0.0030623168018340985\n"
     ]
    }
   ],
   "source": [
    "def deforest(t):\n",
    "    y = np.gradient(d1/(1 + np.exp(-(t-d2)/d3)),t)\n",
    "#     y = y(t)\n",
    "    return y\n",
    "# deforest = np.vectorize(deforest)\n",
    "# t = float(1750)\n",
    "# deforest0 = float(deforest(t))\n",
    "# deforest0 = float(deforest(1750))\n",
    "# deforest0 = deforest(1750)\n",
    "# deforest0 =  = 0.0030611452076103286\n",
    "\n",
    "\n",
    "# import sympy as sp\n",
    "t = sp.Symbol('t')\n",
    "# y = x**2 + 1\n",
    "y = d1/(1 + sp.exp(-(t-d2)/d3))\n",
    "yprime = y.diff(t)\n",
    "# yprime\n",
    "f = lambdify(t, yprime, 'numpy')\n",
    "# f(np.ones(5))\n",
    "deforest0 = f(1750)\n",
    "print(deforest0)\n",
    "\n",
    "\n",
    "\n",
    "# deforest0 = 0.05\n",
    "# x = sym.symbol('x')\n",
    "# yprime = deforest.diff(x)\n",
    "# f = lambdify(x, yprime, 'numpy')\n",
    "# print(f(1750))\n",
    "# deforest0  = np.arange(deforest0)\n",
    "# deforest0 = [float(i) for i in deforest(1750)]\n",
    "# print(type(deforest0))\n",
    "print(deforest0)\n",
    "# print (deforest(1750))\n",
    "def denew(t):\n",
    "    y = deforest(t)-deforest0\n",
    "#     y = deforest(t)-deforest(1750)\n",
    "#     y = float(deforest(t))-float(deforest0)\n",
    "    return y\n",
    "\n",
    "def fit(t,b1,b2,b3,b4):\n",
    "    y = b4*denew(t) + b1*np.exp(-(1/2)*((t-b2)/b3)**2)\n",
    "    return y\n",
    "# fitaero = np.vectorize(fitaero)"
   ]
  },
  {
   "cell_type": "code",
   "execution_count": 6,
   "metadata": {},
   "outputs": [
    {
     "name": "stdout",
     "output_type": "stream",
     "text": [
      "[5.77146841e-01 2.00118685e+03 2.84968516e+01 1.31851796e+02]\n"
     ]
    }
   ],
   "source": [
    "yrs = yrs.iloc[:,0].tolist()\n",
    "yrs = [float(i) for i in yrs]\n",
    "# print (yrs)\n",
    "shield = df3['Both']\n",
    "shield = shield.tolist()\n",
    "param_bounds=([0,1950,0,0],[1,2050,50,200])\n",
    "popt1,pcov1 = curve_fit(fit, yrs, shield, bounds=param_bounds)\n",
    "print (popt1)"
   ]
  },
  {
   "cell_type": "code",
   "execution_count": 7,
   "metadata": {},
   "outputs": [
    {
     "name": "stdout",
     "output_type": "stream",
     "text": [
      "[3.04674929e-01 2.00819572e+03 3.65564514e+01 4.21608880e+01]\n"
     ]
    }
   ],
   "source": [
    "o3force = df4['O3 (Trop)']\n",
    "o3force = o3force.tolist()\n",
    "# param_bounds2=([0,1950,0,0],[1,2050,50,200])\n",
    "popt2,pcov2 = curve_fit(fit, yrs, o3force, bounds=param_bounds)\n",
    "print (popt2)"
   ]
  },
  {
   "cell_type": "code",
   "execution_count": 8,
   "metadata": {},
   "outputs": [],
   "source": [
    "def fito31(t):\n",
    "    y = popt2[3]*denew(t)\n",
    "    return y\n",
    "\n",
    "def fito32(t):\n",
    "    y = popt2[0]*np.exp(-(1/2)*((t-popt2[1])/popt2[2])**2)\n",
    "    return y\n",
    "\n",
    "def fito3(t):\n",
    "    y = fito31(t) + fito32(t)\n",
    "    return y\n",
    "# print (fito3)\n",
    "# fito3 = np.vectorize(fito3)"
   ]
  },
  {
   "cell_type": "markdown",
   "metadata": {},
   "source": [
    "Plottings"
   ]
  },
  {
   "cell_type": "code",
   "execution_count": 9,
   "metadata": {
    "scrolled": true
   },
   "outputs": [
    {
     "data": {
      "image/png": "[encoded data removed]",
      "text/plain": [
       "<matplotlib.figure.Figure at 0x1cba1ecd198>"
      ]
     },
     "metadata": {},
     "output_type": "display_data"
    }
   ],
   "source": [
    "df4.plot.scatter(x=\"Year\", y=\"O3 (Trop)\", color = 'r',label ='Trop O3 ', s=2, alpha = 0.5)\n",
    "# t = range(1750,2012)\n",
    "# t = np.array(t)\n",
    "# x_new = list(range(1750,2301)) # plot from year 1750 to 2300\n",
    "# plt.plot(yrs,fito3, label ='fit')\n",
    "fito3 = fit(yrs, *popt2)\n",
    "plt.plot(yrs,fito3, label ='fit')\n",
    "plt.legend(loc='best') \n",
    "plt.xlabel('Year') \n",
    "plt.ylabel('$W/m^2$') \n",
    "plt.savefig('o31.eps',dpi=1000)\n",
    "plt.savefig('o31.pdf',dpi=1000)"
   ]
  },
  {
   "cell_type": "code",
   "execution_count": 10,
   "metadata": {},
   "outputs": [
    {
     "data": {
      "image/png": "[encoded data removed]",
      "text/plain": [
       "<matplotlib.figure.Figure at 0x1cba24f70f0>"
      ]
     },
     "metadata": {},
     "output_type": "display_data"
    }
   ],
   "source": [
    "def fitaero1(t):\n",
    "    y = popt1[3]*denew(t)\n",
    "    return y\n",
    "\n",
    "def fitaero2(t):\n",
    "    y = popt1[0]*np.exp(-(1/2)*((t-popt1[1])/popt1[2])**2)\n",
    "    return y\n",
    "def fitaero(t):\n",
    "    y = fitaero1(t) + fitaero2(t)\n",
    "    return y\n",
    "\n",
    "df3.plot.scatter(x=\"Year\", y=\"Both\", color = 'r',label ='Aerosol&BC', s=2, alpha = 0.5)\n",
    "fitaero = fit(yrs, *popt1)\n",
    "# df4.plot.scatter(x=\"Year\", y=\"O3 (Trop)\", color = 'r',label ='Trop O3 ', s=2, alpha = 0.5)\n",
    "plt.xlabel('Year') \n",
    "plt.ylabel('$W/m^2$') \n",
    "\n",
    "plt.plot(yrs,fitaero, label ='fit')\n",
    "plt.legend(loc='best')\n",
    "# plt.xlabel('Year')\n",
    "# plt.ylabel('ppb') \n",
    "# plt.savefig('o31.eps',dpi=1000)\n",
    "# plt.savefig('o31.pdf',dpi=1000)\n",
    "plt.savefig('bc3.eps',dpi=1000)\n",
    "plt.savefig('bc3.pdf',dpi=1000)"
   ]
  },
  {
   "cell_type": "markdown",
   "metadata": {},
   "source": [
    "Store the Ozone equations' parameters"
   ]
  },
  {
   "cell_type": "code",
   "execution_count": 11,
   "metadata": {},
   "outputs": [],
   "source": [
    "# b1b2b3b4param = pd.DataFrame({'Fitted parameters':['b1', 'b2', 'b3','b4'], 'of Ozone':popt2, columns=[\"Fitted parameters\", \"of Ozone\",'','']})\n",
    "b1b2b3b4param = pd.DataFrame({'Fitted parameters':['b1', 'b2', 'b3','b4'], 'of Ozone':popt2})\n",
    "b1b2b3b4param.loc[-1]=['Name','Values']\n",
    "b1b2b3b4param.index = b1b2b3b4param.index+1\n",
    "b1b2b3b4param = b1b2b3b4param.sort_index()\n",
    "b1b2b3b4param.loc[(len(b1b2b3b4param))] = ['2018/07/21','heat18ozone11jun.nb']\n",
    "\n",
    "b1b2b3b4param.to_csv('CAGE_O3_Parameters.csv', index=False,encoding='utf-8')"
   ]
  }
 ],
 "metadata": {
  "kernelspec": {
   "display_name": "Python 3",
   "language": "python",
   "name": "python3"
  },
  "language_info": {
   "codemirror_mode": {
    "name": "ipython",
    "version": 3
   },
   "file_extension": ".py",
   "mimetype": "text/x-python",
   "name": "python",
   "nbconvert_exporter": "python",
   "pygments_lexer": "ipython3",
   "version": "3.6.4"
  }
 },
 "nbformat": 4,
 "nbformat_minor": 2
}
