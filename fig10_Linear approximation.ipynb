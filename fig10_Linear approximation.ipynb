{
 "cells": [
  {
   "cell_type": "markdown",
   "metadata": {},
   "source": [
    "# Greenhouse Forcing Formulas"
   ]
  },
  {
   "cell_type": "markdown",
   "metadata": {},
   "source": [
    "Purpose: Check accuracy of linear approximations to greenhouse gas forcing formulas from the reference at the end of this notebook"
   ]
  },
  {
   "cell_type": "markdown",
   "metadata": {},
   "source": [
    "Clear all variables and reset the working directory and import necessary libraries"
   ]
  },
  {
   "cell_type": "code",
   "execution_count": 1,
   "metadata": {},
   "outputs": [],
   "source": [
    "%reset -f\n",
    "import os\n",
    "import pandas as pd\n",
    "import datetime\n",
    "import matplotlib.pyplot as plt\n",
    "import numpy as np\n",
    "from scipy.optimize import curve_fit\n",
    "import math \n",
    "os.chdir('C:\\\\Users\\\\cd7\\\\Desktop\\\\Heat17CH4')"
   ]
  },
  {
   "cell_type": "markdown",
   "metadata": {},
   "source": [
    "Read three input files separately and assign the year values and methane concentration data"
   ]
  },
  {
   "cell_type": "code",
   "execution_count": 2,
   "metadata": {},
   "outputs": [],
   "source": [
    "f0 = 0.47\n",
    "f1 = 0.0000201 \n",
    "f2 = 5.31*10**-15\n",
    "e1 = 0.75\n",
    "e2 = 1.52\n",
    "alpha = 5.35\n",
    "beta = 0.036\n",
    "eps = 0.12\n",
    "c0 = 278 \n",
    "m0 = 722\n",
    "n0 = 270\n",
    "# cpre = 277.853 # from heat17<co2>prefit16dec.nb\n",
    "cpre = 277.8528581584792 # from heat17<co2>prefit16dec.nb\n",
    "# ch4pre = 722.065 # from heat17<ch4>dec14.nb\n",
    "ch4pre = 732.138795855232 # from heat17<ch4>dec14.nb\n",
    "# n2opre = 267.291 # from heat17<n2o>dec.nb\n",
    "n2opre = 267.2913217292295 # from heat17<n2o>dec.nb\n",
    "\n",
    "# f1 = open('C:\\\\Users\\\\cd7\\\\Desktop\\\\Heat17CH4\\\\CAGE_Pop_Parameters.csv','r')\n",
    "# readFile = csv.reader(f1)\n",
    "# data = [row for row in readFile]\n",
    "# b21 = float(data[3][1])\n",
    "\n",
    "# f1 = open('C:\\\\Users\\\\cd7\\\\Desktop\\\\Heat17CH4\\\\CAGE_Pop_Parameters.csv','r')\n",
    "# readFile = csv.reader(f1)\n",
    "# data = [row for row in readFile]\n",
    "# b21 = float(data[3][1])\n",
    "\n",
    "# f1 = open('C:\\\\Users\\\\cd7\\\\Desktop\\\\Heat17CH4\\\\CAGE_Pop_Parameters.csv','r')\n",
    "# readFile = csv.reader(f1)\n",
    "# data = [row for row in readFile]\n",
    "# b21 = float(data[3][1])"
   ]
  },
  {
   "cell_type": "markdown",
   "metadata": {},
   "source": [
    "Define fitted function"
   ]
  },
  {
   "cell_type": "code",
   "execution_count": 3,
   "metadata": {
    "scrolled": true
   },
   "outputs": [
    {
     "name": "stdout",
     "output_type": "stream",
     "text": [
      "0.08053070047056604\n",
      "-0.009356459024928182\n",
      "-0.002832436170722387\n"
     ]
    }
   ],
   "source": [
    "# m = float()\n",
    "# print (m)\n",
    "# n = float()\n",
    "# def fch4(m):\n",
    "#     y1 = f0*(1+f1*(m*n0)**e1+f2*m0*(m0*n0)**e2)\n",
    "#     return y1\n",
    "def fch4(m):\n",
    "    y1 = f0*math.log((1+f1*(m*n0)**e1+f2*m*(m*n0)**e2))\n",
    "    return y1\n",
    "\n",
    "def fn2o(n):\n",
    "    y2 = f0*math.log((1+f1*(m0*n)**e1+f2*m0*(m0*n)**e2))\n",
    "    return y2\n",
    "\n",
    "f00 = f0*math.log(1 + f1*(m0*n0)**e1 + f2*m0*(m0*n0)**e2)\n",
    "print (f00)\n",
    "\n",
    "def ch4raw(m):\n",
    "    y3 = beta*(math.sqrt(m)-math.sqrt(m0))-(fch4(m)-f00)\n",
    "    return y3\n",
    "ch40 = ch4raw(ch4pre)\n",
    "\n",
    "def ch4(m):\n",
    "    y4 = ch4raw(m)-ch40\n",
    "    return y4\n",
    "def n2oraw(n):\n",
    "    y5 = eps*(math.sqrt(n)-math.sqrt(n0))-(fn2o(n)-f00)\n",
    "    return y5\n",
    "n2o0 = n2oraw(n2opre)\n",
    "print (n2o0)\n",
    "\n",
    "def n2o(n):\n",
    "    y6 = n2oraw(n)-n2o0\n",
    "    return y6\n",
    "\n",
    "def co2raw(c):\n",
    "    y7 = alpha*math.log(c/c0)\n",
    "    return y7\n",
    "co20 = co2raw(cpre)\n",
    "print (co20)\n",
    "\n",
    "def co2(c):\n",
    "    y8 = co2raw(c) - co20\n",
    "    return y8\n",
    "\n",
    "# max = [404.507, 1852.5, 329.28]  # 2017? co2 concentration, prefer actual data\n",
    "max = [405.0503736067324, 1849.8406681064891, 329.79999999999995]  # 2017? co2 concentration, prefer actual data\n",
    "# ff = np.vectorize(co2)\n",
    "# c = np.linspace(cpre, max[0],1000)\n",
    "# plt.figure()\n",
    "# plt.plot(c,ff(c), label=\"CO2\")\n",
    "# plt.xlabel('ppm')\n",
    "# plt.ylabel('W/$m^2$') \n",
    "# plt.legend(loc='best')\n",
    "# plt.savefig('co12.eps',dpi=1000)\n",
    "# plt.savefig('co12.pdf',dpi=1000)\n",
    "\n",
    "# fff = np.vectorize(ch4)\n",
    "# m = np.linspace(m0, max[1],1000)\n",
    "# plt.figure()\n",
    "# plt.plot(m,fff(m), label=\"CH4\")\n",
    "# plt.xlabel('ppm')\n",
    "# plt.ylabel('W/$m^2$') \n",
    "# plt.legend(loc='best')\n",
    "# plt.savefig('ch412.eps',dpi=1000)\n",
    "# plt.savefig('ch412.pdf',dpi=1000)\n",
    "\n",
    "# ffff = np.vectorize(n2o) # Generalized function class.\n",
    "# n = np.linspace(n0, max[2],1000)\n",
    "# plt.figure()\n",
    "# plt.plot(n,ffff(n), label=\"N2O\")\n",
    "# plt.xlabel('ppm')\n",
    "# plt.ylabel('W/$m^2$') \n",
    "# plt.legend(loc='best')\n",
    "# plt.savefig('n2o2.eps',dpi=1000)\n",
    "# plt.savefig('n2o2.pdf',dpi=1000)\n",
    "\n",
    "\n",
    "\n",
    "\n"
   ]
  },
  {
   "cell_type": "code",
   "execution_count": 4,
   "metadata": {},
   "outputs": [],
   "source": [
    "min = [cpre, ch4pre, n2opre]"
   ]
  },
  {
   "cell_type": "code",
   "execution_count": 5,
   "metadata": {
    "scrolled": true
   },
   "outputs": [
    {
     "name": "stdout",
     "output_type": "stream",
     "text": [
      "[[277.8528581584792, 279.1248333129617, 280.39680846744426, 281.66878362192676, 282.9407587764093, 284.21273393089183, 285.4847090853744, 286.7566842398569, 288.02865939433946, 289.30063454882196, 290.5726097033045, 291.844584857787, 293.1165600122696, 294.3885351667521, 295.66051032123465, 296.93248547571716, 298.2044606301997, 299.4764357846822, 300.7484109391648, 302.0203860936473, 303.29236124812985, 304.56433640261235, 305.8363115570949, 307.1082867115774, 308.38026186606, 309.6522370205425, 310.92421217502505, 312.19618732950755, 313.4681624839901, 314.7401376384726, 316.0121127929552, 317.2840879474377, 318.55606310192024, 319.82803825640275, 321.1000134108853, 322.3719885653678, 323.6439637198504, 324.9159388743329, 326.18791402881544, 327.45988918329795, 328.7318643377805, 330.003839492263, 331.2758146467455, 332.5477898012281, 333.81976495571064, 335.09174011019314, 336.36371526467565, 337.6356904191582, 338.90766557364077, 340.1796407281233, 341.4516158826058, 342.72359103708834, 343.9955661915709, 345.2675413460534, 346.5395165005359, 347.8114916550185, 349.08346680950103, 350.35544196398354, 351.62741711846604, 352.8993922729486, 354.17136742743116, 355.44334258191367, 356.7153177363962, 357.98729289087873, 359.25926804536124, 360.5312431998438, 361.8032183543263, 363.07519350880887, 364.3471686632914, 365.61914381777393, 366.89111897225644, 368.163094126739, 369.4350692812215, 370.70704443570406, 371.97901959018657, 373.25099474466913, 374.52296989915163, 375.7949450536342, 377.0669202081167, 378.33889536259926, 379.61087051708176, 380.88284567156427, 382.15482082604683, 383.4267959805294, 384.6987711350119, 385.97074628949446, 387.24272144397696, 388.5146965984595, 389.786671752942, 391.0586469074246, 392.3306220619071, 393.60259721638965, 394.87457237087216, 396.14654752535466, 397.4185226798372, 398.6904978343198, 399.9624729888023, 401.2344481432848, 402.50642329776736, 403.7783984522499, 405.0503736067324], [732.138795855232, 743.3158145777446, 754.4928333002572, 765.6698520227698, 776.8468707452823, 788.0238894677949, 799.2009081903075, 810.37792691282, 821.5549456353326, 832.7319643578452, 843.9089830803578, 855.0860018028703, 866.2630205253829, 877.4400392478955, 888.617057970408, 899.7940766929206, 910.9710954154332, 922.1481141379458, 933.3251328604583, 944.5021515829709, 955.6791703054835, 966.856189027996, 978.0332077505086, 989.2102264730212, 1000.3872451955338, 1011.5642639180463, 1022.7412826405589, 1033.9183013630714, 1045.095320085584, 1056.2723388080967, 1067.4493575306092, 1078.6263762531216, 1089.8033949756343, 1100.980413698147, 1112.1574324206595, 1123.334451143172, 1134.5114698656846, 1145.6884885881973, 1156.8655073107097, 1168.0425260332222, 1179.219544755735, 1190.3965634782476, 1201.57358220076, 1212.7506009232725, 1223.9276196457852, 1235.1046383682979, 1246.2816570908103, 1257.4586758133228, 1268.6356945358355, 1279.8127132583481, 1290.9897319808606, 1302.166750703373, 1313.3437694258857, 1324.5207881483984, 1335.6978068709109, 1346.8748255934233, 1358.051844315936, 1369.2288630384487, 1380.4058817609612, 1391.5829004834736, 1402.7599192059863, 1413.936937928499, 1425.1139566510114, 1436.290975373524, 1447.4679940960366, 1458.6450128185493, 1469.8220315410617, 1480.9990502635742, 1492.1760689860869, 1503.3530877085996, 1514.530106431112, 1525.7071251536245, 1536.8841438761372, 1548.0611625986498, 1559.2381813211623, 1570.4152000436748, 1581.5922187661874, 1592.7692374887001, 1603.9462562112126, 1615.1232749337253, 1626.3002936562375, 1637.4773123787502, 1648.6543311012629, 1659.8313498237753, 1671.008368546288, 1682.1853872688007, 1693.3624059913132, 1704.5394247138256, 1715.7164434363383, 1726.893462158851, 1738.0704808813634, 1749.247499603876, 1760.4245183263886, 1771.601537048901, 1782.7785557714137, 1793.9555744939262, 1805.1325932164389, 1816.3096119389515, 1827.486630661464, 1838.6636493839767, 1849.8406681064891], [267.2913217292295, 267.91640851193716, 268.5414952946449, 269.1665820773526, 269.7916688600603, 270.416755642768, 271.0418424254757, 271.66692920818343, 272.2920159908911, 272.9171027735988, 273.54218955630654, 274.1672763390142, 274.79236312172196, 275.41744990442965, 276.04253668713733, 276.66762346984507, 277.29271025255275, 277.91779703526043, 278.5428838179682, 279.16797060067586, 279.7930573833836, 280.4181441660913, 281.04323094879896, 281.6683177315067, 282.2934045142144, 282.91849129692207, 283.5435780796298, 284.1686648623375, 284.79375164504523, 285.4188384277529, 286.0439252104606, 286.66901199316834, 287.294098775876, 287.91918555858376, 288.54427234129145, 289.16935912399913, 289.79444590670687, 290.41953268941455, 291.04461947212224, 291.66970625483, 292.29479303753766, 292.9198798202454, 293.5449666029531, 294.17005338566076, 294.7951401683685, 295.4202269510762, 296.0453137337839, 296.6704005164916, 297.2954872991993, 297.92057408190703, 298.5456608646147, 299.1707476473224, 299.79583443003014, 300.4209212127378, 301.0460079954455, 301.67109477815325, 302.29618156086093, 302.92126834356867, 303.54635512627635, 304.1714419089841, 304.7965286916918, 305.42161547439946, 306.0467022571072, 306.6717890398149, 307.29687582252257, 307.9219626052303, 308.547049387938, 309.1721361706457, 309.7972229533534, 310.4223097360611, 311.04739651876883, 311.6724833014765, 312.2975700841842, 312.92265686689194, 313.5477436495996, 314.17283043230736, 314.79791721501505, 315.42300399772273, 316.04809078043047, 316.67317756313815, 317.29826434584584, 317.9233511285536, 318.54843791126126, 319.17352469396894, 319.7986114766767, 320.42369825938437, 321.0487850420921, 321.6738718247998, 322.29895860750753, 322.9240453902152, 323.5491321729229, 324.17421895563064, 324.7993057383383, 325.424392521046, 326.04947930375374, 326.6745660864614, 327.2996528691691, 327.92473965187685, 328.54982643458453, 329.1749132172922, 329.79999999999995]]\n"
     ]
    }
   ],
   "source": [
    "new_list=[]\n",
    "for i in range(0,len(max)):\n",
    "    sub_list=[]\n",
    "    for m in range(1,102):\n",
    "        x = min[i]+(m-1)*(max[i]-min[i])/100\n",
    "        sub_list.append(float(x))\n",
    "    new_list.append(sub_list)\n",
    "print(new_list)\n",
    "# print(new_list[0])\n",
    "# print(len(new_list[0]))\n",
    "\n",
    "# for \n",
    "# y1 = [co2raw(c) for c in float(new_list[0][i] for i in range(0,len(new_list[0])))]\n",
    "# for i in range(0,len(new_list[0]))\n",
    "#     x = np.array(new_list[0][i])\n",
    "# y = co2raw(x)\n",
    "# print (y)\n",
    "# y1 = []\n",
    "# # fffff = np.vectorize(co2raw) # Generalized function class.\n",
    "# for i in range(0,len(new_list[0])):\n",
    "#     x = new_list[0][i]\n",
    "#     y = co2raw(x)\n",
    "#     y1.append(y)\n",
    "# print (y1)\n",
    "\n",
    "g = []\n",
    "for m in range(0,len(new_list)):\n",
    "    ym = []\n",
    "    for i in range(0,len(new_list[m])):\n",
    "        x = new_list[m][i]\n",
    "        if m == 0:\n",
    "            y = co2raw(x)\n",
    "        elif m == 1:\n",
    "            y = ch4raw(x)\n",
    "        elif m == 2:\n",
    "            y = n2oraw(x)\n",
    "        ym.append(float(y))\n",
    "    g.append(ym)\n",
    "# print (g)\n",
    "# print (g[0])\n",
    "# plt.figure()\n",
    "# plt.plot(new_list[0],g[0],label='CO2')\n",
    "# plt.xlabel('ppm')\n",
    "# plt.ylabel('W/$m^2$')\n",
    "# plt.legend(loc='best')\n",
    "\n",
    "# plt.figure()\n",
    "# plt.plot(new_list[1],g[1],label='CH4')\n",
    "# plt.xlabel('ppb')\n",
    "# plt.ylabel('W/$m^2$')\n",
    "# plt.legend(loc='best')\n",
    "\n",
    "# plt.figure()\n",
    "# plt.plot(new_list[2],g[2],label='N2O')\n",
    "# plt.xlabel('ppb')\n",
    "# plt.ylabel('W/$m^2$')\n",
    "# plt.legend(loc='best')\n",
    "\n",
    "    "
   ]
  },
  {
   "cell_type": "code",
   "execution_count": 6,
   "metadata": {},
   "outputs": [
    {
     "name": "stdout",
     "output_type": "stream",
     "text": [
      "277.8528581584792\n",
      "[0.06433401 0.01578099]\n"
     ]
    }
   ],
   "source": [
    "x1 = new_list[0]\n",
    "print (min[0])\n",
    "def linear1(x1,b0,b1):\n",
    "     y = b1*(x1-min[0])+b0 \n",
    "     return y\n",
    "param_bounds=([-1,-1],[1,1]) # set the parameter\n",
    "# searching bound\n",
    "popt1,pcov = curve_fit(linear1, x1, g[0],bounds=param_bounds) # popt is the optimal values for the\n",
    "# parameters so that the sum of the squared residuals \n",
    "# of is minimized\n",
    "print (popt1)"
   ]
  },
  {
   "cell_type": "code",
   "execution_count": 7,
   "metadata": {},
   "outputs": [
    {
     "name": "stdout",
     "output_type": "stream",
     "text": [
      "[0.02819819 0.00044569]\n"
     ]
    }
   ],
   "source": [
    "x2 = new_list[1]\n",
    "def linear2(x2,b2,b3):\n",
    "     y = b3*(x2-min[1])+b2 \n",
    "     return y\n",
    "param_bounds=([-1,-1],[1,1]) # set the parameter\n",
    "# searching bound\n",
    "popt2,pcov = curve_fit(linear2, x2, g[1],bounds=param_bounds) # popt is the optimal values for the\n",
    "# parameters so that the sum of the squared residuals \n",
    "# of is minimized\n",
    "print (popt2)"
   ]
  },
  {
   "cell_type": "code",
   "execution_count": 8,
   "metadata": {},
   "outputs": [
    {
     "name": "stdout",
     "output_type": "stream",
     "text": [
      "[-0.00749785  0.00327679]\n"
     ]
    }
   ],
   "source": [
    "x3 = new_list[2]\n",
    "def linear3(x3,b4,b5):\n",
    "     y = b5*(x3-min[2])+b4\n",
    "     return y\n",
    "param_bounds=([-1,-1],[1,1]) # set the parameter\n",
    "# searching bound\n",
    "popt3,pcov = curve_fit(linear3, x3, g[2],bounds=param_bounds) # popt is the optimal values for the\n",
    "# parameters so that the sum of the squared residuals \n",
    "# of is minimized\n",
    "print (popt3)"
   ]
  },
  {
   "cell_type": "code",
   "execution_count": 9,
   "metadata": {},
   "outputs": [
    {
     "data": {
      "image/png": "[encoded data removed]",
      "text/plain": [
       "<matplotlib.figure.Figure at 0x18ba0b5e710>"
      ]
     },
     "metadata": {},
     "output_type": "display_data"
    }
   ],
   "source": [
    "plt.figure()\n",
    "plt.plot(new_list[0],g[0],label='CO2 data')\n",
    "x = np.array(x1)\n",
    "y = linear1(x, *popt1)\n",
    "plt.plot(x,y,'--', label='fit')\n",
    "plt.xlabel('ppm')\n",
    "plt.ylabel('W/$m^2$')\n",
    "plt.legend(loc='best')\n",
    "plt.savefig('co2l.eps',dpi=1000)\n",
    "plt.savefig('co2l.pdf',dpi=1000)\n",
    "plt.show()"
   ]
  },
  {
   "cell_type": "code",
   "execution_count": 10,
   "metadata": {},
   "outputs": [
    {
     "data": {
      "image/png": "[encoded data removed]",
      "text/plain": [
       "<matplotlib.figure.Figure at 0x18ba0f7d198>"
      ]
     },
     "metadata": {},
     "output_type": "display_data"
    }
   ],
   "source": [
    "plt.figure()\n",
    "plt.plot(new_list[1],g[1],label='CH4 data')\n",
    "x = np.array(x2)\n",
    "y = linear2(x, *popt2)\n",
    "plt.plot(x,y,'--', label='fit')\n",
    "plt.xlabel('ppb')\n",
    "plt.ylabel('W/$m^2$')\n",
    "plt.legend(loc='best')\n",
    "plt.savefig('ch4l.eps',dpi=1000)\n",
    "plt.savefig('ch4l.pdf',dpi=1000)\n",
    "plt.show()"
   ]
  },
  {
   "cell_type": "code",
   "execution_count": 11,
   "metadata": {},
   "outputs": [
    {
     "data": {
      "image/png": "[encoded data removed]",
      "text/plain": [
       "<matplotlib.figure.Figure at 0x18ba1fe7c50>"
      ]
     },
     "metadata": {},
     "output_type": "display_data"
    }
   ],
   "source": [
    "plt.figure()\n",
    "plt.plot(new_list[2],g[2],label='N2O data')\n",
    "x = np.array(x3)\n",
    "y = linear3(x, *popt3)\n",
    "plt.plot(x,y,'--', label='fit')\n",
    "plt.xlabel('ppb')\n",
    "plt.ylabel('W/$m^2$')\n",
    "plt.legend(loc='best')\n",
    "plt.savefig('n2ol.eps',dpi=1000)\n",
    "plt.savefig('n2ol.pdf',dpi=1000)\n",
    "plt.show()"
   ]
  }
 ],
 "metadata": {
  "kernelspec": {
   "display_name": "Python 3",
   "language": "python",
   "name": "python3"
  },
  "language_info": {
   "codemirror_mode": {
    "name": "ipython",
    "version": 3
   },
   "file_extension": ".py",
   "mimetype": "text/x-python",
   "name": "python",
   "nbconvert_exporter": "python",
   "pygments_lexer": "ipython3",
   "version": "3.6.4"
  }
 },
 "nbformat": 4,
 "nbformat_minor": 2
}
