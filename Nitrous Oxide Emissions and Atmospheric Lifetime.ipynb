{
 "cells": [
  {
   "cell_type": "markdown",
   "metadata": {},
   "source": [
    "# Purpose: Produce estimate atmospheric lifetime and use it to combine reported emissions and emissions inferred from data sources described at the end of this notebook."
   ]
  },
  {
   "cell_type": "markdown",
   "metadata": {},
   "source": [
    "Clear all variables and reset the working directory and import necessary libraries"
   ]
  },
  {
   "cell_type": "code",
   "execution_count": 1,
   "metadata": {},
   "outputs": [],
   "source": [
    "%reset -f\n",
    "import os\n",
    "import pandas as pd\n",
    "import datetime\n",
    "import matplotlib.pyplot as plt\n",
    "import numpy as np\n",
    "from scipy.optimize import curve_fit\n",
    "import csv\n",
    "import xlrd\n",
    "from xlrd import open_workbook\n",
    "from openpyxl import Workbook\n",
    "os.chdir('C:\\\\Users\\\\cd7\\\\Desktop\\\\Heat17N2O')"
   ]
  },
  {
   "cell_type": "markdown",
   "metadata": {},
   "source": [
    "Read three input files separately and assign the year values and methane concentration data"
   ]
  },
  {
   "cell_type": "code",
   "execution_count": 2,
   "metadata": {},
   "outputs": [],
   "source": [
    "df1 = pd.read_excel('v432_N2O_1970_2012.xls','v4.3.2_EM_N2O')\n",
    "df1.to_csv('v432_N2O_1970_2012.csv',header=False,index=False)\n",
    "df1 = pd.read_csv('v432_N2O_1970_2012.csv')\n",
    "# print (df1)\n",
    "\n",
    "df2 = pd.read_excel('v432_N2O_1970_2012.xls','TOTALS BY COUNTRY')\n",
    "df2.to_csv('TOTALS BY COUNTRY.csv',header=False,index=False)\n",
    "df2 = pd.read_csv('TOTALS BY COUNTRY.csv')\n",
    "\n",
    "df4 = pd.read_excel('heat17-n2o-1-2017dec16.xlsx')\n",
    "df4.to_csv('heat17-n2o-1-2017dec14.csv',header=False,index=False)\n",
    "df4 = pd.read_csv('heat17-n2o-1-2017dec14.csv')\n",
    "df4.drop(df4.index[[-1]],inplace=True)\n",
    "# print (df4)"
   ]
  },
  {
   "cell_type": "code",
   "execution_count": 3,
   "metadata": {},
   "outputs": [
    {
     "name": "stdout",
     "output_type": "stream",
     "text": [
      "heat18n2oemitjul15\n"
     ]
    }
   ],
   "source": [
    "out1 = 'heat'\n",
    "out2 = 'n2oemit'\n",
    "months = ['jan', 'feb', 'mar', 'apr', 'may', 'jun', 'jul', 'aug', 'sep', 'oct', 'nov', 'dec'] # abbreviations for months to insert in output file name\n",
    "date = datetime.date.today().strftime(\"%Y-%m-%d\")\n",
    "date_split = date.split('-') # split the date string we create by symbol \"-\"\n",
    "yrs = str(int(date_split[0])-2000) # real years minus 2000 \n",
    "seq = [out1, yrs, out2,months[int(date_split[1])-1],date_split[2]]\n",
    "seperator = ','\n",
    "filename = seperator.join(seq).replace(',', '')\n",
    "print (filename)"
   ]
  },
  {
   "cell_type": "code",
   "execution_count": 4,
   "metadata": {},
   "outputs": [
    {
     "name": "stdout",
     "output_type": "stream",
     "text": [
      "0     1970\n",
      "1     1971\n",
      "2     1972\n",
      "3     1973\n",
      "4     1974\n",
      "5     1975\n",
      "6     1976\n",
      "7     1977\n",
      "8     1978\n",
      "9     1979\n",
      "10    1980\n",
      "11    1981\n",
      "12    1982\n",
      "13    1983\n",
      "14    1984\n",
      "15    1985\n",
      "16    1986\n",
      "17    1987\n",
      "18    1988\n",
      "19    1989\n",
      "20    1990\n",
      "21    1991\n",
      "22    1992\n",
      "23    1993\n",
      "24    1994\n",
      "25    1995\n",
      "26    1996\n",
      "27    1997\n",
      "28    1998\n",
      "29    1999\n",
      "30    2000\n",
      "31    2001\n",
      "32    2002\n",
      "33    2003\n",
      "34    2004\n",
      "35    2005\n",
      "36    2006\n",
      "37    2007\n",
      "38    2008\n",
      "39    2009\n",
      "40    2010\n",
      "41    2011\n",
      "42    2012\n",
      "Name: 0, dtype: object\n",
      "0     0.712040\n",
      "1     0.726800\n",
      "2     0.747871\n",
      "3     0.777534\n",
      "4     0.792040\n",
      "5     0.806895\n",
      "6     0.826444\n",
      "7     0.846325\n",
      "8     0.867738\n",
      "9     0.889481\n",
      "10    0.890164\n",
      "11    0.890209\n",
      "12    0.882741\n",
      "13    0.900335\n",
      "14    0.923755\n",
      "15    0.920884\n",
      "16    0.927896\n",
      "17    0.939972\n",
      "18    0.949666\n",
      "19    0.960849\n",
      "20    0.943324\n",
      "21    0.937590\n",
      "22    0.944500\n",
      "23    0.940931\n",
      "24    0.958255\n",
      "25    0.988550\n",
      "26    1.008630\n",
      "27    1.008973\n",
      "28    1.002127\n",
      "29    1.003757\n",
      "30    1.008356\n",
      "31    1.014140\n",
      "32    1.026559\n",
      "33    1.048275\n",
      "34    1.081632\n",
      "35    1.102847\n",
      "36    1.123070\n",
      "37    1.152740\n",
      "38    1.156281\n",
      "39    1.148614\n",
      "40    1.164693\n",
      "41    1.187773\n",
      "42    1.197308\n",
      "dtype: float64\n",
      "   yrsec  ppbperyr\n",
      "0   1970  0.712040\n",
      "1   1971  0.726800\n",
      "2   1972  0.747871\n",
      "3   1973  0.777534\n",
      "4   1974  0.792040\n",
      "5   1975  0.806895\n",
      "6   1976  0.826444\n",
      "7   1977  0.846325\n",
      "8   1978  0.867738\n",
      "9   1979  0.889481\n",
      "10  1980  0.890164\n",
      "11  1981  0.890209\n",
      "12  1982  0.882741\n",
      "13  1983  0.900335\n",
      "14  1984  0.923755\n",
      "15  1985  0.920884\n",
      "16  1986  0.927896\n",
      "17  1987  0.939972\n",
      "18  1988  0.949666\n",
      "19  1989  0.960849\n",
      "20  1990  0.943324\n",
      "21  1991  0.937590\n",
      "22  1992  0.944500\n",
      "23  1993  0.940931\n",
      "24  1994  0.958255\n",
      "25  1995  0.988550\n",
      "26  1996  1.008630\n",
      "27  1997  1.008973\n",
      "28  1998  1.002127\n",
      "29  1999  1.003757\n",
      "30  2000  1.008356\n",
      "31  2001  1.014140\n",
      "32  2002  1.026559\n",
      "33  2003  1.048275\n",
      "34  2004  1.081632\n",
      "35  2005  1.102847\n",
      "36  2006  1.123070\n",
      "37  2007  1.152740\n",
      "38  2008  1.156281\n",
      "39  2009  1.148614\n",
      "40  2010  1.164693\n",
      "41  2011  1.187773\n",
      "42  2012  1.197308\n"
     ]
    },
    {
     "data": {
      "text/plain": [
       "<matplotlib.axes._subplots.AxesSubplot at 0x13f545f0ef0>"
      ]
     },
     "execution_count": 4,
     "metadata": {},
     "output_type": "execute_result"
    },
    {
     "data": {
      "image/png": "[encoded data removed]",
      "text/plain": [
       "<matplotlib.figure.Figure at 0x13f545f0da0>"
      ]
     },
     "metadata": {},
     "output_type": "display_data"
    }
   ],
   "source": [
    "convert = 2.78*(28 + 16)/16 # (* rescale Gtonne to ppb from CH4 to N2O *)\n",
    "\n",
    "yrsec = df1.iloc[0,6:49]\n",
    "yrsec.index = np.arange(0, len(yrsec))\n",
    "print (yrsec)\n",
    "df2 = df2.iloc[1:]  # ecall = df2\n",
    "df2 = df2.fillna(0) # replace all the NaN values with Zero's in a pandas dataframe\n",
    "df2.index = np.arange(0, len(df2))\n",
    "\n",
    "ecbycontryraw = [] \n",
    "for i in range(0,len(df2)):\n",
    "    sub_list=[]\n",
    "    for m in range(6,len(df2.columns)):\n",
    "        x = df2.iloc[i,m].tolist()\n",
    "        sub_list.append(float(x))\n",
    "    ecbycontryraw.append(sub_list)\n",
    "  \n",
    "giggatonneperyr = df2.iloc[:, 6:len(df2.columns)].sum(axis=0)/1000\n",
    "ppbperyr = giggatonneperyr/convert\n",
    "ppbperyr.index = np.arange(0, len(ppbperyr))\n",
    "print (ppbperyr)\n",
    "\n",
    "df3 = pd.concat([yrsec, ppbperyr], axis=1).reset_index()\n",
    "df3 = df3.drop('index',axis=1)\n",
    "df3.columns = ['yrsec','ppbperyr']\n",
    "\n",
    "print (df3)\n",
    "df3 = df3.astype(float) # Cast a pandas object to a specified dtype float.\n",
    "df3.plot.scatter(x='yrsec',y='ppbperyr',s=2,color = 'r', alpha = 0.5,label ='data',marker='o')\n",
    "                           "
   ]
  },
  {
   "cell_type": "markdown",
   "metadata": {},
   "source": [
    "N2O Data and Finite Differences"
   ]
  },
  {
   "cell_type": "code",
   "execution_count": 5,
   "metadata": {
    "scrolled": true
   },
   "outputs": [],
   "source": [
    "yrs2 = df4['Julian']\n",
    "yrs2 = yrs2.iloc[1:-1]\n",
    "\n",
    "n2o = df4.iloc[:,1:2]\n",
    "n2o = n2o['ppb'].tolist()\n",
    "n2o = list(map(float, n2o))\n",
    "\n",
    "dn2odt = []\n",
    "\n",
    "for i in range(0,len(n2o)-2):\n",
    "        x = (n2o[i+2]-n2o[i])/2\n",
    "        dn2odt.append(float(x))\n",
    "\n",
    "n2o0 = 269.291 #(* long term limit of constant + logistic fit for 200-1749 from heat17<n2o>dec16.nb *)\n",
    "\n",
    "b0 = dn2odt[int(yrsec.iloc[-1])-1]\n",
    "# print (b0)\n",
    "\n",
    "\n",
    "\n",
    "index1 = list(range(int(yrsec.iloc[0])-1, int(yrsec.iloc[-1])))\n",
    "index2 = list(range(int(yrsec.iloc[0]), int(yrsec.iloc[-1])+1))\n",
    "\n",
    "c0 = [ dn2odt[i] for i in index1]\n",
    "# print(c0)\n",
    "\n",
    "c1 = [ n2o[i] for i in index2]\n",
    "\n",
    "ppbperyr = df3['ppbperyr'].tolist()\n",
    "ppbperyr = list(map(float, ppbperyr))\n",
    "\n",
    "l1 = [ppbperyr[i]-c0[i] for i in range(0,len(c0))]"
   ]
  },
  {
   "cell_type": "code",
   "execution_count": 6,
   "metadata": {},
   "outputs": [
    {
     "name": "stdout",
     "output_type": "stream",
     "text": [
      "[182.04369496]\n"
     ]
    }
   ],
   "source": [
    "def err(d0,lifetofind):\n",
    "    y = (d0 - n2o0)/lifetofind\n",
    "    return y\n",
    "param_bounds=(0,200)\n",
    "popt, pcov = curve_fit(err, c1, l1, bounds=param_bounds)\n",
    "print (popt)"
   ]
  },
  {
   "cell_type": "code",
   "execution_count": 7,
   "metadata": {},
   "outputs": [
    {
     "name": "stdout",
     "output_type": "stream",
     "text": [
      "1.0006525653702771\n"
     ]
    },
    {
     "data": {
      "text/plain": [
       "[<matplotlib.lines.Line2D at 0x13f544722b0>]"
      ]
     },
     "execution_count": 7,
     "metadata": {},
     "output_type": "execute_result"
    },
    {
     "data": {
      "image/png": "[encoded data removed]",
      "text/plain": [
       "<matplotlib.figure.Figure at 0x13f5441c5c0>"
      ]
     },
     "metadata": {},
     "output_type": "display_data"
    }
   ],
   "source": [
    "tlastpre = 1749\n",
    "\n",
    "n2o = n2o[1:-1]\n",
    "\n",
    "x = np.array(n2o)\n",
    "fit = err(x, *popt)\n",
    "emitlate = fit + dn2odt\n",
    "emitlate = emitlate[tlastpre-1:] \n",
    "\n",
    "yrs2 = yrs2.tolist()\n",
    "yrs2 = list(map(int, yrs2))\n",
    "yrslate = yrs2[tlastpre-1:]\n",
    "\n",
    "itemindex1 = yrslate.index(int(yrsec[0]))\n",
    "itemindex2 = yrslate.index(int(yrsec.iloc[-1]))\n",
    "\n",
    "rescale = np.mean(ppbperyr)/np.mean(emitlate[itemindex1:itemindex2+1])\n",
    "print (rescale)\n",
    "\n",
    "rescaleemitlate = rescale * emitlate\n",
    "plt.plot(yrslate,rescaleemitlate)"
   ]
  },
  {
   "cell_type": "markdown",
   "metadata": {},
   "source": [
    "Export all data into excel sheet "
   ]
  },
  {
   "cell_type": "code",
   "execution_count": 8,
   "metadata": {},
   "outputs": [
    {
     "data": {
      "text/plain": [
       "<matplotlib.legend.Legend at 0x13f566b29b0>"
      ]
     },
     "execution_count": 8,
     "metadata": {},
     "output_type": "execute_result"
    },
    {
     "data": {
      "image/png": "[encoded data removed]",
      "text/plain": [
       "<matplotlib.figure.Figure at 0x13f566b2c50>"
      ]
     },
     "metadata": {},
     "output_type": "display_data"
    }
   ],
   "source": [
    "list1 = rescaleemitlate[0:itemindex1].tolist()\n",
    "\n",
    "list2 = ppbperyr\n",
    "\n",
    "list3 = float(rescale)*emitlate[itemindex2+1:]\n",
    "list3 = rescaleemitlate[itemindex2+1:].tolist()\n",
    "\n",
    "emitout = list1 + list2 + list3\n",
    "\n",
    "plt.scatter(yrslate,emitout,s=2,color = 'r', alpha = 0.5,label ='data',marker='o')\n",
    "plt.legend(loc='best')"
   ]
  },
  {
   "cell_type": "markdown",
   "metadata": {},
   "source": [
    "Write data to excel sheet"
   ]
  },
  {
   "cell_type": "code",
   "execution_count": 9,
   "metadata": {},
   "outputs": [],
   "source": [
    "df5 = pd.DataFrame({'Year' : yrslate, 'EmitN2O' : emitout},columns=[\"Year\", \"EmitN2O\"]) \n",
    "df5.loc[-1]=['Julian','ppb/yr']\n",
    "df5.index = df5.index+1\n",
    "df5 = df5.sort_index()\n",
    "df5.loc[(len(df5))] = ['16Jul2018','heat18n2oemissionsdec16.nb']\n",
    "df5.to_csv(filename + '.csv', index=False, encoding='utf-8')\n",
    "\n",
    "df6 = pd.DataFrame({'N2O' : popt, 'Lifetime' : 'years'},columns=[\"N2O\", \"Lifetime\"])\n",
    "df6.loc[(len(df6))] = ['16Jul2018','heat18n2oemissionsdec16.nb']       \n",
    "\n",
    "df6.to_csv('CAGE_N2O_Lifetime.csv', index=False,encoding='utf-8')"
   ]
  }
 ],
 "metadata": {
  "kernelspec": {
   "display_name": "Python 3",
   "language": "python",
   "name": "python3"
  },
  "language_info": {
   "codemirror_mode": {
    "name": "ipython",
    "version": 3
   },
   "file_extension": ".py",
   "mimetype": "text/x-python",
   "name": "python",
   "nbconvert_exporter": "python",
   "pygments_lexer": "ipython3",
   "version": "3.6.4"
  }
 },
 "nbformat": 4,
 "nbformat_minor": 2
}
