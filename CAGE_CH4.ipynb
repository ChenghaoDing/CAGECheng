{
 "cells": [
  {
   "cell_type": "markdown",
   "metadata": {},
   "source": [
    "# Purpose: Combine methane atmospheric concentration estimates from Julian years 1-2017, from references at the end of this notebook, and do a logistic fit to the year 200-1749 estimates"
   ]
  },
  {
   "cell_type": "markdown",
   "metadata": {},
   "source": [
    "Clear all variables and reset the working directory and import necessary libraries"
   ]
  },
  {
   "cell_type": "code",
   "execution_count": 1,
   "metadata": {},
   "outputs": [],
   "source": [
    "%reset -f\n",
    "import os\n",
    "import pandas as pd\n",
    "import datetime\n",
    "import matplotlib.pyplot as plt\n",
    "import numpy as np\n",
    "from scipy.optimize import curve_fit\n",
    "import csv\n",
    "os.chdir('C:\\\\Users\\\\cd7\\\\Desktop\\\\Heat17CH4')"
   ]
  },
  {
   "cell_type": "markdown",
   "metadata": {},
   "source": [
    "Read three input files separately and assign the year values and methane concentration data"
   ]
  },
  {
   "cell_type": "code",
   "execution_count": 2,
   "metadata": {
    "scrolled": true
   },
   "outputs": [
    {
     "name": "stdout",
     "output_type": "stream",
     "text": [
      "     YearAD  CH4spl  NOAA04 CO2spl N2Ospl\n",
      "0         1   647.6   655.5  276.7  264.2\n",
      "1         2   647.1     655  276.8  264.1\n",
      "2         3   646.5   654.4  276.8  264.1\n",
      "3         4     646   653.9  276.9    264\n",
      "4         5   645.5   653.4  276.9    264\n",
      "5         6     645   652.9    277  263.9\n",
      "6         7   644.5   652.3  277.1  263.8\n",
      "7         8     644   651.8  277.1  263.8\n",
      "8         9   643.4   651.3  277.2  263.7\n",
      "9        10   642.9   650.8  277.2  263.7\n",
      "10       11   642.4   650.3  277.3  263.6\n",
      "11       12   641.9   649.8  277.3  263.6\n",
      "12       13   641.4   649.3  277.4  263.5\n",
      "13       14     641   648.8  277.4  263.5\n",
      "14       15   640.5   648.3  277.5  263.4\n",
      "15       16     640   647.8  277.5  263.4\n",
      "16       17   639.5   647.3  277.6  263.4\n",
      "17       18     639   646.8  277.6  263.3\n",
      "18       19   638.6   646.4  277.6  263.3\n",
      "19       20   638.1   645.9  277.7  263.2\n",
      "20       21   637.7   645.5  277.7  263.2\n",
      "21       22   637.2     645  277.7  263.2\n",
      "22       23   636.8   644.6  277.8  263.2\n",
      "23       24   636.4   644.2  277.8  263.1\n",
      "24       25     636   643.7  277.8  263.1\n",
      "25       26   635.6   643.3  277.9  263.1\n",
      "26       27   635.2   642.9  277.9  263.1\n",
      "27       28   634.8   642.6  277.9  263.1\n",
      "28       29   634.4   642.2  277.9  263.1\n",
      "29       30   634.1   641.8  277.9  263.1\n",
      "...     ...     ...     ...    ...    ...\n",
      "1974   1975  1422.4  1439.8  329.6  299.1\n",
      "1975   1976  1437.2  1454.7  330.8  299.9\n",
      "1976   1977  1451.7  1469.4    332  300.7\n",
      "1977   1978    1466  1483.8  333.2  301.5\n",
      "1978   1979  1480.3  1498.4  334.5  302.1\n",
      "1979   1980  1495.3  1513.6  335.9  302.6\n",
      "1980   1981  1511.4  1529.9  337.3    303\n",
      "1981   1982  1528.1  1546.7  338.7  303.4\n",
      "1982   1983  1544.6  1563.4  340.2  303.7\n",
      "1983   1984  1560.6  1579.6  341.7  304.1\n",
      "1984   1985  1575.9  1595.1  343.2  304.5\n",
      "1985   1986  1590.4  1609.8  344.8  305.1\n",
      "1986   1987  1604.1  1623.7  346.3  305.7\n",
      "1987   1988  1616.8  1636.5  347.8  306.3\n",
      "1988   1989  1628.4  1648.3  349.3    307\n",
      "1989   1990  1639.2  1659.2  350.8  307.7\n",
      "1990   1991  1649.2  1669.3  352.2  308.4\n",
      "1991   1992  1658.4  1678.7  353.6  309.1\n",
      "1992   1993  1665.9  1686.2    355  309.8\n",
      "1993   1994  1671.9  1692.3  356.4  310.5\n",
      "1994   1995  1677.2  1697.7    358  311.2\n",
      "1995   1996    1682  1702.6  359.6    312\n",
      "1996   1997  1687.1  1707.7  361.3  312.8\n",
      "1997   1998  1692.9  1713.6  363.1  313.7\n",
      "1998   1999  1698.7  1719.4    365  314.6\n",
      "1999   2000  1703.4  1724.2  366.8  315.4\n",
      "2000   2001  1706.5  1727.3  368.7  316.2\n",
      "2001   2002  1708.3  1729.1  370.6    317\n",
      "2002   2003  1709.1    1730  372.6  317.8\n",
      "2003   2004  1709.7  1730.5  374.6  318.6\n",
      "\n",
      "[2004 rows x 5 columns]\n"
     ]
    }
   ],
   "source": [
    "df1 = pd.read_excel('cage17lawdome1-2004nov02_ud.xlsx')\n",
    "df1.to_csv('cage17lawdome1-2004nov02_ud.csv',header=False,index=False)\n",
    "df1 = pd.read_csv('cage17lawdome1-2004nov02_ud.csv')\n",
    "df1.drop(df1.index[[-1]],inplace=True)\n",
    "df1.drop(df1.columns[5], axis=1,inplace=True)\n",
    "print (df1)\n",
    "\n",
    "df2 = pd.read_excel('NOAA_MoleFractions_2016_ud.xlsx')\n",
    "df2.to_csv('NOAA_MoleFractions_2016_ud.csv',header=False,index=False)\n",
    "df2 = pd.read_csv('NOAA_MoleFractions_2016_ud.csv')\n",
    "df2.drop(df2.index[[-1]],inplace=True)\n",
    "\n",
    "df3 = pd.read_excel('NOAAESRL.xlsx')\n",
    "df3.to_csv('NOAAESRL.csv',header=False,index=False)\n",
    "df3 = pd.read_csv('NOAAESRL.csv')\n",
    "df3.drop(df3.index[[-1]],inplace=True)\n",
    "df3.drop(df3.columns[2:6], axis=1,inplace=True)"
   ]
  },
  {
   "cell_type": "markdown",
   "metadata": {},
   "source": [
    "Prepare for the nomenclature for the output excel sheet"
   ]
  },
  {
   "cell_type": "code",
   "execution_count": 3,
   "metadata": {},
   "outputs": [],
   "source": [
    "out1 = 'heat'\n",
    "out2 = 'ch4-1-2017'\n",
    "months = ['jan', 'feb', 'mar', 'apr', 'may', 'jun', 'jul', 'aug', 'sep', 'oct', 'nov', 'dec'] # abbreviations for months to insert in output file name\n",
    "date = datetime.date.today().strftime(\"%Y-%m-%d\")\n",
    "date_split = date.split('-') # split the date string we create by symbol \"-\"\n",
    "yrs = str(int(date_split[0])-2000) # real years minus 2000 \n",
    "seq = [out1, yrs, out2,months[int(date_split[1])-1],date_split[2]]\n",
    "seperator = ','\n",
    "filename = seperator.join(seq).replace(',', '')"
   ]
  },
  {
   "cell_type": "markdown",
   "metadata": {},
   "source": [
    "Combine CH4 concentration estimates, after rescaling Law Dome to NOAA"
   ]
  },
  {
   "cell_type": "code",
   "execution_count": 4,
   "metadata": {},
   "outputs": [
    {
     "name": "stdout",
     "output_type": "stream",
     "text": [
      "<class 'list'>\n"
     ]
    }
   ],
   "source": [
    "yrslaw = df1.iloc[:,0:1]\n",
    "newyrslaw = yrslaw['YearAD'].tolist()\n",
    "newyrslaw = list(map(float, newyrslaw))\n",
    "ch4law = df1.iloc[:, 2:3]\n",
    "df1 = pd.merge(yrslaw,ch4law, left_index =True, right_index =True,how='outer')\n",
    "df1 = df1.astype(float)\n",
    "yrsnoaa = df2.iloc[:,0:1]\n",
    "yrsnoaa = yrsnoaa['Year'].tolist()\n",
    "yrsnoaa = list(map(float, yrsnoaa))\n",
    "newyrsnoaa = [x -0.5 for x in yrsnoaa]\n",
    "yrsnoaa = list(map(str, newyrsnoaa))\n",
    "yrsnoaa = pd.DataFrame({'Year':yrsnoaa})\n",
    "noaa = len(yrsnoaa)\n",
    "ch4noaa = df2.iloc[:,2:3]\n",
    "df2 = pd.merge(yrsnoaa,ch4noaa, left_index =True, right_index =True,how='outer')\n",
    "df2 = df2.astype(float)\n",
    "c1 = newyrsnoaa\n",
    "c2 = newyrslaw\n",
    "yrsboth = list(set(c1) & set(c2))\n",
    "a = yrsboth[0]\n",
    "b = yrsboth[-1]\n",
    "ch4lawboth = ch4law[newyrslaw.index(a):newyrslaw.index(b)+1]\n",
    "ch4noaaboth = ch4noaa[0:len(yrsboth)]\n",
    "ch4noaaboth = ch4noaaboth['CH4'].tolist()\n",
    "ch4noaaboth = list(map(float, ch4noaaboth))\n",
    "ch4lawboth = ch4lawboth['NOAA04'].tolist()\n",
    "ch4lawboth = list(map(float, ch4lawboth))\n",
    "rescalelaw = ch4noaaboth[0]/ch4lawboth[0]\n",
    "ratio2017vs2016 = float(df3.iloc[-1,-1])/float(df3.iloc[-2,-1])\n",
    "yrs = list(range(1, 2018))\n",
    "ch4law = ch4law.astype(float)\n",
    "ch4law *= float(rescalelaw)\n",
    "ch4law.drop(ch4law.index[-int((1+newyrslaw[-1]-newyrsnoaa[0])):-1],inplace=True,axis=0) \n",
    "ch4law = ch4law[:-1]\n",
    "ch4law = ch4law['NOAA04'].tolist()\n",
    "ch4law = list(map(float, ch4law))\n",
    "ch4noaa = ch4noaa['CH4'].tolist()\n",
    "ch4noaa = list(map(float, ch4noaa))\n",
    "last = ratio2017vs2016*ch4noaa[-1]\n",
    "last = [float(last)]\n",
    "ch4 = ch4law + ch4noaa + last\n",
    "# print (ch4)\n",
    "ch4pre = ch4[yrs.index(200):yrs.index(1749)+1]\n",
    "print(type(ch4pre))\n",
    "yrspre = range(200,1750)"
   ]
  },
  {
   "cell_type": "code",
   "execution_count": 5,
   "metadata": {},
   "outputs": [],
   "source": [
    "# with open(\"C:\\\\Users\\\\cd7\\\\Desktop\\\\Heat17CH4\", 'w') as ch4concentration:\n",
    "#     wr = csv.writer(ch4concentration, quoting=csv.QUOTE_ALL)\n",
    "#     wr.writerow(ch4)\n",
    "\n",
    "df5 = pd.DataFrame(ch4, columns=[\"concentration\"])\n",
    "df5.to_csv('list.csv', index=False)"
   ]
  },
  {
   "cell_type": "markdown",
   "metadata": {},
   "source": [
    "Define the fitted logistic function and fit data"
   ]
  },
  {
   "cell_type": "code",
   "execution_count": 6,
   "metadata": {},
   "outputs": [
    {
     "name": "stdout",
     "output_type": "stream",
     "text": [
      "[667.97873685  64.16012618 871.29482355 237.92447717]\n",
      "732.1388630271916\n"
     ]
    }
   ],
   "source": [
    "def logistic(yrspre,c0,c1,c2,c3):\n",
    "     y = c1 / (1 + np.exp(-(yrspre-c2)/c3))+c0\n",
    "     return y\n",
    "param_bounds=([600,50,800,200],[700,70,900,300])\n",
    "popt,pcov = curve_fit(logistic, yrspre, ch4pre, bounds=param_bounds)\n",
    "print (popt)\n",
    "print (popt[0]+popt[1])"
   ]
  },
  {
   "cell_type": "markdown",
   "metadata": {},
   "source": [
    "Plot the fitted logistic function,comparing with the historical data and save the results as a csv file."
   ]
  },
  {
   "cell_type": "code",
   "execution_count": 7,
   "metadata": {},
   "outputs": [
    {
     "data": {
      "image/png": "[encoded data removed]",
      "text/plain": [
       "<matplotlib.figure.Figure at 0x20605a8ae48>"
      ]
     },
     "metadata": {},
     "output_type": "display_data"
    },
    {
     "name": "stdout",
     "output_type": "stream",
     "text": [
      "      Year                 CH4\n",
      "0        1    690.147357180993\n",
      "1        2   689.6209289909236\n",
      "2        3   688.9892151628403\n",
      "3        4   688.4627869727709\n",
      "4        5   687.9363587827015\n",
      "5        6   687.4099305926321\n",
      "6        7   686.7782167645488\n",
      "7        8   686.2517885744794\n",
      "8        9   685.7253603844099\n",
      "9       10   685.1989321943405\n",
      "10      11   684.6725040042711\n",
      "11      12   684.1460758142017\n",
      "12      13   683.6196476241323\n",
      "13      14   683.0932194340629\n",
      "14      15   682.5667912439935\n",
      "15      16   682.0403630539241\n",
      "16      17   681.5139348638547\n",
      "17      18   680.9875066737852\n",
      "18      19   680.5663641217297\n",
      "19      20   680.0399359316604\n",
      "20      21   679.6187933796049\n",
      "21      22   679.0923651895355\n",
      "22      23   678.6712226374799\n",
      "23      24   678.2500800854244\n",
      "24      25    677.723651895355\n",
      "25      26   677.3025093432994\n",
      "26      27    676.881366791244\n",
      "27      28   676.5655098772023\n",
      "28      29   676.1443673251468\n",
      "29      30   675.7232247730911\n",
      "...    ...                 ...\n",
      "1987  1988              1693.2\n",
      "1988  1989              1704.1\n",
      "1989  1990              1714.0\n",
      "1990  1991              1724.7\n",
      "1991  1992              1735.3\n",
      "1992  1993              1736.3\n",
      "1993  1994              1741.8\n",
      "1994  1995              1748.7\n",
      "1995  1996              1751.0\n",
      "1996  1997              1754.4\n",
      "1997  1998              1765.4\n",
      "1998  1999              1772.0\n",
      "1999  2000              1773.2\n",
      "2000  2001              1771.0\n",
      "2001  2002              1772.6\n",
      "2002  2003              1776.9\n",
      "2003  2004              1776.9\n",
      "2004  2005              1774.0\n",
      "2005  2006              1774.7\n",
      "2006  2007              1781.0\n",
      "2007  2008              1786.9\n",
      "2008  2009              1793.2\n",
      "2009  2010              1798.6\n",
      "2010  2011              1803.0\n",
      "2011  2012              1808.2\n",
      "2012  2013              1813.3\n",
      "2013  2014              1822.5\n",
      "2014  2015              1834.0\n",
      "2015  2016              1843.0\n",
      "2016  2017  1849.8406681064891\n",
      "\n",
      "[2017 rows x 2 columns]\n"
     ]
    }
   ],
   "source": [
    "x = np.array(yrspre)\n",
    "y = logistic(x, *popt)\n",
    "plt.plot(x,y, label=\"fit\")\n",
    "plt.xlabel('Year')\n",
    "plt.ylabel('ppb') \n",
    "plt.scatter(yrspre,ch4pre,s=2,color = 'r', alpha = 0.5,label ='data',marker='o')\n",
    "plt.legend(loc='best')\n",
    "plt.savefig('ch42.eps',dpi=1000)\n",
    "plt.show()\n",
    "\n",
    "yrs = list(map(str, yrs))\n",
    "yrs = pd.DataFrame({'Year':yrs})\n",
    "ch4 = list(map(str, ch4))\n",
    "ch4 = pd.DataFrame({'CH4':ch4})\n",
    "df = pd.merge(yrs, ch4, left_index =True, right_index =True,how='outer')\n",
    "print (df)\n",
    "df.loc[-1]=['Julian','ppb']\n",
    "df.index = df.index+1\n",
    "df = df.sort_index()\n",
    "df.loc[(len(df))] = ['2018/6/14','heat17ch4dec14.nb']\n",
    "df.to_csv(filename + '.csv', index=False)"
   ]
  }
 ],
 "metadata": {
  "kernelspec": {
   "display_name": "Python 3",
   "language": "python",
   "name": "python3"
  },
  "language_info": {
   "codemirror_mode": {
    "name": "ipython",
    "version": 3
   },
   "file_extension": ".py",
   "mimetype": "text/x-python",
   "name": "python",
   "nbconvert_exporter": "python",
   "pygments_lexer": "ipython3",
   "version": "3.6.4"
  }
 },
 "nbformat": 4,
 "nbformat_minor": 2
}
