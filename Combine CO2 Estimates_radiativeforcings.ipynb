{
 "cells": [
  {
   "cell_type": "markdown",
   "metadata": {},
   "source": [
    "# Purpose: Fit the integral of land use change plus industrial CO2 emissions times a constant to <CO2> estimates from 1750-2017"
   ]
  },
  {
   "cell_type": "markdown",
   "metadata": {},
   "source": [
    "Clear all variables and reset the working directory and import necessary libraries"
   ]
  },
  {
   "cell_type": "code",
   "execution_count": 1,
   "metadata": {},
   "outputs": [],
   "source": [
    "%reset -f\n",
    "import os\n",
    "import pandas as pd\n",
    "import datetime\n",
    "import matplotlib.pyplot as plt\n",
    "import numpy as np\n",
    "from scipy.special import erf\n",
    "from scipy.optimize import curve_fit\n",
    "os.chdir('C:\\\\Users\\\\cd7\\\\Desktop\\\\Heat17CO2')"
   ]
  },
  {
   "cell_type": "markdown",
   "metadata": {},
   "source": [
    "Read two input files separately and assign the year values and methane concentration data"
   ]
  },
  {
   "cell_type": "code",
   "execution_count": 2,
   "metadata": {},
   "outputs": [],
   "source": [
    "df1 = pd.read_excel('heat18parameters04jan.xlsx')\n",
    "df1.to_csv('heat18parameters04jan.csv',header=False,index=False)\n",
    "df1 = pd.read_csv('heat18parameters04jan.csv')\n",
    "# df1.drop(df1.index[[-1]],inplace=True)\n",
    "# df1.drop(df1.columns[5], axis=1,inplace=True)\n",
    "# print (df1)\n",
    "\n",
    "df2 = pd.read_csv('heat18co2-1-2017jun241.csv') # results of excel sheet from code of radiative forcing\n",
    "df2.to_csv('heat18co2-1-2017jun242.csv',header=False,index=False)\n",
    "df3 = pd.read_csv('heat18co2-1-2017jun242.csv')\n",
    "df3.drop(df3.index[[-1]],inplace=True)\n",
    "# print (df3)\n"
   ]
  },
  {
   "cell_type": "markdown",
   "metadata": {},
   "source": [
    "Prepare for the nomenclature for the output excel sheet"
   ]
  },
  {
   "cell_type": "code",
   "execution_count": 3,
   "metadata": {},
   "outputs": [
    {
     "name": "stdout",
     "output_type": "stream",
     "text": [
      "historical18co2jun25\n"
     ]
    }
   ],
   "source": [
    "out1 = 'historical';\n",
    "out2 = 'co2';\n",
    "months = ['jan', 'feb', 'mar', 'apr', 'may', 'jun', 'jul', 'aug', 'sep', 'oct', 'nov', 'dec'] # abbreviations for months to insert in output file name\n",
    "date = datetime.date.today().strftime(\"%Y-%m-%d\")\n",
    "date_split = date.split('-') # split the date string we create by symbol \"-\"\n",
    "yrs = str(int(date_split[0])-2000) # real years minus 2000 \n",
    "seq = [out1, yrs, out2,months[int(date_split[1])-1],date_split[2]]\n",
    "seperator = ','\n",
    "filename = seperator.join(seq).replace(',', '')\n",
    "print (filename)"
   ]
  },
  {
   "cell_type": "markdown",
   "metadata": {},
   "source": [
    "Integrate CO2  Industrial  Plus Land Use Emissions Fits"
   ]
  },
  {
   "cell_type": "code",
   "execution_count": 4,
   "metadata": {},
   "outputs": [
    {
     "name": "stdout",
     "output_type": "stream",
     "text": [
      "2.13\n",
      "29.3045\n",
      "0.6037829333505659\n"
     ]
    }
   ],
   "source": [
    "gtonnecperppm = df1.iloc[2, 3]\n",
    "print (gtonnecperppm)\n",
    "t0 = df1.iloc[11, 3]\n",
    "# tmax = df1.iloc[12, 3]\n",
    "b1 = df1.iloc[2,0]\n",
    "b2 = df1.iloc[2,1]\n",
    "b3 = df1.iloc[2,2]\n",
    "co20 = df1.iloc[17, 2] # (* from heat17<co2>prefit16dec.nb *)\n",
    "\n",
    "b28 = 212.309 # (* ppm/GHa multiplies deforestation rate to get ppm/yr CO2 emissions if all were retained in the atmosphere *)\n",
    "print (b3)\n",
    "# def logint(t):\n",
    "#      y1 = b1*b3*(math.log(1+np.exp((t-b2)/b3))-math.log(1+np.exp((t0-b2)/b3)))\n",
    "#      return y1\n",
    "def logint(t):\n",
    "     y1 = b1*b3*(np.log(1+np.exp((t-b2)/b3))-np.log(1+np.exp((t0-b2)/b3)))\n",
    "     return y1\n",
    "\n",
    "# def logint(t):\n",
    "#      y = b1*b3*(math.log(1+np.exp(t-b2)/b3)-math.log(1+np.exp(t0-b2)/b3)\n",
    "#      return y\n",
    "b11 = df1.iloc[1,0] # (* deforestation rate *)\n",
    "b21 = df1.iloc[1,1] # (* deforestation rate *)\n",
    "b31 = df1.iloc[1,2] # (* deforestation rate *)\n",
    "\n",
    "def logisticind(t):\n",
    "    y2 = (1/gtonnecperppm)*logint(t)\n",
    "    return y2\n",
    "\n",
    "# cumulative global deforestation estimates  \n",
    "def dlogintdt(t):\n",
    "    y3 = b11/(1+np.exp(-(t-b21)/b31))\n",
    "    return y3\n",
    "\n",
    "dlogintdt0 = dlogintdt(t0)\n",
    "print (dlogintdt0)"
   ]
  },
  {
   "cell_type": "markdown",
   "metadata": {},
   "source": [
    "Industrial"
   ]
  },
  {
   "cell_type": "code",
   "execution_count": 5,
   "metadata": {},
   "outputs": [
    {
     "data": {
      "text/plain": [
       "[<matplotlib.lines.Line2D at 0x2b65196ed68>]"
      ]
     },
     "execution_count": 5,
     "metadata": {},
     "output_type": "execute_result"
    },
    {
     "data": {
      "image/png": "[encoded data removed]",
      "text/plain": [
       "<matplotlib.figure.Figure at 0x2b6518c02e8>"
      ]
     },
     "metadata": {},
     "output_type": "display_data"
    }
   ],
   "source": [
    "t0 = df1.iloc[11, 3].tolist()\n",
    "t0 = int(t0)\n",
    "# t0 = t0.astype(int)\n",
    "tmax = df1.iloc[12, 3].tolist()\n",
    "tmax = int(tmax)\n",
    "# tmax = tmax.astype(int)\n",
    "# print (t0)\n",
    "# print (tmax)\n",
    "t = range(t0,tmax+1)\n",
    "# t = t.astype(int)\n",
    "# f2 = np.vectorize(logisticind)\n",
    "# logisticind = np.vectorize(logisticind)\n",
    "t = np.array(t)\n",
    "# y = logisticind(x)\n",
    "# print (df1.iloc[2,:])\n",
    "plt.plot(t,logisticind(t), label=\"data\")\n",
    "# plt.plot(t,logisticind(t), label=\"data\")"
   ]
  },
  {
   "cell_type": "markdown",
   "metadata": {},
   "source": [
    "Land Use"
   ]
  },
  {
   "cell_type": "code",
   "execution_count": 6,
   "metadata": {
    "scrolled": true
   },
   "outputs": [
    {
     "data": {
      "text/plain": [
       "[<matplotlib.lines.Line2D at 0x2b651a11358>]"
      ]
     },
     "execution_count": 6,
     "metadata": {},
     "output_type": "execute_result"
    },
    {
     "data": {
      "image/png": "[encoded data removed]",
      "text/plain": [
       "<matplotlib.figure.Figure at 0x2b6518c1eb8>"
      ]
     },
     "metadata": {},
     "output_type": "display_data"
    }
   ],
   "source": [
    "def co2logintland(t):\n",
    "    y4 = b28*(dlogintdt(t)-dlogintdt0)/gtonnecperppm # (* part of cumulative <CO2> increase proportional to deforestation rate, if all were retained in the atmosphee *) \n",
    "    # b28 times (deforestation area at time equals t minus initial deforestation area) divided by conversion prefactor\n",
    "    return y4\n",
    "# tmax = df1.iloc[12, 3]\n",
    "# t0 = df1.iloc[11, 3].tolist()\n",
    "# t0 = int(t0)\n",
    "# tmax = df1.iloc[12, 3].tolist()\n",
    "# tmax = int(tmax)\n",
    "# print (t0)\n",
    "# print (tmax)\n",
    "t = range(t0,tmax+1)\n",
    "plt.plot(t,co2logintland(t))"
   ]
  },
  {
   "cell_type": "markdown",
   "metadata": {},
   "source": [
    "integrate guass function"
   ]
  },
  {
   "cell_type": "code",
   "execution_count": 7,
   "metadata": {},
   "outputs": [
    {
     "name": "stdout",
     "output_type": "stream",
     "text": [
      "11.65792557160685\n"
     ]
    }
   ],
   "source": [
    "def gaussint(t,b1,b2,b3):\n",
    "#     y = b1*b3*np.sqrt(math.pi/2)*(math.erf((b2-t0)/(math.sqrt(2)*b3))-math.erf((b2-t)/(math.sqrt(2)*b3)))\n",
    "    y = b1*b3*np.sqrt(np.pi/2)*(erf((b2-t0)/(np.sqrt(2)*b3))-erf((b2-t)/(np.sqrt(2)*b3)))\n",
    "    return y\n",
    "print (gaussint(1950,0.242542, 1910.93, 19.6327))"
   ]
  },
  {
   "cell_type": "code",
   "execution_count": 8,
   "metadata": {
    "scrolled": true
   },
   "outputs": [
    {
     "name": "stdout",
     "output_type": "stream",
     "text": [
      "[[0.242542, 1910.93, 19.6327], [0.199856, 1932.79, 5.56251], [0.770546, 1959.73, 9.13007], [0.964413, 1993.14, 15.2089]]\n",
      "0.242542\n"
     ]
    }
   ],
   "source": [
    "bg = [] # results from co2 landuse fit from (g1 b1 d1) to (g4 b4 d4).\n",
    "for i in range(3,7):\n",
    "    sub_list=[]\n",
    "    for m in range(0,3):\n",
    "        x = df1.iloc[i,m].tolist()\n",
    "        sub_list.append(float(x))\n",
    "    bg.append(sub_list)\n",
    "#     new_list.append(sub_list)\n",
    "print (bg)\n",
    "print (bg[0][0])"
   ]
  },
  {
   "cell_type": "code",
   "execution_count": 9,
   "metadata": {},
   "outputs": [],
   "source": [
    "def gaussland(t):\n",
    "    y = gaussint(t,bg[0][0],bg[0][1],bg[0][2])+gaussint(t,bg[1][0],bg[1][1],bg[1][2])+gaussint(t,bg[2][0],bg[2][1],bg[2][2])+gaussint(t,bg[3][0],bg[3][1],bg[3][2]) \n",
    "    return y\n",
    "# def gaussland(t):\n",
    "#     y = f3(t,bg[0][0],bg[0][1],bg[0][2])+f3(t,bg[1][0],bg[1][1],bg[1][2])+f3(t,bg[2][0],bg[2][1],bg[2][2])+f3(t,bg[3][0],bg[3][1],bg[3][2]) \n",
    "#     return y\n",
    "# print (gaussland(t,b1, b2, b3))\n",
    "# print (gaussland(1970))\n",
    "# f3 = np.vectorize(gaussland)\n",
    "def co2gauss(t):\n",
    "    y = gaussland(t)/gtonnecperppm\n",
    "    return y\n",
    "# f3 = np.vectorize(co2gauss)"
   ]
  },
  {
   "cell_type": "markdown",
   "metadata": {},
   "source": [
    "Fit for Retention Fractions and Final Plot"
   ]
  },
  {
   "cell_type": "markdown",
   "metadata": {},
   "source": [
    "Use a larger retention fraction for the industrial part to mimic how the retention fraction increases with time, in lieu of the numerical integration of the atmospheric carbon balance equation that will be needed for future extrapolation to larger <CO2> values"
   ]
  },
  {
   "cell_type": "code",
   "execution_count": 10,
   "metadata": {},
   "outputs": [
    {
     "name": "stdout",
     "output_type": "stream",
     "text": [
      "[278.7032586, 278.7032586, 278.7032586, 278.7032586, 278.602571, 278.602571, 278.5018834, 278.5018834, 278.5018834, 278.4011958, 278.4011958, 278.4011958, 278.4011958, 278.4011958, 278.5018834, 278.5018834, 278.602571, 278.8039462, 278.9046338, 279.0053214, 279.2066966, 279.3073842, 279.5087593, 279.6094469, 279.7101345, 279.9115097, 280.0121973, 280.0121973, 280.1128849, 280.1128849, 280.1128849, 280.0121973, 280.1128849, 280.2135725, 280.3142601, 280.5156353, 280.8176981, 281.0190732, 281.321136, 281.6231988, 281.9252616, 282.2273244, 282.5293871, 282.8314499, 283.1335127, 283.3348879, 283.6369507, 283.8383259, 284.039701, 284.3417638, 284.543139, 284.7445142, 284.9458894, 285.1472646, 285.3486398, 285.5500149, 285.6507025, 285.8520777, 285.9527653, 286.0534529, 286.1541405, 286.1541405, 286.1541405, 286.1541405, 286.1541405, 286.0534529, 285.8520777, 285.7513901, 285.5500149, 285.4493274, 285.2479522, 285.1472646, 285.046577, 284.9458894, 284.9458894, 285.046577, 285.1472646, 285.3486398, 285.5500149, 285.6507025, 285.8520777, 285.9527653, 285.9527653, 285.9527653, 285.9527653, 285.8520777, 285.8520777, 285.8520777, 285.8520777, 285.8520777, 285.9527653, 286.2548281, 286.5568909, 287.0603288, 287.4630792, 287.8658296, 288.1678924, 288.4699552, 288.5706428, 288.7720179, 288.7720179, 288.7720179, 288.7720179, 288.6713303, 288.4699552, 288.3692676, 288.1678924, 288.1678924, 288.1678924, 288.1678924, 288.0672048, 288.0672048, 288.0672048, 288.0672048, 288.0672048, 288.26858, 288.4699552, 288.7720179, 289.0740807, 289.4768311, 289.8795815, 290.2823318, 290.7857698, 291.0878326, 291.3898954, 291.490583, 291.490583, 291.5912706, 291.5912706, 291.5912706, 291.7926457, 291.8933333, 292.0947085, 292.2960837, 292.5981465, 292.9002093, 293.3029596, 293.8063976, 294.209148, 294.6118984, 295.0146487, 295.6187743, 296.1222123, 296.6256502, 297.1290882, 297.5318386, 297.9345889, 298.0352765, 298.0352765, 298.0352765, 298.1359641, 298.2366517, 298.4380269, 298.7400897, 299.0421525, 299.4449028, 299.9483408, 300.3510912, 300.7538416, 301.1565919, 301.3579671, 301.5593423, 301.8614051, 302.2641555, 302.6669058, 303.1703438, 303.6737818, 304.1772197, 304.6806577, 305.0834081, 305.4861584, 305.7882212, 305.9895964, 306.1909716, 306.4930344, 306.7950972, 307.0971599, 307.4999103, 307.9026607, 308.3054111, 308.7081614, 309.1109118, 309.4129746, 309.7150374, 310.1177877, 310.5205381, 310.8226009, 311.3260389, 311.7287892, 312.2322272, 312.6349776, 312.9370404, 313.1384155, 313.1384155, 313.1384155, 313.037728, 312.9370404, 312.9370404, 313.037728, 313.1384155, 313.3397907, 313.6418535, 313.9439163, 314.3466667, 314.9507922, 315.6556054, 316.2597309, 316.8638565, 317.3672945, 317.8707324, 318.2734828, 318.8776084, 319.3810463, 319.9851719, 320.5892975, 321.2941106, 322.0996114, 323.0057997, 324.0126756, 325.0195516, 326.1271151, 327.2346786, 328.3422422, 329.5504933, 330.7587444, 331.8663079, 333.074559, 334.2828102, 335.4910613, 336.8, 338.8, 340.0, 340.8, 342.4, 344.0, 345.5, 346.9, 348.6, 351.2, 352.8, 354.0, 355.3, 356.0, 356.7, 358.2, 360.0, 361.8, 362.9, 365.5, 367.6, 368.8, 370.4, 372.4, 374.9, 376.8, 378.8, 380.9, 382.7, 384.8, 386.3, 388.6, 390.4, 392.5, 395.2, 397.1, 399.4, 402.9, 404.5074864]\n",
      "[0.27130848 1.51517607]\n"
     ]
    }
   ],
   "source": [
    "def co2conc(t,a0,a1):\n",
    "    y = co20 + a0*(a1*logisticind(t)+co2logintland(t)+co2gauss(t))\n",
    "    return y\n",
    "df4 = df3.iloc[t0-1:]\n",
    "# print (df4)\n",
    "yrsuse  = df4['Julian'].tolist()\n",
    "yrsuse = list(map(float, yrsuse))\n",
    "co2use = df4['ppb'].tolist()\n",
    "co2use = list(map(float, co2use))\n",
    "print (co2use)\n",
    "param_bounds=([0,0],[0.5,2]) # set the initial parameter searching bound\n",
    "popt,pcov = curve_fit(co2conc, yrsuse, co2use, bounds=param_bounds) # popt is the optimal values for the\n",
    "# parameters so that the sum of the squared residuals \n",
    "# of is minimized\n",
    "print (popt)"
   ]
  },
  {
   "cell_type": "code",
   "execution_count": 11,
   "metadata": {},
   "outputs": [
    {
     "data": {
      "image/png": "[encoded data removed]",
      "text/plain": [
       "<matplotlib.figure.Figure at 0x2b652c3d898>"
      ]
     },
     "metadata": {},
     "output_type": "display_data"
    }
   ],
   "source": [
    "x = range(1750,2018)\n",
    "y = logisticind(x)*popt[0]*popt[1]\n",
    "plt.plot(x,y,label='fit')\n",
    "plt.xlabel('Years')\n",
    "plt.ylabel('ppm')\n",
    "plt.legend(loc='best')\n",
    "plt.savefig('fet.pdf',dpi=1000)"
   ]
  },
  {
   "cell_type": "code",
   "execution_count": 12,
   "metadata": {},
   "outputs": [
    {
     "data": {
      "image/png": "[encoded data removed]",
      "text/plain": [
       "<matplotlib.figure.Figure at 0x2b6518c19e8>"
      ]
     },
     "metadata": {},
     "output_type": "display_data"
    }
   ],
   "source": [
    "y = co2logintland(x)*popt[0]\n",
    "plt.plot(x,y,label='fit')\n",
    "plt.xlabel('Years')\n",
    "plt.ylabel('ppm')\n",
    "plt.legend(loc='best')\n",
    "plt.savefig('fet1.pdf',dpi=1000)"
   ]
  },
  {
   "cell_type": "code",
   "execution_count": 13,
   "metadata": {},
   "outputs": [
    {
     "data": {
      "image/png": "[encoded data removed]",
      "text/plain": [
       "<matplotlib.figure.Figure at 0x2b6518c1668>"
      ]
     },
     "metadata": {},
     "output_type": "display_data"
    }
   ],
   "source": [
    "x = np.arange(1750,2018)\n",
    "# x = range(1750,2018)\n",
    "y = co2gauss(x)*popt[0]\n",
    "plt.plot(x,y,label='fit')\n",
    "plt.xlabel('Years')\n",
    "plt.ylabel('ppm')\n",
    "plt.legend(loc='best')\n",
    "plt.savefig('fet2.pdf',dpi=1000)"
   ]
  },
  {
   "cell_type": "code",
   "execution_count": 14,
   "metadata": {
    "scrolled": true
   },
   "outputs": [
    {
     "data": {
      "image/png": "[encoded data removed]",
      "text/plain": [
       "<matplotlib.figure.Figure at 0x2b652cccda0>"
      ]
     },
     "metadata": {},
     "output_type": "display_data"
    }
   ],
   "source": [
    "plt.scatter(yrsuse, co2use, s=2,c='r',alpha = 0.5, label=\"data\",marker='o')\n",
    "yrs = np.arange(1750,2018)\n",
    "co2fitout = co2conc(yrs, *popt)\n",
    "plt.plot(yrs,co2fitout,label='co2concfit')\n",
    "plt.xlabel('Years')\n",
    "plt.ylabel('ppm')\n",
    "plt.legend(loc='best')\n",
    "plt.savefig('fet3.pdf',dpi=1000)\n"
   ]
  },
  {
   "cell_type": "markdown",
   "metadata": {},
   "source": [
    "Data post-process"
   ]
  },
  {
   "cell_type": "code",
   "execution_count": 15,
   "metadata": {},
   "outputs": [],
   "source": [
    "df = pd.DataFrame({'CO2 concentration':yrs,'ppmv':co2use,'for CESM':co2fitout}, columns=[\"CO2 concentration\", \"ppmv\", \"for CESM\"])\n",
    "df.loc[-1]=['Year','Data','Fit']\n",
    "df.index = df.index+1\n",
    "df = df.sort_index()\n",
    "df.loc[(len(df))] = ['2018/06/24','heatco2forcing5mayhui.nb','']\n",
    "df.to_csv(filename + '.csv', index=False)"
   ]
  }
 ],
 "metadata": {
  "kernelspec": {
   "display_name": "Python 3",
   "language": "python",
   "name": "python3"
  },
  "language_info": {
   "codemirror_mode": {
    "name": "ipython",
    "version": 3
   },
   "file_extension": ".py",
   "mimetype": "text/x-python",
   "name": "python",
   "nbconvert_exporter": "python",
   "pygments_lexer": "ipython3",
   "version": "3.6.4"
  }
 },
 "nbformat": 4,
 "nbformat_minor": 2
}
