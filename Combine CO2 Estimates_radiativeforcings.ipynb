{
 "cells": [
  {
   "cell_type": "markdown",
   "metadata": {},
   "source": [
    "# Purpose: Fit the integral of land use change plus industrial CO2 emissions times a constant to <CO2> estimates from 1750-2017"
   ]
  },
  {
   "cell_type": "markdown",
   "metadata": {},
   "source": [
    "Clear all variables and reset the working directory and import necessary libraries"
   ]
  },
  {
   "cell_type": "code",
   "execution_count": 1,
   "metadata": {},
   "outputs": [],
   "source": [
    "%reset -f\n",
    "import os\n",
    "import pandas as pd\n",
    "import datetime\n",
    "import matplotlib.pyplot as plt\n",
    "import numpy as np\n",
    "from scipy.special import erf\n",
    "from scipy.optimize import curve_fit\n",
    "os.chdir('C:\\\\Users\\\\cd7\\\\Desktop\\\\Heat17CO2')"
   ]
  },
  {
   "cell_type": "markdown",
   "metadata": {},
   "source": [
    "Read two input files separately and assign the year values and methane concentration data"
   ]
  },
  {
   "cell_type": "code",
   "execution_count": 2,
   "metadata": {},
   "outputs": [
    {
     "name": "stdout",
     "output_type": "stream",
     "text": [
      "            b1  JulianYrEtc    b3(Years)           b4  No.  No..1  \\\n",
      "0    10.664400  2003.340000    31.480700     1.000000   r1      1   \n",
      "1     3.465660  2003.340000   162.813000   212.309000   f2      1   \n",
      "2    18.252000  2011.180000    29.304500     2.130000   r3      4   \n",
      "3     0.242542  1910.930000    19.632700     0.271308   g4      5   \n",
      "4     0.199856  1932.790000     5.562510     1.515180   g5      5   \n",
      "5     0.770546  1959.730000     9.130070     1.000000   g6      5   \n",
      "6     0.964413  1993.140000    15.208900     1.000000   g7      5   \n",
      "7    64.156200   871.320000   237.898000     1.000000   f8      1   \n",
      "8   176.655000  1973.910000    41.383600     9.514280   r9      1   \n",
      "9     5.140880   735.908000     7.279600     1.000000  r10      1   \n",
      "10    2.390980  2003.340000    40.317800   128.012000  r11      1   \n",
      "11    0.360664  1980.040000     7.521900  1750.000000  r12      1   \n",
      "12    0.169096  2026.340000    17.811800  2017.000000  r13      1   \n",
      "13    1.387280  2003.340000   162.813000     1.000000  r14      1   \n",
      "14    0.433065  1997.730000    24.147300     1.000000  g15      2   \n",
      "15    0.147705  1952.340000    20.064000     1.000000  r16      1   \n",
      "16    8.509880  1893.040000    42.944000     1.000000  r17      3   \n",
      "17    0.000000     0.016545   277.853000     1.000000  l18      3   \n",
      "18    0.000000     0.000461   722.065000     1.000000  l19      3   \n",
      "19    0.000000     0.003061   267.291000     1.000000  l20      3   \n",
      "20    0.292705     0.760918     0.166427    34.731000  r21      3   \n",
      "21    0.077245  1782.000000     1.000000     0.251137  t22      3   \n",
      "22    3.671560  1955.400000     4.689310     1.000000  r23      1   \n",
      "23    0.535614   841.916000  1365.570000  1365.570000  s24      3   \n",
      "24    0.121687  1612.590000   205.588000    -0.244184  s25      3   \n",
      "25    0.524988  1853.680000    11.000000   286.681000  s26      2   \n",
      "26    0.935517  2013.550000     5.500000     1.000000  s27      2   \n",
      "27    0.545457  1836.000000     1.000000    -0.049034  r28      1   \n",
      "\n",
      "            Type       Units      Units.1  \\\n",
      "0       Logistic     Billion            1   \n",
      "1       Logistic         Gha      ppm/Gha   \n",
      "2   Ln[1+Exp[x]]  GtonneC/yr  GtonneC/ppm   \n",
      "3       Guassian  GtonneC/yr            1   \n",
      "4       Guassian  GtonneC/yr            1   \n",
      "5       Guassian  GtonneC/yr            1   \n",
      "6       Guassian  GtonneC/yr            1   \n",
      "7       Logistic         ppb            1   \n",
      "8            NaN      ppb/yr           yr   \n",
      "9            NaN         ppb            1   \n",
      "10           NaN      ppb/yr           yr   \n",
      "11           NaN     W/(m*m)           yr   \n",
      "12           NaN     W/(m*m)           yr   \n",
      "13           NaN     W/(m*m)            1   \n",
      "14           NaN     W/(m*m)            1   \n",
      "15           NaN     W/(m*m)            1   \n",
      "16           NaN     W/(m*m)            1   \n",
      "17           NaN     W/(m*m)            1   \n",
      "18           NaN     W/(m*m)            1   \n",
      "19           NaN     W/(m*m)            1   \n",
      "20           NaN     W/(m*m)    Wyr/(m*m)   \n",
      "21           NaN          yr      W/(m*m)   \n",
      "22           NaN     W/(m*m)            1   \n",
      "23           NaN     W/(m*m)      W/(m*m)   \n",
      "24           NaN     W/(m*m)    julian yr   \n",
      "25           NaN     W/(m*m)      degreeK   \n",
      "26           NaN     W/(m*m)            1   \n",
      "27           NaN     W/(m*m)      W/(m*m)   \n",
      "\n",
      "                                    Description                      0  \n",
      "0            population increase from year 1820                      0  \n",
      "1     cumulative deforestation and land use CO2                      0  \n",
      "2                   industrial carbon emissions            GtonneC/ppm  \n",
      "3                    land use carbon emissions           kept fraction  \n",
      "4                    land use carbon emissions   industrial multiplier  \n",
      "5                     land use carbon emissions                      0  \n",
      "6                     land use carbon emissions                      0  \n",
      "7               preindustrial CH4 concentration                      0  \n",
      "8         post-1749 CH4 emissions rate increase                      0  \n",
      "9               preindustrial N2O concentration                      0  \n",
      "10        post-1749 N2O emissions rate increase                      0  \n",
      "11                 other greenhouse gas forcing   industrial start, t0  \n",
      "12                             contrail forcing        last year, tmax  \n",
      "13                   aerosols less black carbon                      0  \n",
      "14                   aerosols less black carbon                      0  \n",
      "15                       land use change albedo                      0  \n",
      "16       land use change albedo, d(logistic)/dt                      0  \n",
      "17         b2 in W/(m*m*ppm) and b3 in ppm CO2                       0  \n",
      "18         b2 in W/(m*m*ppb) and b3 in ppm CH4                       0  \n",
      "19         b2 in W/(m*m*ppb) and b3 in ppm N2O                       0  \n",
      "20               add to integrated volcano rate                      0  \n",
      "21                           volcanic shielding                      0  \n",
      "22                        1750 to c. 1955 <N2O>                      0  \n",
      "23     irradiance longest period cos function;                  radref  \n",
      "24  irradiance next longest period cos function    irradiance constant  \n",
      "25              irradiance guassian to subtract                   tup0  \n",
      "26              irradiance guassian to subtract                      0  \n",
      "27                           volcanic shielding                  rate3  \n"
     ]
    }
   ],
   "source": [
    "df1 = pd.read_excel('heat18parameters04jan.xlsx')\n",
    "df1.to_csv('heat18parameters04jan.csv',header=False,index=False)\n",
    "df1 = pd.read_csv('heat18parameters04jan.csv')\n",
    "# df1.drop(df1.index[[-1]],inplace=True)\n",
    "# df1.drop(df1.columns[5], axis=1,inplace=True)\n",
    "print (df1)\n",
    "\n",
    "df2 = pd.read_csv('heat18co2-1-2017jun241.csv') # results of excel sheet from code of radiative forcing\n",
    "df2.to_csv('heat18co2-1-2017jun242.csv',header=False,index=False)\n",
    "df3 = pd.read_csv('heat18co2-1-2017jun242.csv')\n",
    "df3.drop(df3.index[[-1]],inplace=True)\n",
    "# print (df3)\n"
   ]
  },
  {
   "cell_type": "markdown",
   "metadata": {},
   "source": [
    "Prepare for the nomenclature for the output excel sheet"
   ]
  },
  {
   "cell_type": "code",
   "execution_count": 3,
   "metadata": {},
   "outputs": [
    {
     "name": "stdout",
     "output_type": "stream",
     "text": [
      "historical18co2oct17\n"
     ]
    }
   ],
   "source": [
    "out1 = 'historical';\n",
    "out2 = 'co2';\n",
    "months = ['jan', 'feb', 'mar', 'apr', 'may', 'jun', 'jul', 'aug', 'sep', 'oct', 'nov', 'dec'] # abbreviations for months to insert in output file name\n",
    "date = datetime.date.today().strftime(\"%Y-%m-%d\")\n",
    "date_split = date.split('-') # split the date string we create by symbol \"-\"\n",
    "yrs = str(int(date_split[0])-2000) # real years minus 2000 \n",
    "seq = [out1, yrs, out2,months[int(date_split[1])-1],date_split[2]]\n",
    "seperator = ','\n",
    "filename = seperator.join(seq).replace(',', '')\n",
    "print (filename)"
   ]
  },
  {
   "cell_type": "markdown",
   "metadata": {},
   "source": [
    "Integrate CO2  Industrial  Plus Land Use Emissions Fits"
   ]
  },
  {
   "cell_type": "code",
   "execution_count": 4,
   "metadata": {},
   "outputs": [
    {
     "name": "stdout",
     "output_type": "stream",
     "text": [
      "2.13\n",
      "29.3045\n",
      "0.6037829333505659\n",
      "251.1106732394366\n"
     ]
    }
   ],
   "source": [
    "gtonnecperppm = df1.iloc[2, 3]\n",
    "print (gtonnecperppm)\n",
    "t0 = df1.iloc[11, 3]\n",
    "# tmax = df1.iloc[12, 3]\n",
    "b1 = df1.iloc[2,0]\n",
    "b2 = df1.iloc[2,1]\n",
    "b3 = df1.iloc[2,2]\n",
    "co20 = df1.iloc[17, 2] # (* from heat17<co2>prefit16dec.nb *)\n",
    "\n",
    "b28 = 212.309 # (* ppm/GHa multiplies deforestation rate to get ppm/yr CO2 emissions if all were retained in the atmosphere *)\n",
    "print (b3)\n",
    "# def logint(t):\n",
    "#      y1 = b1*b3*(math.log(1+np.exp((t-b2)/b3))-math.log(1+np.exp((t0-b2)/b3)))\n",
    "#      return y1\n",
    "def logint(t):\n",
    "    y1 = b1*b3*(np.log(1+np.exp((t-b2)/b3))-np.log(1+np.exp((t0-b2)/b3)))\n",
    "    return y1\n",
    "\n",
    "# def logint(t):\n",
    "#      y = b1*b3*(math.log(1+np.exp(t-b2)/b3)-math.log(1+np.exp(t0-b2)/b3)\n",
    "#      return y\n",
    "b11 = df1.iloc[1,0] # (* deforestation rate *)\n",
    "b21 = df1.iloc[1,1] # (* deforestation rate *)\n",
    "b31 = df1.iloc[1,2] # (* deforestation rate *)\n",
    "\n",
    "def logisticind(t):\n",
    "    y2 = (1/gtonnecperppm)*logint(t)\n",
    "    return y2\n",
    "\n",
    "# cumulative global deforestation estimates  \n",
    "def dlogintdt(t):\n",
    "    y3 = b11/(1+np.exp(-(t-b21)/b31))\n",
    "    return y3\n",
    "\n",
    "dlogintdt0 = dlogintdt(t0)\n",
    "print (dlogintdt0)\n",
    "print (b1*b3/gtonnecperppm)"
   ]
  },
  {
   "cell_type": "markdown",
   "metadata": {},
   "source": [
    "Industrial"
   ]
  },
  {
   "cell_type": "code",
   "execution_count": 5,
   "metadata": {},
   "outputs": [
    {
     "data": {
      "text/plain": [
       "[<matplotlib.lines.Line2D at 0x22c1625fcf8>]"
      ]
     },
     "execution_count": 5,
     "metadata": {},
     "output_type": "execute_result"
    },
    {
     "data": {
      "image/png": "[encoded data removed]",
      "text/plain": [
       "<matplotlib.figure.Figure at 0x22c15f896a0>"
      ]
     },
     "metadata": {},
     "output_type": "display_data"
    }
   ],
   "source": [
    "t0 = df1.iloc[11, 3].tolist()\n",
    "t0 = int(t0)\n",
    "# t0 = t0.astype(int)\n",
    "tmax = df1.iloc[12, 3].tolist()\n",
    "tmax = int(tmax)\n",
    "# tmax = tmax.astype(int)\n",
    "# print (t0)\n",
    "# print (tmax)\n",
    "t = range(t0,tmax+1)\n",
    "# t = t.astype(int)\n",
    "# f2 = np.vectorize(logisticind)\n",
    "# logisticind = np.vectorize(logisticind)\n",
    "t = np.array(t)\n",
    "# y = logisticind(x)\n",
    "# print (df1.iloc[2,:])\n",
    "plt.plot(t,logisticind(t), label=\"data\")\n",
    "# plt.plot(t,logisticind(t), label=\"data\")"
   ]
  },
  {
   "cell_type": "markdown",
   "metadata": {},
   "source": [
    "Land Use"
   ]
  },
  {
   "cell_type": "code",
   "execution_count": 6,
   "metadata": {
    "scrolled": true
   },
   "outputs": [
    {
     "data": {
      "text/plain": [
       "[<matplotlib.lines.Line2D at 0x22c162ff358>]"
      ]
     },
     "execution_count": 6,
     "metadata": {},
     "output_type": "execute_result"
    },
    {
     "data": {
      "image/png": "[encoded data removed]",
      "text/plain": [
       "<matplotlib.figure.Figure at 0x22c15f890f0>"
      ]
     },
     "metadata": {},
     "output_type": "display_data"
    }
   ],
   "source": [
    "def co2logintland(t):\n",
    "    y4 = b28*(dlogintdt(t)-dlogintdt0)/gtonnecperppm # (* part of cumulative <CO2> increase proportional to deforestation rate, if all were retained in the atmosphee *) \n",
    "    # b28 times (deforestation area at time equals t minus initial deforestation area) divided by conversion prefactor\n",
    "    return y4\n",
    "# tmax = df1.iloc[12, 3]\n",
    "# t0 = df1.iloc[11, 3].tolist()\n",
    "# t0 = int(t0)\n",
    "# tmax = df1.iloc[12, 3].tolist()\n",
    "# tmax = int(tmax)\n",
    "# print (t0)\n",
    "# print (tmax)\n",
    "t = range(t0,tmax+1)\n",
    "plt.plot(t,co2logintland(t))"
   ]
  },
  {
   "cell_type": "markdown",
   "metadata": {},
   "source": [
    "integrate guass function"
   ]
  },
  {
   "cell_type": "code",
   "execution_count": 7,
   "metadata": {},
   "outputs": [
    {
     "name": "stdout",
     "output_type": "stream",
     "text": [
      "11.65792557160685\n"
     ]
    }
   ],
   "source": [
    "def gaussint(t,b1,b2,b3):\n",
    "#     y = b1*b3*np.sqrt(math.pi/2)*(math.erf((b2-t0)/(math.sqrt(2)*b3))-math.erf((b2-t)/(math.sqrt(2)*b3)))\n",
    "    y = b1*b3*np.sqrt(np.pi/2)*(erf((b2-t0)/(np.sqrt(2)*b3))-erf((b2-t)/(np.sqrt(2)*b3)))\n",
    "    return y\n",
    "print (gaussint(1950,0.242542, 1910.93, 19.6327))"
   ]
  },
  {
   "cell_type": "code",
   "execution_count": 8,
   "metadata": {
    "scrolled": true
   },
   "outputs": [
    {
     "name": "stdout",
     "output_type": "stream",
     "text": [
      "[[0.242542, 1910.93, 19.6327], [0.199856, 1932.79, 5.56251], [0.770546, 1959.73, 9.13007], [0.964413, 1993.14, 15.2089]]\n",
      "0.242542\n"
     ]
    }
   ],
   "source": [
    "bg = [] # results from co2 landuse fit from (g1 b1 d1) to (g4 b4 d4).\n",
    "for i in range(3,7):\n",
    "    sub_list=[]\n",
    "    for m in range(0,3):\n",
    "        x = df1.iloc[i,m].tolist()\n",
    "        sub_list.append(float(x))\n",
    "    bg.append(sub_list)\n",
    "#     new_list.append(sub_list)\n",
    "print (bg)\n",
    "print (bg[0][0])"
   ]
  },
  {
   "cell_type": "code",
   "execution_count": 9,
   "metadata": {},
   "outputs": [],
   "source": [
    "def gaussland(t):\n",
    "    y = gaussint(t,bg[0][0],bg[0][1],bg[0][2])+gaussint(t,bg[1][0],bg[1][1],bg[1][2])+gaussint(t,bg[2][0],bg[2][1],bg[2][2])+gaussint(t,bg[3][0],bg[3][1],bg[3][2]) \n",
    "    return y\n",
    "# def gaussland(t):\n",
    "#     y = f3(t,bg[0][0],bg[0][1],bg[0][2])+f3(t,bg[1][0],bg[1][1],bg[1][2])+f3(t,bg[2][0],bg[2][1],bg[2][2])+f3(t,bg[3][0],bg[3][1],bg[3][2]) \n",
    "#     return y\n",
    "# print (gaussland(t,b1, b2, b3))\n",
    "# print (gaussland(1970))\n",
    "# f3 = np.vectorize(gaussland)\n",
    "def co2gauss(t):\n",
    "    y = gaussland(t)/gtonnecperppm\n",
    "    return y\n",
    "\n",
    "# print(co2gauss(2000))\n",
    "\n",
    "# f3 = np.vectorize(co2gauss)"
   ]
  },
  {
   "cell_type": "markdown",
   "metadata": {},
   "source": [
    "Fit for Retention Fractions and Final Plot"
   ]
  },
  {
   "cell_type": "markdown",
   "metadata": {},
   "source": [
    "Use a larger retention fraction for the industrial part to mimic how the retention fraction increases with time, in lieu of the numerical integration of the atmospheric carbon balance equation that will be needed for future extrapolation to larger <CO2> values"
   ]
  },
  {
   "cell_type": "code",
   "execution_count": 16,
   "metadata": {},
   "outputs": [
    {
     "name": "stdout",
     "output_type": "stream",
     "text": [
      "[0.27130848 1.51517607]\n",
      "103.22660395866185\n"
     ]
    }
   ],
   "source": [
    "def co2conc(t,a0,a1):\n",
    "    y = co20 + a0*(a1*logisticind(t)+co2logintland(t)+co2gauss(t))\n",
    "    return y\n",
    "df4 = df3.iloc[t0-1:]\n",
    "# print (df4)\n",
    "yrsuse  = df4['Julian'].tolist()\n",
    "yrsuse = list(map(float, yrsuse))\n",
    "co2use = df4['ppb'].tolist()\n",
    "co2use = list(map(float, co2use))\n",
    "# print (co2use)\n",
    "param_bounds=([0,0],[0.5,2]) # set the initial parameter searching bound\n",
    "popt,pcov = curve_fit(co2conc, yrsuse, co2use, bounds=param_bounds) # popt is the optimal values for the\n",
    "# parameters so that the sum of the squared residuals \n",
    "# of is minimized\n",
    "print (popt)\n",
    "print (b1*b3/gtonnecperppm*popt[0]*popt[1])"
   ]
  },
  {
   "cell_type": "code",
   "execution_count": 11,
   "metadata": {},
   "outputs": [
    {
     "data": {
      "image/png": "[encoded data removed]",
      "text/plain": [
       "<matplotlib.figure.Figure at 0x22c1628ca58>"
      ]
     },
     "metadata": {},
     "output_type": "display_data"
    }
   ],
   "source": [
    "x = range(1750,2018)\n",
    "y = logisticind(x)*popt[0]*popt[1]\n",
    "plt.plot(x,y,label='fit')\n",
    "plt.xlabel('Years')\n",
    "plt.ylabel('ppm')\n",
    "plt.legend(loc='best')\n",
    "plt.savefig('fet.pdf',dpi=1000)"
   ]
  },
  {
   "cell_type": "code",
   "execution_count": 12,
   "metadata": {},
   "outputs": [
    {
     "data": {
      "image/png": "[encoded data removed]",
      "text/plain": [
       "<matplotlib.figure.Figure at 0x22c162ffac8>"
      ]
     },
     "metadata": {},
     "output_type": "display_data"
    }
   ],
   "source": [
    "y = co2logintland(x)*popt[0]\n",
    "plt.plot(x,y,label='fit')\n",
    "plt.xlabel('Years')\n",
    "plt.ylabel('ppm')\n",
    "plt.legend(loc='best')\n",
    "plt.savefig('fet1.pdf',dpi=1000)"
   ]
  },
  {
   "cell_type": "code",
   "execution_count": 13,
   "metadata": {},
   "outputs": [
    {
     "data": {
      "image/png": "[encoded data removed]",
      "text/plain": [
       "<matplotlib.figure.Figure at 0x22c17407208>"
      ]
     },
     "metadata": {},
     "output_type": "display_data"
    }
   ],
   "source": [
    "x = np.arange(1750,2018)\n",
    "# x = range(1750,2018)\n",
    "y = co2gauss(x)*popt[0]\n",
    "plt.plot(x,y,label='fit')\n",
    "plt.xlabel('Years')\n",
    "plt.ylabel('ppm')\n",
    "plt.legend(loc='best')\n",
    "plt.savefig('fet2.pdf',dpi=1000)"
   ]
  },
  {
   "cell_type": "code",
   "execution_count": 14,
   "metadata": {
    "scrolled": true
   },
   "outputs": [
    {
     "data": {
      "image/png": "[encoded data removed]",
      "text/plain": [
       "<matplotlib.figure.Figure at 0x22c17407a20>"
      ]
     },
     "metadata": {},
     "output_type": "display_data"
    }
   ],
   "source": [
    "plt.scatter(yrsuse, co2use, s=2,c='r',alpha = 0.5, label=\"data\",marker='o')\n",
    "yrs = np.arange(1750,2018)\n",
    "co2fitout = co2conc(yrs, *popt)\n",
    "plt.plot(yrs,co2fitout,label='co2concfit')\n",
    "plt.xlabel('Year')\n",
    "plt.ylabel('ppm')\n",
    "plt.legend(loc='best')\n",
    "plt.savefig('fet3.pdf',dpi=1000)\n",
    "plt.savefig('fet3.eps',dpi=1000)\n"
   ]
  },
  {
   "cell_type": "markdown",
   "metadata": {},
   "source": [
    "Data post-process"
   ]
  },
  {
   "cell_type": "code",
   "execution_count": 15,
   "metadata": {},
   "outputs": [],
   "source": [
    "df = pd.DataFrame({'CO2 concentration':yrs,'ppmv':co2use,'for CESM':co2fitout}, columns=[\"CO2 concentration\", \"ppmv\", \"for CESM\"])\n",
    "df.loc[-1]=['Year','Data','Fit']\n",
    "df.index = df.index+1\n",
    "df = df.sort_index()\n",
    "df.loc[(len(df))] = ['2018/06/24','heatco2forcing5mayhui.nb','']\n",
    "df.to_csv(filename + '.csv', index=False)"
   ]
  }
 ],
 "metadata": {
  "kernelspec": {
   "display_name": "Python 3",
   "language": "python",
   "name": "python3"
  },
  "language_info": {
   "codemirror_mode": {
    "name": "ipython",
    "version": 3
   },
   "file_extension": ".py",
   "mimetype": "text/x-python",
   "name": "python",
   "nbconvert_exporter": "python",
   "pygments_lexer": "ipython3",
   "version": "3.6.4"
  }
 },
 "nbformat": 4,
 "nbformat_minor": 2
}
