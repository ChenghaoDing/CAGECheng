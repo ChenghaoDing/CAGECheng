{
 "cells": [
  {
   "cell_type": "markdown",
   "metadata": {},
   "source": [
    "Purpose: Compare calibration of the heat balance model climate sensitivity and surface ocean mixed layer thermal inertia parameters against 1892-2017  increases in temperature over the 1650-1749 average. Then extrapolate the combined CO2, N2O, and heat balances using the calibrated heat balance parameters."
   ]
  },
  {
   "cell_type": "code",
   "execution_count": 1,
   "metadata": {},
   "outputs": [],
   "source": [
    "%reset -f\n",
    "import os\n",
    "import pandas as pd\n",
    "import datetime\n",
    "import matplotlib.pyplot as plt\n",
    "import numpy as np\n",
    "from scipy.optimize import curve_fit\n",
    "import mpmath\n",
    "from scipy.special import erf,hyp2f1\n",
    "from scipy import log,exp,sqrt\n",
    "from scipy.fftpack import dct\n",
    "from scipy.integrate import odeint\n",
    "from scipy.interpolate import interp1d\n",
    "from scipy.optimize import minimize_scalar\n",
    "os.chdir('C:\\\\Users\\\\cd7\\\\Desktop\\\\Heat18Temperature')"
   ]
  },
  {
   "cell_type": "markdown",
   "metadata": {},
   "source": [
    "Read the specified input file"
   ]
  },
  {
   "cell_type": "code",
   "execution_count": 2,
   "metadata": {},
   "outputs": [],
   "source": [
    "df1 = pd.read_excel('C:\\\\Users\\\\cd7\\\\Desktop\\\\Heat18Temperature\\\\heat18parameters13jan.xlsx')\n",
    "df1.to_csv('heat19parameters13jan.csv',header=False,index=False)\n",
    "df1 = pd.read_csv('heat19parameters13jan.csv')\n",
    "\n",
    "df2 = pd.read_excel('C:\\\\Users\\\\cd7\\\\Desktop\\\\Heat18Temperature\\\\heat18warming2jan200-2017.xlsx')\n",
    "df2.to_csv('heat19warming2jan200-2017.csv',header=False,index=False)\n",
    "df2 = pd.read_csv('heat19warming2jan200-2017.csv')\n",
    "\n",
    "df3 = pd.read_excel('C:\\\\Users\\\\cd7\\\\Desktop\\\\Heat18Temperature\\\\heat18fixwarming8jan200-2017.xlsx')\n",
    "df3.to_csv('heat19fixwarming8jan200-2017.csv',header=False,index=False)\n",
    "df3 = pd.read_csv('heat19fixwarming8jan200-2017.csv')\n",
    "\n",
    "df4 = pd.read_excel('C:\\\\Users\\\\cd7\\\\Desktop\\\\Heat17CO2\\\\heat17-co2-1-2017dec18.xlsx')\n",
    "df4.to_csv('heat19-co2-1-2017dec18.csv',header=False,index=False)\n",
    "df4 = pd.read_csv('heat19-co2-1-2017dec18.csv')\n",
    "\n",
    "df5 = pd.read_excel('C:\\\\Users\\\\cd7\\\\Desktop\\\\Heat18_integration_coeff_table.xlsx')\n",
    "# print (df5)\n",
    "\n",
    "df6 = pd.read_csv('C:\\\\Users\\\\cd7\\\\Desktop\\\\Heat17Forcings\\\\heat18parameters06jan.csv')\n"
   ]
  },
  {
   "cell_type": "markdown",
   "metadata": {},
   "source": [
    "Formulate the exported file name"
   ]
  },
  {
   "cell_type": "code",
   "execution_count": 3,
   "metadata": {},
   "outputs": [
    {
     "name": "stdout",
     "output_type": "stream",
     "text": [
      "extrapolate18co2tauoct23\n"
     ]
    }
   ],
   "source": [
    "out1 = 'extrapolate';\n",
    "out2 = 'co2tau';\n",
    "months = ['jan', 'feb', 'mar', 'apr', 'may', 'jun', 'jul', 'aug', 'sep', 'oct', 'nov', 'dec'] # abbreviations for months to insert in output file name)\n",
    "date = datetime.date.today().strftime(\"%Y-%m-%d\")\n",
    "date_split = date.split('-')\n",
    "yrs = str(int(date_split[0])-2000)\n",
    "seq = [out1, yrs, out2, months[int(date_split[1])-1], date_split[2] ]\n",
    "seperator = ','\n",
    "filename = seperator.join(seq).replace(',', '')\n",
    "print (filename)"
   ]
  },
  {
   "cell_type": "markdown",
   "metadata": {},
   "source": [
    "Some self-defined constants"
   ]
  },
  {
   "cell_type": "code",
   "execution_count": 4,
   "metadata": {},
   "outputs": [
    {
     "name": "stdout",
     "output_type": "stream",
     "text": [
      "1554\n"
     ]
    }
   ],
   "source": [
    "fix0 = 1\n",
    "fix1 = 1\n",
    "fixvolcano = 1\n",
    "fix6 = 1.0\n",
    "nave = 11\n",
    "tdrop = 1551 + round(nave*((2017-1750)/nave-(2017-1750)//nave))\n",
    "print (tdrop)"
   ]
  },
  {
   "cell_type": "markdown",
   "metadata": {},
   "source": [
    "Data\n",
    "Global average temperature direct measurements as deviations from 1951-1980 mean."
   ]
  },
  {
   "cell_type": "code",
   "execution_count": 5,
   "metadata": {},
   "outputs": [],
   "source": [
    "ndrop = 1450\n",
    "file2use = df2.iloc[ndrop:-1]\n",
    "file2use.index = np.arange(0, len(file2use))\n",
    "file3use = df3.iloc[ndrop:-1]\n",
    "file3use.index = np.arange(0, len(file3use))\n",
    "yrs = file2use.iloc[:,0]\n",
    "temps = file2use.iloc[:,1]\n",
    "fixtemps = file3use.iloc[:,1]"
   ]
  },
  {
   "cell_type": "code",
   "execution_count": 6,
   "metadata": {},
   "outputs": [],
   "source": [
    "warm = df2.iloc[(ndrop+100):-1]\n",
    "fixwarm = df3.iloc[(ndrop+100):-1]\n",
    "warmtoave = df2.iloc[tdrop:-1]\n",
    "warmtoave.index = np.arange(0, len(warmtoave))\n",
    "yrstoave = warmtoave.iloc[:,0]\n",
    "tempstoave = warmtoave.iloc[:,1]\n",
    "mave = len(yrstoave)/nave\n",
    "yrstoave = yrstoave.astype(float)\n",
    "yrsave = yrstoave.groupby(np.arange(len(yrstoave))//nave).mean()\n",
    "tempstoave = tempstoave.astype(float)\n",
    "tempsave = tempstoave.groupby(np.arange(len(tempstoave))//nave).mean()\n",
    "# print(warm)"
   ]
  },
  {
   "cell_type": "code",
   "execution_count": 7,
   "metadata": {},
   "outputs": [
    {
     "name": "stdout",
     "output_type": "stream",
     "text": [
      "[10.6644, 3.4656599999999997, 18.252, 0.242542, 0.199856, 0.770546, 0.964413, 64.1562, 176.655, 5.14088, 2.39098, 0.360664, 0.169096, 3.4656599999999997, 0.592935, 0.147705, 8.50988, 0.0, 0.0, 0.0, 0.292705, 0.0772446, 3.8108800000000005, 0.15466, 0.0461415, 0.13156700000000002, 0.18290399999999998, 0.13156700000000002]\n",
      "1750.0\n",
      "9.51428\n"
     ]
    }
   ],
   "source": [
    "b1 = df1.iloc[:,0]\n",
    "b2 = df1.iloc[:,1]\n",
    "b3 = df1.iloc[:,2]\n",
    "b4 = df1.iloc[:,3]\n",
    "\n",
    "b5 = df6.iloc[:,0:1]\n",
    "b5 = b5['b1'].tolist()\n",
    "b5 = list(map(float, b5))\n",
    "print (b5)\n",
    "\n",
    "b6 = df6.iloc[:,1:2]\n",
    "b6 = b6['JulianYrEtc'].tolist()\n",
    "b6 = list(map(float, b6))\n",
    "\n",
    "b7 = df6.iloc[:,2:3]\n",
    "b7 = b7['b3(Years)'].tolist()\n",
    "b7 = list(map(float, b7))\n",
    "\n",
    "b8 = df6.iloc[:,3:4]\n",
    "b8 = b8['b4'].tolist()\n",
    "b8 = list(map(float, b8))\n",
    "\n",
    "tup0 = b4[25]\n",
    "ch40 = b3[18]\n",
    "life = b4[8]\n",
    "t0 = b4[11]\n",
    "print (t0)\n",
    "tmax = b4[12]\n",
    "# gtonnecperppm = b4[2]\n",
    "gtonnecperppm = float(b4[2])\n",
    "\n",
    "c18 = 339.873\n",
    "c24 = 383.647\n",
    "eps0 = 0.620523\n",
    "print (life)"
   ]
  },
  {
   "cell_type": "markdown",
   "metadata": {},
   "source": [
    "Trial values of adjustable parameters c1, c2, and c3"
   ]
  },
  {
   "cell_type": "code",
   "execution_count": 8,
   "metadata": {},
   "outputs": [
    {
     "name": "stdout",
     "output_type": "stream",
     "text": [
      "[[-8.912624340971526, -1.5560182540706204, -8.19754796844041, -32.85303215208119, -22.968805442510636, -15.976109753212969], [-5.410597434732601, -5.410597434732601, -5.410597434732601], [-6.283576980886852, -6.283576980886852, -6.283576980886852, -40.5836780212064], [-30.582698520320662], [-15.514434251451279], [-10.0847288676236, -3.3308494783904616], [-1.5560182540706204, -8.814519270246658], [-22.75, -34.5], [0.6649853174864708, 0.7126112909360466, -9.470909090909096, -47.9909090909091], [-1.5560182540706204, -7.0628848410577385]]\n"
     ]
    }
   ],
   "source": [
    "c200 = 1.16\n",
    "c220 = 0.86055\n",
    "c230 = 0.24685\n",
    "# c30 = 30.667*fix3\n",
    "c30 = 30.667\n",
    "c10 = 1*fix1\n",
    "c00 = fix0  # multiplies aerosols less black carbon on snow\n",
    "ctry2 = 1067.3112319440002\n",
    "# c20 = ctry2*coef2\n",
    "nm = [[3, 2, 4, 5, 6, 7],[9, 9, 9],[11, 11, 11, 23],[12],[13],[16,17],[14,15],[22,28],[24, 25, 26, 27],[29,30]]\n",
    "# create xnm0 list\n",
    "xnm0 = []\n",
    "for n in range(0,len(nm)):\n",
    "    sub_list=[]\n",
    "    for m in range(0,len(nm[n])):\n",
    "        x = (t0-b2[nm[n][m]-1])/b3[nm[n][m]-1]\n",
    "        sub_list.append(float(x))\n",
    "    xnm0.append(sub_list)\n",
    "print (xnm0)"
   ]
  },
  {
   "cell_type": "markdown",
   "metadata": {},
   "source": [
    "Input parameter file locations for CO2, CH4, N20, other, contrail, albedo, aerosol, volcano, and irradiance forcings, new independent variables xnm, climate sensitivity parameters, snm, and integral types inm"
   ]
  },
  {
   "cell_type": "markdown",
   "metadata": {},
   "source": [
    "CO2-Industrial:\n",
    "\n",
    "e11(annual emissions in Gtonne of CO2) is shown as logistic function,so the first general type of integrand is logistic function.\n",
    "u = 1/(1 + exp(-x)), where x=(t-b2)/b3."
   ]
  },
  {
   "cell_type": "code",
   "execution_count": 9,
   "metadata": {
    "scrolled": true
   },
   "outputs": [
    {
     "name": "stdout",
     "output_type": "stream",
     "text": [
      "1.7216456984687145\n",
      "0.5619506758771825\n",
      "286.681\n",
      "-8.912624340971526\n",
      "53.71312155198684\n"
     ]
    }
   ],
   "source": [
    "def intlogisitic(s,x,x0):\n",
    "    y = exp(s*x)*(-1+ hyp2f1(1,s,1+s,-exp(x)) + s*log(1+exp(x))-s*log(1+exp(x0)))/(s**2)\n",
    "    return y\n",
    "\n",
    "def finalint1(coef2,fix3,t,a,b,c,x0):\n",
    "    x = (-b+t)/a\n",
    "    s = (c*ctry2*coef2)/(c30*fix3*tup0)\n",
    "    y = (-1+hyp2f1(1,s,1+s,-exp(x))-exp(s*(-x+x0))*(-1+hyp2f1(1,s,1+s,-exp(x0)))+s*log(1+exp(x))-s*log(1+exp(x0)))/(s**2)\n",
    "    return y\n",
    "\n",
    "print (finalint1(2,5,2100,df5.iloc[0][1],df5.iloc[0][2],b3[nm[0][0]-1],xnm0[0][0]))\n",
    "\n",
    "d11=b2[17]*b4[3]*b4[4]*b1[nm[0][0]-1]*b3[nm[0][0]-1]/gtonnecperppm\n",
    "\n",
    "def tau11(coef2,fix3,t):\n",
    "    y = c10*(b3[nm[0][0]-1]/(c30*fix3))*d11*finalint1(coef2,fix3,t,df5.iloc[0][1],df5.iloc[0][2],b3[nm[0][0]-1],xnm0[0][0])\n",
    "    return y\n",
    "print (tau11(2,5,2100))\n",
    "print (tup0)\n",
    "\n",
    "# carbon dioxide radiative forcing formula(industrial)\n",
    "x0 = (t0-b6[2])/b7[2]\n",
    "print (x0)\n",
    "def co2ind(t):\n",
    "    y = b8[3]*b8[4]*b5[2]*b7[2]*(log(1+exp((t-b6[2])/b7[2]))-log(1+exp(x0)))/gtonnecperppm\n",
    "    return y\n",
    "\n",
    "co2ind = np.vectorize(co2ind)\n",
    "\n",
    "print (co2ind(2000))"
   ]
  },
  {
   "cell_type": "markdown",
   "metadata": {},
   "source": [
    "CO2-Land Use:\n",
    "\n",
    "have two kinds of integrands namely: 1.the time derivative of a logistic function, 2, four gaussians functions, where gaussian function is of the form $(b1/sqrt(2*pi))*exp(-x^2/2)$."
   ]
  },
  {
   "cell_type": "markdown",
   "metadata": {},
   "source": [
    "CO2-Land Use: Logistic increase"
   ]
  },
  {
   "cell_type": "code",
   "execution_count": 10,
   "metadata": {},
   "outputs": [
    {
     "name": "stdout",
     "output_type": "stream",
     "text": [
      "0.03659397151914998\n",
      "162.813\n",
      "1.5506248923169756\n",
      "0.06025097488521093\n"
     ]
    }
   ],
   "source": [
    "def intdlogistic(s,x,x0):\n",
    "    y = exp(s*x)*(1-(1+exp(x0))*hyp2f1(1,s,1+s,-exp(x)))/((1+exp(x0))*s)\n",
    "    return y\n",
    "\n",
    "def finalint2(coef2,fix3,t,a,b,c,x0):\n",
    "    x = (-b+t)/a\n",
    "    s = (c*ctry2*coef2)/(c30*fix3*tup0)\n",
    "    y = exp(-s*x)*(exp(s*x)-exp(s*x0)-exp(s*x)*(1+exp(x0))*hyp2f1(1,s,1+s,-exp(x))+exp(s*x0)*(1+exp(x0))*hyp2f1(1,s,1+s,-exp(x0)))/(s*(1+exp(x0)))\n",
    "    return y\n",
    "\n",
    "print (finalint2(2,5,2000,df5.iloc[1][1],df5.iloc[1][2],b3[nm[0][1]-1],xnm0[0][1]))\n",
    "\n",
    "d12 = b2[17]*b4[3]*b1[nm[0][1]-1]*b4[nm[0][1]-1]/gtonnecperppm\n",
    "\n",
    "def tau12(coef2,fix3,t):\n",
    "    y = c10*(b3[nm[0][1]-1]/(c30*fix3))*d12*finalint2(coef2,fix3,t,df5.iloc[1][1],df5.iloc[1][2],b3[nm[0][1]-1],xnm0[0][1])\n",
    "    return y\n",
    "print (b3[nm[0][1]-1])\n",
    "print (d12)\n",
    "print (tau12(2,5,2000))\n",
    "\n",
    "# carbon dioxide radiative forcing formula(land use)\n",
    "\n",
    "def dlogint(t):\n",
    "    y = b5[1]/(1 + np.exp(-(t - b6[1])/b7[1]))\n",
    "    return y\n",
    "dlogint0 = dlogint(t0)\n",
    "\n",
    "dlogint = np.vectorize(dlogint)\n",
    "\n",
    "def co2logintland(t):\n",
    "    y = b8[1]*(dlogint(t) - dlogint0)/gtonnecperppm\n",
    "    return y\n",
    "\n",
    "def gaussint(t,b1g,b2g,b3g):\n",
    "    y = b1g*b3g*np.sqrt(np.pi/2)*(-erf((b2g - t)/(b3g*np.sqrt(2))) + erf((b2g - t0)/(b3g*np.sqrt(2))))\n",
    "    return y\n",
    "\n",
    "gaussint = np.vectorize(gaussint)\n",
    "\n",
    "bg = [] # results from co2 landuse fit from (g1 b1 d1) to (g4 b4 d4).\n",
    "for i in range(3,7):\n",
    "    sub_list=[]\n",
    "    for m in range(0,3):\n",
    "        x = df6.iloc[i,m].tolist()\n",
    "        sub_list.append(float(x))\n",
    "    bg.append(sub_list)\n",
    "\n",
    "def gaussland(t):\n",
    "    y = gaussint(t,bg[0][0],bg[0][1],bg[0][2])+gaussint(t,bg[1][0],bg[1][1],bg[1][2])+gaussint(t,bg[2][0],bg[2][1],bg[2][2])+gaussint(t,bg[3][0],bg[3][1],bg[3][2])\n",
    "    return y\n",
    "\n",
    "def co2gauss(t):\n",
    "    y = gaussland(t)/gtonnecperppm\n",
    "    return y\n",
    "\n",
    "def co2land(t):\n",
    "    y = b8[3]*(co2logintland(t) + co2gauss(t))\n",
    "    return y"
   ]
  },
  {
   "cell_type": "markdown",
   "metadata": {},
   "source": [
    "CO2-Land Use: Erf functions"
   ]
  },
  {
   "cell_type": "code",
   "execution_count": 11,
   "metadata": {},
   "outputs": [
    {
     "name": "stdout",
     "output_type": "stream",
     "text": [
      "0.0033077746881360367\n",
      "0.0007575933642601274\n",
      "0.1470527296421471\n"
     ]
    }
   ],
   "source": [
    "def interror(s,x,x0):\n",
    "    y = sqrt(np.pi/2)*(exp(s*x)*erf(x/sqrt(2))-exp(s**2)*erf((-s+x)/sqrt(2))-exp(s*x)*erf(x0/sqrt(2)))/s\n",
    "    return y\n",
    "\n",
    "def finalint3(coef2,fix3,t,a,b,c,x0):\n",
    "    x = (-b+t)/a\n",
    "    s = (c*ctry2*coef2)/(c30*fix3*tup0)\n",
    "    y = exp(-s*x)*sqrt(np.pi/2)*(exp(s*x)*erf(x/sqrt(2))-exp(s**2/2)*erf((-s+x)/sqrt(2))-exp(s*x)*erf(x0/sqrt(2))+exp(s**2/2)*erf((-s+x0)/sqrt(2)))/s\n",
    "    return y\n",
    "\n",
    "d13 = b2[17]*b4[3]*b1[nm[0][2]-1]*b3[nm[0][2]-1]/gtonnecperppm\n",
    "\n",
    "def tau13(coef2,fix3,t):\n",
    "    y = c10*(b3[nm[0][2]-1]/(c30*fix3))*d13*finalint3(coef2,fix3,t,df5.iloc[2][1],df5.iloc[2][2],b3[nm[0][2]-1],xnm0[0][2])\n",
    "    return y\n",
    "\n",
    "print (tau13(2,5,2000))\n",
    "\n",
    "d14 = b2[17]*b4[3]*b1[nm[0][3]-1]*b3[nm[0][3]-1]/gtonnecperppm\n",
    "\n",
    "def tau14(coef2,fix3,t):\n",
    "    y = c10*(b3[nm[0][3]-1]/(c30*fix3))*d14*finalint3(coef2,fix3,t,df5.iloc[3][1],df5.iloc[3][2],b3[nm[0][3]-1],xnm0[0][3])\n",
    "    return y\n",
    "\n",
    "print (tau14(2,5,2000))\n",
    "\n",
    "d15 = b2[17]*b4[3]*b1[nm[0][4]-1]*b3[nm[0][4]-1]/gtonnecperppm\n",
    "\n",
    "def tau15(coef2,fix3,t):\n",
    "    y = c10*(b3[nm[0][4]-1]/(c30*fix3))*d15*finalint3(coef2,fix3,t,df5.iloc[4][1],df5.iloc[4][2],b3[nm[0][4]-1],xnm0[0][4])\n",
    "    return y\n",
    "\n",
    "d16 = b2[17]*b4[3]*b1[nm[0][5]-1]*b3[nm[0][5]-1]/gtonnecperppm\n",
    "\n",
    "def tau16(coef2,fix3,t):\n",
    "    y = c10*(b3[nm[0][5]-1]/(c30*fix3))*d16*finalint3(coef2,fix3,t,df5.iloc[5][1],df5.iloc[5][2],b3[nm[0][5]-1],xnm0[0][5])\n",
    "    return y\n",
    "\n",
    "def tau1(coef2,fix3,t):\n",
    "    y = tau11(coef2,fix3,t) + tau12(coef2,fix3,t) + tau13(coef2,fix3,t) + tau14(coef2,fix3,t) + tau15(coef2,fix3,t) + tau16(coef2,fix3,t)\n",
    "    return y\n",
    "\n",
    "print (tau1(2,5,2000))"
   ]
  },
  {
   "cell_type": "markdown",
   "metadata": {},
   "source": [
    "Define total carbon dioxide radiative forcing including both land use and industrial"
   ]
  },
  {
   "cell_type": "code",
   "execution_count": 12,
   "metadata": {},
   "outputs": [
    {
     "name": "stdout",
     "output_type": "stream",
     "text": [
      "369.0430333705964\n",
      "1.515612976555989\n"
     ]
    }
   ],
   "source": [
    "c0 = 278\n",
    "\n",
    "def carbonconc(t):\n",
    "    y =  co2land(t) + co2ind(t) + c0\n",
    "    return y\n",
    "\n",
    "print (carbonconc(2000))\n",
    "\n",
    "alpha = 5.35\n",
    "\n",
    "def f1(t):\n",
    "    y = alpha*log((co2land(t)+ co2ind(t)+c0)/c0)\n",
    "    return y\n",
    "\n",
    "print (f1(2000))\n",
    "# print (log(10))"
   ]
  },
  {
   "cell_type": "markdown",
   "metadata": {},
   "source": [
    "CH4\n",
    "\n",
    "For methane, due to its radiative forcing formula contains three terms, respectively are 1. logistic function,2. first order time derivative of logistic function, and second order time derivative of logistic function.\n",
    "Let u(x) = 1/(1+exp(-x)), and up(x) = u(x)*(1-u(x)) and upp(x) = u(x)*(1-u(x))*(1-2*u(x))."
   ]
  },
  {
   "cell_type": "code",
   "execution_count": 13,
   "metadata": {},
   "outputs": [
    {
     "name": "stdout",
     "output_type": "stream",
     "text": [
      "0.2299045998898114\n",
      "0.08808563500311804\n",
      "-8.758928177700023e-05\n",
      "-0.00033307923018555433\n",
      "0.09328515191039007\n"
     ]
    }
   ],
   "source": [
    "eps = b4[nm[1][0]-1]/b3[nm[1][0]-1]\n",
    "print (eps)\n",
    "def finalint4(coef2,fix3,t,a,b,c,x0):\n",
    "    x = (-b+t)/a\n",
    "    s = (c*ctry2*coef2)/(c30*fix3*tup0)\n",
    "    y = (-(exp(x + x0) + s + exp(2*x0)*s + exp(x0)* (1 + 2*s)-(1 + exp(x))*(1 + exp(x0))**2*s*hyp2f1(1,s,1 + s, -exp(x)))/(1 + exp(x))+ exp(s*(-x + x0))*(s + exp(x0)*(1 + s) - (1 + exp(x0))**2*s*hyp2f1(1, s,1 + s, -exp(x0))))/((1 + exp(x0))**2*s)\n",
    "    return y\n",
    "\n",
    "def finalint5(coef2,fix3,t,a,b,c,x0):\n",
    "    x = (-b+t)/a\n",
    "    s = (c*ctry2*coef2)/(c30*fix3*tup0)\n",
    "    y = exp(-s*x)*(2*exp((3 + s)*x0)/((1 +exp(x0))**3*s)-2*exp(s*x + 3*x0)/((1 +exp(x0))**3*s)-(3*exp((2 + s)*x0))/((1 +exp(x0))**2*s)+(3*exp(s*x+2*x0))/((1+exp(x0))**2*s) + exp((1 + s)*x0)/(s +exp(x0)*s) - exp(s*x + x0)/(s + exp(x0)* s) + exp((1 + s)*x)*hyp2f1(1, 1 + s, 2 + s, -exp(x))/(1 + s) - exp((1 + s)*x0)*hyp2f1(1, 1 + s, 2 + s, -exp(x0))/(1 + s) -\n",
    "        3*exp((2 + s)*x)*(2 + s -(1 +exp(x))*(1 + s)*hyp2f1(1, 2 + s,3 + s, -exp(x)))/((1 + exp(x))*(2 + s)) + 3*exp((2 + s)*x0)*(2 + s - (1 +exp(x0))*(1 + s)*hyp2f1(1, 2 + s,3 + s, -exp(x0)))/((1 + exp(x0))*(2 + s)) + exp((3 + s)*x)*(-(s + exp(x)*(1 + s))/((1 + exp(x))**2) + ((2 + 3*s + s**2)*hyp2f1(1, 3 + s, 4 + s, -exp(x))/(3 + s))) + exp((3 + s)*x0)*((s + exp(x0)*(1 + s))/(1 + exp(x0))**2 - ((2 + 3*s + s**2)*hyp2f1(1, 3 + s, 4 + s, -exp(x0))/(3 + s))))\n",
    "    return y\n",
    "\n",
    "d21 = b2[18]*b4[nm[1][0]-1]*b1[nm[1][0]-1]\n",
    "d22 = -d21*eps\n",
    "d23 = d21*eps**2\n",
    "\n",
    "def tau21(coef2,fix3,t):\n",
    "    y = c10*(b3[nm[1][0]-1]/(c30*fix3))*d21*finalint2(coef2,fix3,t,df5.iloc[6][1],df5.iloc[6][2],b3[nm[1][0]-1],xnm0[1][0])\n",
    "    return y\n",
    "print(tau21(2,5,2070))\n",
    "\n",
    "def tau22(coef2,fix3,t):\n",
    "\n",
    "    y = c10*(b3[nm[1][1]-1]/(c30*fix3))*d22*finalint4(coef2,fix3,t,df5.iloc[7][1],df5.iloc[7][2],b3[nm[1][1]-1],xnm0[1][1])\n",
    "    return y\n",
    "print(tau22(2,5,2200))\n",
    "\n",
    "def tau23(coef2,fix3,t):\n",
    "    y = c10*(b3[nm[1][2]-1]/(c30*fix3))*d23*finalint5(coef2,fix3,t,df5.iloc[8][1],df5.iloc[8][2],b3[nm[1][2]-1],xnm0[1][2])\n",
    "    return y\n",
    "\n",
    "print (tau23(2,5,2100))\n",
    "# print(finalint5(2,5,2100,df5.iloc[6][1],df5.iloc[6][2],b3[nm[1][0]-1],xnm0[1][0]))\n",
    "\n",
    "def tau2(coef2,fix3,t):\n",
    "    y = tau21(coef2,fix3,t) + tau22(coef2,fix3,t) + tau23(coef2,fix3,t)\n",
    "    return y\n",
    "# print (df5.iloc[6][1],df5.iloc[6][2],b3[nm[1][0]-1],xnm0[1][0])\n",
    "print (tau2(2,5,2100))"
   ]
  },
  {
   "cell_type": "markdown",
   "metadata": {},
   "source": [
    "CH4 Modified radiative forcing"
   ]
  },
  {
   "cell_type": "code",
   "execution_count": 14,
   "metadata": {},
   "outputs": [
    {
     "name": "stdout",
     "output_type": "stream",
     "text": [
      "0.2299045998898114\n",
      "1725.1499963712517\n",
      "0.4632033480679\n",
      "176.655\n"
     ]
    }
   ],
   "source": [
    "epsilon1 = life/b7[8]\n",
    "beta = 0.036\n",
    "f0f = 0.47\n",
    "m0 = 722\n",
    "n0 = 270\n",
    "e1 = 0.75\n",
    "e2 = 1.52\n",
    "f1f = 0.0000201 \n",
    "f2f = 5.31*10**-15\n",
    "print (epsilon1)\n",
    "\n",
    "def u(t):\n",
    "    y = 1/(1 + np.exp(-(t-b6[8])/b7[8]))\n",
    "    return y\n",
    "\n",
    "u = np.vectorize(u)\n",
    "\n",
    "def ch4fit(t):\n",
    "    y = ch40 + life*b5[8]*u(t)*(1-epsilon1*(1-u(t))+epsilon1**2*(1-u(t))*(1-2*u(t)))\n",
    "    return y\n",
    "print (ch4fit(2000))\n",
    "\n",
    "def fch4(t):\n",
    "    y = f0f*log(1+f1f*(ch4fit(t)*n0)**e1+f2f*ch4fit(t)*(ch4fit(t)*n0)**e2)\n",
    "    return y\n",
    "\n",
    "f00 = f0f*log(1 + f1f*(m0*n0)**e1 + f2f*m0*(m0*n0)**e2)\n",
    "\n",
    "def f2(t):\n",
    "    y = beta*(sqrt(ch4fit(t))-sqrt(m0))-(fch4(t)-f00)\n",
    "    return y\n",
    "\n",
    "print (f2(2000))\n",
    "print (b5[8])"
   ]
  },
  {
   "cell_type": "markdown",
   "metadata": {},
   "source": [
    "N2O\n",
    "\n",
    "The radiative forcing formula of nitrous oxide is shown as polylog function of order 2 and 3."
   ]
  },
  {
   "cell_type": "code",
   "execution_count": 15,
   "metadata": {
    "scrolled": true
   },
   "outputs": [
    {
     "name": "stdout",
     "output_type": "stream",
     "text": [
      "0.140978301597955\n",
      "314.77177321738577\n",
      "0.1482528523119794\n"
     ]
    }
   ],
   "source": [
    "delta = b3[nm[2][0]-1]/b4[nm[2][0]-1]\n",
    "d31 = b2[19]*b1[nm[2][0]-1]*b3[nm[2][0]-1]\n",
    "d32 = d31*delta\n",
    "d33 = -d31*delta**2\n",
    "d34 = b2[19]*b1[nm[2][3]-1]\n",
    "# print (d33)\n",
    "def finalint6(coef2,fix3,t,a,b,c,x0):\n",
    "    x = (-b+t)/a\n",
    "    s = (c*ctry2*coef2)/(c30*fix3*tup0)\n",
    "#     y = (-1+ hyp2f1(1,s,1+s,-exp(x))+s*log(1+exp(x))-exp(s*(-x+x0))*(-1+hyp2f1(1,s,1+s,-exp(x0))+s*log(1+exp(x0)))+s**2*mpmath.polylog(2,-exp(x))-s**2*mpmath.polylog(2,-exp(x0)))/s**3\n",
    "    y = (-1+ hyp2f1(1,s,1+s,-exp(x))+s*log(1+exp(x))-exp(s*(-x+x0))*(-1+hyp2f1(1,s,1+s,-exp(x0))+s*log(1+exp(x0)))+s**2*float(mpmath.polylog(2,-exp(x)))-s**2*float(mpmath.polylog(2,-exp(x0))))/s**3\n",
    "    return y\n",
    "\n",
    "finalint6 = np.vectorize(finalint6)\n",
    "\n",
    "def finalint7(coef2,fix3,t,a,b,c,x0):\n",
    "    x = (-b+t)/a\n",
    "    s = (c*ctry2*coef2)/(c30*fix3*tup0)\n",
    "#     y = (-1/s**4)*(-1+hyp2f1(1,s,1+s,-exp(x)) + s*log(1+exp(x))+s**2*mpmath.polylog(2,-exp(x))-exp(s*(-x+x0))*(-1+hyp2f1(1,s,1+s,-exp(x0))+s*log(1+exp(x0))+s**2*mpmath.polylog(2,-exp(x0)))-s**3*mpmath.polylog(3,-exp(x))+s**3*mpmath.polylog(3,-exp(x0)))\n",
    "    y = (-1/s**4)*(-1+hyp2f1(1,s,1+s,-exp(x)) + s*log(1+exp(x))+s**2*float(mpmath.polylog(2,-exp(x)))-exp(s*(-x+x0))*(-1+hyp2f1(1,s,1+s,-exp(x0))+s*log(1+exp(x0))+s**2*float(mpmath.polylog(2,-exp(x0))))-s**3*float(mpmath.polylog(3,-exp(x)))+s**3*float(mpmath.polylog(3,-exp(x0))))\n",
    "    return y\n",
    "\n",
    "finalint7 = np.vectorize(finalint7)\n",
    "\n",
    "def finalint8(coef2,fix3,t,a,b,c,x0):\n",
    "    x = (-b+t)/a\n",
    "    s = (c*ctry2*coef2)/(c30*fix3*tup0)\n",
    "    y = (hyp2f1(1, s, 1 + s, -exp(x)) - exp(s*(-x + x0))*hyp2f1(1, s, 1 + s, -exp(x0)))/s\n",
    "    return y\n",
    "\n",
    "def tau32(coef2,fix3,t):\n",
    "    y = c10*(b3[nm[2][1]-1]/(c30*fix3))*d32*finalint6(coef2,fix3,t,df5.iloc[9][1],df5.iloc[9][2],b3[nm[2][1]-1],xnm0[2][1])\n",
    "    return y\n",
    "\n",
    "def tau33(coef2,fix3,t):\n",
    "    y = c10*(b3[nm[2][2]-1]/(c30*fix3))*d33*finalint7(coef2,fix3,t,df5.iloc[10][1],df5.iloc[10][2],b3[nm[2][2]-1],xnm0[2][2])\n",
    "    return y\n",
    "\n",
    "def tau31(coef2,fix3,t):\n",
    "    y = c10*(b3[nm[2][0]-1]/(c30*fix3))*d31*finalint1(coef2,fix3,t,df5.iloc[12][1],df5.iloc[12][2],b3[nm[2][0]-1],xnm0[2][0])\n",
    "    return y\n",
    "\n",
    "def tau34(coef2,fix3,t):\n",
    "    y = c10*(b3[nm[2][3]-1]/(c30*fix3))*d34*finalint8(coef2,fix3,t,df5.iloc[11][1],df5.iloc[11][2],b3[nm[2][3]-1],xnm0[2][3])\n",
    "    return y\n",
    "\n",
    "def tau3(coef2,fix3,t):\n",
    "    y = tau31(coef2,fix3,t) + tau32(coef2,fix3,t) +tau33(coef2,fix3,t) +tau34(coef2,fix3,t)\n",
    "    return y\n",
    "# print (tau3(2,5,2100))\n",
    "# print (delta)\n",
    "\n",
    "f0f = 0.47\n",
    "m0 = 722\n",
    "n0 = 270\n",
    "e1 = 0.75\n",
    "e2 = 1.52\n",
    "f1f = 0.0000201 \n",
    "f2f = 5.31*10**-15\n",
    "epsilon = 0.12\n",
    "\n",
    "# def xn2o(t):\n",
    "#     y = (t - b6[10])/b7[10]\n",
    "#     return y\n",
    "        \n",
    "def n2ofitindef(t):\n",
    "    x = (t - b6[10])/b7[10]\n",
    "    y = b5[10]*b7[10]*(log(1+exp(x))+float(delta*mpmath.polylog(2,-exp(x)))-float(delta**2*mpmath.polylog(3,-exp(x))))\n",
    "    return y\n",
    "\n",
    "n2ofitindef = np.vectorize(n2ofitindef)\n",
    "\n",
    "t0 = 1750\n",
    "n2ofit0 = n2ofitindef(t0)\n",
    "n2o0 = b7[19]\n",
    "print (n2ofit0)\n",
    "\n",
    "def n2ofit(t):\n",
    "    y = n2o0 + n2ofitindef(t) - n2ofit0 + b5[22]*(1-1/(1 + exp(-(t - b6[22])/b7[22])))\n",
    "    return y\n",
    "\n",
    "print (n2ofit(2000))\n",
    "n2ofit = np.vectorize(n2ofit)\n",
    "\n",
    "def fn2o(t):\n",
    "    y = f0f*log(1+f1f*(m0*n2ofit(t))**e1+f2f*m0*(m0*n2ofit(t))**e2)\n",
    "    return y\n",
    "\n",
    "f00 = f0f*log(1 + f1f*(m0*n0)**e1 + f2f*m0*(m0*n0)**e2)\n",
    "\n",
    "def f3(t):\n",
    "#     y = epsilon*(sqrt(n2ofit(t))-sqrt(n0))-(fn2o(t)-f00)\n",
    "    y = epsilon*(sqrt(n2ofit(t))-sqrt(n0))-(fn2o(t)-f00)\n",
    "    return y\n",
    "print (f3(2000))"
   ]
  },
  {
   "cell_type": "markdown",
   "metadata": {},
   "source": [
    "Other well mixed greenhouse gases radiative forcing formula contains a logistic function."
   ]
  },
  {
   "cell_type": "code",
   "execution_count": 16,
   "metadata": {},
   "outputs": [
    {
     "name": "stdout",
     "output_type": "stream",
     "text": [
      "0.04825742214543138\n",
      "0.360664\n",
      "0.35487599835177536\n"
     ]
    }
   ],
   "source": [
    "def finalint41(coef2,fix3,t,a,b,c,x0):\n",
    "    x = (-b+t)/a\n",
    "    s = (c*ctry2*coef2)/(c30*fix3*tup0)\n",
    "    y = (exp(-s*x)*(exp((1 + s)*x)*hyp2f1(1, 1 + s, 2 + s, -exp(x))-exp((1 + s)*x0)*hyp2f1(1, 1 + s, 2 + s, -exp(x0))))/(1 + s)\n",
    "    return y\n",
    "\n",
    "d41 = b1[nm[3][0]-1]\n",
    "\n",
    "def tau4(coef2,fix3,t):\n",
    "    y = c10*(b3[nm[3][0]-1]/(c30*fix3))*d41*finalint41(coef2,fix3,t,df5.iloc[13][1],df5.iloc[13][2],b3[nm[3][0]-1],xnm0[3][0])\n",
    "    return y\n",
    "\n",
    "print (tau4(2,5,2100))\n",
    "print (d41)\n",
    "\n",
    "def f4(t):\n",
    "    a = df5.iloc[13][1]\n",
    "    b = df5.iloc[13][2]\n",
    "    x = (-b+t)/a \n",
    "    y = d41*1/(1 + exp(-x))\n",
    "    return y\n",
    "print (f4(2011))"
   ]
  },
  {
   "cell_type": "markdown",
   "metadata": {},
   "source": [
    "Contrails radiative forcing formula contains a logistic function."
   ]
  },
  {
   "cell_type": "code",
   "execution_count": 17,
   "metadata": {},
   "outputs": [
    {
     "name": "stdout",
     "output_type": "stream",
     "text": [
      "0.008800859361801753\n",
      "2.1623634198059896\n",
      "0.05023556219452885\n"
     ]
    }
   ],
   "source": [
    "d51 = b1[nm[4][0]-1]\n",
    "def tau5(coef2,fix3,t):\n",
    "    y = c10*(b3[nm[3][0]-1]/(c30*fix3))*d51*finalint41(coef2,fix3,t,df5.iloc[14][1],df5.iloc[14][2],b3[nm[4][0]-1],xnm0[4][0])\n",
    "    return y\n",
    "\n",
    "print (tau5(2,5,2100))\n",
    "print ((b3[nm[4][0]-1])*ctry2/(c30*tup0))\n",
    "\n",
    "def f5(t):\n",
    "    a = df5.iloc[14][1]\n",
    "    b = df5.iloc[14][2]\n",
    "    x = (-b+t)/a \n",
    "    y = d51*1/(1 + exp(-x))\n",
    "    return y\n",
    "print (f5(2011))"
   ]
  },
  {
   "cell_type": "markdown",
   "metadata": {},
   "source": [
    "Land use albedo change shielding radiative forcing formula contain a logistic function and a constant times the first order time derivative of the unit logistic function."
   ]
  },
  {
   "cell_type": "code",
   "execution_count": 18,
   "metadata": {},
   "outputs": [
    {
     "name": "stdout",
     "output_type": "stream",
     "text": [
      "0.0201237652650039\n",
      "0.1447831194084376\n"
     ]
    }
   ],
   "source": [
    "d61 = b1[nm[5][0]-1]\n",
    "d62 = b1[nm[5][1]-1]/b3[nm[5][1]-1]\n",
    "\n",
    "def finalint62(coef2,fix3,t,a,b,c,x0):\n",
    "    x = (-b+t)/a\n",
    "    s = (c*ctry2*coef2)/(c30*fix3*tup0)\n",
    "    y = exp(-s*x)*(exp((1 + s)*x)*(1/(1 + exp(x))-s*hyp2f1(1, 1 + s, 2 + s, -exp(x))/(1 + s))+exp((1 + s)*x0)*(-1/(1 +exp(x0)) + s*hyp2f1(1, 1 + s, 2+s, -exp(x0))/(1 + s)))\n",
    "    return y\n",
    "\n",
    "def tau61(coef2,fix3,t):\n",
    "    y = (b3[nm[5][0]-1]/(c30*fix3))*d61*finalint41(coef2,fix3,t,df5.iloc[15][1],df5.iloc[15][2],b3[nm[5][0]-1],xnm0[5][0])\n",
    "    return y\n",
    "\n",
    "def tau62(coef2,fix3,t):\n",
    "    y = (b3[nm[5][1]-1]/(c30*fix3))*d62*finalint62(coef2,fix3,t,df5.iloc[16][1],df5.iloc[16][2],b3[nm[5][1]-1],xnm0[5][1])\n",
    "    return y\n",
    "\n",
    "def tau6(coef2,fix3,t):\n",
    "    y = tau61(coef2,fix3,t)+tau62(coef2,fix3,t)\n",
    "    return y\n",
    "\n",
    "print (tau6(2,5,2100))\n",
    "# print (finalint62(2,5,2100,df5.iloc[16][1],df5.iloc[16][2],b3[nm[5][1]-1],xnm0[5][1]))\n",
    "# print (d62)\n",
    "\n",
    "def f61(t,a,b,x0):\n",
    "    x = (-b+t)/a\n",
    "    y = d61*(1/(1 + exp(-x))-1/(1 + exp(-x0)))\n",
    "    return y\n",
    "\n",
    "def f62(t,a,b,x0):\n",
    "    x = (-b+t)/a\n",
    "    y = d62*((1 - 1/(1 + exp(-x)))/(1 + exp(-x)) - (1 - 1/(1 + exp(-x0)))/(1 + exp(-x0)))\n",
    "    return y\n",
    "\n",
    "def f6(t):\n",
    "    y = f61(t,df5.iloc[15][1],df5.iloc[15][2],xnm0[5][0])+f62(t,df5.iloc[16][1],df5.iloc[16][2],xnm0[5][1])\n",
    "    return y\n",
    "\n",
    "print (f6(2011))"
   ]
  },
  {
   "cell_type": "markdown",
   "metadata": {},
   "source": [
    "Anthropogenic aerosols and black carbon on snow net shielding\n",
    "\n",
    "In this case, radiative forcing formula contain a first order time derivative of a unit logistic function, and a gaussian function."
   ]
  },
  {
   "cell_type": "code",
   "execution_count": 19,
   "metadata": {},
   "outputs": [
    {
     "name": "stdout",
     "output_type": "stream",
     "text": [
      "0.10984147461109102\n"
     ]
    }
   ],
   "source": [
    "# d71 = fix5*b4[nm[6][0]-1]*b1[nm[6][0]-1]/b3[nm[6][0]-1]\n",
    "\n",
    "def d71(fix5):\n",
    "    y = fix5*b4[nm[6][0]-1]*b1[nm[6][0]-1]/b3[nm[6][0]-1]\n",
    "    return y\n",
    "\n",
    "d72 = fix6*b1[nm[6][1]-1]\n",
    "\n",
    "def finalint72(coef2,fix3,t,a,b,c,x0):\n",
    "    x = (-b+t)/a\n",
    "    s = (c*ctry2*coef2)/(c30*fix3*tup0)\n",
    "    y = exp(1/2*s*(s-2*x))*sqrt(np.pi/2)*(erf((-s + x)/sqrt(2))-erf((-s + x0)/sqrt(2)))\n",
    "    return y\n",
    "\n",
    "def tau71(coef2,fix5,fix3,t):\n",
    "    y = c00*(b3[nm[6][0]-1]/(c30*fix3))*d71(fix5)*finalint4(coef2,fix3,t,df5.iloc[17][1],df5.iloc[17][2],b3[nm[6][0]-1],xnm0[6][0])\n",
    "    return y\n",
    "\n",
    "def tau72(coef2,fix3,t):\n",
    "    y = c00*(b3[nm[6][1]-1]/(c30*fix3))*d72*finalint72(coef2,fix3,t,df5.iloc[18][1],df5.iloc[18][2],b3[nm[6][1]-1],xnm0[6][1])\n",
    "    return y\n",
    "\n",
    "def tau7(coef2,fix3,fix5,t):\n",
    "    y = tau71(coef2,fix5,fix3,t)+tau72(coef2,fix3,t)\n",
    "    return y\n",
    "print (tau7(2,5,3,2100))\n",
    "\n",
    "def f71(t,a,b,x0,fix5):\n",
    "    x = (-b+t)/a\n",
    "    y = c00*d71(fix5)*((1 - 1/(1 + exp(-x)))/(1 + exp(-x)) - (1 - 1/(1 + exp(-x0)))/(1 + exp(-x0)))\n",
    "    return y\n",
    "\n",
    "def f72(t,a,b):\n",
    "    x = (-b+t)/a\n",
    "    y = c00*d72*exp(-1/2*x**2)\n",
    "    return y\n",
    "\n",
    "def f7(t,fix5):\n",
    "    y = f71(t,df5.iloc[17][1],df5.iloc[17][2],xnm0[6][0],fix5) + f72(t,df5.iloc[18][1],df5.iloc[18][2])\n",
    "    return y\n",
    "# print (f7(2011))"
   ]
  },
  {
   "cell_type": "markdown",
   "metadata": {},
   "source": [
    "Tropospheric Ozone Forcing\n",
    "\n",
    "In this case, radiative forcing formula contain a first order time derivative of a unit logistic function, and a gaussian function."
   ]
  },
  {
   "cell_type": "code",
   "execution_count": 20,
   "metadata": {},
   "outputs": [
    {
     "name": "stdout",
     "output_type": "stream",
     "text": [
      "0.01894799033194046\n",
      "-1.5560182540706204\n",
      "0.3989112906972572\n"
     ]
    }
   ],
   "source": [
    "d101 = b4[nm[9][0]-1]*b1[nm[9][0]-1]/b3[nm[9][0]-1]\n",
    "d102 = b1[nm[9][1]-1]\n",
    "\n",
    "def tau101(coef2,fix3,t):\n",
    "    y = c10*(b3[nm[6][0]-1]/(c30*fix3))*d101*finalint4(coef2,fix3,t,df5.iloc[19][1],df5.iloc[19][2],b3[nm[6][0]-1],xnm0[6][0])\n",
    "    return y\n",
    "\n",
    "def tau102(coef2,fix3,t):\n",
    "    y = c10*(b3[nm[9][1]-1]/(c30*fix3))*d102*finalint72(coef2,fix3,t,df5.iloc[20][1],df5.iloc[20][2],b3[nm[9][1]-1],xnm0[9][1])\n",
    "    return y\n",
    "\n",
    "def tau10(coef2,fix3,t):\n",
    "    y = tau101(coef2,fix3,t) + tau102(coef2,fix3,t)\n",
    "    return y\n",
    "print (tau10(2,5,2100))\n",
    "print (xnm0[6][0])\n",
    "\n",
    "def f101(t,a,b,x0):\n",
    "    x = (-b+t)/a\n",
    "    y = d101*((1 - 1/(1 + exp(-x)))/(1 + exp(-x)) - (1 - 1/(1 + exp(-x0)))/(1 + exp(-x0)))\n",
    "    return y\n",
    "\n",
    "def f102(t,a,b):\n",
    "    x = (-b+t)/a\n",
    "    y = d102*exp(-(1/2)*x**2)\n",
    "    return y\n",
    "\n",
    "def f10(t):\n",
    "    y = f101(t,df5.iloc[19][1],df5.iloc[19][2],xnm0[6][0]) + f102(t,df5.iloc[20][1],df5.iloc[20][2])\n",
    "    return y\n",
    "\n",
    "print (f10(2011))"
   ]
  },
  {
   "cell_type": "markdown",
   "metadata": {},
   "source": [
    "Volcanic shielding\n",
    "\n",
    "In this case, radiative forcing formula contain a unit logistic function, and a (1-unit logistic function)."
   ]
  },
  {
   "cell_type": "code",
   "execution_count": 21,
   "metadata": {},
   "outputs": [
    {
     "name": "stdout",
     "output_type": "stream",
     "text": [
      "0.183586\n",
      "0.024655673585996317\n",
      "0.24280122388596204\n",
      "0.183586\n"
     ]
    }
   ],
   "source": [
    "d81 = b1[nm[7][0]-1]\n",
    "d82 = b1[nm[7][1]-1]\n",
    "d83 = -b1[nm[7][1]-1]\n",
    "d84 = b4[nm[7][1]-1]\n",
    "print (d84)\n",
    "\n",
    "def finalint81(coef2,fix3,t,a,b,c,x0):\n",
    "    x = (-b+t)/a\n",
    "    s = (c*ctry2*coef2)/(c30*fix3*tup0)\n",
    "    y = (hyp2f1(1, s, 1 + s, -exp(x)) - exp(s*(-x + x0))*hyp2f1(1, s, 1 + s, -exp(x0)))/s\n",
    "    return y\n",
    "\n",
    "def finalint82(coef2,fix3,t,a,b,c,x0):\n",
    "    x = (-b+t)/a\n",
    "    s = (c*ctry2*coef2)/(c30*fix3*tup0)\n",
    "    y = exp(-s*x)*(exp((1 + s)*x)*hyp2f1(1, 1 + s, 2 + s, -exp(x))-exp((1 + s)*x0)*hyp2f1(1, 1 + s, 2 + s, -exp(x0)))/(1 + s)\n",
    "    return y\n",
    "\n",
    "def tau81(coef2,fix3,t):\n",
    "    y = (b3[nm[7][0]-1]/(c30*fix3))*d81*finalint81(coef2,fix3,t,df5.iloc[21][1],df5.iloc[21][2],b3[nm[7][0]-1],xnm0[7][0])\n",
    "    return y\n",
    "def tau82(coef2,fix3,t):\n",
    "    y = (b3[nm[7][0]-1]/(c30*fix3))*d82*finalint82(coef2,fix3,t,df5.iloc[22][1],df5.iloc[22][2],b3[nm[7][0]-1],xnm0[7][0])\n",
    "    return y\n",
    "def tau83(coef2,fix3,t):\n",
    "    y = (b3[nm[7][1]-1]/(c30*fix3))*d83*finalint82(coef2,fix3,t,df5.iloc[23][1],df5.iloc[23][2],b3[nm[7][1]-1],xnm0[7][1])\n",
    "    return y\n",
    "def tau84(coef2,fix3,t):\n",
    "    y = (b3[nm[7][1]-1]/(c30*fix3))*d84*finalint82(coef2,fix3,t,df5.iloc[23][1],df5.iloc[23][2],b3[nm[7][1]-1],xnm0[7][1])\n",
    "    return y\n",
    "def tau8(coef2,fix3,t):\n",
    "    y = tau81(coef2,fix3,t)+tau82(coef2,fix3,t) +tau83(coef2,fix3,t) +tau84(coef2,fix3,t)\n",
    "    return y\n",
    "\n",
    "print (tau84(2,5,2100))\n",
    "print (((b3[nm[7][1]-1])*ctry2)/(c30*tup0))\n",
    "\n",
    "def f81(t,a,b):\n",
    "    x = (-b+t)/a\n",
    "    y = d81*(1-1/(1 + exp(-x)))\n",
    "    return y\n",
    "\n",
    "def f82(t,a,b):\n",
    "    x = (-b+t)/a\n",
    "    y = d82*(1/(1 + exp(-x)))\n",
    "    return y\n",
    "\n",
    "def f83(t,a,b):\n",
    "    x = (-b+t)/a\n",
    "    y = d83*(1/(1 + exp(-x)))\n",
    "    return y\n",
    "\n",
    "def f84(t,a,b):\n",
    "    x = (-b+t)/a\n",
    "    y = d84*(1/(1 + exp(-x)))\n",
    "    return y\n",
    "\n",
    "def f8(t):\n",
    "    y = f81(t,df5.iloc[21][1],df5.iloc[21][2])+ f82(t,df5.iloc[22][1],df5.iloc[22][2]) + f83(t,df5.iloc[23][1],df5.iloc[23][2]) + f84(t,df5.iloc[23][1],df5.iloc[23][2])\n",
    "    return y\n",
    "\n",
    "print (f8(2011))"
   ]
  },
  {
   "cell_type": "markdown",
   "metadata": {},
   "source": [
    "Irradiance variation forcing\n",
    "\n",
    "In this case, radiative forcing formula contain a cosine function and a gaussian function."
   ]
  },
  {
   "cell_type": "code",
   "execution_count": 22,
   "metadata": {},
   "outputs": [
    {
     "name": "stdout",
     "output_type": "stream",
     "text": [
      "[[-8.912624340971526, -1.5560182540706204, -8.19754796844041, -32.85303215208119, -22.968805442510636, -15.976109753212969], [-5.410597434732601, -5.410597434732601, -5.410597434732601], [-6.283576980886852, -6.283576980886852, -6.283576980886852, -40.5836780212064], [-30.582698520320662], [-15.514434251451279], [-10.0847288676236, -3.3308494783904616], [-1.5560182540706204, -8.814519270246658], [-22.75, -34.5], [0.6649853174864708, 0.7126112909360466, -9.470909090909096, -47.9909090909091], [-1.5560182540706204, -7.0628848410577385]]\n",
      "0.04236964782934066\n",
      "11.0\n",
      "0.3912842511660024\n"
     ]
    }
   ],
   "source": [
    "d91 = b1[nm[8][0]-1]\n",
    "d92 = b1[nm[8][1]-1]\n",
    "d93 = -b1[nm[8][2]-1]\n",
    "d94 = b1[nm[8][3]-1]\n",
    "d95 = b4[nm[8][1]-1]\n",
    "\n",
    "def finalint9(coef2,fix3,t,a,b,c,x0):\n",
    "    x = (-b+t)/a\n",
    "    s = (c*ctry2*coef2)/(c30*fix3*tup0)\n",
    "    y = exp(-s*x)*(exp(s*x)*s*np.cos(2*np.pi*x)-exp(s*x0)*s*np.cos(2*np.pi*x0)+2*exp(s*x)*np.pi*np.sin(2*np.pi*x)-2*exp(s*x0)*np.pi *np.sin(2*np.pi*x0))/(4*np.pi**2 + s**2)\n",
    "    return y\n",
    "\n",
    "def finalint95(coef2,fix3,t,a,b,c,x0):\n",
    "    x = (-b+t)/a\n",
    "    s = (c*ctry2*coef2)/(c30*fix3*tup0)\n",
    "    y = -(-1 + exp(s*(-x + x0)))/s\n",
    "    return y\n",
    "\n",
    "def tau91(coef2,fix3,t):\n",
    "    y = (b3[nm[8][0]-1]/(c30*fix3))*d91*finalint9(coef2,fix3,t,df5.iloc[25][1],df5.iloc[25][2],b3[nm[8][0]-1],xnm0[8][0])\n",
    "    return y\n",
    "\n",
    "def tau92(coef2,fix3,t):\n",
    "    y = (b3[nm[8][1]-1]/(c30*fix3))*d92*finalint9(coef2,fix3,t,df5.iloc[24][1],df5.iloc[24][2],b3[nm[8][1]-1],xnm0[8][1])\n",
    "    return y\n",
    "\n",
    "def tau93(coef2,fix3,t):\n",
    "    y = (b3[nm[8][2]-1]/(c30*fix3))*d93*finalint72(coef2,fix3,t,df5.iloc[26][1],df5.iloc[26][2],b3[nm[8][2]-1],xnm0[8][2])\n",
    "    return y\n",
    "\n",
    "def tau94(coef2,fix3,t):\n",
    "    y = (b3[nm[8][3]-1]/(c30*fix3))*d94*finalint72(coef2,fix3,t,df5.iloc[27][1],df5.iloc[27][2],b3[nm[8][3]-1],xnm0[8][3])\n",
    "    return y\n",
    "\n",
    "def tau95(coef2,fix3,t):\n",
    "    y = (b3[nm[8][1]-1]/(c30*fix3))*d95*finalint95(coef2,fix3,t,df5.iloc[28][1],df5.iloc[28][2],b3[nm[8][1]-1],xnm0[8][1])\n",
    "    return y\n",
    "\n",
    "def tau9(coef2,fix3,t):\n",
    "    y = tau91(coef2,fix3,t) + tau92(coef2,fix3,t) + tau93(coef2,fix3,t) + tau94(coef2,fix3,t) + tau95(coef2,fix3,t)\n",
    "    return y\n",
    "print (xnm0)\n",
    "print (tau9(2,5,2100))\n",
    "print (df5.iloc[26][1])\n",
    "\n",
    "def f91(t,a,b):\n",
    "    x = (-b+t)/a\n",
    "    y = d91*np.cos(2*np.pi*x)\n",
    "    return y\n",
    "\n",
    "def f92(t,a,b):\n",
    "    x = (-b+t)/a\n",
    "    y = d92*np.cos(2*np.pi*x)\n",
    "    return y\n",
    "\n",
    "def f93(t,a,b):\n",
    "    x = (-b+t)/a\n",
    "    y = d93*exp(-(1/2)*x**2)\n",
    "    return y\n",
    "\n",
    "def f94(t,a,b):\n",
    "    x = (-b+t)/a\n",
    "    y = d94*exp(-(1/2)*x**2)\n",
    "    return y\n",
    "\n",
    "def f9(t):\n",
    "    y = f91(t,df5.iloc[25][1],df5.iloc[25][2]) + f92(t,df5.iloc[24][1],df5.iloc[24][2])+ f93(t,df5.iloc[26][1],df5.iloc[26][2])+ f94(t,df5.iloc[27][1],df5.iloc[27][2]) + d95\n",
    "    return y\n",
    "print (f9(2011))"
   ]
  },
  {
   "cell_type": "markdown",
   "metadata": {},
   "source": [
    "Total tau"
   ]
  },
  {
   "cell_type": "code",
   "execution_count": 23,
   "metadata": {},
   "outputs": [
    {
     "name": "stdout",
     "output_type": "stream",
     "text": [
      "[0.31600904 1.59123378 1.58989937]\n"
     ]
    },
    {
     "data": {
      "image/png": "[encoded data removed]",
      "text/plain": [
       "<matplotlib.figure.Figure at 0x249922ca8d0>"
      ]
     },
     "metadata": {},
     "output_type": "display_data"
    },
    {
     "name": "stdout",
     "output_type": "stream",
     "text": [
      "0.8499792441499435\n",
      "48.79836621777213\n",
      "1.5898993717263181\n"
     ]
    }
   ],
   "source": [
    "tstart = 1892\n",
    "yrswarm = warm.iloc[:,0]\n",
    "yrswarm = yrswarm.tolist()\n",
    "yrswarm = list(map(int, yrswarm))\n",
    "\n",
    "tempswarm = warm.iloc[:,1]\n",
    "tempswarm = tempswarm.tolist()\n",
    "tempswarm = list(map(float, tempswarm))\n",
    "\n",
    "istart = yrswarm.index(tstart)\n",
    "# print (yrswarm)\n",
    "# print (istart)\n",
    "yrswarmi = yrswarm[istart:]\n",
    "tempswarmi = tempswarm[istart:]\n",
    "fixtemps = fixwarm.iloc[:,1]\n",
    "# print (yrswarmi)\n",
    "# print(tempswarmi)\n",
    "\n",
    "# taui = tau /. t -> yrswarm\n",
    "# err1 = Drop[(tempswarm - taui), istart - 1]\n",
    "# fixerr1 = (fixtemps - taui)\n",
    "# var = err1.err1\n",
    "# fixvar = fixerr1.fixerr1\n",
    "\n",
    "def tau(t,coef2,fix3,fix5):\n",
    "# def tau(t,coef2,fix3):\n",
    "    y = tau1(coef2,fix3,t) + tau2(coef2,fix3,t) + tau3(coef2,fix3,t) + tau4(coef2,fix3,t) + tau5(coef2,fix3,t) - tau6(coef2,fix3,t) - tau7(coef2,fix3,fix5,t) - tau8(coef2,fix3,t) + tau9(coef2,fix3,t) + tau10(coef2,fix3,t)\n",
    "    return y\n",
    "\n",
    "param_bounds=([0,0,0],[2,2,5])\n",
    "popt, pcov = curve_fit(tau, yrswarmi, tempswarmi, bounds=param_bounds)\n",
    "print (popt)\n",
    "\n",
    "coef2fit = popt[0]\n",
    "fix3fit = popt[1]\n",
    "fix5fit = popt[2]\n",
    "\n",
    "taufit = tau(yrswarmi, *popt)\n",
    "plt.plot(yrswarmi,taufit,label=\"fit\")\n",
    "plt.xlabel('Year') \n",
    "plt.ylabel('$^\\circ$C')\n",
    "plt.scatter(yrswarmi,tempswarmi,s=2,color = 'r', alpha = 0.5,label ='data',marker='o')\n",
    "# warm.plot.scatter(x, y,color = 'r',label ='data',alpha = 0.5,marker='o')\n",
    "# df3.plot.scatter(x=\"Year\", y=\"LUC\", color = 'r',label ='shield', s=2, alpha = 0.5)\n",
    "plt.legend(loc='best')\n",
    "plt.savefig('taufit.eps',dpi=1000)\n",
    "plt.savefig('taufit.pdf',dpi=1000)\n",
    "plt.show()\n",
    "\n",
    "lambdafit = 1.0*(tup0/ ctry2)/coef2fit\n",
    "print(lambdafit)\n",
    "\n",
    "c30fit = 30.667*fix3fit\n",
    "print(c30fit)\n",
    "print (fix5fit)\n"
   ]
  },
  {
   "cell_type": "markdown",
   "metadata": {},
   "source": [
    "Extrapolate temperature"
   ]
  },
  {
   "cell_type": "markdown",
   "metadata": {},
   "source": [
    "Net total radiative forcings"
   ]
  },
  {
   "cell_type": "code",
   "execution_count": 24,
   "metadata": {},
   "outputs": [
    {
     "data": {
      "image/png": "[encoded data removed]",
      "text/plain": [
       "<matplotlib.figure.Figure at 0x24992231278>"
      ]
     },
     "metadata": {},
     "output_type": "display_data"
    }
   ],
   "source": [
    "def fnet(t,fix5):\n",
    "    y = f1(t) + f2(t) + f3(t) + f4(t) + f5(t) - f6(t) - f7(t,fix5) - f8(t) + f9(t) + f10(t)\n",
    "    return y\n",
    "\n",
    "def flongearly(t):\n",
    "    y = f1(t) + f2(t) + f3(t) + f4(t) + f5(t)\n",
    "    return y\n",
    "\n",
    "def fshortearly(t,fix5):\n",
    "    y = -f6(t) - f7(t,fix5) - f8(t) + f9(t) + f10(t)\n",
    "    return y\n",
    "\n",
    "def fnetearly(t,fix5): \n",
    "    y = flongearly(t) + fshortearly(t,fix5)\n",
    "    return y\n",
    "\n",
    "def fnetfit(t): \n",
    "    y = flongearly(t) + fshortearly(t,fix5fit)\n",
    "    return y\n",
    "\n",
    "yrs = list(range(t0,int(tmax)+1))\n",
    "yrs = [int(i) for i in yrs]\n",
    "plt.plot(yrs,fnetfit(yrs),label='fit')\n",
    "plt.xlabel('Year')\n",
    "plt.ylabel('W/(m^2)')\n",
    "plt.legend(loc='best')\n",
    "plt.savefig('fnetfit.eps',dpi=1000)"
   ]
  },
  {
   "cell_type": "code",
   "execution_count": 25,
   "metadata": {},
   "outputs": [
    {
     "name": "stdout",
     "output_type": "stream",
     "text": [
      "0.24505977369565518\n",
      "[-0.00067362 -0.00677667 -0.06796018 -0.15706362  0.15794956  0.56431431\n",
      "  0.12630571  0.0157132   0.07044161  0.11669799  0.15868126  0.14189747\n",
      " -0.22032797 -0.31879206  0.04754722 -0.02703416  0.00412915 -0.33155031\n",
      " -0.11135387 -0.09976625  0.12365745 -0.07305546  0.03007494 -0.0227981\n",
      " -0.07285576  0.01472506  0.13129471 -0.31616892 -0.03511881  0.06678899\n",
      " -0.08591923  0.06518963  0.01064857  0.13822481  0.2107559  -0.0980857\n",
      "  0.09689377  0.04096011 -0.00133993 -0.11778328 -0.18839633 -0.07787157\n",
      " -0.06821566  0.04120793 -0.04346283  0.05390058  0.04774509 -0.04626249\n",
      " -0.17492953  0.03312476  0.11373508  0.05286486  0.07169661  0.25110281\n",
      "  0.05048757  0.06169018  0.02689753  0.20462382  0.0551074  -0.00504435\n",
      " -0.17125263  0.02376176  0.01607887 -0.08317482  0.05973178  0.02287068\n",
      "  0.1136145  -0.05884076  0.07944895 -0.07175852 -0.17841283  0.24544004\n",
      " -0.08287828 -0.04372843  0.00119536 -0.05927831  0.04121977  0.09742148\n",
      " -0.03376799 -0.09734918 -0.15191    -0.00485146 -0.04759806  0.01637976\n",
      " -0.033298    0.0490151  -0.03650061  0.07711581  0.08786804 -0.02119724\n",
      "  0.01305461  0.04187668 -0.01337793 -0.02423818  0.0399208   0.02686841\n",
      "  0.05587202  0.0306626  -0.09105333  0.00788285  0.02586113 -0.10984304\n",
      "  0.08071719 -0.00880362  0.0017632   0.02644544 -0.01140275  0.03975884\n",
      " -0.09726025  0.06804064  0.02317597  0.04579462  0.04664778  0.00212435\n",
      " -0.07693133  0.00953674 -0.06654258 -0.04923851  0.05702126 -0.01708875\n",
      " -0.00965943 -0.0395663  -0.08598974  0.06740721  0.14259119 -0.12169554]\n",
      "(array([ 5, 12, 13, 17, 27, 53, 71], dtype=int64),)\n",
      "0.564314306886436\n",
      "0.564314306886436\n",
      "-0.22032796681104796\n",
      "12\n"
     ]
    },
    {
     "data": {
      "image/png": "[encoded data removed]",
      "text/plain": [
       "<matplotlib.figure.Figure at 0x249924cea58>"
      ]
     },
     "metadata": {},
     "output_type": "display_data"
    }
   ],
   "source": [
    "tempsuse = tempswarm[istart:]\n",
    "yrsuse = yrswarm[istart:]\n",
    "# print (tempsuse)\n",
    "\n",
    "tempsearly = tempswarm[0:istart]\n",
    "yrsearly = yrswarm[0:istart]\n",
    "# taufitearly = \n",
    "# Table[taufit3 /. t -> yrsearly[[i]], {i, Length[yrsearly]}];\n",
    "# print (tempsearly)\n",
    "taufitearly = tau(yrsearly,*popt)\n",
    "tempoffearly = np.mean(tempsearly - taufitearly)\n",
    "print (tempoffearly)\n",
    "\n",
    "taufiti = tau(yrsuse,*popt)\n",
    "difi = tempsuse - taufiti\n",
    "# print (difi)\n",
    "nd = len(yrsuse)\n",
    "dct = dct(difi, norm = 'ortho')\n",
    "print (dct)\n",
    "# print (nd)\n",
    "rtops = np.sign(abs(dct) - 0.22)\n",
    "\n",
    "itemindex = np.where(rtops==1)\n",
    "# print (rtops)\n",
    "print (itemindex)\n",
    "\n",
    "# invn = (1/sqrt(nd))*dct[1]\n",
    "\n",
    "def inv5oft(t):\n",
    "    r = itemindex[0][0]\n",
    "    s = t + tstart\n",
    "#     y = (1/sqrt(nd))*2*dct[r]*np.cos(np.pi/(nd)*(r - 1)*(s - 1/2))\n",
    "    y = (1/sqrt(nd))*2*dct[r]*np.cos(np.pi/(nd)*r*(s - 1/2))\n",
    "    return y\n",
    "\n",
    "inv5oft = np.vectorize(inv5oft)\n",
    "print (dct[5])\n",
    "print (dct[itemindex[0][0]])\n",
    "print (dct[itemindex[0][1]])\n",
    "print (itemindex[0][1])\n",
    "\n",
    "def invn(t,r):\n",
    "    s = t + tstart\n",
    "#     y = (1/sqrt(nd))*2*dct[r]*np.cos(np.pi/(nd)*(r - 1)*(s - 1/2))\n",
    "    y = (1/sqrt(nd))*2*dct[r]*np.cos(np.pi/(nd)*r*(s - 1/2))\n",
    "    return y\n",
    "\n",
    "invn = np.vectorize(invn)\n",
    "\n",
    "def inftopsoft(t):\n",
    "#     y = invn(t,itemindex[0][0]+1)+invn(t,itemindex[0][1]+1)+invn(t,itemindex[0][2]+1)+invn(t,itemindex[0][3]+1)+invn(t,itemindex[0][4]+1)+invn(t,itemindex[0][5]+1)+invn(t,itemindex[0][6]+1)\n",
    "    y = invn(t,itemindex[0][0])+invn(t,itemindex[0][1])+invn(t,itemindex[0][2])+invn(t,itemindex[0][3])+invn(t,itemindex[0][4])+invn(t,itemindex[0][5])+invn(t,itemindex[0][6])\n",
    "    return y\n",
    "# print (itemindex[0][1]+1)\n",
    "\n",
    "plt.plot(yrsuse,difi, label='difference')\n",
    "tplot = list(range(tstart, int(tmax)+1))\n",
    "tplot = [int(i) for i in tplot]\n",
    "plt.plot(tplot,inv5oft(tplot), label='inv5oft')\n",
    "plt.plot(tplot,inftopsoft(tplot), label='inftopsoft',ls='--')\n",
    "plt.legend(loc='best')\n",
    "plt.xlabel('Year')\n",
    "plt.ylabel('$^\\circ$C')\n",
    "plt.savefig('wu.eps',dpi=1000)\n",
    "plt.show()\n",
    "\n",
    "# ys = NDSolve[{y'[x] == y[x] Cos[x + y[x]], y[0] == 1}, y, {x, 0, 30}];"
   ]
  },
  {
   "cell_type": "markdown",
   "metadata": {},
   "source": [
    "Fitting parameters C8 in extrapolation formula"
   ]
  },
  {
   "cell_type": "code",
   "execution_count": 26,
   "metadata": {},
   "outputs": [
    {
     "name": "stdout",
     "output_type": "stream",
     "text": [
      "0.13044741784037558\n",
      "[0.3721, 0.3722, 0.3723, 0.3724, 0.3725, 0.3726, 0.3727, 0.3728]\n",
      "[0.6279, 0.6278, 0.6276999999999999, 0.6275999999999999, 0.6275, 0.6274, 0.6273, 0.6272]\n",
      "0.242542\n"
     ]
    }
   ],
   "source": [
    "ci = [0, 0 ,0, 1/gtonnecperppm, 0.5964, 0.5, 1350, 0.48, 0.40, 0.12, 3]\n",
    "temp1 = 1\n",
    "ca0 = 0.277853*ci[3]\n",
    "print(ca0)\n",
    "ntry = 5\n",
    "# tryc8 = 0.372 + 0.0001*range(ntry)\n",
    "tryc8 = list(range(3721,3729,1))\n",
    "tryc8 = [x /10000 for x in tryc8]\n",
    "print (tryc8)\n",
    "tryc9 = [1-x for x in tryc8]\n",
    "print (tryc9)\n",
    "# errn = Table[0, ntry]\n",
    "print (b1[3])"
   ]
  },
  {
   "cell_type": "code",
   "execution_count": 27,
   "metadata": {},
   "outputs": [
    {
     "name": "stdout",
     "output_type": "stream",
     "text": [
      "9.097972310817717\n",
      "1.1335933414819461\n",
      "0.6487837784309601\n",
      "18.666657754323268\n"
     ]
    }
   ],
   "source": [
    "def e11(t):\n",
    "    y = b1[nm[0][0]-1]/(1 + exp(-(t - b2[nm[0][0]-1])/b3[nm[0][0]-1])) # annual emissions in Gtonne\n",
    "    return y\n",
    "print (e11(2011))\n",
    "\n",
    "def gauss(t):\n",
    "    y = b1[3] *np.exp(-0.5*((t-b2[3])/b3[3])**2)+ b1[4] *np.exp(-0.5*((t-b2[4])/b3[4])**2)+b1[5] *np.exp(-0.5*((t-b2[5])/b3[5])**2)+b1[6] *np.exp(-0.5*((t-b2[6])/b3[6])**2)\n",
    "    return y\n",
    "\n",
    "def flanduse(t):\n",
    "#     y = np.gradient(b1[1]/(1 + np.exp(-(t-b2[1])/b3[1])),t)\n",
    "    y = (b1[1]*exp((b2[1] - t)/b3[1]))/(b3[1]* (1 + exp((b2[1] - t)/b3[1]))**2)*121.984150\n",
    "    return y\n",
    "# flanduse = np.vectorize(flanduse)\n",
    "\n",
    "def e12(t):\n",
    "#     y = gauss(t) + flanduse(t)*121.984150\n",
    "    y = gauss(t) + flanduse(t)\n",
    "    return y\n",
    "\n",
    "def e1(t):\n",
    "    y = e11(t) + e12(t)\n",
    "    return y\n",
    "\n",
    "print (e12(2011))\n",
    "print (flanduse(2011))\n",
    "print (e1(2220))"
   ]
  },
  {
   "cell_type": "code",
   "execution_count": 28,
   "metadata": {},
   "outputs": [
    {
     "name": "stdout",
     "output_type": "stream",
     "text": [
      "[1750. 1751. 1752. 1753. 1754. 1755. 1756. 1757. 1758. 1759. 1760. 1761.\n",
      " 1762. 1763. 1764. 1765. 1766. 1767. 1768. 1769. 1770. 1771. 1772. 1773.\n",
      " 1774. 1775. 1776. 1777. 1778. 1779. 1780. 1781. 1782. 1783. 1784. 1785.\n",
      " 1786. 1787. 1788. 1789. 1790. 1791. 1792. 1793. 1794. 1795. 1796. 1797.\n",
      " 1798. 1799. 1800. 1801. 1802. 1803. 1804. 1805. 1806. 1807. 1808. 1809.\n",
      " 1810. 1811. 1812. 1813. 1814. 1815. 1816. 1817. 1818. 1819. 1820. 1821.\n",
      " 1822. 1823. 1824. 1825. 1826. 1827. 1828. 1829. 1830. 1831. 1832. 1833.\n",
      " 1834. 1835. 1836. 1837. 1838. 1839. 1840. 1841. 1842. 1843. 1844. 1845.\n",
      " 1846. 1847. 1848. 1849. 1850. 1851. 1852. 1853. 1854. 1855. 1856. 1857.\n",
      " 1858. 1859. 1860. 1861. 1862. 1863. 1864. 1865. 1866. 1867. 1868. 1869.\n",
      " 1870. 1871. 1872. 1873. 1874. 1875. 1876. 1877. 1878. 1879. 1880. 1881.\n",
      " 1882. 1883. 1884. 1885. 1886. 1887. 1888. 1889. 1890. 1891. 1892. 1893.\n",
      " 1894. 1895. 1896. 1897. 1898. 1899. 1900. 1901. 1902. 1903. 1904. 1905.\n",
      " 1906. 1907. 1908. 1909. 1910. 1911. 1912. 1913. 1914. 1915. 1916. 1917.\n",
      " 1918. 1919. 1920. 1921. 1922. 1923. 1924. 1925. 1926. 1927. 1928. 1929.\n",
      " 1930. 1931. 1932. 1933. 1934. 1935. 1936. 1937. 1938. 1939. 1940. 1941.\n",
      " 1942. 1943. 1944. 1945. 1946. 1947. 1948. 1949. 1950. 1951. 1952. 1953.\n",
      " 1954. 1955. 1956. 1957. 1958. 1959. 1960. 1961. 1962. 1963. 1964. 1965.\n",
      " 1966. 1967. 1968. 1969. 1970. 1971. 1972. 1973. 1974. 1975. 1976. 1977.\n",
      " 1978. 1979. 1980. 1981. 1982. 1983. 1984. 1985. 1986. 1987. 1988. 1989.\n",
      " 1990. 1991. 1992. 1993. 1994. 1995. 1996. 1997. 1998. 1999. 2000. 2001.\n",
      " 2002. 2003. 2004. 2005. 2006. 2007. 2008. 2009. 2010. 2011. 2012. 2013.\n",
      " 2014. 2015. 2016. 2017.]\n"
     ]
    },
    {
     "data": {
      "text/plain": [
       "[<matplotlib.lines.Line2D at 0x249922af198>]"
      ]
     },
     "execution_count": 28,
     "metadata": {},
     "output_type": "execute_result"
    },
    {
     "data": {
      "image/png": "[encoded data removed]",
      "text/plain": [
       "<matplotlib.figure.Figure at 0x249922bd3c8>"
      ]
     },
     "metadata": {},
     "output_type": "display_data"
    }
   ],
   "source": [
    "# function that returns dca/dt\n",
    "def extrapolate(ca,t,c8):\n",
    "#     c5 = 0.5964\n",
    "#     c6 = 0.5\n",
    "#     c7 = 1350\n",
    "    c9 = 1-c8\n",
    "    dcadt = (c8 + c9*(ca - ci[4])/(ca + ci[5]*ci[4]))*e1(t)/1000-(ca - ci[4])/ci[6]\n",
    "    return dcadt\n",
    "\n",
    "# initial condition\n",
    "ca0 = ci[4]*0.277853/0.280\n",
    "\n",
    "# time points\n",
    "t = np.linspace(t0, tmax, num=268)\n",
    "print (t)\n",
    "# c8 = tuple(tryc8)\n",
    "# solve ODEs\n",
    "c8 = tryc8[0]\n",
    "y1 = odeint(extrapolate,ca0,t,args=(c8,))\n",
    "# print (y1[0])\n",
    "# print (y1[1])\n",
    "# print (y1)\n",
    "\n",
    "c8 = tryc8[1]\n",
    "y2 = odeint(extrapolate,ca0,t,args=(c8,))\n",
    "\n",
    "c8 = tryc8[2]\n",
    "y3 = odeint(extrapolate,ca0,t,args=(c8,))\n",
    "\n",
    "c8 = tryc8[3]\n",
    "y4 = odeint(extrapolate,ca0,t,args=(c8,))\n",
    "\n",
    "c8 = tryc8[4]\n",
    "y5 = odeint(extrapolate,ca0,t,args=(c8,))\n",
    "\n",
    "c8 = tryc8[5]\n",
    "y6 = odeint(extrapolate,ca0,t,args=(c8,))\n",
    "\n",
    "c8 = tryc8[6]\n",
    "y7 = odeint(extrapolate,ca0,t,args=(c8,))\n",
    "\n",
    "c8 = tryc8[7]\n",
    "y8 = odeint(extrapolate,ca0,t,args=(c8,))\n",
    "\n",
    "#plot results\n",
    "plt.figure()\n",
    "plt.plot(t,y1,'b-')\n",
    "# plt.plot(t,y2,'r--')"
   ]
  },
  {
   "cell_type": "code",
   "execution_count": 31,
   "metadata": {
    "scrolled": true
   },
   "outputs": [
    {
     "name": "stdout",
     "output_type": "stream",
     "text": [
      "[161.38602229454045, 161.26824565825626, 161.19595206759504, 161.16931851786399, 161.18812028618257, 161.25238855907986, 161.36211690462835, 161.51729890773794]\n",
      "3.0858541532044717\n",
      "0.37230858541532047\n",
      "1750\n"
     ]
    },
    {
     "data": {
      "text/plain": [
       "[<matplotlib.lines.Line2D at 0x24992858e10>]"
      ]
     },
     "execution_count": 31,
     "metadata": {},
     "output_type": "execute_result"
    },
    {
     "data": {
      "image/png": "[encoded data removed]",
      "text/plain": [
       "<matplotlib.figure.Figure at 0x249924bb5f8>"
      ]
     },
     "metadata": {},
     "output_type": "display_data"
    },
    {
     "data": {
      "image/png": "[encoded data removed]",
      "text/plain": [
       "<matplotlib.figure.Figure at 0x249928219b0>"
      ]
     },
     "metadata": {},
     "output_type": "display_data"
    }
   ],
   "source": [
    "pairsco2 = df4[t0-1:-1]['ppb']\n",
    "pairsco2 = pairsco2.tolist()\n",
    "pairsco2 = [float(i) for i in pairsco2]\n",
    "# pairsco2 = df4[t0-1:-1]\n",
    "# print (pairsco2)\n",
    "# time = list(range(t0, int(tmax)+1))\n",
    "# time = [int(i) for i in time]\n",
    "\n",
    "difco21 = []\n",
    "for i in range(0,len(pairsco2)):\n",
    "    x = pairsco2[i]-1000*ci[3]*y1[i]\n",
    "    difco21.append(float(x))\n",
    "# print (difco21)\n",
    "errn1 =  np.dot(difco21[200:],difco21[200:])\n",
    "# print (errn1)\n",
    "difco22 = []\n",
    "for i in range(0,len(pairsco2)):\n",
    "    x = pairsco2[i]-1000*ci[3]*y2[i]\n",
    "    difco22.append(float(x))\n",
    "# print (difco22)\n",
    "errn2 = np.dot(difco22[200:],difco22[200:])\n",
    "# print (errn2) \n",
    "\n",
    "difco23 = []\n",
    "for i in range(0,len(pairsco2)):\n",
    "    x = pairsco2[i]-1000*ci[3]*y3[i]\n",
    "    difco23.append(float(x))\n",
    "# print (difco23)\n",
    "errn3 = np.dot(difco23[200:],difco23[200:])\n",
    "# print (errn3)\n",
    "\n",
    "difco24 = []\n",
    "for i in range(0,len(pairsco2)):\n",
    "    x = pairsco2[i]-1000*ci[3]*y4[i]\n",
    "    difco24.append(float(x))\n",
    "# print (difco23)\n",
    "errn4 = np.dot(difco24[200:],difco24[200:])\n",
    "# print (errn4)\n",
    "\n",
    "difco25 = []\n",
    "for i in range(0,len(pairsco2)):\n",
    "    x = pairsco2[i]-1000*ci[3]*y5[i]\n",
    "    difco25.append(float(x))\n",
    "# print (difco23)\n",
    "errn5 = np.dot(difco25[200:],difco25[200:])\n",
    "# print (errn5)\n",
    "\n",
    "difco26 = []\n",
    "for i in range(0,len(pairsco2)):\n",
    "    x = pairsco2[i]-1000*ci[3]*y6[i]\n",
    "    difco26.append(float(x))\n",
    "# print (difco23)\n",
    "errn6 = np.dot(difco26[200:],difco26[200:])\n",
    "# print (errn6)\n",
    "\n",
    "difco27 = []\n",
    "for i in range(0,len(pairsco2)):\n",
    "    x = pairsco2[i]-1000*ci[3]*y7[i]\n",
    "    difco27.append(float(x))\n",
    "# print (difco23)\n",
    "errn7 = np.dot(difco27[200:],difco27[200:])\n",
    "# print (errn7)\n",
    "\n",
    "difco28 = []\n",
    "for i in range(0,len(pairsco2)):\n",
    "    x = pairsco2[i]-1000*ci[3]*y8[i]\n",
    "    difco28.append(float(x))\n",
    "# print (difco23)\n",
    "errn8 = np.dot(difco28[200:],difco28[200:])\n",
    "# print (errn8)\n",
    "\n",
    "nfitlist = list(range(0,8))\n",
    "errn = [errn1,errn2,errn3,errn4,errn5,errn6,errn7,errn8]\n",
    "# print (nfitlist)\n",
    "print (errn )\n",
    "plt.scatter(nfitlist,errn)\n",
    "fullfit = interp1d(nfitlist, errn,kind= 'cubic')\n",
    "res = minimize_scalar(fullfit)\n",
    "print (res.x)\n",
    "\n",
    "c8fit = 0.372 + 0.0001*res.x\n",
    "print (c8fit)\n",
    "\n",
    "# c9fit = 1 - c8fit\n",
    "tend = 2220\n",
    "co20pp1000v = 0.277853\n",
    "\n",
    "def extrapolate1(ca,t):\n",
    "    c9fit = 1-c8fit\n",
    "    dcadt = (c8fit + c9fit*(ca - ci[4])/(ca + ci[5]*ci[4]))*e1(t)/1000-(ca - ci[4])/ci[6]\n",
    "    return dcadt\n",
    "\n",
    "# initial condition\n",
    "ca0 = ci[4]*co20pp1000v/0.280\n",
    "\n",
    "t2 = 2020\n",
    "# time points\n",
    "t = np.linspace(t0, tend, num=471)\n",
    "print (t0)\n",
    "\n",
    "# solve ODEs\n",
    "y9 = odeint(extrapolate1,ca0,t)\n",
    "# y9 = y9.tolist()\n",
    "# intersection = [[float(x) for x in sublist] for sublist in y9]\n",
    "# intersection = [[float(y) for y in x] for x in y9]\n",
    "# intersection = [float(y) for x in y9 for y in x] # convert the nested list in python\n",
    "# t = t.tolist()\n",
    "# print (t)\n",
    "# print (y9)\n",
    "# print (type(t))\n",
    "# print (intersection)\n",
    "# print (len(intersection))\n",
    "# y9 = [float(i) for i in y9]\n",
    "# timet = list(range(t0,tend+1))\n",
    "\n",
    "#plot results\n",
    "plt.figure()\n",
    "# plt.plot(t,y2,'r--')\n",
    "plt.plot(t,y9,'b-')"
   ]
  },
  {
   "cell_type": "code",
   "execution_count": 30,
   "metadata": {},
   "outputs": [],
   "source": [
    "# cafitatt2 = y9(t2)\n",
    "# t1 = 1950\n",
    "# co2fit = 1000*cafit*ci[3]"
   ]
  }
 ],
 "metadata": {
  "kernelspec": {
   "display_name": "Python 3",
   "language": "python",
   "name": "python3"
  },
  "language_info": {
   "codemirror_mode": {
    "name": "ipython",
    "version": 3
   },
   "file_extension": ".py",
   "mimetype": "text/x-python",
   "name": "python",
   "nbconvert_exporter": "python",
   "pygments_lexer": "ipython3",
   "version": "3.6.4"
  }
 },
 "nbformat": 4,
 "nbformat_minor": 2
}
