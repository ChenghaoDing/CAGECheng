{
 "cells": [
  {
   "cell_type": "markdown",
   "metadata": {},
   "source": [
    "Purpose: Compare calibration of the heat balance model climate sensitivity and surface ocean mixed layer thermal inertia parameters against 1892-2017  increases in temperature over the 1650-1749 average. Then extrapolate the combined CO2, N2O, and heat balances using the calibrated heat balance parameters."
   ]
  },
  {
   "cell_type": "code",
   "execution_count": 1,
   "metadata": {},
   "outputs": [],
   "source": [
    "%reset -f\n",
    "import os\n",
    "import pandas as pd\n",
    "import datetime\n",
    "import matplotlib.pyplot as plt\n",
    "import numpy as np\n",
    "from scipy.optimize import curve_fit\n",
    "# import sympy as sp\n",
    "# from numpy import exp\n",
    "# from mpmath import exp\n",
    "# from mpmath import log\n",
    "import mpmath\n",
    "from scipy.special import erf,hyp2f1\n",
    "# import math\n",
    "import scipy\n",
    "# from math import sqrt\n",
    "from scipy import log,exp,sqrt\n",
    "# print(log(10))\n",
    "os.chdir('C:\\\\Users\\\\cd7\\\\Desktop\\\\Heat18Temperature')"
   ]
  },
  {
   "cell_type": "markdown",
   "metadata": {},
   "source": [
    "Read the specified input file"
   ]
  },
  {
   "cell_type": "code",
   "execution_count": 2,
   "metadata": {},
   "outputs": [
    {
     "name": "stdout",
     "output_type": "stream",
     "text": [
      "       type of integrand           a         b\n",
      "0       co2_logistic_int    29.30450  2011.180\n",
      "1      co2_dlogistic_int   162.81300  2003.340\n",
      "2               co2_err1    19.63270  1910.940\n",
      "3               co2_err2     5.56387  1932.790\n",
      "4               co2_err3     9.13108  1959.730\n",
      "5               co2_err4    15.21960  1993.150\n",
      "6           ch4_logistic    41.38360  1973.910\n",
      "7        ch4_dlogistic_1    41.38360  1973.910\n",
      "8        ch4_dlogistic_2    41.38360  1973.910\n",
      "9             n2o_poly_2    40.31780  2003.340\n",
      "10            n2o_poly_3    40.31780  2003.340\n",
      "11        n2o_1-logistic     5.08431  1956.340\n",
      "12      n2o_logistic_int    40.31780  2003.340\n",
      "13        Other_logistic     7.52190  1980.040\n",
      "14    Contrails_logistic    17.81180  2026.340\n",
      "15       Albedo_logistic    20.06400  1952.340\n",
      "16    Albedo_dlogistic_1    42.94400  1893.040\n",
      "17  Aerosols_dlogistic_1   162.81300  2003.340\n",
      "18     Aerosols_gaussian    28.49730  2001.190\n",
      "19     Ozone_dlogistic_1   162.81300  2003.340\n",
      "20        Ozone_gaussian    36.55730  2008.200\n",
      "21        Vol_1-logistic     2.00000  1795.500\n",
      "22          Vol_logistic     2.00000  1795.500\n",
      "23          Vol_logistic     2.00000  1819.000\n",
      "24     Irradiance_cosine   257.65800  1566.390\n",
      "25     Irradiance_cosine  1365.57000   841.916\n",
      "26   Irradiance_gaussian    11.00000  1854.180\n",
      "27   Irradiance_gaussian     5.50000  2013.950\n",
      "28   Irradiance_constant   257.65800  1566.390\n",
      "2011.18\n"
     ]
    }
   ],
   "source": [
    "df1 = pd.read_excel('C:\\\\Users\\\\cd7\\\\Desktop\\\\Heat18Temperature\\\\heat18parameters13jan.xlsx')\n",
    "df1.to_csv('heat19parameters13jan.csv',header=False,index=False)\n",
    "df1 = pd.read_csv('heat19parameters13jan.csv')\n",
    "\n",
    "df2 = pd.read_excel('C:\\\\Users\\\\cd7\\\\Desktop\\\\Heat18Temperature\\\\heat18warming2jan200-2017.xlsx')\n",
    "df2.to_csv('heat19warming2jan200-2017.csv',header=False,index=False)\n",
    "df2 = pd.read_csv('heat19warming2jan200-2017.csv')\n",
    "\n",
    "df3 = pd.read_excel('C:\\\\Users\\\\cd7\\\\Desktop\\\\Heat18Temperature\\\\heat18fixwarming8jan200-2017.xlsx')\n",
    "df3.to_csv('heat19fixwarming8jan200-2017.csv',header=False,index=False)\n",
    "df3 = pd.read_csv('heat19fixwarming8jan200-2017.csv')\n",
    "\n",
    "df4 = pd.read_excel('C:\\\\Users\\\\cd7\\\\Desktop\\\\Heat17CO2\\\\heat17-co2-1-2017dec18.xlsx')\n",
    "df4.to_csv('heat19-co2-1-2017dec18.csv',header=False,index=False)\n",
    "df4 = pd.read_csv('heat19-co2-1-2017dec18.csv')\n",
    "\n",
    "df5 = pd.read_excel('C:\\\\Users\\\\cd7\\\\Desktop\\\\Heat18_integration_coeff_table.xlsx')\n",
    "print (df5)\n",
    "print (df5.iloc[0][2])"
   ]
  },
  {
   "cell_type": "markdown",
   "metadata": {},
   "source": [
    "Formulate the exported file name"
   ]
  },
  {
   "cell_type": "code",
   "execution_count": 3,
   "metadata": {},
   "outputs": [
    {
     "name": "stdout",
     "output_type": "stream",
     "text": [
      "extrapolate18co2tauoct09\n"
     ]
    }
   ],
   "source": [
    "out1 = 'extrapolate';\n",
    "out2 = 'co2tau';\n",
    "months = ['jan', 'feb', 'mar', 'apr', 'may', 'jun', 'jul', 'aug', 'sep', 'oct', 'nov', 'dec'] # abbreviations for months to insert in output file name)\n",
    "date = datetime.date.today().strftime(\"%Y-%m-%d\")\n",
    "date_split = date.split('-')\n",
    "yrs = str(int(date_split[0])-2000)\n",
    "seq = [out1, yrs, out2, months[int(date_split[1])-1], date_split[2] ]\n",
    "seperator = ','\n",
    "filename = seperator.join(seq).replace(',', '')\n",
    "print (filename)"
   ]
  },
  {
   "cell_type": "markdown",
   "metadata": {},
   "source": [
    "Some self-defined constants"
   ]
  },
  {
   "cell_type": "code",
   "execution_count": 4,
   "metadata": {},
   "outputs": [
    {
     "name": "stdout",
     "output_type": "stream",
     "text": [
      "1554\n"
     ]
    }
   ],
   "source": [
    "fix0 = 1\n",
    "fix1 = 1\n",
    "fixvolcano = 1\n",
    "fix6 = 1.0\n",
    "nave = 11\n",
    "tdrop = 1551 + round(nave*((2017-1750)/nave-(2017-1750)//nave))\n",
    "print (tdrop)"
   ]
  },
  {
   "cell_type": "markdown",
   "metadata": {},
   "source": [
    "Data\n",
    "Global average temperature direct measurements as deviations from 1951-1980 mean."
   ]
  },
  {
   "cell_type": "code",
   "execution_count": 5,
   "metadata": {},
   "outputs": [],
   "source": [
    "ndrop = 1450\n",
    "file2use = df2.iloc[ndrop:-1]\n",
    "file2use.index = np.arange(0, len(file2use))\n",
    "file3use = df3.iloc[ndrop:-1]\n",
    "file3use.index = np.arange(0, len(file3use))\n",
    "yrs = file2use.iloc[:,0]\n",
    "temps = file2use.iloc[:,1]\n",
    "fixtemps = file3use.iloc[:,1]\n",
    "# print (file3use)\n",
    "# print (fixtemps)"
   ]
  },
  {
   "cell_type": "code",
   "execution_count": 6,
   "metadata": {},
   "outputs": [],
   "source": [
    "warm = df2.iloc[(ndrop+100):-1]\n",
    "fixwarm = df3.iloc[(ndrop+100):-1]\n",
    "warmtoave = df2.iloc[tdrop:-1]\n",
    "warmtoave.index = np.arange(0, len(warmtoave))\n",
    "yrstoave = warmtoave.iloc[:,0]\n",
    "tempstoave = warmtoave.iloc[:,1]\n",
    "mave = len(yrstoave)/nave\n",
    "yrstoave = yrstoave.astype(float)\n",
    "yrsave = yrstoave.groupby(np.arange(len(yrstoave))//nave).mean()\n",
    "# print (yrsave)\n",
    "tempstoave = tempstoave.astype(float)\n",
    "tempsave = tempstoave.groupby(np.arange(len(tempstoave))//nave).mean()"
   ]
  },
  {
   "cell_type": "code",
   "execution_count": 7,
   "metadata": {},
   "outputs": [
    {
     "name": "stdout",
     "output_type": "stream",
     "text": [
      "0       31.480700\n",
      "1      162.813000\n",
      "2       29.304500\n",
      "3       19.632700\n",
      "4        5.563870\n",
      "5        9.131080\n",
      "6       15.219600\n",
      "7      237.898000\n",
      "8       41.383600\n",
      "9        7.279600\n",
      "10      40.317800\n",
      "11       7.521900\n",
      "12      17.811800\n",
      "13     162.813000\n",
      "14      28.497300\n",
      "15      20.064000\n",
      "16      42.944000\n",
      "17     277.853000\n",
      "18     722.065000\n",
      "19     267.291000\n",
      "20       0.166427\n",
      "21       2.000000\n",
      "22       5.084310\n",
      "23    1365.570000\n",
      "24     257.658000\n",
      "25      11.000000\n",
      "26       5.500000\n",
      "27       2.000000\n",
      "28     162.813000\n",
      "29      36.557300\n",
      "Name: b3(Years), dtype: float64\n",
      "2.13\n"
     ]
    }
   ],
   "source": [
    "b1 = df1.iloc[:,0]\n",
    "b2 = df1.iloc[:,1]\n",
    "b3 = df1.iloc[:,2]\n",
    "print (b3)\n",
    "b4 = df1.iloc[:,3]\n",
    "\n",
    "tup0 = b4[25]\n",
    "ch40 = b3[18]\n",
    "life = b4[8]\n",
    "t0 = b4[11]\n",
    "tmax = b4[12]\n",
    "gtonnecperppm = b4[2]\n",
    "\n",
    "c18 = 339.873\n",
    "c24 = 383.647\n",
    "eps0 = 0.620523\n",
    "print (gtonnecperppm)"
   ]
  },
  {
   "cell_type": "markdown",
   "metadata": {},
   "source": [
    "Trial values of adjustable parameters c1, c2, and c3"
   ]
  },
  {
   "cell_type": "code",
   "execution_count": 8,
   "metadata": {},
   "outputs": [
    {
     "name": "stdout",
     "output_type": "stream",
     "text": [
      "[[-8.912624340971526, -1.5560182540706204, -8.19754796844041, -32.85303215208119, -22.968805442510636, -15.976109753212969], [-5.410597434732601, -5.410597434732601, -5.410597434732601], [-6.283576980886852, -6.283576980886852, -6.283576980886852, -40.5836780212064], [-30.582698520320662], [-15.514434251451279], [-10.0847288676236, -3.3308494783904616], [-1.5560182540706204, -8.814519270246658], [-22.75, -34.5], [0.6649853174864708, 0.7126112909360466, -9.470909090909096, -47.9909090909091], [-1.5560182540706204, -7.0628848410577385]]\n"
     ]
    }
   ],
   "source": [
    "c200 = 1.16\n",
    "c220 = 0.86055\n",
    "c230 = 0.24685\n",
    "# c30 = 30.667*fix3\n",
    "c30 = 30.667\n",
    "c10 = 1*fix1\n",
    "c00 = fix0  # multiplies aerosols less black carbon on snow\n",
    "ctry2 = 1067.3112319440002\n",
    "# c20 = ctry2*coef2\n",
    "nm = [[3, 2, 4, 5, 6, 7],[9, 9, 9],[11, 11, 11, 23],[12],[13],[16,17],[14,15],[22,28],[24, 25, 26, 27],[29,30]]\n",
    "# create xnm0 list\n",
    "xnm0 = []\n",
    "for n in range(0,len(nm)):\n",
    "    sub_list=[]\n",
    "    for m in range(0,len(nm[n])):\n",
    "        x = (t0-b2[nm[n][m]-1])/b3[nm[n][m]-1]\n",
    "        sub_list.append(float(x))\n",
    "    xnm0.append(sub_list)\n",
    "print (xnm0)"
   ]
  },
  {
   "cell_type": "markdown",
   "metadata": {},
   "source": [
    "Input parameter file locations for CO2, CH4, N20, other, contrail, albedo, aerosol, volcano, and irradiance forcings, new independent variables xnm, climate sensitivity parameters, snm, and integral types inm"
   ]
  },
  {
   "cell_type": "markdown",
   "metadata": {},
   "source": [
    "CO2-Industrial:\n",
    "\n",
    "e11(annual emissions in Gtonne of CO2) is shown as logistic function,so the first general type of integrand is logistic function.\n",
    "u = 1/(1 + exp(-x)), where x=(t-b2)/b3."
   ]
  },
  {
   "cell_type": "code",
   "execution_count": 9,
   "metadata": {
    "scrolled": true
   },
   "outputs": [
    {
     "name": "stdout",
     "output_type": "stream",
     "text": [
      "(inf+nanj)\n",
      "(nan+nanj)\n",
      "286.681\n"
     ]
    },
    {
     "name": "stderr",
     "output_type": "stream",
     "text": [
      "C:\\Users\\cd7\\AppData\\Local\\Continuum\\anaconda3\\lib\\site-packages\\ipykernel_launcher.py:17: RuntimeWarning: invalid value encountered in cdouble_scalars\n",
      "C:\\Users\\cd7\\AppData\\Local\\Continuum\\anaconda3\\lib\\site-packages\\ipykernel_launcher.py:25: RuntimeWarning: invalid value encountered in multiply\n"
     ]
    }
   ],
   "source": [
    "def intlogisitic(s,x,x0):\n",
    "#     y = np.exp(s*x)*(-1+ mpmath.hyp2f1(1,s,1+s,-np.exp(x)) + s*np.log(1+np.exp(x))-s*np.log(1+np.exp(x0)))/(s**2)\n",
    "#     y = exp(s*x)*(-1+ mpmath.hyp2f1(1,s,1+s,-exp(x)) + s*log(1+exp(x))-s*log(1+exp(x0)))/(s**2)\n",
    "    y = exp(s*x)*(-1+ hyp2f1(1,s,1+s,-exp(x)) + s*log(1+exp(x))-s*log(1+exp(x0)))/(s**2)\n",
    "    return y\n",
    "\n",
    "def finalint1(coef2,fix3,t,a,b,c,x0):\n",
    "    x = (-b+t)/a\n",
    "    s = (c*ctry2*coef2)/(c30*fix3*tup0)\n",
    "#     y = (-1+mpmath.hyp2f1(1,s,1+s,-np.exp(x))-np.exp(s*(-x+x0))*(-1+mpmath.hyp2f1(1,s,1+s,-np.exp(x0)))\n",
    "#          +s*np.log(1+np.exp(x))-s*np.log(1+np.exp(x0)))/(s**2)\n",
    "#     y = (-1+mpmath.hyp2f1(1,s,1+s,-exp(x))-exp(s*(-x+x0))*(-1+mpmath.hyp2f1(1,s,1+s,-exp(x0)))\n",
    "#          +s*log(1+exp(x))-s*log(1+exp(x0)))/(s**2)\n",
    "    y = (-1+hyp2f1(1,s,1+s,-exp(x))-exp(s*(-x+x0))*(-1+hyp2f1(1,s,1+s,-exp(x0)))\n",
    "         +s*log(1+exp(x))-s*log(1+exp(x0)))/(s**2)\n",
    "#     y = (-1+hyp2f1(1,s,1+s,-x)-s*(-x+x0)*(-1+hyp2f1(1,s,1+s,-x0))\n",
    "#          +s*log(1+x)-s*log(1+x0))/(s**2)\n",
    "    return y\n",
    "\n",
    "print (finalint1(2,5,2100,df5.iloc[0][1],df5.iloc[0][2],b3[nm[0][0]-1],xnm0[0][0]))\n",
    "d11=b2[17]*b4[3]*b4[4]*b1[nm[0][0]-1]*b3[nm[0][0]-1]/gtonnecperppm\n",
    "# print (d11)\n",
    "\n",
    "def tau11(coef2,fix3,t):\n",
    "    y = c10*(b3[nm[0][0]-1]/(c30*fix3))*d11*finalint1(coef2,fix3,t,df5.iloc[0][1],df5.iloc[0][2],b3[nm[0][0]-1],xnm0[0][0])\n",
    "    return y\n",
    "print (tau11(2,5,2100))\n",
    "print (tup0)"
   ]
  },
  {
   "cell_type": "markdown",
   "metadata": {},
   "source": [
    "CO2-Land Use:\n",
    "\n",
    "have two kinds of integrands namely: 1.the time derivative of a logistic function, 2, four gaussians functions, where gaussian function is of the form $(b1/sqrt(2*pi))*exp(-x^2/2)$."
   ]
  },
  {
   "cell_type": "markdown",
   "metadata": {},
   "source": [
    "CO2-Land Use: Logistic increase"
   ]
  },
  {
   "cell_type": "code",
   "execution_count": 10,
   "metadata": {},
   "outputs": [
    {
     "name": "stdout",
     "output_type": "stream",
     "text": [
      "0.03659397151914998\n",
      "162.813\n",
      "1.5506248923169756\n",
      "0.06025097488521093\n"
     ]
    }
   ],
   "source": [
    "def intdlogistic(s,x,x0):\n",
    "    y = exp(s*x)*(1-(1+exp(x0))*hyp2f1(1,s,1+s,-exp(x)))/((1+exp(x0))*s)\n",
    "    return y\n",
    "\n",
    "def finalint2(coef2,fix3,t,a,b,c,x0):\n",
    "    x = (-b+t)/a\n",
    "    s = (c*ctry2*coef2)/(c30*fix3*tup0)\n",
    "#     y = exp(-s*x)*(exp(s*x)-exp(s*x0)-exp(s*x)*(1+exp(x0))*mpmath.hyp2f1(1,s,1+s,-exp(x))\n",
    "#                      +exp(s*x0)*(1+exp(x0))*mpmath.hyp2f1(1,s,1+s,-exp(x0)))/(s*(1+exp(x0)))\n",
    "    y = exp(-s*x)*(exp(s*x)-exp(s*x0)-exp(s*x)*(1+exp(x0))*hyp2f1(1,s,1+s,-exp(x))\n",
    "                     +exp(s*x0)*(1+exp(x0))*hyp2f1(1,s,1+s,-exp(x0)))/(s*(1+exp(x0)))\n",
    "    return y\n",
    "\n",
    "print (finalint2(2,5,2000,df5.iloc[1][1],df5.iloc[1][2],b3[nm[0][1]-1],xnm0[0][1]))\n",
    "\n",
    "d12 = b2[17]*b4[3]*b1[nm[0][1]-1]*b4[nm[0][1]-1]/gtonnecperppm\n",
    "\n",
    "def tau12(coef2,fix3,t):\n",
    "    y = c10*(b3[nm[0][1]-1]/(c30*fix3))*d12*finalint2(coef2,fix3,t,df5.iloc[1][1],df5.iloc[1][2],b3[nm[0][1]-1],xnm0[0][1])\n",
    "    return y\n",
    "print (b3[nm[0][1]-1])\n",
    "print (d12)\n",
    "print (tau12(2,5,2000))"
   ]
  },
  {
   "cell_type": "markdown",
   "metadata": {},
   "source": [
    "CO2-Land Use: Erf functions"
   ]
  },
  {
   "cell_type": "code",
   "execution_count": 11,
   "metadata": {},
   "outputs": [
    {
     "name": "stdout",
     "output_type": "stream",
     "text": [
      "0.0033077746881360367\n",
      "0.0007575933642601274\n",
      "(nan+nanj)\n"
     ]
    },
    {
     "name": "stderr",
     "output_type": "stream",
     "text": [
      "C:\\Users\\cd7\\AppData\\Local\\Continuum\\anaconda3\\lib\\site-packages\\ipykernel_launcher.py:17: RuntimeWarning: invalid value encountered in cdouble_scalars\n",
      "C:\\Users\\cd7\\AppData\\Local\\Continuum\\anaconda3\\lib\\site-packages\\ipykernel_launcher.py:25: RuntimeWarning: invalid value encountered in multiply\n"
     ]
    }
   ],
   "source": [
    "def interror(s,x,x0):\n",
    "    y = sqrt(np.pi/2)*(exp(s*x)*erf(x/sqrt(2))-exp(s**2)*erf((-s+x)/sqrt(2))-exp(s*x)*erf(x0/sqrt(2)))/s\n",
    "    return y\n",
    "\n",
    "def finalint3(coef2,fix3,t,a,b,c,x0):\n",
    "    x = (-b+t)/a\n",
    "    s = (c*ctry2*coef2)/(c30*fix3*tup0)\n",
    "    y = exp(-s*x)*sqrt(np.pi/2)*(exp(s*x)*erf(x/sqrt(2))-exp(s**2/2)*erf((-s+x)/sqrt(2))-exp(s*x)*erf(x0/sqrt(2))\n",
    "                                 +exp(s**2/2)*erf((-s+x0)/sqrt(2)))/s\n",
    "    return y\n",
    "\n",
    "d13 = b2[17]*b4[3]*b1[nm[0][2]-1]*b3[nm[0][2]-1]/gtonnecperppm\n",
    "\n",
    "def tau13(coef2,fix3,t):\n",
    "    y = c10*(b3[nm[0][2]-1]/(c30*fix3))*d13*finalint3(coef2,fix3,t,df5.iloc[2][1],df5.iloc[2][2],b3[nm[0][2]-1],xnm0[0][2])\n",
    "    return y\n",
    "\n",
    "print (tau13(2,5,2000))\n",
    "\n",
    "d14 = b2[17]*b4[3]*b1[nm[0][3]-1]*b3[nm[0][3]-1]/gtonnecperppm\n",
    "\n",
    "def tau14(coef2,fix3,t):\n",
    "    y = c10*(b3[nm[0][3]-1]/(c30*fix3))*d14*finalint3(coef2,fix3,t,df5.iloc[3][1],df5.iloc[3][2],b3[nm[0][3]-1],xnm0[0][3])\n",
    "    return y\n",
    "\n",
    "print (tau14(2,5,2000))\n",
    "\n",
    "d15 = b2[17]*b4[3]*b1[nm[0][4]-1]*b3[nm[0][4]-1]/gtonnecperppm\n",
    "\n",
    "def tau15(coef2,fix3,t):\n",
    "    y = c10*(b3[nm[0][4]-1]/(c30*fix3))*d15*finalint3(coef2,fix3,t,df5.iloc[4][1],df5.iloc[4][2],b3[nm[0][4]-1],xnm0[0][4])\n",
    "    return y\n",
    "\n",
    "d16 = b2[17]*b4[3]*b1[nm[0][5]-1]*b3[nm[0][5]-1]/gtonnecperppm\n",
    "\n",
    "def tau16(coef2,fix3,t):\n",
    "    y = c10*(b3[nm[0][5]-1]/(c30*fix3))*d16*finalint3(coef2,fix3,t,df5.iloc[5][1],df5.iloc[5][2],b3[nm[0][5]-1],xnm0[0][5])\n",
    "    return y\n",
    "\n",
    "def tau1(coef2,fix3,t):\n",
    "    y = tau11(coef2,fix3,t) + tau12(coef2,fix3,t) + tau13(coef2,fix3,t) + tau14(coef2,fix3,t) + tau15(coef2,fix3,t) + tau16(coef2,fix3,t)\n",
    "    return y\n",
    "\n",
    "print (tau1(2,5,2000))"
   ]
  },
  {
   "cell_type": "markdown",
   "metadata": {},
   "source": [
    "CH4\n",
    "\n",
    "For methane, due to its radiative forcing formula contains three terms, respectively are 1. logistic function,2. first order time derivative of logistic function, and second order time derivative of logistic function.\n",
    "Let u(x) = 1/(1+exp(-x)), and up(x) = u(x)*(1-u(x)) and upp(x) = u(x)*(1-u(x))*(1-2*u(x))."
   ]
  },
  {
   "cell_type": "code",
   "execution_count": 12,
   "metadata": {},
   "outputs": [
    {
     "name": "stdout",
     "output_type": "stream",
     "text": [
      "0.08808563500311804\n",
      "-8.758928177700023e-05\n",
      "-0.00033307923018555433\n",
      "0.09328515191039007\n"
     ]
    }
   ],
   "source": [
    "eps = b4[nm[1][0]-1]/b3[nm[1][0]-1]\n",
    "\n",
    "def finalint4(coef2,fix3,t,a,b,c,x0):\n",
    "    x = (-b+t)/a\n",
    "    s = (c*ctry2*coef2)/(c30*fix3*tup0)\n",
    "    y = (-(exp(x + x0) + s + exp(2*x0)*s + exp(x0)* (1 + 2*s)-(1 + exp(x))*(1 + exp(x0))**2*s*hyp2f1(1,s,1 + s, -exp(x)))/(1 + exp(x))+ exp(s*(-x + x0))*(s + exp(x0)*(1 + s) - (1 + exp(x0))**2*s*hyp2f1(1, s,1 + s, -exp(x0))))/((1 + exp(x0))**2*s)\n",
    "    return y\n",
    "\n",
    "def finalint5(coef2,fix3,t,a,b,c,x0):\n",
    "    x = (-b+t)/a\n",
    "    s = (c*ctry2*coef2)/(c30*fix3*tup0)\n",
    "    y = exp(-s*x)*(2*exp((3 + s)*x0)/((1 +exp(x0))**3*s)-2*exp(s*x + 3*x0)/((1 +exp(x0))**3*s)-(3*exp((2 + s)*x0))/((1 +exp(x0))**2*s)+(3*exp(s*x+2*x0))/((1+exp(x0))**2*s) + exp((1 + s)*x0)/(s +exp(x0)*s) - exp(s*x + x0)/(s + exp(x0)* s) + exp((1 + s)*x)*hyp2f1(1, 1 + s, 2 + s, -exp(x))/(1 + s) - exp((1 + s)*x0)*hyp2f1(1, 1 + s, 2 + s, -exp(x0))/(1 + s) -\n",
    "        3*exp((2 + s)*x)*(2 + s -(1 +exp(x))*(1 + s)*hyp2f1(1, 2 + s,3 + s, -exp(x)))/((1 + exp(x))*(2 + s)) + 3*exp((2 + s)*x0)*(2 + s - (1 +exp(x0))*(1 + s)*hyp2f1(1, 2 + s,3 + s, -exp(x0)))/((1 + exp(x0))*(2 + s)) + exp((3 + s)*x)*(-(s + exp(x)*(1 + s))/((1 + exp(x))**2) + ((2 + 3*s + s**2)*hyp2f1(1, 3 + s, 4 + s, -exp(x))/(3 + s))) + exp((3 + s)*x0)*((s + exp(x0)*(1 + s))/(1 + exp(x0))**2 - ((2 + 3*s + s**2)*hyp2f1(1, 3 + s, 4 + s, -exp(x0))/(3 + s))))\n",
    "    return y\n",
    "\n",
    "d21 = b2[18]*b4[nm[1][0]-1]*b1[nm[1][0]-1]\n",
    "d22 = -d21*eps\n",
    "d23 = d21*eps**2\n",
    "\n",
    "def tau21(coef2,fix3,t):\n",
    "#     y = 1/coef2*a*exp(-b*coef2*(-c+t)/fix3)*(-exp(-d*coef2/fix3)+exp(b*coef2*(-c+t)/fix3)+e*exp(-d*coef2/fix3)*mpmath.hyp2f1(1,f*coef2/fix3,1+f*coef2/fix3,g)-e*exp(b*coef2*(-c+t)/fix3)*mpmath.hyp2f1(1,f*coef2/fix3,1+f*coef2/fix3,-exp((-c+t)/h)))\n",
    "    y = c10*(b3[nm[1][0]-1]/(c30*fix3))*d21*finalint2(coef2,fix3,t,df5.iloc[6][1],df5.iloc[6][2],b3[nm[1][0]-1],xnm0[1][0])\n",
    "    return y\n",
    "print(tau21(2,5,2070))\n",
    "\n",
    "# def tau22(coef2,fix3,t,a,b,c,d,e,f,g,h):\n",
    "#     y = -1/fix3*a*exp(-b*coef2*(-c+t)/fix3)*(exp(-d*(1+e*coef2/fix3))*(-f+e*coef2*mpmath.hyp2f1(1,1+e*coef2/fix3,2+e*coef2/fix3,g)/((1+e*coef2/fix3)*fix3))+exp((1+e*coef2/fix3)*(-c+t)/h)*(1/(1+exp((-c+t)/h))-e*coef2*mpmath.hyp2f1(1,1+f*coef2/fix3,2+f*coef2/fix3,-exp((-c+t)/h))/((1+f*coef2/fix3)*fix3)))\n",
    "#     return y\n",
    "\n",
    "def tau22(coef2,fix3,t):\n",
    "#     y = -(1/coef2)*0.047437*(exp(5.02399*coef2*(-5.4106-0.0241642*(-1973.91 + t))/fix3)*(0.00446897*(1 +(5.02399*coef2)/fix3) + 5.02399*coef2/fix3 - 5.069*coef2*mpmath.hyp2f1(1, (5.02399*coef2)/fix3,1 + (5.02399*coef2)/fix3, -0.00446897)/fix3)-(\n",
    "#         exp(-5.4106 + 0.0241642*(-1973.91 + t)) + 0.00446897*(1 + (10.048*coef2)/fix3) + (5.02409*coef2)/fix3 - 5.069*coef2*(1 + exp(0.0241642*(-1973.91 + t)))*mpmath.hyp2f1(1, (5.02399*coef2)/fix3, 1 + (5.02399*coef2)/fix3, -exp(0.0241642*(-1973.91 + t)))/fix3)/(1 + exp(0.0241642*(-1973.91 + t))))\n",
    "    y = c10*(b3[nm[1][1]-1]/(c30*fix3))*d22*finalint4(coef2,fix3,t,df5.iloc[7][1],df5.iloc[7][2],b3[nm[1][1]-1],xnm0[1][1])\n",
    "    return y\n",
    "print(tau22(2,5,2200))\n",
    "# def tau23(coef2,fix3,t,a,b,c,d,e,f,g,h,i,j):\n",
    "#     y = 1/fix3*a*exp(-b*coef2*(-c+t)/fix3)*(exp(-d*(1+e*coef2/fix3))*(f*(-1+g*coef2/fix3)-i*coef2**2*mpmath.hyp2f1(1,1+e*coef2/fix3,2+e*coef2/fix3,j)/((1+e*coef2/fix3)*fix3**2))+exp((1+e*coef2/fix3)*(-c+t)/h)*(-(-1+e*coef2/fix3+e*coef2*exp((-c+t)/h)/fix3)/(1+exp((-c+t)/h))**2+i*coef2**2*mpmath.hyp2f1(1,1+e*coef2/fix3,2+e*coef2/fix3,-exp((-c+t)/h))/((1+e*coef2/fix3)*fix3**2)))\n",
    "#     return y\n",
    "\n",
    "def tau23(coef2,fix3,t):\n",
    "#     y = -(1/fix3)*0.0552824*exp(-0.121401*coef2*(-1973.91 + t)/fix3)*((0.198159*exp(-5.4106*(1 +(5.02399*coef2)/fix3))*fix3)/coef2 - (0.591833*exp(-5.4106*(2 + (5.02399*coef2)/fix3))*fix3)/coef2 + (0.3928*exp(-5.4106*(3 + (5.02399*coef2)/fix3))*fix3)/coef2 - (\n",
    "#         0.3928*exp(-16.2318 + (0.121401*coef2*(-1973.91 + t))/fix3)*fix3)/coef2 + (0.591833*exp(-10.8212 + (0.121401*coef2*(-1973.91 + t))/fix3)*fix3)/coef2 - (0.198159*exp(-5.4106 + (0.121401*coef2*(-1973.91 + t))/fix3)*fix3)/coef2 - (exp(-5.4106*(1 + (5.02399*coef2)/fix3))*mpmath.hyp2f1(1, 1 + (5.02399*coef2)/fix3, 2 + (5.02399*coef2)/fix3, -0.00446897))/(1 + (5.02399*coef2)/fix3) + (exp(0.0241642*(1 + (5.02399*coef2)/fix3)*(-1973.91 + t))*mpmath.hyp2f1(1, 1 + (5.02399*coef2)/fix3, 2 + (5.02399*coef2)/fix3, -exp(0.0241642*(-1973.91 + t))))/(1 + (5.02399*coef2)/fix3) + (2.98665*exp(-5.4106*(2 + (5.02399*coef2)/fix3))*(2 + (5.02399*coef2)/fix3 - 1.00447*(1 + (5.02399*coef2)/fix3)*mpmath.hyp2f1(1, 2 + (5.02399*coef2)/fix3, 3 + (5.02399*coef2)/fix3, -0.00446897)))/(2 + (5.02399*coef2)/fix3)-(\n",
    "#         3*exp(0.0241642*(2 + (5.02399*coef2)/fix3) *(-1973.91 + t))*(2 + (5.02399*coef2)/fix3 - (1 + exp(0.0241642*(-1973.91 + t)))*(1 + (5.02399*coef2)/fix3)*mpmath.hyp2f1(1, 2 + (5.02399*coef2)/fix3,3 + (5.02399*coef2)/fix3, -exp(0.0241642*(-1973.91 + t)))))/((1 + exp(0.0241642*(-1973.91 + t)))*(2 + (5.02399*coef2)/fix3)) + exp(-5.4106*(3 + (5.02399*coef2)/fix3))*(0.991122*(0.00446897*(1 + (5.02399*coef2)/fix3) + (5.02399*coef2)/fix3) - ((2 + (25.2405*coef2**2)/fix3**2 + ( 15.072*coef2)/fix3)*mpmath.hyp2f1(1, 3 + (5.02399*coef2)/fix3, 4 + (5.02399*coef2)/fix3, -0.00446897))/(3 + (5.02399*coef2)/fix3)) + exp(0.0241642*(3 + (5.02399*coef2)/fix3)*(-1973.91 + t))*(-((exp(0.0241642*(-1973.91 + t))*(1 + (5.02399*coef2)/fix3) + (5.02399*coef2)/fix3)/(1 + exp(0.0241642*(-1973.91 + t)))**2) + ((2 + (25.2405*coef2**2)/fix3**2 + (15.072*coef2)/fix3)*mpmath.hyp2f1(1, 3 + (5.02399*coef2)/fix3, 4 + (5.02399*coef2)/fix3, -exp(0.0241642*(-1973.91 + t))))/(3 + (5.02399*coef2)/fix3)))\n",
    "    y = c10*(b3[nm[1][2]-1]/(c30*fix3))*d23*finalint5(coef2,fix3,t,df5.iloc[8][1],df5.iloc[8][2],b3[nm[1][2]-1],xnm0[1][2])\n",
    "    return y\n",
    "\n",
    "print (tau23(2,5,2100))\n",
    "# print(finalint5(2,5,2100,df5.iloc[6][1],df5.iloc[6][2],b3[nm[1][0]-1],xnm0[1][0]))\n",
    "\n",
    "def tau2(coef2,fix3,t):\n",
    "    y = tau21(coef2,fix3,t) + tau22(coef2,fix3,t) + tau23(coef2,fix3,t)\n",
    "    return y\n",
    "# print (df5.iloc[6][1],df5.iloc[6][2],b3[nm[1][0]-1],xnm0[1][0])\n",
    "print (tau2(2,5,2100))"
   ]
  },
  {
   "cell_type": "markdown",
   "metadata": {},
   "source": [
    "N2O\n",
    "\n",
    "The radiative forcing formula of nitrous oxide is shown as polylog function of order 2 and 3."
   ]
  },
  {
   "cell_type": "code",
   "execution_count": 13,
   "metadata": {
    "scrolled": true
   },
   "outputs": [
    {
     "name": "stdout",
     "output_type": "stream",
     "text": [
      "-0.029269807950403664\n",
      "(nan + nanj)\n"
     ]
    },
    {
     "name": "stderr",
     "output_type": "stream",
     "text": [
      "C:\\Users\\cd7\\AppData\\Local\\Continuum\\anaconda3\\lib\\site-packages\\ipykernel_launcher.py:17: RuntimeWarning: invalid value encountered in cdouble_scalars\n",
      "C:\\Users\\cd7\\AppData\\Local\\Continuum\\anaconda3\\lib\\site-packages\\ipykernel_launcher.py:43: RuntimeWarning: invalid value encountered in multiply\n"
     ]
    }
   ],
   "source": [
    "delta = b3[nm[2][0]-1]/b4[nm[2][0]-1]\n",
    "d31 = b2[19]*b1[nm[2][0]-1]*b3[nm[2][0]-1]\n",
    "d32 = d31*delta\n",
    "d33 = -d31*delta**2\n",
    "d34 = b2[19]*b1[nm[2][3]-1]\n",
    "print (d33)\n",
    "def finalint6(coef2,fix3,t,a,b,c,x0):\n",
    "    x = (-b+t)/a\n",
    "    s = (c*ctry2*coef2)/(c30*fix3*tup0)\n",
    "    y = (-1+ hyp2f1(1,s,1+s,-exp(x))+s*log(1+exp(x))-exp(s*(-x+x0))*(-1+hyp2f1(1,s,1+s,-exp(x0))+s*log(1+exp(x0)))+s**2*mpmath.polylog(2,-exp(x))-s**2*mpmath.polylog(2,-exp(x0)))/s**3\n",
    "    return y\n",
    "\n",
    "def finalint7(coef2,fix3,t,a,b,c,x0):\n",
    "    x = (-b+t)/a\n",
    "    s = (c*ctry2*coef2)/(c30*fix3*tup0)\n",
    "    y = (-1/s**4)*(-1+hyp2f1(1,s,1+s,-exp(x)) + s*log(1+exp(x))+s**2*mpmath.polylog(2,-exp(x))-exp(s*(-x+x0))*(-1+hyp2f1(1,s,1+s,-exp(x0))+s*log(1+exp(x0))+s**2*mpmath.polylog(2,-exp(x0)))-s**3*mpmath.polylog(3,-exp(x))+s**3*mpmath.polylog(3,-exp(x0)))\n",
    "    return y\n",
    "\n",
    "def finalint8(coef2,fix3,t,a,b,c,x0):\n",
    "    x = (-b+t)/a\n",
    "    s = (c*ctry2*coef2)/(c30*fix3*tup0)\n",
    "    y = (hyp2f1(1, s, 1 + s, -exp(x)) - exp(s*(-x + x0))*hyp2f1(1, s, 1 + s, -exp(x0)))/s\n",
    "    return y\n",
    "# print (nm[2][1])\n",
    "# print (b3[nm[2][1]-1])\n",
    "def tau32(coef2,fix3,t):\n",
    "#     y = (1/(coef2**a))*b*fix3**c*(-1 + (d*coef2**c)/fix3**c - exp((e*coef2*(f-(-g+t)/h))/fix3)*(-1+(i*coef2)/fix3 + \n",
    "#       mpmath.hyp2f1(1, (e*coef2)/fix3,1 + (e*coef2)/fix3, j)) + mpmath.hyp2f1(1, (e*coef2)/fix3, 1+(e*coef2)/fix3, -exp((-g+t)/h))+e*coef2*np.log(1 + exp((-g + t)/h))/fix3 + (k*coef2**c*mpmath.polylog(c,-exp((-g+t)/h))/fix3**c))\n",
    "    y = c10*(b3[nm[2][1]-1]/(c30*fix3))*d32*finalint6(coef2,fix3,t,df5.iloc[9][1],df5.iloc[9][2],b3[nm[2][1]-1],xnm0[2][1])\n",
    "    return y\n",
    "\n",
    "def tau33(coef2,fix3,t):\n",
    "#     y = (1/(coef2**a))*b*fix3**c*(d - (e*coef2**c)/fix3**c - \n",
    "#    exp((f*coef2*(g-(-h + t)/i))/fix3)*(d - (j*coef2**k)/fix3**k + (l*coef2)/fix3 + mpmath.hyp2f1(1, (f*coef2)/fix3,1 + (f*coef2)/fix3, m)) + \n",
    "#    mpmath.hyp2f1(1, (f*coef2)/fix3,1 + (f*coef2)/fix3, -exp((-h + t)/i)) + (f*coef2*np.log(1 + exp((-h + t)/i))/fix3)+(n*coef2**k*mpmath.polylog(k, -exp((-h + t)/i))/fix3**k)-(p*coef2**c*mpmath.polylog(c, -exp((-h + t)/i))/fix3**c))\n",
    "    y = c10*(b3[nm[2][2]-1]/(c30*fix3))*d33*finalint7(coef2,fix3,t,df5.iloc[10][1],df5.iloc[10][2],b3[nm[2][2]-1],xnm0[2][2])\n",
    "    return y\n",
    "\n",
    "def tau31(coef2,fix3,t):\n",
    "#     y = a*fix3/(coef2**2)*(-1-(b*coef2)/fix3-np.exp(c*coef2*(g-(-f+t)/e)/fix3)*(-1+mpmath.hyp2f1(1,(c*coef2)/fix3,1+(c*coef2)/fix3,d))\n",
    "#             +mpmath.hyp2f1(1,(c*coef2)/fix3,1+(c*coef2)/fix3,-np.exp((-f+t)/e))\n",
    "#             +(c*coef2*np.log(1+np.exp((-f+t)/e))/fix3))\n",
    "    y = c10*(b3[nm[2][0]-1]/(c30*fix3))*d31*finalint1(coef2,fix3,t,df5.iloc[12][1],df5.iloc[12][2],b3[nm[2][0]-1],xnm0[2][0])\n",
    "    return y\n",
    "\n",
    "def tau34(coef2,fix3,t):\n",
    "    y = c10*(b3[nm[2][3]-1]/(c30*fix3))*d34*finalint8(coef2,fix3,t,df5.iloc[11][1],df5.iloc[11][2],b3[nm[2][3]-1],xnm0[2][3])\n",
    "    return y\n",
    "\n",
    "def tau3(coef2,fix3,t):\n",
    "    y = tau31(coef2,fix3,t) + tau32(coef2,fix3,t) +tau33(coef2,fix3,t) +tau34(coef2,fix3,t)\n",
    "    return y\n",
    "\n",
    "# print (xnm0[2][3])\n",
    "print (tau3(2,5,2100))"
   ]
  },
  {
   "cell_type": "markdown",
   "metadata": {},
   "source": [
    "Other well mixed greenhouse gases radiative forcing formula contains a logistic function."
   ]
  },
  {
   "cell_type": "code",
   "execution_count": 14,
   "metadata": {},
   "outputs": [
    {
     "name": "stdout",
     "output_type": "stream",
     "text": [
      "0.04825742214543138\n",
      "0.360664\n"
     ]
    }
   ],
   "source": [
    "def finalint41(coef2,fix3,t,a,b,c,x0):\n",
    "    x = (-b+t)/a\n",
    "    s = (c*ctry2*coef2)/(c30*fix3*tup0)\n",
    "    y = (exp(-s*x)*(exp((1 + s)*x)*hyp2f1(1, 1 + s, 2 + s, -exp(x))-exp((1 + s)*x0)*hyp2f1(1, 1 + s, 2 + s, -exp(x0))))/(1 + s)\n",
    "    return y\n",
    "\n",
    "d41 = b1[nm[3][0]-1]\n",
    "\n",
    "def tau4(coef2,fix3,t):\n",
    "#     y = (1/((1 + (a*coef2)/fix3)*fix3))*b*exp(-((c*coef2*(-d+t))/fix3))*(-exp(-e*(1 + (a*coef2)/fix3))*mpmath.hyp2f1(1, 1 + (a*coef2)/fix3, \n",
    "#         2 + (a*coef2)/fix3, f) + exp((1 + (a*coef2)/fix3)*(-d+t)/g)*mpmath.hyp2f1(1, 1 + (a*coef2)/fix3, 2 + (a*coef2)/fix3, -exp((-d + t)/g)))\n",
    "    y = c10*(b3[nm[3][0]-1]/(c30*fix3))*d41*finalint41(coef2,fix3,t,df5.iloc[13][1],df5.iloc[13][2],b3[nm[3][0]-1],xnm0[3][0])\n",
    "    return y\n",
    "\n",
    "print (tau4(2,5,2100))\n",
    "print (d41)"
   ]
  },
  {
   "cell_type": "markdown",
   "metadata": {},
   "source": [
    "Contrails radiative forcing formula contains a logistic function."
   ]
  },
  {
   "cell_type": "code",
   "execution_count": 15,
   "metadata": {},
   "outputs": [
    {
     "name": "stdout",
     "output_type": "stream",
     "text": [
      "0.008800859361801753\n",
      "2.1623634198059896\n"
     ]
    }
   ],
   "source": [
    "d51 = b1[nm[4][0]-1]\n",
    "def tau5(coef2,fix3,t):\n",
    "#     y = (1/((1 + (a*coef2)/fix3)*fix3))*b*exp(-((c*coef2*(-d + t))/fix3))*(-exp(-e*(1 + (a*coef2)/fix3))*mpmath.hyp2f1(1, 1 + (a*coef2)/fix3, \n",
    "#         2 + (a*coef2)/fix3, f) + exp((1 + (a*coef2)/fix3)*(-d+ t)/g)*mpmath.hyp2f1(1, 1 + (a*coef2)/fix3, 2+(a*coef2)/fix3, -exp((-d + t)/g)))\n",
    "    y = c10*(b3[nm[3][0]-1]/(c30*fix3))*d51*finalint41(coef2,fix3,t,df5.iloc[14][1],df5.iloc[14][2],b3[nm[4][0]-1],xnm0[4][0])\n",
    "    return y\n",
    "\n",
    "print (tau5(2,5,2100))\n",
    "print ((b3[nm[4][0]-1])*ctry2/(c30*tup0))"
   ]
  },
  {
   "cell_type": "markdown",
   "metadata": {},
   "source": [
    "Land use albedo change shielding radiative forcing formula contain a logistic function and a constant times the first order time derivative of the unit logistic function."
   ]
  },
  {
   "cell_type": "code",
   "execution_count": 16,
   "metadata": {},
   "outputs": [
    {
     "name": "stdout",
     "output_type": "stream",
     "text": [
      "0.0201237652650039\n"
     ]
    }
   ],
   "source": [
    "d61 = b1[nm[5][0]-1]\n",
    "d62 = b1[nm[5][1]-1]/b3[nm[5][1]-1]\n",
    "\n",
    "def finalint62(coef2,fix3,t,a,b,c,x0):\n",
    "    x = (-b+t)/a\n",
    "    s = (c*ctry2*coef2)/(c30*fix3*tup0)\n",
    "    y = exp(-s*x)*(exp((1 + s)*x)*(1/(1 + exp(x))-s*hyp2f1(1, 1 + s, 2 + s, -exp(x))/(1 + s))+exp((1 + s)*x0)*(-1/(1 +exp(x0)) + s*hyp2f1(1, 1 + s, 2+s, -exp(x0))/(1 + s)))\n",
    "    return y\n",
    "\n",
    "def tau61(coef2,fix3,t):\n",
    "#     y = 1/((1 + a*coef2/fix3)*fix3)*b*exp(c*coef2*(-d + t)/fix3)*(-exp(-e*(1 + a*coef2/fix3))*mpmath.hyp2f1(1, 1 + (a*coef2)/fix3, 2 + (a*coef2)/fix3, f) + \n",
    "#         exp(g*(1 + (a*coef2)/fix3)*(-d + t))*mpmath.hyp2f1(1, 1 + (a*coef2)/fix3,2 + (a*coef2)/fix3, -exp((-d + t)/h)))\n",
    "    y = (b3[nm[5][0]-1]/(c30*fix3))*d61*finalint41(coef2,fix3,t,df5.iloc[15][1],df5.iloc[15][2],b3[nm[5][0]-1],xnm0[5][0])\n",
    "    return y\n",
    "\n",
    "def tau62(coef2,fix3,t):\n",
    "#     y = (1/fix3)*a*exp(b*coef2*(-c + t)/fix3)*(exp(d*(1 + e*coef2/fix3))*(f + (e*coef2*mpmath.hyp2f1(1, 1 + (e*coef2)/fix3, 2 + (e*coef2)/fix3, g)/((1 + (e*coef2)/fix3)*fix3))) + \n",
    "#         exp(h*(1 + (e*coef2)/fix3)*(-c + t))*(1/(1 + exp(h*(-c+ t))) - (e*coef2*mpmath.hyp2f1(1, 1 + (e*coef2)/fix3,2 + (e*coef2)/fix3,-exp(h*(-c + t)))/((1 + (e*coef2)/fix3)*fix3))))\n",
    "    y = (b3[nm[5][1]-1]/(c30*fix3))*d62*finalint62(coef2,fix3,t,df5.iloc[16][1],df5.iloc[16][2],b3[nm[5][1]-1],xnm0[5][1])\n",
    "    return y\n",
    "\n",
    "def tau6(coef2,fix3,t):\n",
    "    y = tau61(coef2,fix3,t)+tau62(coef2,fix3,t)\n",
    "    return y\n",
    "\n",
    "print (tau6(2,5,2100))\n",
    "# print (finalint62(2,5,2100,df5.iloc[16][1],df5.iloc[16][2],b3[nm[5][1]-1],xnm0[5][1]))\n",
    "# print (d62)"
   ]
  },
  {
   "cell_type": "markdown",
   "metadata": {},
   "source": [
    "Anthropogenic aerosols and black carbon on snow net shielding\n",
    "\n",
    "In this case, radiative forcing formula contain a first order time derivative of a unit logistic function, and a gaussian function."
   ]
  },
  {
   "cell_type": "code",
   "execution_count": 17,
   "metadata": {},
   "outputs": [
    {
     "name": "stdout",
     "output_type": "stream",
     "text": [
      "0.10984147461109102\n"
     ]
    }
   ],
   "source": [
    "# d71 = fix5*b4[nm[6][0]-1]*b1[nm[6][0]-1]/b3[nm[6][0]-1]\n",
    "\n",
    "def d71(fix5):\n",
    "    y = fix5*b4[nm[6][0]-1]*b1[nm[6][0]-1]/b3[nm[6][0]-1]\n",
    "    return y\n",
    "\n",
    "d72 = fix6*b1[nm[6][1]-1]\n",
    "\n",
    "def finalint72(coef2,fix3,t,a,b,c,x0):\n",
    "    x = (-b+t)/a\n",
    "    s = (c*ctry2*coef2)/(c30*fix3*tup0)\n",
    "    y = exp(1/2*s*(s-2*x))*sqrt(np.pi/2)*(erf((-s + x)/sqrt(2))-erf((-s + x0)/sqrt(2)))\n",
    "    return y\n",
    "\n",
    "def tau71(coef2,fix5,fix3,t):\n",
    "#     y = (1/coef2)*0.514069*fix5*(exp((19.7656*coef2*(-1.55602-0.00614202*(-2003.34 + t)))/fix3)*(0.210974*(1 + (19.7656*coef2)/fix3) + (19.7656*coef2)/fix3 - (28.9854*coef2*Hypergeometric2F1(1, (19.7656 coef2)/fix3,1 + (19.7656 coef2)/fix3, -0.210974))/fix3)-(exp(-1.55602 + 0.00614202*(-2003.34 + t))+0.210974*(1 + (39.5312*coef2)/fix3) + (20.6454*coef2)/fix3 - (28.9854*coef2*(1 +exp(0.00614202*(-2003.34 + t)))*Hypergeometric2F1(1, (19.7656*coef2)/fix3, 1 + (19.7656*coef2)/fix3, -exp(0.00614202*(-2003.34 + t))))/fix3)/(1 + exp(0.00614202*(-2003.34 + t))))\n",
    "    y = c00*(b3[nm[6][0]-1]/(c30*fix3))*d71(fix5)*finalint4(coef2,fix3,t,df5.iloc[17][1],df5.iloc[17][2],b3[nm[6][0]-1],xnm0[6][0])\n",
    "    return y\n",
    "\n",
    "def tau72(coef2,fix3,t):\n",
    "#     y = 0.672178*exp((1.72979*coef2*((3.45959*coef2)/fix3 - 0.0701821*(-2001.19 + t)))/fix3)*(-erf((-8.81452-(3.45959*coef2)/fix3)/sqrt(2)) + erf((-((3.45959*coef2)/fix3) + 0.035091*(-2001.19 + t))/sqrt(2)))/fix3\n",
    "    y = c00*(b3[nm[6][1]-1]/(c30*fix3))*d72*finalint72(coef2,fix3,t,df5.iloc[18][1],df5.iloc[18][2],b3[nm[6][1]-1],xnm0[6][1])\n",
    "    return y\n",
    "\n",
    "def tau7(coef2,fix3,fix5,t):\n",
    "    y = tau71(coef2,fix5,fix3,t)+tau72(coef2,fix3,t)\n",
    "    return y\n",
    "print (tau7(2,5,3,2100))"
   ]
  },
  {
   "cell_type": "markdown",
   "metadata": {},
   "source": [
    "Tropospheric Ozone Forcing\n",
    "\n",
    "In this case, radiative forcing formula contain a first order time derivative of a unit logistic function, and a gaussian function."
   ]
  },
  {
   "cell_type": "code",
   "execution_count": 18,
   "metadata": {},
   "outputs": [
    {
     "name": "stdout",
     "output_type": "stream",
     "text": [
      "0.01894799033194046\n",
      "-1.5560182540706204\n"
     ]
    }
   ],
   "source": [
    "d101 = b4[nm[9][0]-1]*b1[nm[9][0]-1]/b3[nm[9][0]-1]\n",
    "d102 = b1[nm[9][1]-1]\n",
    "\n",
    "def tau101(coef2,fix3,t):\n",
    "#     y = (1/coef2)*0.164377*(exp((19.7656*coef2*(-1.55602-0.00614202*(-2003.34 + t)))/fix3)*(0.210974*(1 + (19.7656*coef2)/fix3) + (19.7656*coef2)/fix3 - (28.9854*coef2*Hypergeometric2F1(1, (19.7656 coef2)/fix3,1 + (19.7656 coef2)/fix3, -0.210974))/fix3)-(exp(-1.55602 + 0.00614202*(-2003.34 + t))+0.210974*(1 + (39.5312*coef2)/fix3) + (20.6454*coef2)/fix3 - (28.9854*coef2*(1 +exp(0.00614202*(-2003.34 + t)))*Hypergeometric2F1(1, (19.7656*coef2)/fix3, 1 + (19.7656*coef2)/fix3, -exp(0.00614202*(-2003.34 + t))))/fix3)/(1 + exp(0.00614202*(-2003.34 + t))))\n",
    "    y = c10*(b3[nm[6][0]-1]/(c30*fix3))*d101*finalint4(coef2,fix3,t,df5.iloc[19][1],df5.iloc[19][2],b3[nm[6][0]-1],xnm0[6][0])\n",
    "    return y\n",
    "\n",
    "def tau102(coef2,fix3,t):\n",
    "#     y = 0.672178*exp((1.72979*coef2*((3.45959*coef2)/fix3 - 0.0701821*(-2001.19 + t)))/fix3)*(-erf((-8.81452-(3.45959*coef2)/fix3)/sqrt(2)) + erf((-((3.45959*coef2)/fix3) + 0.035091*(-2001.19 + t))/sqrt(2)))/fix3\n",
    "    y = c10*(b3[nm[9][1]-1]/(c30*fix3))*d102*finalint72(coef2,fix3,t,df5.iloc[20][1],df5.iloc[20][2],b3[nm[9][1]-1],xnm0[9][1])\n",
    "    return y\n",
    "\n",
    "def tau10(coef2,fix3,t):\n",
    "    y = tau101(coef2,fix3,t) + tau102(coef2,fix3,t)\n",
    "    return y\n",
    "print (tau10(2,5,2100))\n",
    "print (xnm0[6][0])"
   ]
  },
  {
   "cell_type": "markdown",
   "metadata": {},
   "source": [
    "Volcanic shielding\n",
    "\n",
    "In this case, radiative forcing formula contain a unit logistic function, and a (1-unit logistic function)."
   ]
  },
  {
   "cell_type": "code",
   "execution_count": 19,
   "metadata": {},
   "outputs": [
    {
     "name": "stdout",
     "output_type": "stream",
     "text": [
      "0.183586\n",
      "0.024655816736400125\n",
      "2.0\n"
     ]
    }
   ],
   "source": [
    "d81 = b1[nm[7][0]-1]\n",
    "d82 = b1[nm[7][1]-1]\n",
    "d83 = -b1[nm[7][1]-1]\n",
    "d84 = b4[nm[7][1]-1]\n",
    "print (d84)\n",
    "\n",
    "def finalint81(coef2,fix3,t,a,b,c,x0):\n",
    "    x = (-b+t)/a\n",
    "    s = (c*ctry2*coef2)/(c30*fix3*tup0)\n",
    "    y = (hyp2f1(1, s, 1 + s, -exp(x)) - exp(s*(-x + x0))*hyp2f1(1, s, 1 + s, -exp(x0)))/s\n",
    "    return y\n",
    "\n",
    "def finalint82(coef2,fix3,t,a,b,c,x0):\n",
    "    x = (-b+t)/a\n",
    "    s = (c*ctry2*coef2)/(c30*fix3*tup0)\n",
    "    y = exp(-s*x)*(exp((1 + s)*x)*hyp2f1(1, 1 + s, 2 + s, -exp(x))-exp((1 + s)*x0)*hyp2f1(1, 1 + s, 2 + s, -exp(x0)))/(1 + s)\n",
    "    return y\n",
    "\n",
    "def tau81(coef2,fix3,t):\n",
    "    y = (b3[nm[7][0]-1]/(c30*fix3))*d81*finalint81(coef2,fix3,t,df5.iloc[21][1],df5.iloc[21][2],b3[nm[7][0]-1],xnm0[7][0])\n",
    "    return y\n",
    "def tau82(coef2,fix3,t):\n",
    "    y = (b3[nm[7][0]-1]/(c30*fix3))*d82*finalint82(coef2,fix3,t,df5.iloc[22][1],df5.iloc[22][2],b3[nm[7][0]-1],xnm0[7][0])\n",
    "    return y\n",
    "def tau83(coef2,fix3,t):\n",
    "    y = (b3[nm[7][1]-1]/(c30*fix3))*d83*finalint82(coef2,fix3,t,df5.iloc[23][1],df5.iloc[23][2],b3[nm[7][1]-1],xnm0[7][1])\n",
    "    return y\n",
    "def tau84(coef2,fix3,t):\n",
    "    y = (b3[nm[7][1]-1]/(c30*fix3))*d84*finalint82(coef2,fix3,t,df5.iloc[23][1],df5.iloc[23][2],b3[nm[7][1]-1],xnm0[7][1])\n",
    "    return y\n",
    "def tau8(coef2,fix3,t):\n",
    "    y = tau81(coef2,fix3,t)+tau82(coef2,fix3,t) +tau83(coef2,fix3,t) +tau84(coef2,fix3,t) \n",
    "    return y\n",
    "\n",
    "print (tau8(2,5,2100))\n",
    "print(df5.iloc[23][1])"
   ]
  },
  {
   "cell_type": "markdown",
   "metadata": {},
   "source": [
    "Irradiance variation forcing\n",
    "\n",
    "In this case, radiative forcing formula contain a cosine function and a gaussian function."
   ]
  },
  {
   "cell_type": "code",
   "execution_count": 20,
   "metadata": {},
   "outputs": [
    {
     "name": "stdout",
     "output_type": "stream",
     "text": [
      "[[-8.912624340971526, -1.5560182540706204, -8.19754796844041, -32.85303215208119, -22.968805442510636, -15.976109753212969], [-5.410597434732601, -5.410597434732601, -5.410597434732601], [-6.283576980886852, -6.283576980886852, -6.283576980886852, -40.5836780212064], [-30.582698520320662], [-15.514434251451279], [-10.0847288676236, -3.3308494783904616], [-1.5560182540706204, -8.814519270246658], [-22.75, -34.5], [0.6649853174864708, 0.7126112909360466, -9.470909090909096, -47.9909090909091], [-1.5560182540706204, -7.0628848410577385]]\n",
      "0.04236964782934066\n",
      "11.0\n"
     ]
    }
   ],
   "source": [
    "d91 = b1[nm[8][0]-1]\n",
    "d92 = b1[nm[8][1]-1]\n",
    "d93 = -b1[nm[8][2]-1]\n",
    "d94 = b1[nm[8][3]-1]\n",
    "d95 = b4[nm[8][1]-1]\n",
    "\n",
    "def finalint9(coef2,fix3,t,a,b,c,x0):\n",
    "    x = (-b+t)/a\n",
    "    s = (c*ctry2*coef2)/(c30*fix3*tup0)\n",
    "    y = exp(-s*x)*(exp(s*x)*s*np.cos(2*np.pi*x)-exp(s*x0)*s*np.cos(2*np.pi*x0)+2*exp(s*x)*np.pi*np.sin(2*np.pi*x)-2*exp(s*x0)*np.pi *np.sin(2*np.pi*x0))/(4*np.pi**2 + s**2)\n",
    "    return y\n",
    "\n",
    "def finalint95(coef2,fix3,t,a,b,c,x0):\n",
    "    x = (-b+t)/a\n",
    "    s = (c*ctry2*coef2)/(c30*fix3*tup0)\n",
    "    y = -(-1 + exp(s*(-x + x0)))/s\n",
    "    return y\n",
    "\n",
    "def tau91(coef2,fix3,t):\n",
    "    y = (b3[nm[8][0]-1]/(c30*fix3))*d91*finalint9(coef2,fix3,t,df5.iloc[25][1],df5.iloc[25][2],b3[nm[8][0]-1],xnm0[8][0])\n",
    "    return y\n",
    "\n",
    "def tau92(coef2,fix3,t):\n",
    "    y = (b3[nm[8][1]-1]/(c30*fix3))*d92*finalint9(coef2,fix3,t,df5.iloc[24][1],df5.iloc[24][2],b3[nm[8][1]-1],xnm0[8][1])\n",
    "    return y\n",
    "\n",
    "def tau93(coef2,fix3,t):\n",
    "    y = (b3[nm[8][2]-1]/(c30*fix3))*d93*finalint72(coef2,fix3,t,df5.iloc[26][1],df5.iloc[26][2],b3[nm[8][2]-1],xnm0[8][2])\n",
    "    return y\n",
    "\n",
    "def tau94(coef2,fix3,t):\n",
    "    y = (b3[nm[8][3]-1]/(c30*fix3))*d94*finalint72(coef2,fix3,t,df5.iloc[27][1],df5.iloc[27][2],b3[nm[8][3]-1],xnm0[8][3])\n",
    "    return y\n",
    "\n",
    "def tau95(coef2,fix3,t):\n",
    "    y = (b3[nm[8][1]-1]/(c30*fix3))*d95*finalint95(coef2,fix3,t,df5.iloc[28][1],df5.iloc[28][2],b3[nm[8][1]-1],xnm0[8][1])\n",
    "    return y\n",
    "\n",
    "def tau9(coef2,fix3,t):\n",
    "    y = tau91(coef2,fix3,t) + tau92(coef2,fix3,t) + tau93(coef2,fix3,t) + tau94(coef2,fix3,t) + tau95(coef2,fix3,t)\n",
    "    return y\n",
    "print (xnm0)\n",
    "print (tau9(2,5,2100))\n",
    "print (df5.iloc[26][1])"
   ]
  },
  {
   "cell_type": "markdown",
   "metadata": {},
   "source": [
    "Total tau"
   ]
  },
  {
   "cell_type": "code",
   "execution_count": 21,
   "metadata": {},
   "outputs": [
    {
     "name": "stdout",
     "output_type": "stream",
     "text": [
      "[1750, 1751, 1752, 1753, 1754, 1755, 1756, 1757, 1758, 1759, 1760, 1761, 1762, 1763, 1764, 1765, 1766, 1767, 1768, 1769, 1770, 1771, 1772, 1773, 1774, 1775, 1776, 1777, 1778, 1779, 1780, 1781, 1782, 1783, 1784, 1785, 1786, 1787, 1788, 1789, 1790, 1791, 1792, 1793, 1794, 1795, 1796, 1797, 1798, 1799, 1800, 1801, 1802, 1803, 1804, 1805, 1806, 1807, 1808, 1809, 1810, 1811, 1812, 1813, 1814, 1815, 1816, 1817, 1818, 1819, 1820, 1821, 1822, 1823, 1824, 1825, 1826, 1827, 1828, 1829, 1830, 1831, 1832, 1833, 1834, 1835, 1836, 1837, 1838, 1839, 1840, 1841, 1842, 1843, 1844, 1845, 1846, 1847, 1848, 1849, 1850, 1851, 1852, 1853, 1854, 1855, 1856, 1857, 1858, 1859, 1860, 1861, 1862, 1863, 1864, 1865, 1866, 1867, 1868, 1869, 1870, 1871, 1872, 1873, 1874, 1875, 1876, 1877, 1878, 1879, 1880, 1881, 1882, 1883, 1884, 1885, 1886, 1887, 1888, 1889, 1890, 1891, 1892, 1893, 1894, 1895, 1896, 1897, 1898, 1899, 1900, 1901, 1902, 1903, 1904, 1905, 1906, 1907, 1908, 1909, 1910, 1911, 1912, 1913, 1914, 1915, 1916, 1917, 1918, 1919, 1920, 1921, 1922, 1923, 1924, 1925, 1926, 1927, 1928, 1929, 1930, 1931, 1932, 1933, 1934, 1935, 1936, 1937, 1938, 1939, 1940, 1941, 1942, 1943, 1944, 1945, 1946, 1947, 1948, 1949, 1950, 1951, 1952, 1953, 1954, 1955, 1956, 1957, 1958, 1959, 1960, 1961, 1962, 1963, 1964, 1965, 1966, 1967, 1968, 1969, 1970, 1971, 1972, 1973, 1974, 1975, 1976, 1977, 1978, 1979, 1980, 1981, 1982, 1983, 1984, 1985, 1986, 1987, 1988, 1989, 1990, 1991, 1992, 1993, 1994, 1995, 1996, 1997, 1998, 1999, 2000, 2001, 2002, 2003, 2004, 2005, 2006, 2007, 2008, 2009, 2010, 2011, 2012, 2013, 2014, 2015, 2016, 2017]\n",
      "142\n",
      "126\n",
      "[-0.08456090909089653, -0.1345609090909079, -0.124560909090917, -0.04456090909093291, 0.07543909090907164, 0.06543909090908073, -0.09456090909088744, 0.005439090909078459, 0.09543909090911029, 0.03543909090910802, -0.11456090909092609, -0.20456090909090108, -0.3145609090909147, -0.10456090909093518, -0.034560909090942005, -0.20456090909090108, -0.25456090909091245, -0.2945609090909329, -0.24456090909092154, -0.24456090909092154, -0.16456090909093746, -0.16456090909093746, 0.03543909090910802, 0.06543909090908073, -0.1345609090909079, -0.24456090909092154, -0.09456090909088744, -0.07456090909090562, -0.06456090909091472, 0.015439090909069364, -0.07456090909090562, -0.054560909090923815, -0.06456090909091472, -0.014560909090903351, 0.09543909090911029, -0.014560909090903351, -0.004560909090912446, -0.1545609090908897, 0.04543909090909892, 0.08543909090906254, 0.015439090909069364, -0.10456090909093518, 0.04543909090909892, -0.014560909090903351, 0.02543909090906027, 0.14543909090906482, 0.15543909090911256, 0.15543909090911256, 0.2954390909090989, 0.3654390909090921, 0.23543909090909665, 0.25543909090907846, 0.3954390909090648, 0.27543909090906027, 0.1154390909090921, 0.14543909090906482, 0.07543909090907164, 0.07543909090907164, 0.005439090909078459, 0.125439090909083, 0.19543909090907619, 0.25543909090907846, 0.04543909090909892, 0.04543909090909892, -0.014560909090903351, 0.22543909090910574, 0.25543909090907846, 0.215439090909058, 0.16543909090910347, 0.23543909090909665, 0.22543909090910574, 0.25543909090907846, -0.014560909090903351, 0.08543909090906254, 0.1354390909090739, 0.16543909090910347, 0.1054390909091012, 0.25543909090907846, 0.215439090909058, 0.09543909090911029, 0.19543909090907619, 0.3454390909091103, 0.1054390909091012, 0.16543909090910347, 0.07543909090907164, 0.3554390909091012, 0.24543909090908755, 0.3454390909091103, 0.4554390909090671, 0.5154390909090694, 0.31543909090908073, 0.49543909090908755, 0.3454390909091103, 0.3054390909090898, 0.3654390909090921, 0.5154390909090694, 0.5954390909091103, 0.47543909090910574, 0.625439090909083, 0.5954390909091103, 0.40543909090911256, 0.4254390909090944, 0.49543909090908755, 0.625439090909083, 0.5154390909090694, 0.6554390909091126, 0.8054390909090898, 0.5854390909090625, 0.5854390909090625, 0.715439090909058, 0.8054390909090898, 0.7954390909090989, 0.7254390909091057, 0.8554390909091012, 0.8054390909090898, 0.8254390909090716, 0.7054390909090671, 0.8254390909090716, 0.8854390909090739, 0.7654390909090694, 0.8054390909090898, 0.8254390909090716, 0.9154390909091035, 1.0554390909090898, 1.1754390909090944, 1.0751416088210135]\n"
     ]
    }
   ],
   "source": [
    "# def tau(coef2,fix3,fix5,t):\n",
    "#     y = tau1(coef2,fix3,t) + tau2(coef2,fix3,t) + tau3(coef2,fix3,t) + tau4(coef2,fix3,t) + tau5(coef2,fix3,t) - tau6(coef2,fix3,t) - tau7(coef2,fix3,fix5,t) - tau8(coef2,fix3,t) + tau9(coef2,fix3,t) + tau10(coef2,fix3,t)\n",
    "#     return y\n",
    "\n",
    "tstart = 1892\n",
    "yrswarm = warm.iloc[:,0]\n",
    "yrswarm = yrswarm.tolist()\n",
    "yrswarm = list(map(int, yrswarm))\n",
    "\n",
    "tempswarm = warm.iloc[:,1]\n",
    "tempswarm = tempswarm.tolist()\n",
    "tempswarm = list(map(float, tempswarm))\n",
    "\n",
    "istart = yrswarm.index(tstart)\n",
    "print (yrswarm)\n",
    "print (istart)\n",
    "yrswarmi = yrswarm[istart:]\n",
    "tempswarmi = tempswarm[istart:]\n",
    "fixtemps = fixwarm.iloc[:,1]\n",
    "print (len(yrswarmi))\n",
    "# print(tempswarmi)\n",
    "\n",
    "# yrswarmi = np.array(yrswarmi, dtype=np.float32)\n",
    "# tempswarmi = np.array(tempswarmi, dtype=np.float32)\n",
    "\n",
    "# taui = tau /. t -> yrswarm\n",
    "# err1 = Drop[(tempswarm - taui), istart - 1]\n",
    "# fixerr1 = (fixtemps - taui)\n",
    "# var = err1.err1\n",
    "# fixvar = fixerr1.fixerr1\n",
    "\n",
    "# def tau(t,coef2,fix3,fix5):\n",
    "# def tau(t,coef2,fix3):\n",
    "# #     y = tau1(coef2,fix3,t) + tau2(coef2,fix3,t) + tau3(coef2,fix3,t) + tau4(coef2,fix3,t) + tau5(coef2,fix3,t) - tau6(coef2,fix3,t) - tau7(coef2,fix3,fix5,t) - tau8(coef2,fix3,t) + tau9(coef2,fix3,t) + tau10(coef2,fix3,t)\n",
    "# #     y = tau1(t,coef2,fix3) + tau2(t,coef2,fix3) + tau3(t,coef2,fix3) + tau4(t,coef2,fix3) + tau5(t,coef2,fix3) - tau6(t,coef2,fix3) - tau7(t,coef2,fix3,fix5) - tau8(t,coef2,fix3) + tau9(t,coef2,fix3) + tau10(t,coef2,fix3)\n",
    "#     y = tau11(t,coef2,fix3) \n",
    "#     return y\n",
    "# #     return y\n",
    "\n",
    "# # param_bounds=([0.1,0.1,0.5],[1,1,5])\n",
    "# param_bounds=([0.1,0.1],[1,1])\n",
    "# popt, pcov = curve_fit(tau, yrswarmi, tempswarmi, bounds=param_bounds)\n",
    "# print (popt)"
   ]
  }
 ],
 "metadata": {
  "kernelspec": {
   "display_name": "Python 3",
   "language": "python",
   "name": "python3"
  },
  "language_info": {
   "codemirror_mode": {
    "name": "ipython",
    "version": 3
   },
   "file_extension": ".py",
   "mimetype": "text/x-python",
   "name": "python",
   "nbconvert_exporter": "python",
   "pygments_lexer": "ipython3",
   "version": "3.6.4"
  }
 },
 "nbformat": 4,
 "nbformat_minor": 2
}
