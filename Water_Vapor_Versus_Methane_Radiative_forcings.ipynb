{
 "cells": [
  {
   "cell_type": "markdown",
   "metadata": {},
   "source": [
    "# Evaluate the effect of water vapor on radiative forcings"
   ]
  },
  {
   "cell_type": "markdown",
   "metadata": {},
   "source": [
    "Clear all variables and reset the working directory and import necessary libraries"
   ]
  },
  {
   "cell_type": "code",
   "execution_count": 1,
   "metadata": {},
   "outputs": [],
   "source": [
    "%reset -f\n",
    "import os\n",
    "import pandas as pd\n",
    "import datetime\n",
    "import matplotlib.pyplot as plt\n",
    "import numpy as np\n",
    "from scipy.optimize import curve_fit\n",
    "import math\n",
    "os.chdir('C:\\\\Users\\\\cd7\\\\Desktop\\\\watervapor')"
   ]
  },
  {
   "cell_type": "markdown",
   "metadata": {},
   "source": [
    "Read two excel spreadsheets and import data"
   ]
  },
  {
   "cell_type": "code",
   "execution_count": 2,
   "metadata": {},
   "outputs": [],
   "source": [
    "df1 = pd.read_excel('waterdata.xlsx', 'methane_water')"
   ]
  },
  {
   "cell_type": "code",
   "execution_count": 3,
   "metadata": {},
   "outputs": [],
   "source": [
    "yrs = df1.iloc[:,0:1]\n",
    "mlist = df1.iloc[:,1:2]\n",
    "waterlist = df1.iloc[:,2:3]"
   ]
  },
  {
   "cell_type": "code",
   "execution_count": 4,
   "metadata": {},
   "outputs": [
    {
     "name": "stdout",
     "output_type": "stream",
     "text": [
      "742.579604911905\n"
     ]
    }
   ],
   "source": [
    "f0 = 0.47\n",
    "f1 = 0.0000201\n",
    "f2 = 5.31*10**-15\n",
    "e1 = 0.75\n",
    "e2 = 1.52\n",
    "alpha = 5.35\n",
    "beta = 0.036\n",
    "eps = 0.12\n",
    "c0 = 278\n",
    "m0  = mlist.iloc[0] # m0=722\n",
    "m0 = float(m0)\n",
    "# print (type(m0))\n",
    "n0 = 270\n",
    "print (m0)"
   ]
  },
  {
   "cell_type": "code",
   "execution_count": 5,
   "metadata": {},
   "outputs": [],
   "source": [
    "def fch4(m):\n",
    "    y = f0*np.log(1 + f1 *(m *n0)**e1 + f2 *m* (m* n0)**e2)\n",
    "    return y\n",
    "f00 = fch4(m0)\n",
    "\n",
    "def ch4raw(m):\n",
    "    y = beta *(np.sqrt(m) - np.sqrt(m0)) - (fch4(m) - f00)\n",
    "    return y\n",
    "ch40 = eval('ch4raw(mlist)')"
   ]
  },
  {
   "cell_type": "code",
   "execution_count": 6,
   "metadata": {},
   "outputs": [],
   "source": [
    "df2 = pd.merge(ch40,waterlist, left_index =True, right_index =True,how='outer')\n",
    "ch40 = df2.iloc[:,0]\n",
    "ch40 = ch40.tolist()\n",
    "waterlist = df2.iloc[:,1]\n",
    "waterlist = waterlist.tolist()"
   ]
  },
  {
   "cell_type": "code",
   "execution_count": 7,
   "metadata": {},
   "outputs": [
    {
     "name": "stdout",
     "output_type": "stream",
     "text": [
      "[0.14960033]\n"
     ]
    }
   ],
   "source": [
    "def linear(x,a):\n",
    "     y = a*x\n",
    "     return y\n",
    "param_bounds=(0,1)\n",
    "popt,pcov = curve_fit(linear,ch40, waterlist, bounds=param_bounds)\n",
    "print (popt)"
   ]
  },
  {
   "cell_type": "markdown",
   "metadata": {},
   "source": [
    "Plot figures"
   ]
  },
  {
   "cell_type": "code",
   "execution_count": 8,
   "metadata": {},
   "outputs": [
    {
     "data": {
      "image/png": "[encoded data removed]",
      "text/plain": [
       "<matplotlib.figure.Figure at 0x227cce42320>"
      ]
     },
     "metadata": {},
     "output_type": "display_data"
    }
   ],
   "source": [
    "x = np.array(ch40)\n",
    "y = linear(x, *popt)\n",
    "plt.scatter(ch40, waterlist, s=2,c='r',alpha = 0.5, label=\"data\",marker='o')\n",
    "plt.plot(x,y,label='fit')\n",
    "plt.xlabel('Methane Forcings')\n",
    "plt.ylabel('Water Vapor Forcings')\n",
    "plt.legend(loc='best')\n",
    "plt.savefig('water.eps',dpi=1000)\n",
    "plt.savefig('water.pdf',dpi=1000)\n",
    "plt.show()"
   ]
  },
  {
   "cell_type": "code",
   "execution_count": 9,
   "metadata": {},
   "outputs": [
    {
     "name": "stdout",
     "output_type": "stream",
     "text": [
      "     CH4_Concentration(ppb)  H2O (Strat)\n",
      "0                  0.000000        0.000\n",
      "1                 -0.000246        0.000\n",
      "2                 -0.000369        0.000\n",
      "3                 -0.000308        0.000\n",
      "4                 -0.000184        0.000\n",
      "5                  0.000000        0.000\n",
      "6                  0.000246        0.000\n",
      "7                  0.000553        0.000\n",
      "8                  0.000983        0.000\n",
      "9                  0.001413        0.000\n",
      "10                 0.001965        0.000\n",
      "11                 0.002579        0.000\n",
      "12                 0.003253        0.001\n",
      "13                 0.004048        0.001\n",
      "14                 0.004905        0.001\n",
      "15                 0.005882        0.001\n",
      "16                 0.006859        0.001\n",
      "17                 0.007834        0.001\n",
      "18                 0.008808        0.001\n",
      "19                 0.009781        0.001\n",
      "20                 0.010692        0.001\n",
      "21                 0.011481        0.001\n",
      "22                 0.012209        0.001\n",
      "23                 0.012815        0.001\n",
      "24                 0.013178        0.001\n",
      "25                 0.013420        0.001\n",
      "26                 0.013480        0.001\n",
      "27                 0.013420        0.001\n",
      "28                 0.013359        0.001\n",
      "29                 0.013238        0.001\n",
      "..                      ...          ...\n",
      "232                0.414321        0.062\n",
      "233                0.417274        0.063\n",
      "234                0.420259        0.064\n",
      "235                0.425204        0.065\n",
      "236                0.430015        0.065\n",
      "237                0.434692        0.066\n",
      "238                0.438971        0.067\n",
      "239                0.443121        0.067\n",
      "240                0.446878        0.068\n",
      "241                0.450927        0.068\n",
      "242                0.454925        0.069\n",
      "243                0.455301        0.069\n",
      "244                0.457370        0.069\n",
      "245                0.459961        0.070\n",
      "246                0.460823        0.070\n",
      "247                0.462097        0.070\n",
      "248                0.466209        0.071\n",
      "249                0.468670        0.071\n",
      "250                0.469117        0.071\n",
      "251                0.468297        0.071\n",
      "252                0.468894        0.071\n",
      "253                0.470494        0.071\n",
      "254                0.470494        0.071\n",
      "255                0.469415        0.071\n",
      "256                0.469675        0.071\n",
      "257                0.472018        0.071\n",
      "258                0.474209        0.072\n",
      "259                0.476543        0.072\n",
      "260                0.478541        0.072\n",
      "261                0.480167        0.073\n",
      "\n",
      "[262 rows x 2 columns]\n"
     ]
    }
   ],
   "source": [
    "print (df2)"
   ]
  },
  {
   "cell_type": "code",
   "execution_count": 10,
   "metadata": {},
   "outputs": [
    {
     "name": "stdout",
     "output_type": "stream",
     "text": [
      "[1.65838186]\n",
      "[11.0854159]\n",
      "[0.14960033]\n"
     ]
    }
   ],
   "source": [
    "# print (len(ch40))\n",
    "# print (ch40[0])\n",
    "# print (ch40)\n",
    "# a =[]\n",
    "a = np.zeros((262, 1))\n",
    "for i in range(0,len(ch40)):\n",
    "    a[i] = ch40[i]*waterlist[i]\n",
    "numerator = sum(a)\n",
    "print (numerator)\n",
    "\n",
    "b = np.zeros((262, 1))\n",
    "for i in range(0,len(ch40)):\n",
    "    b[i] = ch40[i]*ch40[i]\n",
    "denominator = sum(b)\n",
    "print (denominator)\n",
    "print (numerator/denominator)\n",
    "\n",
    "# c = np.zeros((262,1))\n",
    "# for i in range(0,len(ch40)):\n",
    "#     c[i] = waterlist[i]/ch40[i]\n",
    "# fitt = sum(c)\n",
    "# # print (fitt/262)\n"
   ]
  }
 ],
 "metadata": {
  "kernelspec": {
   "display_name": "Python 3",
   "language": "python",
   "name": "python3"
  },
  "language_info": {
   "codemirror_mode": {
    "name": "ipython",
    "version": 3
   },
   "file_extension": ".py",
   "mimetype": "text/x-python",
   "name": "python",
   "nbconvert_exporter": "python",
   "pygments_lexer": "ipython3",
   "version": "3.6.4"
  }
 },
 "nbformat": 4,
 "nbformat_minor": 2
}
