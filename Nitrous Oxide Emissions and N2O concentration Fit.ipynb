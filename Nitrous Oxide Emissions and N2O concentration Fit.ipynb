{
 "cells": [
  {
   "cell_type": "markdown",
   "metadata": {},
   "source": [
    "Purpose: Approximately integrate nitrous oxide emissions starting from 1750, and compute atmospheric concentration"
   ]
  },
  {
   "cell_type": "markdown",
   "metadata": {},
   "source": [
    "Clear all variables and reset the working directory and import necessary libraries"
   ]
  },
  {
   "cell_type": "code",
   "execution_count": 1,
   "metadata": {},
   "outputs": [],
   "source": [
    "%reset -f\n",
    "import os\n",
    "import pandas as pd\n",
    "import datetime\n",
    "import matplotlib.pyplot as plt\n",
    "import numpy as np\n",
    "import sympy as sp\n",
    "from scipy.optimize import curve_fit\n",
    "import csv\n",
    "\n",
    "import mpmath\n",
    "from sympy import integrate\n",
    "from sympy import Symbol\n",
    "from sympy import evalf\n",
    "from scipy.integrate import quad\n",
    "import scipy\n",
    "import math\n",
    "os.chdir('C:\\\\Users\\\\cd7\\\\Desktop\\\\Heat17N2O')"
   ]
  },
  {
   "cell_type": "markdown",
   "metadata": {},
   "source": [
    "Read three input files separately and assign the year values and methane concentration data"
   ]
  },
  {
   "cell_type": "code",
   "execution_count": 2,
   "metadata": {},
   "outputs": [
    {
     "name": "stdout",
     "output_type": "stream",
     "text": [
      "     Julian                 ppb\n",
      "0         1   263.1505461767626\n",
      "1         2   263.0509433962264\n",
      "2         3   263.0509433962264\n",
      "3         4   262.9513406156901\n",
      "4         5   262.9513406156901\n",
      "5         6  262.85173783515387\n",
      "6         7  262.75213505461767\n",
      "7         8  262.75213505461767\n",
      "8         9  262.65253227408135\n",
      "9        10  262.65253227408135\n",
      "10       11  262.55292949354515\n",
      "11       12  262.55292949354515\n",
      "12       13   262.4533267130089\n",
      "13       14   262.4533267130089\n",
      "14       15  262.35372393247263\n",
      "15       16  262.35372393247263\n",
      "16       17  262.35372393247263\n",
      "17       18  262.25412115193643\n",
      "18       19  262.25412115193643\n",
      "19       20   262.1545183714002\n",
      "20       21   262.1545183714002\n",
      "21       22   262.1545183714002\n",
      "22       23   262.1545183714002\n",
      "23       24   262.0549155908639\n",
      "24       25   262.0549155908639\n",
      "25       26   262.0549155908639\n",
      "26       27   262.0549155908639\n",
      "27       28   262.0549155908639\n",
      "28       29   262.0549155908639\n",
      "29       30   262.0549155908639\n",
      "...     ...                 ...\n",
      "1987   1988               306.7\n",
      "1988   1989               307.9\n",
      "1989   1990               308.7\n",
      "1990   1991               309.3\n",
      "1991   1992               309.9\n",
      "1992   1993               310.2\n",
      "1993   1994               310.8\n",
      "1994   1995               311.1\n",
      "1995   1996               311.9\n",
      "1996   1997               312.7\n",
      "1997   1998               313.5\n",
      "1998   1999               314.6\n",
      "1999   2000               315.5\n",
      "2000   2001               316.3\n",
      "2001   2002                 317\n",
      "2002   2003               317.7\n",
      "2003   2004               318.3\n",
      "2004   2005                 319\n",
      "2005   2006                 320\n",
      "2006   2007               320.7\n",
      "2007   2008               321.6\n",
      "2008   2009               322.2\n",
      "2009   2010               323.1\n",
      "2010   2011               324.2\n",
      "2011   2012                 325\n",
      "2012   2013               325.9\n",
      "2013   2014               327.1\n",
      "2014   2015               328.1\n",
      "2015   2016               328.9\n",
      "2016   2017  329.79999999999995\n",
      "\n",
      "[2017 rows x 2 columns]\n"
     ]
    }
   ],
   "source": [
    "df1 = pd.read_excel('heat18parameters13jan.xlsx')\n",
    "df1.to_csv('heat18parameters13jan.csv',header=False,index=False)\n",
    "df1 = pd.read_csv('heat18parameters13jan.csv')\n",
    "\n",
    "df2 = pd.read_excel('heat17-n2o-1-2017dec16.xlsx') # results of excel sheet from code of radiative forcing\n",
    "df2.to_csv('heat17-n2o-1-2017dec16.csv',header=False,index=False)\n",
    "df3 = pd.read_csv('heat17-n2o-1-2017dec16.csv')\n",
    "df3.drop(df3.index[[-1]],inplace=True)\n",
    "print (df3)"
   ]
  },
  {
   "cell_type": "markdown",
   "metadata": {},
   "source": [
    "Assemble and Plot Data"
   ]
  },
  {
   "cell_type": "code",
   "execution_count": 3,
   "metadata": {},
   "outputs": [
    {
     "name": "stdout",
     "output_type": "stream",
     "text": [
      "    Julian                 ppb\n",
      "0     1750  270.12274081429985\n",
      "1     1751   270.4215491559086\n",
      "2     1752  270.72035749751734\n",
      "3     1753   271.1187686196623\n",
      "4     1754  271.41757696127104\n",
      "5     1755   271.7163853028798\n",
      "6     1756  272.01519364448853\n",
      "7     1757  272.31400198609725\n",
      "8     1758  272.61281032770603\n",
      "9     1759   272.8120158887785\n",
      "10    1760    273.011221449851\n",
      "11    1761   273.1108242303872\n",
      "12    1762   273.2104270109235\n",
      "13    1763   273.2104270109235\n",
      "14    1764   273.1108242303872\n",
      "15    1765   273.1108242303872\n",
      "16    1766    273.011221449851\n",
      "17    1767  272.91161866931475\n",
      "18    1768   272.8120158887785\n",
      "19    1769   272.7124131082423\n",
      "20    1770  272.61281032770603\n",
      "21    1771  272.51320754716977\n",
      "22    1772   272.4136047666335\n",
      "23    1773  272.21439920556105\n",
      "24    1774   272.1147964250248\n",
      "25    1775  272.01519364448853\n",
      "26    1776    271.815988083416\n",
      "27    1777   271.7163853028798\n",
      "28    1778  271.61678252234356\n",
      "29    1779  271.41757696127104\n",
      "..     ...                 ...\n",
      "238   1988               306.7\n",
      "239   1989               307.9\n",
      "240   1990               308.7\n",
      "241   1991               309.3\n",
      "242   1992               309.9\n",
      "243   1993               310.2\n",
      "244   1994               310.8\n",
      "245   1995               311.1\n",
      "246   1996               311.9\n",
      "247   1997               312.7\n",
      "248   1998               313.5\n",
      "249   1999               314.6\n",
      "250   2000               315.5\n",
      "251   2001               316.3\n",
      "252   2002                 317\n",
      "253   2003               317.7\n",
      "254   2004               318.3\n",
      "255   2005                 319\n",
      "256   2006                 320\n",
      "257   2007               320.7\n",
      "258   2008               321.6\n",
      "259   2009               322.2\n",
      "260   2010               323.1\n",
      "261   2011               324.2\n",
      "262   2012                 325\n",
      "263   2013               325.9\n",
      "264   2014               327.1\n",
      "265   2015               328.1\n",
      "266   2016               328.9\n",
      "267   2017  329.79999999999995\n",
      "\n",
      "[268 rows x 2 columns]\n"
     ]
    }
   ],
   "source": [
    "b11 = df1.iloc[10,0:4]\n",
    "# print (b11)\n",
    "ndrop = 1749\n",
    "df4 = df3.iloc[ndrop:]\n",
    "df4.index = np.arange(0, len(df4))\n",
    "print (df4)"
   ]
  },
  {
   "cell_type": "markdown",
   "metadata": {},
   "source": [
    "Rename the output files"
   ]
  },
  {
   "cell_type": "code",
   "execution_count": 4,
   "metadata": {},
   "outputs": [],
   "source": [
    "out1 = 'historical'\n",
    "out2 = 'n2o'\n",
    "months = ['jan', 'feb', 'mar', 'apr', 'may', 'jun', 'jul', 'aug', 'sep', 'oct', 'nov', 'dec'] # abbreviations for months to insert in output file name\n",
    "date = datetime.date.today().strftime(\"%Y-%m-%d\")\n",
    "date_split = date.split('-') # split the date string we create by symbol \"-\"\n",
    "yrs = str(int(date_split[0])-2000) # real years minus 2000\n",
    "seq = [out1, yrs, out2,months[int(date_split[1])-1],date_split[2]]\n",
    "seperator = ','\n",
    "filename = seperator.join(seq).replace(',', '')"
   ]
  },
  {
   "cell_type": "markdown",
   "metadata": {},
   "source": [
    "Solve the <N2O> balance equation using fitemit"
   ]
  },
  {
   "cell_type": "markdown",
   "metadata": {},
   "source": [
    "$\\frac{d<N_2O>}{dt} = f(t)-\\frac{<N_2O>}{b_0}$ with $f=\\frac{b_1}{1+e^{(-(t-b_2)/b_3)}} $ has the long term limit solution $<N_2O>->b_0*b_1$.<br>\n",
    "So let $y=\\frac{<CH_4>}{b_0*b_1}$ evolve from a small value of y0 at t=t0=1750 and always be less than 1 at any finitely larger time.\n",
    "Then $b_0*b_1*\\frac{dy}{dt}= f-b1*y$ and $b0*\\frac{dy}{dt}=\\frac{f}{b_1}-y$.\n",
    "Let $x =\\frac{t-b_2}{b_3}$, so dt=b_3*dx and $u=\\frac{1}{(1+e^{(-x)})} $be a unit logistic function and $\\delta=\\frac{b_3}{b_0}$. Then $\\frac{dy}{dx}=u-\\delta*y$, where here"
   ]
  },
  {
   "cell_type": "code",
   "execution_count": 5,
   "metadata": {},
   "outputs": [
    {
     "name": "stdout",
     "output_type": "stream",
     "text": [
      "0.3149532856294722\n"
     ]
    }
   ],
   "source": [
    "life = 128.012  #(* from heat17n2oemissions16dec.nb *)\n",
    "n2o0 = 267.291  #(* from heat17<n2o>dec16.nb *)\n",
    "# print (type(n2o0))\n",
    "# delta = float(delta)\n",
    "# b11[0] = float(b11[0])\n",
    "# b11[1] = float(b11[1])\n",
    "# b11[2] = float(b11[2])\n",
    "# b11[3] = float(b11[3])\n",
    "delta = b11[2]/b11[3]\n",
    "print (delta)\n",
    "\n",
    "def x(t):\n",
    "    y = (t - b11[1])/b11[2]\n",
    "    return y\n",
    "\n",
    "\n",
    "def u(t):\n",
    "    y = 1/(1 + np.exp(-x(t)))\n",
    "    return y\n",
    "# mpmath.polylog = np.frompyfunc(mpmath.polylog,2,-np.exp(x(t)))\n",
    "def n2ofit(t):\n",
    "    y = n2o0 + b11[0]*b11[2]*(np.log(1+np.exp(x(t)))+delta*mpmath.polylog(2,-np.exp(x(t)))-delta**2*mpmath.polylog(3,-np.exp(x(t))))\n",
    "    return y\n",
    "n2ofit = np.vectorize(n2ofit)"
   ]
  },
  {
   "cell_type": "code",
   "execution_count": 6,
   "metadata": {},
   "outputs": [
    {
     "data": {
      "image/png": "[encoded data removed]",
      "text/plain": [
       "<matplotlib.figure.Figure at 0x2373010b048>"
      ]
     },
     "metadata": {},
     "output_type": "display_data"
    }
   ],
   "source": [
    "t0 = ndrop + 1\n",
    "tmax = 2017\n",
    "t = range(t0,tmax+1)\n",
    "\n",
    "df4 = df4.astype(float)\n",
    "df4.plot.scatter(x='Julian',y='ppb',s=2,color = 'r', alpha = 0.5,label ='data',marker='o')\n",
    "y = n2ofit(t)\n",
    "plt.plot(t,y,label=\"simulation\")\n",
    "plt.legend(loc='best')\n",
    "plt.savefig('n2o010.eps',dpi=1000)\n",
    "plt.savefig('n2o010.pdf',dpi=1000)\n",
    "plt.show()"
   ]
  },
  {
   "cell_type": "code",
   "execution_count": 7,
   "metadata": {},
   "outputs": [
    {
     "data": {
      "image/png": "[encoded data removed]",
      "text/plain": [
       "<matplotlib.figure.Figure at 0x2372c0dc518>"
      ]
     },
     "metadata": {},
     "output_type": "display_data"
    }
   ],
   "source": [
    "yrs = t\n",
    "n2odata = df4['ppb']\n",
    "def diff(t):\n",
    "    y = n2odata - n2ofit(t)\n",
    "    return y\n",
    "y1 = diff(yrs)\n",
    "plt.scatter(t,y1,s=2,label=\"difference\")\n",
    "plt.legend(loc='best')\n",
    "plt.savefig('n2o011.eps',dpi=1000)\n",
    "plt.savefig('n2o011.pdf',dpi=1000)\n",
    "mean = np.mean(y1)\n",
    "\n",
    "yrs = list(yrs)\n",
    "y1 = y1.tolist()\n",
    "y1 = list(map(float, y1))"
   ]
  },
  {
   "cell_type": "markdown",
   "metadata": {},
   "source": [
    "least square fit"
   ]
  },
  {
   "cell_type": "code",
   "execution_count": 8,
   "metadata": {},
   "outputs": [
    {
     "name": "stdout",
     "output_type": "stream",
     "text": [
      "[   3.67156531 1955.39562285    4.68890406]\n"
     ]
    }
   ],
   "source": [
    "def err(yrs,b1,b2,b3):\n",
    "     y = b1*(1-1/(1 + np.exp(-(yrs-b2)/b3)))\n",
    "     return y\n",
    "param_bounds=([0,1900,0],[10,2000,10])\n",
    "popt, pcov = curve_fit(err,yrs,y1, bounds=param_bounds)\n",
    "print (popt)"
   ]
  },
  {
   "cell_type": "code",
   "execution_count": 9,
   "metadata": {
    "scrolled": true
   },
   "outputs": [
    {
     "data": {
      "image/png": "[encoded data removed]",
      "text/plain": [
       "<matplotlib.figure.Figure at 0x23730213be0>"
      ]
     },
     "metadata": {},
     "output_type": "display_data"
    }
   ],
   "source": [
    "# x_new = list(range(1750,2301)) # plot from year 1750 to 2300\n",
    "# x = np.array(x_new)\n",
    "def refit(t):\n",
    "    y = n2ofit(t) + err(t, *popt)\n",
    "    return y\n",
    "# t = range(t0,tmax+1)\n",
    "# y3 = refit(t)\n",
    "# plt.plot(t,y3,label=\"simulation2\")\n",
    "df4 = df4.astype(float)\n",
    "df4.plot.scatter(x='Julian',y='ppb',s=2,color = 'r', alpha = 0.5,label ='data',marker='o')\n",
    "plt.plot(t,refit(t),label=\"simulation2\")\n",
    "plt.legend(loc='best')\n",
    "plt.savefig('n2o012.eps',dpi=1000)\n",
    "plt.savefig('n2o012.pdf',dpi=1000)\n",
    "plt.show()"
   ]
  },
  {
   "cell_type": "code",
   "execution_count": 10,
   "metadata": {},
   "outputs": [
    {
     "name": "stdout",
     "output_type": "stream",
     "text": [
      "0      271.103543611207\n",
      "1      271.107080272026\n",
      "2      271.110705559376\n",
      "3      271.114421689299\n",
      "4      271.118230933007\n",
      "5      271.122135618229\n",
      "6      271.126138130616\n",
      "7       271.13024091516\n",
      "8      271.134446477662\n",
      "9      271.138757386222\n",
      "10     271.143176272778\n",
      "11     271.147705834675\n",
      "12     271.152348836268\n",
      "13     271.157108110574\n",
      "14     271.161986560953\n",
      "15     271.166987162839\n",
      "16     271.172112965503\n",
      "17     271.177367093865\n",
      "18     271.182752750346\n",
      "19     271.188273216766\n",
      "20     271.193931856285\n",
      "21     271.199732115391\n",
      "22     271.205677525938\n",
      "23     271.211771707229\n",
      "24     271.218018368146\n",
      "25     271.224421309338\n",
      "26     271.230984425454\n",
      "27     271.237711707429\n",
      "28      271.24460724483\n",
      "29     271.251675228247\n",
      "             ...       \n",
      "238    305.581450861058\n",
      "239    306.304739314702\n",
      "240    307.037951638672\n",
      "241    307.781071899885\n",
      "242    308.534085232114\n",
      "243     309.29697690479\n",
      "244    310.069731566821\n",
      "245    310.852332633742\n",
      "246    311.644761792321\n",
      "247    312.446998601497\n",
      "248    313.259020172466\n",
      "249    314.080800913941\n",
      "250    314.912312331246\n",
      "251    315.753522870031\n",
      "252    316.604397797141\n",
      "253    317.464899112575\n",
      "254    318.334985487625\n",
      "255    319.214612225187\n",
      "256    320.103731239003\n",
      "257    321.002291049179\n",
      "258    321.910236791818\n",
      "259     322.82751024098\n",
      "260    323.754049841526\n",
      "261    324.689790751611\n",
      "262    325.634664893816\n",
      "263    326.588601014085\n",
      "264    327.551524747706\n",
      "265    328.523358691746\n",
      "266    329.504022483367\n",
      "267    330.493432883553\n",
      "Name: Julian, Length: 268, dtype: object\n"
     ]
    }
   ],
   "source": [
    "yrsuse = df4['Julian']\n",
    "# n2ofitout = eval('refit(yrsuse)')\n",
    "n2ofitout = refit(yrsuse)\n",
    "print (n2ofitout)\n",
    "# delta**3"
   ]
  },
  {
   "cell_type": "markdown",
   "metadata": {},
   "source": [
    "Compare expansion through $\\delta^2$ to exact integration, showing the need for recalibration of the exact result if to be used for extrapolation."
   ]
  },
  {
   "cell_type": "code",
   "execution_count": 11,
   "metadata": {},
   "outputs": [
    {
     "name": "stdout",
     "output_type": "stream",
     "text": [
      "-6.283576980886852\n",
      "0.3149532856294722\n",
      "0.0001959853084408696\n"
     ]
    },
    {
     "name": "stderr",
     "output_type": "stream",
     "text": [
      "C:\\Users\\cd7\\AppData\\Local\\Continuum\\anaconda3\\lib\\site-packages\\ipykernel_launcher.py:12: RuntimeWarning: overflow encountered in exp\n",
      "  if sys.path[0] == '':\n"
     ]
    },
    {
     "name": "stdout",
     "output_type": "stream",
     "text": [
      "Integral(exp(1.31495328562947*x)/(exp(x) + 1), x)\n"
     ]
    }
   ],
   "source": [
    "tmin = 1750\n",
    "tmax = 2017\n",
    "def xn2o(t):\n",
    "    y = (t - b11[1])/b11[2]\n",
    "    return y\n",
    "xn2o0 = xn2o(tmin)\n",
    "print (xn2o0)\n",
    "\n",
    "print (delta)\n",
    "\n",
    "def f(x):\n",
    "    return np.exp(delta*x)/(1 + np.exp(-x))\n",
    "# print (f(x))\n",
    "i,err = quad(f,-np.inf,xn2o0)\n",
    "\n",
    "# i1,err1 = quad(f,-np.inf,x)\n",
    "print (i)\n",
    "\n",
    "x = sp.Symbol('x')\n",
    "# y7 = quad(f)\n",
    "# y7 = sp.integrate(np.exp(delta*x)/(1 + np.exp(-x)),x)\n",
    "y8 = sp.integrate(sp.exp(delta*x)/(1 + sp.exp(-x)),x)\n",
    "print (y8)\n",
    "\n",
    "# def n2oexact(t):\n",
    "# y9 = sp.integrate(math.exp(delta*x)/(1 + math.exp(-x)),x)\n",
    "\n",
    "# fup = integrate(np.exp(delta*xn)/(1 + np.exp(-xn)), xn)\n",
    "# def fup(x,0):\n",
    "#     y = sp.integrate(np.exp(delta*x)/(1 + np.exp(-x)), x)\n",
    "# #     y = sp.integrate(exp(delta*xn)/(1 + exp(-xn)), xn)\n",
    "#     return y\n",
    "# y8 = sp.integrate(np.exp(delta*x)/(1 + np.exp(-x)), x)\n",
    "# y8 = sp.integrate(sp.exp(delta*x)/(1 + sp.exp(-x)), x)\n",
    "# # y8 = sp.integrate(sp.exp(delta*x)/(1 + sp.exp(-x)), x).evalf(xn2o0)\n",
    "# sp.integrate(sp.exp(delta*x)/(1 + sp.exp(-x)), x)\n",
    "# print (np.exp(1.31495328562947*-6.28358)/(np.exp(-6.28358) + 1))\n",
    "# print (y8)\n",
    "# fup0 = fup(xn2o0,0)\n",
    "# fup0 = evalf('y8(xn2o0)')\n",
    "# fup0 = y8(xn2o0)\n",
    "# fup = sp.integrate(exp(delta*xn)/(1 + exp(-xn)), xn)\n",
    "# fup = sp.integrate(math.exp(delta*xn)/(1 + math.exp(-xn)), xn)"
   ]
  }
 ],
 "metadata": {
  "kernelspec": {
   "display_name": "Python 3",
   "language": "python",
   "name": "python3"
  },
  "language_info": {
   "codemirror_mode": {
    "name": "ipython",
    "version": 3
   },
   "file_extension": ".py",
   "mimetype": "text/x-python",
   "name": "python",
   "nbconvert_exporter": "python",
   "pygments_lexer": "ipython3",
   "version": "3.6.4"
  }
 },
 "nbformat": 4,
 "nbformat_minor": 2
}
