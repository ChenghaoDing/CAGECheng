{
 "cells": [
  {
   "cell_type": "markdown",
   "metadata": {},
   "source": [
    "# Combine CO2 concentration Estimates"
   ]
  },
  {
   "cell_type": "markdown",
   "metadata": {},
   "source": [
    "Purpose: Combine atmospheric CO2 concentration estimates from Julian years 1-2017, from references at the end of this notebook, and do a logistic fit to the year 200-1749 estimates."
   ]
  },
  {
   "cell_type": "code",
   "execution_count": 1,
   "metadata": {},
   "outputs": [],
   "source": [
    "%reset -f\n",
    "import os\n",
    "import pandas as pd\n",
    "import datetime\n",
    "import matplotlib.pyplot as plt\n",
    "import numpy as np\n",
    "from scipy.optimize import curve_fit\n",
    "os.chdir('C:\\\\Users\\\\cd7\\\\Desktop\\\\Heat17CO2')"
   ]
  },
  {
   "cell_type": "markdown",
   "metadata": {},
   "source": [
    "Read three input files separately and assign the year values and carbon dioxide concentration data"
   ]
  },
  {
   "cell_type": "code",
   "execution_count": 2,
   "metadata": {},
   "outputs": [],
   "source": [
    "df1 = pd.read_excel('cage17lawdome1-2004nov02_ud.xlsx')\n",
    "df1.to_csv('cage17lawdome1-2004nov02_ud.csv',header=False,index=False)\n",
    "df1 = pd.read_csv('cage17lawdome1-2004nov02_ud.csv')\n",
    "df1.drop(df1.index[[-1]],inplace=True)\n",
    "df1.drop(df1.columns[5], axis=1,inplace=True)\n",
    "\n",
    "df2 = pd.read_excel('NOAA_MoleFractions_2016_ud.xlsx')\n",
    "df2.to_csv('NOAA_MoleFractions_2016_ud.csv',header=False,index=False)\n",
    "df2 = pd.read_csv('NOAA_MoleFractions_2016_ud.csv')\n",
    "df2.drop(df2.index[[-1]],inplace=True)\n",
    "\n",
    "df3 = pd.read_excel('NOAAESRL_CO2.xlsx')\n",
    "df3.to_csv('NOAAESRL_CO2.csv',header=False,index=False)\n",
    "df3 = pd.read_csv('NOAAESRL_CO2.csv')\n",
    "df3.drop(df3.index[[-1]],inplace=True)\n",
    "df3.drop(df3.columns[2:6], axis=1,inplace=True)"
   ]
  },
  {
   "cell_type": "markdown",
   "metadata": {},
   "source": [
    "Prepare for the nomenclature for the output excel sheet"
   ]
  },
  {
   "cell_type": "code",
   "execution_count": 3,
   "metadata": {},
   "outputs": [],
   "source": [
    "out1 = 'heat'\n",
    "out2 = 'co2-1-2017'\n",
    "months = ['jan', 'feb', 'mar', 'apr', 'may', 'jun', 'jul', 'aug', 'sep', 'oct', 'nov', 'dec'] # abbreviations for months to insert in output file name\n",
    "date = datetime.date.today().strftime(\"%Y-%m-%d\")\n",
    "date_split = date.split('-') # split the date string we create by symbol \"-\"\n",
    "yrs = str(int(date_split[0])-2000) # real years minus 2000 \n",
    "seq = [out1, yrs, out2,months[int(date_split[1])-1],date_split[2]]\n",
    "seperator = ','\n",
    "filename = seperator.join(seq).replace(',', '')"
   ]
  },
  {
   "cell_type": "markdown",
   "metadata": {},
   "source": [
    "Combine CO2 concentration estimates, after rescaling Law Dome to NOAA"
   ]
  },
  {
   "cell_type": "code",
   "execution_count": 4,
   "metadata": {},
   "outputs": [],
   "source": [
    "yrslaw = df1.iloc[:,0:1]\n",
    "newyrslaw = yrslaw['YearAD'].tolist()\n",
    "newyrslaw = list(map(float, newyrslaw))\n",
    "co2law = df1.iloc[:, 3:4]\n",
    "# print (co2law)\n",
    "df1 = pd.merge(yrslaw,co2law, left_index =True, right_index =True,how='outer')\n",
    "df1 = df1.astype(float)\n",
    "yrsnoaa = df2.iloc[:,0:1]\n",
    "yrsnoaa = yrsnoaa['Year'].tolist()\n",
    "yrsnoaa = list(map(float, yrsnoaa))\n",
    "newyrsnoaa = [x -0.5 for x in yrsnoaa]\n",
    "yrsnoaa = list(map(str, newyrsnoaa))\n",
    "yrsnoaa = pd.DataFrame({'Year':yrsnoaa})\n",
    "noaa = len(yrsnoaa)\n",
    "co2noaa = df2.iloc[:,1:2]\n",
    "# print (co2noaa)\n",
    "df2 = pd.merge(yrsnoaa,co2noaa, left_index =True, right_index =True,how='outer')\n",
    "df2 = df2.astype(float)\n",
    "c1 = newyrsnoaa\n",
    "c2 = newyrslaw\n",
    "yrsboth = list(set(c1) & set(c2))\n",
    "a = yrsboth[0]\n",
    "b = yrsboth[-1]\n",
    "co2lawboth = co2law[newyrslaw.index(a):newyrslaw.index(b)+1]\n",
    "co2noaaboth = co2noaa[0:len(yrsboth)]\n",
    "co2noaaboth = co2noaaboth['CO2'].tolist()\n",
    "co2noaaboth = list(map(float, co2noaaboth))\n",
    "co2lawboth = co2lawboth['CO2spl'].tolist()\n",
    "co2lawboth = list(map(float, co2lawboth))\n",
    "rescalelaw = co2noaaboth[0]/co2lawboth[0]\n",
    "\n",
    "ratio2017vs2016 = float(df3.iloc[-1,-1])/float(df3.iloc[-2,-1])\n",
    "yrs = list(range(1, 2018))\n",
    "co2law = co2law.astype(float)\n",
    "co2law *= float(rescalelaw)\n",
    "co2law.drop(co2law.index[-int((1+newyrslaw[-1]-newyrsnoaa[0])):-1],inplace=True,axis=0) \n",
    "co2law = co2law[:-1]\n",
    "co2law = co2law['CO2spl'].tolist()\n",
    "co2law = list(map(float, co2law))\n",
    "co2noaa = co2noaa['CO2'].tolist()\n",
    "co2noaa = list(map(float, co2noaa))\n",
    "last = ratio2017vs2016*co2noaa[-1]\n",
    "last = [float(last)]\n",
    "co2 = co2law + co2noaa + last\n",
    "co2pre = co2[yrs.index(200):yrs.index(1749)+1]\n",
    "yrspre = range(200,1750)\n",
    "# print (co2)"
   ]
  },
  {
   "cell_type": "markdown",
   "metadata": {},
   "source": [
    "Define the fitted logistic function and do Logistic fit to  <CO2>  extrapolated into the industrial era"
   ]
  },
  {
   "cell_type": "code",
   "execution_count": 5,
   "metadata": {},
   "outputs": [
    {
     "name": "stdout",
     "output_type": "stream",
     "text": [
      "[ 2.81794576e+02 -3.94171798e+00  1.59382900e+03  1.36702770e+00]\n",
      "277.8528581584792\n"
     ]
    },
    {
     "name": "stderr",
     "output_type": "stream",
     "text": [
      "C:\\Users\\cd7\\AppData\\Local\\Continuum\\anaconda3\\lib\\site-packages\\ipykernel_launcher.py:2: RuntimeWarning: overflow encountered in exp\n",
      "  \n"
     ]
    }
   ],
   "source": [
    "def logistic(yrspre,c0,c1,c2,c3):\n",
    "     y = c1 / (1 + np.exp(-(yrspre-c2)/c3))+c0\n",
    "     return y\n",
    "param_bounds=([200,-5,1300,0],[300,5,1800,5])\n",
    "popt,pcov = curve_fit(logistic, yrspre, co2pre, bounds=param_bounds)\n",
    "print (popt)\n",
    "print (popt[0]+popt[1])"
   ]
  },
  {
   "cell_type": "markdown",
   "metadata": {},
   "source": [
    "Explain overflow: Due to we got a large power of around 1000 of exponential function, so it is overflow."
   ]
  },
  {
   "cell_type": "markdown",
   "metadata": {},
   "source": [
    "Plot the fitted logistic function,comparing with the historical data and save the results as a csv file."
   ]
  },
  {
   "cell_type": "code",
   "execution_count": 6,
   "metadata": {},
   "outputs": [
    {
     "name": "stderr",
     "output_type": "stream",
     "text": [
      "C:\\Users\\cd7\\AppData\\Local\\Continuum\\anaconda3\\lib\\site-packages\\ipykernel_launcher.py:2: RuntimeWarning: overflow encountered in exp\n",
      "  \n"
     ]
    },
    {
     "data": {
      "image/png": "[encoded data removed]",
      "text/plain": [
       "<matplotlib.figure.Figure at 0x1dbf1a0d630>"
      ]
     },
     "metadata": {},
     "output_type": "display_data"
    }
   ],
   "source": [
    "x = np.array(yrspre)\n",
    "y = logistic(x, *popt)\n",
    "plt.plot(x,y, label=\"fit\")\n",
    "plt.xlabel('Year')\n",
    "plt.ylabel('ppb/yr') \n",
    "plt.scatter(yrspre,co2pre,s=2,color = 'r', alpha = 0.5,label ='data',marker='o')\n",
    "plt.legend(loc='best')\n",
    "plt.savefig('co21.eps',dpi=1000)\n",
    "plt.savefig('co21.pdf',dpi=1000)\n",
    "plt.show()\n",
    "\n",
    "yrs = list(map(str, yrs))\n",
    "yrs = pd.DataFrame({'Year':yrs})\n",
    "co2 = list(map(str, co2))\n",
    "co2 = pd.DataFrame({'CO2':co2})\n",
    "df = pd.merge(yrs, co2, left_index =True, right_index =True,how='outer')\n",
    "df.loc[-1]=['Julian','ppb']\n",
    "df.index = df.index+1\n",
    "df = df.sort_index()\n",
    "df.loc[(len(df))] = ['2018/6/14','heat17co2dec14.nb']\n",
    "df.to_csv(filename + '.csv', index=False)"
   ]
  }
 ],
 "metadata": {
  "kernelspec": {
   "display_name": "Python 3",
   "language": "python",
   "name": "python3"
  },
  "language_info": {
   "codemirror_mode": {
    "name": "ipython",
    "version": 3
   },
   "file_extension": ".py",
   "mimetype": "text/x-python",
   "name": "python",
   "nbconvert_exporter": "python",
   "pygments_lexer": "ipython3",
   "version": "3.6.4"
  }
 },
 "nbformat": 4,
 "nbformat_minor": 2
}
