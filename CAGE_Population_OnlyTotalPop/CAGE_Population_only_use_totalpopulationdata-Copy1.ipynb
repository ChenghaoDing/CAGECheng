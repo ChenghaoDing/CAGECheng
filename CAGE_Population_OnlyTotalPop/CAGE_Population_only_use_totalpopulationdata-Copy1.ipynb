{
 "cells": [
  {
   "cell_type": "markdown",
   "metadata": {},
   "source": [
    "# CAGE_Population\n",
    "Logistic fit to increase in global population over its \n",
    "1820 value."
   ]
  },
  {
   "cell_type": "markdown",
   "metadata": {},
   "source": [
    "Set the working directory and import necessary libraries"
   ]
  },
  {
   "cell_type": "code",
   "execution_count": 1,
   "metadata": {},
   "outputs": [],
   "source": [
    "# %reset -f  # clear all variables\n",
    "import os\n",
    "os.chdir('C:\\\\Users\\\\cd7\\\\Desktop\\\\Heat17Population') # change \n",
    "# directory\n",
    "import pandas as pd   # include pandas library\n",
    "import numpy as np    # include numpy library\n",
    "import matplotlib.pyplot as plt  # include the matplotlib library\n",
    "from scipy.optimize import curve_fit  # include scipy\n",
    "# libary, the curve_fit function use non-linear least \n",
    "#squares to fit a function, f, to data"
   ]
  },
  {
   "cell_type": "markdown",
   "metadata": {},
   "source": [
    "Input the data, and select what will be used."
   ]
  },
  {
   "cell_type": "code",
   "execution_count": 2,
   "metadata": {},
   "outputs": [],
   "source": [
    "df = pd.read_excel('cage18jun05pop1820-2100un.xlsx') \n",
    "yrs = df.iloc[:,0:1] # assign the values of year from 1820 to 2100\n",
    "poptot = df.iloc[:,1:2]  # assign total population to poptot\n",
    "poptot = poptot['Total Population(1000s)'].tolist()\n",
    "poptot = list(map(float, poptot))\n",
    "newpoptot = [x / 1000000 for x in poptot]  # change the total \n",
    "# population's unit to billion\n",
    "poptot = list(map(str, newpoptot))\n",
    "poptot = pd.DataFrame({'Total Population(billions)':poptot})\n",
    "df = pd.merge(yrs, poptot, left_index =True, right_index =True,\n",
    "              how='outer') # merge the two \"yrs\" and \"poptot\"  \n",
    "#  dataframe to one dataframe called \"df\"\n",
    "poptot1 = df.iloc[0,1] # assign the total population of 1820 to poptot1\n",
    "poptot1 = float(poptot1)\n",
    "yrs = yrs['Years'].tolist()\n",
    "ydata = df.iloc[:,1].tolist()\n",
    "ydata = list(map(float, ydata))\n",
    "yrs = list(map(int, yrs))"
   ]
  },
  {
   "cell_type": "markdown",
   "metadata": {},
   "source": [
    "Define the logistic function"
   ]
  },
  {
   "cell_type": "code",
   "execution_count": 3,
   "metadata": {},
   "outputs": [],
   "source": [
    "def logistic(yrs, b1, b2, b3):\n",
    "     y = b1 / (1 + np.exp(-(yrs-b2)/b3))+poptot1 \n",
    "     return y"
   ]
  },
  {
   "cell_type": "markdown",
   "metadata": {},
   "source": [
    "$\\frac{b1}{1+e^{-(yrs-b2)/b3}}+poptot1$\n",
    "\n"
   ]
  },
  {
   "cell_type": "markdown",
   "metadata": {},
   "source": [
    "Fit the historical data to a constant plus logistic function by using non-linear least square method"
   ]
  },
  {
   "cell_type": "code",
   "execution_count": 4,
   "metadata": {},
   "outputs": [],
   "source": [
    "param_bounds=([0,2000,30],[15,2200,35]) # set the parameter\n",
    "# searching bound \n",
    "# for b1 as (0,15) and b2 as (2000,2200) and b3 as (0,0.1)\n",
    "popt,pcov = curve_fit(logistic, yrs, ydata, \n",
    " bounds=param_bounds) # popt is the optimal values for the\n",
    "# parameters so that the sum of the squared residuals \n",
    "# of is minimized"
   ]
  },
  {
   "cell_type": "markdown",
   "metadata": {},
   "source": [
    "Plot the fitted logistic function and save the results as a csv file"
   ]
  },
  {
   "cell_type": "code",
   "execution_count": 5,
   "metadata": {},
   "outputs": [
    {
     "data": {
      "image/png": "[encoded data removed]",
      "text/plain": [
       "<matplotlib.figure.Figure at 0x1ab3bcae390>"
      ]
     },
     "metadata": {},
     "output_type": "display_data"
    }
   ],
   "source": [
    "# valuesList = [\"\", \"Values\"]\n",
    "# for i in range(0,len(popt)):\n",
    "#     valuesList.append(popt[i])\n",
    "\n",
    "# valuesList = [\"\", \"Values\"]\n",
    "# valuesList = []\n",
    "# for i in range(0,len(popt)):\n",
    "#     valuesList.append(popt[i])\n",
    "# print (len(valuesList))\n",
    "# print (valuesList)\n",
    "\n",
    "# x = np.array(yrs)\n",
    "# y = logistic(x, *popt)\n",
    "# b1b2b3param = pd.DataFrame({'Name':['b1', 'b2', 'b3'],\n",
    "#      'Values':valuesList,'Units':['Year','Julian Year','1/Year'],\n",
    "#      'Meaning':['Saturation value','Inflection time','Initial growth rate']}, \n",
    "#     columns=[\"Name\", \"Values\", \"Units\", \"Meaning\"])\n",
    "# b1b2b3param.loc[-1]=['Fitted parameters of Population logistic function',\n",
    "#                      '','','']\n",
    "# b1b2b3param.index = b1b2b3param.index+1\n",
    "# b1b2b3param = b1b2b3param.sort_index()\n",
    "# b1b2b3param.loc[(len(b1b2b3param))] = ['2018/06/11','heat18pop11jun.nb'\n",
    "#                                        ,'','']\n",
    "x = np.array(yrs)\n",
    "y = logistic(x, *popt)\n",
    "b1b2b3param = pd.DataFrame({'Fitted parameters':['b1', 'b2', 'b3'],\n",
    "     'of Population':popt,'logistic':['Year','Julian Year','1/Year'],\n",
    "     'function':['Saturation value','Inflection time','Initial growth rate']}, \n",
    "    columns=[\"Fitted parameters\", \"of Population\", \"logistic\", \"function\"])\n",
    "\n",
    "# b1b2b3param = pd.DataFrame({'Fitted parameters of Population logistic function':['b1', 'b2', 'b3'],\n",
    "#      ' ':popt,' ':['Year','Julian Year','1/Year'],\n",
    "#      ' ':['Saturation value','Inflection time','Initial growth rate']}, \n",
    "#     columns=[\"Fitted parameters of Population logistic function\", \" \", \" \", \" \"])\n",
    "\n",
    "b1b2b3param.loc[-1]=['Name',\n",
    "                     'Values','Units','Meaning']\n",
    "b1b2b3param.index = b1b2b3param.index+1\n",
    "b1b2b3param = b1b2b3param.sort_index()\n",
    "b1b2b3param.loc[(len(b1b2b3param))] = ['2018/06/11','heat18pop11jun.nb'\n",
    "                                       ,'','']\n",
    "\n",
    "b1b2b3param.to_csv('CAGE_Pop_Parameters.csv', index=False)\n",
    "plt.scatter(yrs, ydata, s=2,c='r',alpha = 0.5, label=\"data\",marker='o')\n",
    "plt.plot(yrs,y, label='fit')\n",
    "plt.xlabel('Years')\n",
    "plt.ylabel('Billions')\n",
    "plt.legend(loc='best')\n",
    "plt.savefig('pop.eps',dpi=1000)\n",
    "plt.show()"
   ]
  }
 ],
 "metadata": {
  "kernelspec": {
   "display_name": "Python 3",
   "language": "python",
   "name": "python3"
  },
  "language_info": {
   "codemirror_mode": {
    "name": "ipython",
    "version": 3
   },
   "file_extension": ".py",
   "mimetype": "text/x-python",
   "name": "python",
   "nbconvert_exporter": "python",
   "pygments_lexer": "ipython3",
   "version": "3.6.4"
  }
 },
 "nbformat": 4,
 "nbformat_minor": 2
}
