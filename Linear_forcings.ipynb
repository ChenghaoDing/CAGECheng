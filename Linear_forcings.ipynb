{
 "cells": [
  {
   "cell_type": "markdown",
   "metadata": {},
   "source": [
    "# Greenhouse Forcing Formulas"
   ]
  },
  {
   "cell_type": "markdown",
   "metadata": {},
   "source": [
    "Purpose: Check accuracy of linear approximations to greenhouse gas forcing formulas from the reference at the end of this notebook"
   ]
  },
  {
   "cell_type": "markdown",
   "metadata": {},
   "source": [
    "Clear all variables and reset the working directory and import necessary libraries"
   ]
  },
  {
   "cell_type": "markdown",
   "metadata": {},
   "source": [
    "https://www.esrl.noaa.gov/gmd/aggi/aggi.html"
   ]
  },
  {
   "cell_type": "code",
   "execution_count": 1,
   "metadata": {},
   "outputs": [],
   "source": [
    "%reset -f\n",
    "import os\n",
    "import pandas as pd\n",
    "import datetime\n",
    "import matplotlib.pyplot as plt\n",
    "import numpy as np\n",
    "from scipy.optimize import curve_fit\n",
    "import math \n",
    "os.chdir('C:\\\\Users\\\\cd7\\\\Desktop\\\\Heat17CH4')"
   ]
  },
  {
   "cell_type": "markdown",
   "metadata": {},
   "source": [
    "Read three input files separately and assign the year values and methane concentration data"
   ]
  },
  {
   "cell_type": "code",
   "execution_count": 2,
   "metadata": {},
   "outputs": [],
   "source": [
    "f0 = 0.47\n",
    "f1 = 0.0000201 \n",
    "f2 = 5.31*10**-15\n",
    "e1 = 0.75\n",
    "e2 = 1.52\n",
    "alpha = 5.35\n",
    "beta = 0.036\n",
    "eps = 0.12\n",
    "c0 = 278 \n",
    "m0 = 722\n",
    "n0 = 270\n",
    "# cpre = 277.853 # from heat17<co2>prefit16dec.nb\n",
    "cpre = 277.8528581584792 # from heat17<co2>prefit16dec.nb\n",
    "# ch4pre = 722.065 # from heat17<ch4>dec14.nb\n",
    "ch4pre = 732.138795855232 # from heat17<ch4>dec14.nb\n",
    "# n2opre = 267.291 # from heat17<n2o>dec.nb\n",
    "n2opre = 267.2913217292295 # from heat17<n2o>dec.nb\n",
    "\n",
    "# f1 = open('C:\\\\Users\\\\cd7\\\\Desktop\\\\Heat17CH4\\\\CAGE_Pop_Parameters.csv','r')\n",
    "# readFile = csv.reader(f1)\n",
    "# data = [row for row in readFile]\n",
    "# b21 = float(data[3][1])\n",
    "\n",
    "# f1 = open('C:\\\\Users\\\\cd7\\\\Desktop\\\\Heat17CH4\\\\CAGE_Pop_Parameters.csv','r')\n",
    "# readFile = csv.reader(f1)\n",
    "# data = [row for row in readFile]\n",
    "# b21 = float(data[3][1])\n",
    "\n",
    "# f1 = open('C:\\\\Users\\\\cd7\\\\Desktop\\\\Heat17CH4\\\\CAGE_Pop_Parameters.csv','r')\n",
    "# readFile = csv.reader(f1)\n",
    "# data = [row for row in readFile]\n",
    "# b21 = float(data[3][1])"
   ]
  },
  {
   "cell_type": "markdown",
   "metadata": {},
   "source": [
    "Define fitted function"
   ]
  },
  {
   "cell_type": "code",
   "execution_count": 3,
   "metadata": {
    "scrolled": true
   },
   "outputs": [
    {
     "name": "stdout",
     "output_type": "stream",
     "text": [
      "0.08053070047056604\n",
      "0.14825285231198027\n"
     ]
    }
   ],
   "source": [
    "def fch4(m):\n",
    "    y1 = f0*math.log((1+f1*(m*n0)**e1+f2*m*(m*n0)**e2))\n",
    "    return y1\n",
    "\n",
    "def fn2o(n):\n",
    "    y2 = f0*math.log((1+f1*(m0*n)**e1+f2*m0*(m0*n)**e2))\n",
    "    return y2\n",
    "\n",
    "f00 = f0*math.log(1 + f1*(m0*n0)**e1 + f2*m0*(m0*n0)**e2)\n",
    "print (f00)\n",
    "\n",
    "def ch4raw(m):\n",
    "    y3 = beta*(math.sqrt(m)-math.sqrt(m0))-(fch4(m)-f00)\n",
    "    return y3\n",
    "# ch40 = ch4raw(ch4pre)\n",
    "\n",
    "# def ch4(m):\n",
    "#     y4 = ch4raw(m)-ch40\n",
    "#     return y4\n",
    "def n2oraw(n):\n",
    "    y5 = eps*(math.sqrt(n)-math.sqrt(n0))-(fn2o(n)-f00)\n",
    "    return y5\n",
    "# n2o0 = n2oraw(n2opre)\n",
    "# print (n2o0)\n",
    "\n",
    "# def n2o(n):\n",
    "#     y6 = n2oraw(n)-n2o0\n",
    "#     return y6\n",
    "\n",
    "def co2raw(c):\n",
    "    y7 = alpha*math.log(c/c0)\n",
    "    return y7\n",
    "# co20 = co2raw(cpre)\n",
    "# print (co20)\n",
    "\n",
    "# def co2(c):\n",
    "#     y8 = co2raw(c) - co20\n",
    "#     return y8\n",
    "\n",
    "# max = [404.507, 1852.5, 329.28]  # 2017? co2 concentration, prefer actual data\n",
    "# max = [405.0503736067324, 1849.8406681064891, 329.79999999999995]  # 2017? co2 concentration, prefer actual data\n",
    "max = [404.98, 1849.66, 329.79999999999995] # 2017 co2 concentration, prefer actual data\n",
    "min = [cpre, ch4pre, n2opre]\n",
    "\n",
    "print (n2oraw(314.771773217386))"
   ]
  },
  {
   "cell_type": "code",
   "execution_count": 4,
   "metadata": {
    "scrolled": true
   },
   "outputs": [],
   "source": [
    "new_list=[]\n",
    "for i in range(0,len(max)):\n",
    "    sub_list=[]\n",
    "    for m in range(1,102):\n",
    "        x = min[i]+(m-1)*(max[i]-min[i])/100\n",
    "        sub_list.append(float(x))\n",
    "    new_list.append(sub_list)\n",
    "# print(new_list)\n",
    "\n",
    "g = []\n",
    "for m in range(0,len(new_list)):\n",
    "    ym = []\n",
    "    for i in range(0,len(new_list[m])):\n",
    "        x = new_list[m][i]\n",
    "        if m == 0:\n",
    "            y = co2raw(x)\n",
    "        elif m == 1:\n",
    "            y = ch4raw(x)\n",
    "        elif m == 2:\n",
    "            y = n2oraw(x)\n",
    "        ym.append(float(y))\n",
    "    g.append(ym)"
   ]
  },
  {
   "cell_type": "code",
   "execution_count": 5,
   "metadata": {},
   "outputs": [
    {
     "name": "stdout",
     "output_type": "stream",
     "text": [
      "277.8528581584792\n",
      "[0.06427013 0.01578251]\n"
     ]
    }
   ],
   "source": [
    "x1 = new_list[0]\n",
    "# print (x1)\n",
    "print (min[0])\n",
    "def linear1(x1,b0,b1):\n",
    "    y = b1*(x1-min[0])+b0 \n",
    "    return y\n",
    "param_bounds=([-1,-1],[1,1]) # set the parameter\n",
    "# searching bound\n",
    "popt1,pcov = curve_fit(linear1, x1, g[0],bounds=param_bounds) # popt is the optimal values for the\n",
    "# parameters so that the sum of the squared residuals \n",
    "# of is minimized\n",
    "print (popt1)"
   ]
  },
  {
   "cell_type": "code",
   "execution_count": 6,
   "metadata": {},
   "outputs": [
    {
     "name": "stdout",
     "output_type": "stream",
     "text": [
      "732.138795855232\n",
      "[0.02819277 0.0004457 ]\n"
     ]
    }
   ],
   "source": [
    "x2 = new_list[1]\n",
    "print (min[1])\n",
    "def linear2(x2,b2,b3):\n",
    "    y = b3*(x2-min[1])+b2 \n",
    "    return y\n",
    "param_bounds=([-1,-1],[1,1]) # set the parameter\n",
    "# searching bound\n",
    "popt2,pcov = curve_fit(linear2, x2, g[1],bounds=param_bounds) # popt is the optimal values for the\n",
    "# parameters so that the sum of the squared residuals \n",
    "# of is minimized\n",
    "print (popt2)"
   ]
  },
  {
   "cell_type": "code",
   "execution_count": 7,
   "metadata": {},
   "outputs": [
    {
     "name": "stdout",
     "output_type": "stream",
     "text": [
      "267.2913217292295\n",
      "[-0.00749785  0.00327679]\n"
     ]
    }
   ],
   "source": [
    "x3 = new_list[2]\n",
    "print (min[2])\n",
    "def linear3(x3,b4,b5):\n",
    "    y = b5*(x3-min[2])+b4\n",
    "    return y\n",
    "param_bounds=([-1,-1],[1,1]) # set the parameter\n",
    "# searching bound\n",
    "popt3,pcov = curve_fit(linear3, x3, g[2],bounds=param_bounds) # popt is the optimal values for the\n",
    "# parameters so that the sum of the squared residuals \n",
    "# of is minimized\n",
    "print (popt3)"
   ]
  },
  {
   "cell_type": "code",
   "execution_count": 8,
   "metadata": {},
   "outputs": [
    {
     "data": {
      "image/png": "[encoded data removed]",
      "text/plain": [
       "<matplotlib.figure.Figure at 0x1f0dadb17b8>"
      ]
     },
     "metadata": {},
     "output_type": "display_data"
    }
   ],
   "source": [
    "plt.figure()\n",
    "plt.plot(new_list[0],g[0],label='CO2 data')\n",
    "x = np.array(x1)\n",
    "y = linear1(x, *popt1)\n",
    "plt.plot(x,y,'--', label='fit')\n",
    "plt.xlabel('ppm')\n",
    "plt.ylabel('W/$m^2$')\n",
    "plt.legend(loc='best')\n",
    "plt.savefig('co2l.eps',dpi=1000)\n",
    "plt.savefig('co2l.pdf',dpi=1000)\n",
    "plt.show()"
   ]
  },
  {
   "cell_type": "code",
   "execution_count": 9,
   "metadata": {},
   "outputs": [
    {
     "data": {
      "image/png": "[encoded data removed]",
      "text/plain": [
       "<matplotlib.figure.Figure at 0x1f0db1b2ef0>"
      ]
     },
     "metadata": {},
     "output_type": "display_data"
    }
   ],
   "source": [
    "plt.figure()\n",
    "plt.plot(new_list[1],g[1],label='CH4 data')\n",
    "x = np.array(x2)\n",
    "y = linear2(x, *popt2)\n",
    "plt.plot(x,y,'--', label='fit')\n",
    "plt.xlabel('ppb')\n",
    "plt.ylabel('W/$m^2$')\n",
    "plt.legend(loc='best')\n",
    "plt.savefig('ch4l.eps',dpi=1000)\n",
    "plt.savefig('ch4l.pdf',dpi=1000)\n",
    "plt.show()"
   ]
  },
  {
   "cell_type": "code",
   "execution_count": 10,
   "metadata": {},
   "outputs": [
    {
     "data": {
      "image/png": "[encoded data removed]",
      "text/plain": [
       "<matplotlib.figure.Figure at 0x1f0db219588>"
      ]
     },
     "metadata": {},
     "output_type": "display_data"
    }
   ],
   "source": [
    "plt.figure()\n",
    "plt.plot(new_list[2],g[2],label='N2O data')\n",
    "x = np.array(x3)\n",
    "y = linear3(x, *popt3)\n",
    "plt.plot(x,y,'--', label='fit')\n",
    "plt.xlabel('ppb')\n",
    "plt.ylabel('W/$m^2$')\n",
    "plt.legend(loc='best')\n",
    "plt.savefig('n2ol.eps',dpi=1000)\n",
    "plt.savefig('n2ol.pdf',dpi=1000)\n",
    "plt.show()"
   ]
  }
 ],
 "metadata": {
  "kernelspec": {
   "display_name": "Python 3",
   "language": "python",
   "name": "python3"
  },
  "language_info": {
   "codemirror_mode": {
    "name": "ipython",
    "version": 3
   },
   "file_extension": ".py",
   "mimetype": "text/x-python",
   "name": "python",
   "nbconvert_exporter": "python",
   "pygments_lexer": "ipython3",
   "version": "3.6.4"
  }
 },
 "nbformat": 4,
 "nbformat_minor": 2
}
