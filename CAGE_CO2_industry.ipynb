{
 "cells": [
  {
   "cell_type": "markdown",
   "metadata": {},
   "source": [
    "# Purpose: Do a logistic plus fit to carbon emissions from fossil fuel use and cement production changes from 1751-2017, using data from sources described at the end of this notebook ."
   ]
  },
  {
   "cell_type": "markdown",
   "metadata": {},
   "source": [
    "Set the working directory and import necessary libraries"
   ]
  },
  {
   "cell_type": "code",
   "execution_count": 1,
   "metadata": {},
   "outputs": [],
   "source": [
    "%reset -f\n",
    "import os\n",
    "import matplotlib.pyplot as plt\n",
    "import pandas as pd\n",
    "import numpy as np\n",
    "from scipy.optimize import curve_fit\n",
    "os.chdir('C:\\\\Users\\\\cd7\\\\Desktop\\\\Heat17CO2')"
   ]
  },
  {
   "cell_type": "markdown",
   "metadata": {},
   "source": [
    "Read input files and assign the year values and carbon emission data "
   ]
  },
  {
   "cell_type": "code",
   "execution_count": 2,
   "metadata": {},
   "outputs": [],
   "source": [
    "df = pd.read_excel('heat17emtic.1751-2017dec11.xlsx')\n",
    "df.to_csv('heat18emtic.1751-2017dec11.csv',header=False,index=False)\n",
    "df1 = pd.read_csv('heat18emtic.1751-2017dec11.csv')\n",
    "df2 = df1.iloc[:-1]\n",
    "yrs = df2.iloc[:,0:1]\n",
    "emitc = df2.iloc[:,1:2]\n",
    "emitc = emitc['MtonneC/yr'].tolist()\n",
    "emitc = list(map(float, emitc))\n",
    "newemitc = [x / 1000 for x in emitc]\n",
    "emitc = list(map(str, newemitc))\n",
    "emitc = pd.DataFrame({'GtonneC':emitc})\n",
    "df = pd.merge(yrs, emitc, left_index =True, right_index =True,how='outer')\n",
    "df = df.astype(float)\n",
    "yrs = yrs['Year'].tolist()\n",
    "yrs = list(map(int, yrs))\n",
    "# print(yrs)"
   ]
  },
  {
   "cell_type": "markdown",
   "metadata": {},
   "source": [
    "Define the fitted logistic function and fit data."
   ]
  },
  {
   "cell_type": "markdown",
   "metadata": {},
   "source": [
    "The emissions estimates are for fossil fuel burning, cement production, and natural gas flaring from 1751--2014 (Boden, Andres, and Marlande 2017), with 0.4%/yr increases in 2015 and 2016 and a  2% increase from 2016 to 2017 (Jackson et al. 2017). The complete data from Boden et al. is in file http-//cdiac.ess-dive.lbl.gov/ftp/ndp030/global.1751_2014.ems.docx. Then all but the global totals was deleted and entries for 2015, 2016, and 2017 added per the increases estimated by Jackson et al. in an article received by the journal on 18 October 2017. References are:\n",
    "Boden, T.,  B. Andres, and G. Marlande.  2017. Global CO2 emissions from fossil-fuel burning, cement manufacture, and gas flaring: 1751-2014, U.S. Department of Energy Carbon Dioxide  Information Analysis Center, http://cdiac.ess-dive.lbl.gov/ftp/ndp030/global.1751_2014.ems, accessed 11 December 2017.\n",
    "Jackson, R., C. Le Qu\\'er\\'e, R. Andrew, J. Canadell, G. Peters, J. Roy, and L. Wu. 2017. Warning signs for stabilizing global CO$_2$ emissions, Environmental Research Letters 12, 1100202, https://doi.org/10.1088/1748-9326/aa9662, accessed 11 December 2017. "
   ]
  },
  {
   "cell_type": "code",
   "execution_count": 3,
   "metadata": {
    "scrolled": true
   },
   "outputs": [
    {
     "name": "stdout",
     "output_type": "stream",
     "text": [
      "[  18.25200828 2011.1841084    29.30452822]\n"
     ]
    }
   ],
   "source": [
    "def logistic(yrs, b1, b2, b3):\n",
    "     y = b1 / (1 + np.exp(-(yrs-b2)/b3))\n",
    "     return y\n",
    "param_bounds=([10,2000,25],[20,2100,35])\n",
    "emitc = emitc['GtonneC'].tolist()\n",
    "emitc = list(map(float, emitc))\n",
    "popt, pcov = curve_fit(logistic, yrs, emitc, bounds=param_bounds)\n",
    "print (popt)"
   ]
  },
  {
   "cell_type": "markdown",
   "metadata": {},
   "source": [
    "Make the plots, and compare the fitted plot with historical data"
   ]
  },
  {
   "cell_type": "code",
   "execution_count": 4,
   "metadata": {},
   "outputs": [
    {
     "data": {
      "image/png": "[encoded data removed]",
      "text/plain": [
       "<matplotlib.figure.Figure at 0x24a176f9160>"
      ]
     },
     "metadata": {},
     "output_type": "display_data"
    }
   ],
   "source": [
    "x = np.array(yrs)\n",
    "y = logistic(x, *popt)\n",
    "df.plot.scatter(x='Year',y='GtonneC',s=2,color = 'r', alpha = 0.5,label ='data',marker='o')\n",
    "plt.plot(yrs,y, label='fit')\n",
    "plt.xlabel('Year')\n",
    "plt.ylabel('GtonneC')\n",
    "plt.legend(loc='best')\n",
    "plt.savefig('co22.eps',dpi=1000)\n",
    "plt.show()\n",
    "# Save the results\n",
    "b1b2b3param = pd.DataFrame({'Name':['b1','b2','b3'],'Values':popt,'Units':['Year','Julian Year','1/Year'],'Meaning':['Saturation value','Inflection time','Initial growth rate']}, columns=[\"Name\", \"Values\", \"Units\", \"Meaning\"])\n",
    "b1b2b3param.to_csv('CAGE_CO2industry_Parameters.csv', index=False)"
   ]
  }
 ],
 "metadata": {
  "kernelspec": {
   "display_name": "Python 3",
   "language": "python",
   "name": "python3"
  },
  "language_info": {
   "codemirror_mode": {
    "name": "ipython",
    "version": 3
   },
   "file_extension": ".py",
   "mimetype": "text/x-python",
   "name": "python",
   "nbconvert_exporter": "python",
   "pygments_lexer": "ipython3",
   "version": "3.6.4"
  }
 },
 "nbformat": 4,
 "nbformat_minor": 2
}
