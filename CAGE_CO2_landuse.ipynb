{
 "cells": [
  {
   "cell_type": "markdown",
   "metadata": {},
   "source": [
    "# Purpose: Do a constant times the time derivative of the logistic fit to cumulative deforestation, plus four Gaussians fit to carbon emissions from land use changes from 1850-2005 from the reference at the end of this notebook.  "
   ]
  },
  {
   "cell_type": "markdown",
   "metadata": {},
   "source": [
    "Set the working directory and import necessary libraries"
   ]
  },
  {
   "cell_type": "code",
   "execution_count": 1,
   "metadata": {},
   "outputs": [],
   "source": [
    "%reset -f\n",
    "import os\n",
    "import pandas as pd\n",
    "import matplotlib.pyplot as plt\n",
    "import csv\n",
    "import numpy as np\n",
    "from numpy import *\n",
    "from scipy.optimize import curve_fit\n",
    "os.chdir('C:\\\\Users\\\\cd7\\\\Desktop\\\\Heat17CO2')"
   ]
  },
  {
   "cell_type": "markdown",
   "metadata": {},
   "source": [
    "Read the landuse historical data, and plug in the parameters of deforestation."
   ]
  },
  {
   "cell_type": "code",
   "execution_count": 2,
   "metadata": {},
   "outputs": [
    {
     "name": "stdout",
     "output_type": "stream",
     "text": [
      "3.46508367669644 2003.34383068 162.69637406995884\n"
     ]
    }
   ],
   "source": [
    "df = pd.read_excel('Global_land-use_flux-1850_2005.xlsx')\n",
    "df.to_csv('heat18Global_land-use_flux-1850_2005.csv',header=False,index=False)\n",
    "df1 = pd.read_csv('heat18Global_land-use_flux-1850_2005.csv')\n",
    "df2 = df1.iloc[:-1]\n",
    "yrs = df2.iloc[:,0:1]\n",
    "emitc = df2.iloc[:,1:2]\n",
    "emitc = emitc['Global'].tolist()\n",
    "emitc = list(map(float, emitc))\n",
    "newemitc = [x / 1000 for x in emitc]\n",
    "emitc = list(map(str, newemitc))\n",
    "emitc = pd.DataFrame({'GtonneC':emitc})\n",
    "df = pd.merge(yrs, emitc, left_index =True, right_index =True,how='outer') # merge two dataframes by using the index from the left DataFrame as the join key\n",
    "df = df.astype(float) # Cast a pandas object to a specified dtype float.\n",
    "\n",
    "f = open('C:\\\\Users\\\\cd7\\\\Desktop\\\\Heat17Deforest\\\\CAGE_Deforest_Parameters.csv','r')\n",
    "readFile = csv.reader(f)\n",
    "data = [row for row in readFile]\n",
    "b51 = float(data[1][1]) # from results of deforestation \n",
    "b61 = float(data[2][1])\n",
    "b71 = float(data[3][1])\n",
    "print (b51,b61,b71)\n",
    "t = yrs['Year'].tolist()\n",
    "t = list(map(float, t))\n",
    "t = np.array(t, dtype=np.float)\n",
    "emitc = df.iloc[:,1:2]\n",
    "emitc = emitc['GtonneC'].tolist()\n",
    "emitc = list(map(float, emitc))"
   ]
  },
  {
   "cell_type": "markdown",
   "metadata": {},
   "source": [
    "Define the fitted gussian function and take derivative of logistic function w.r.t time, fit data"
   ]
  },
  {
   "cell_type": "code",
   "execution_count": 7,
   "metadata": {},
   "outputs": [
    {
     "name": "stdout",
     "output_type": "stream",
     "text": [
      "[2.42864951e-01 1.91094539e+03 1.96599739e+01 1.99792342e-01\n",
      " 1.93279127e+03 5.56215763e+00 7.70810565e-01 1.95972901e+03\n",
      " 9.13055216e+00 9.65507686e-01 1.99314506e+03 1.52195163e+01\n",
      " 1.21984150e+02]\n",
      "3.46508367669644\n",
      "2003.34383068\n",
      "162.69637406995884\n",
      "121.98414958814918\n"
     ]
    }
   ],
   "source": [
    "def f(t):\n",
    "    y = np.gradient(b51/(1 + np.exp(-(t-b61)/b71)),t)\n",
    "    return y\n",
    "def gauss(t, g1, b1, d1, g2, b2, d2,g3, b3, d3, g4, b4, d4):\n",
    "    y = g1 *np.exp(-0.5*((t-b1)/d1)**2)+g2 *np.exp(-0.5*((t-b2)/d2)**2)+g3 *np.exp(-0.5*((t-b3)/d3)**2)+g4 *np.exp(-0.5*((t-b4)/d4)**2)\n",
    "    return y\n",
    "def femit(t,g1, b1, d1, g2, b2, d2,g3, b3, d3, g4, b4, d4,b8):\n",
    "    y = gauss(t, g1, b1, d1, g2, b2, d2,g3, b3, d3, g4, b4, d4) + f(t)*b8\n",
    "    return y\n",
    "param_bounds=([0,1900,15,0,1900,0,0,1900,5,0.5,1950,10,100],[0.5,1950,25,0.5,1950,10,1,2000,15,1.5,2050,20,150])\n",
    "popt,pcov = curve_fit(femit, t, emitc, bounds=param_bounds)\n",
    "print (popt)\n",
    "print (b51)\n",
    "print (b61)\n",
    "print (b71)\n",
    "print (popt[-1])"
   ]
  },
  {
   "cell_type": "markdown",
   "metadata": {},
   "source": [
    "Make plots, and compare the fitted plot with historical data."
   ]
  },
  {
   "cell_type": "code",
   "execution_count": 4,
   "metadata": {},
   "outputs": [
    {
     "data": {
      "image/png": "[encoded data removed]",
      "text/plain": [
       "<matplotlib.figure.Figure at 0x1e894362240>"
      ]
     },
     "metadata": {},
     "output_type": "display_data"
    }
   ],
   "source": [
    "df.plot.scatter(x='Year',y='GtonneC',s=2,color = 'r', alpha = 0.5,label ='data',marker='o')\n",
    "t = np.array(t)\n",
    "y = femit(t, *popt)\n",
    "plt.plot(t,y, label=\"fit\")\n",
    "plt.legend(loc='best')\n",
    "plt.xlabel('Year')\n",
    "plt.ylabel('GtonneC')\n",
    "plt.savefig('co23.eps',dpi=1000)"
   ]
  }
 ],
 "metadata": {
  "kernelspec": {
   "display_name": "Python 3",
   "language": "python",
   "name": "python3"
  },
  "language_info": {
   "codemirror_mode": {
    "name": "ipython",
    "version": 3
   },
   "file_extension": ".py",
   "mimetype": "text/x-python",
   "name": "python",
   "nbconvert_exporter": "python",
   "pygments_lexer": "ipython3",
   "version": "3.6.4"
  }
 },
 "nbformat": 4,
 "nbformat_minor": 2
}
