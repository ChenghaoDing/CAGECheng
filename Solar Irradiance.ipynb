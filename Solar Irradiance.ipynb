{
 "cells": [
  {
   "cell_type": "markdown",
   "metadata": {},
   "source": [
    "# Purpose: Fit post Maunder minimum solar irradiance with periodicities."
   ]
  },
  {
   "cell_type": "markdown",
   "metadata": {},
   "source": [
    "Clear all variables and reset the working directory and import necessary libraries"
   ]
  },
  {
   "cell_type": "code",
   "execution_count": 1,
   "metadata": {},
   "outputs": [],
   "source": [
    "%reset -f\n",
    "import os\n",
    "import pandas as pd\n",
    "import datetime\n",
    "import matplotlib.pyplot as plt\n",
    "import numpy as np\n",
    "from scipy.optimize import curve_fit\n",
    "import csv\n",
    "import sympy as sp\n",
    "os.chdir('C:\\\\Users\\\\cd7\\\\Desktop\\\\Heat17Sunlight')"
   ]
  },
  {
   "cell_type": "markdown",
   "metadata": {},
   "source": [
    "Read in solar irradiance from direct measurements and proxies from 1611-2017"
   ]
  },
  {
   "cell_type": "code",
   "execution_count": 2,
   "metadata": {},
   "outputs": [
    {
     "name": "stdout",
     "output_type": "stream",
     "text": [
      "b1             0.535614\n",
      "JulianYrEtc     841.916\n",
      "b3(Years)       1365.57\n",
      "b4              1365.57\n",
      "Name: 23, dtype: object\n",
      "     Year Irradiance\n",
      "0    1650    1359.66\n",
      "1    1651    1359.57\n",
      "2    1652     1359.5\n",
      "3    1653    1359.45\n",
      "4    1654    1359.44\n",
      "5    1655    1359.44\n",
      "6    1656    1359.44\n",
      "7    1657    1359.44\n",
      "8    1658    1359.44\n",
      "9    1659    1359.44\n",
      "10   1660    1359.44\n",
      "11   1661    1359.46\n",
      "12   1662    1359.45\n",
      "13   1663    1359.44\n",
      "14   1664    1359.44\n",
      "15   1665    1359.44\n",
      "16   1666    1359.44\n",
      "17   1667    1359.44\n",
      "18   1668    1359.44\n",
      "19   1669    1359.44\n",
      "20   1670    1359.44\n",
      "21   1671    1359.45\n",
      "22   1672    1359.44\n",
      "23   1673    1359.44\n",
      "24   1674    1359.44\n",
      "25   1675    1359.44\n",
      "26   1676    1359.44\n",
      "27   1677    1359.44\n",
      "28   1678    1359.44\n",
      "29   1679    1359.44\n",
      "..    ...        ...\n",
      "338  1988    1360.17\n",
      "339  1989    1360.13\n",
      "340  1990    1360.53\n",
      "341  1991    1360.49\n",
      "342  1992    1360.49\n",
      "343  1993    1360.33\n",
      "344  1994    1360.56\n",
      "345  1995    1360.26\n",
      "346  1996     1360.1\n",
      "347  1997       1360\n",
      "348  1998    1359.96\n",
      "349  1999    1359.98\n",
      "350  2000    1360.15\n",
      "351  2001     1360.5\n",
      "352  2002    1360.71\n",
      "353  2003     1360.8\n",
      "354  2004    1360.92\n",
      "355  2005    1360.75\n",
      "356  2006    1360.67\n",
      "357  2007    1360.57\n",
      "358  2008    1360.54\n",
      "359  2009    1360.56\n",
      "360  2010     1360.8\n",
      "361  2011    1361.08\n",
      "362  2012    1361.24\n",
      "363  2013    1361.36\n",
      "364  2014     1361.4\n",
      "365  2015    1361.43\n",
      "366  2016    1361.01\n",
      "367  2017    1360.75\n",
      "\n",
      "[368 rows x 2 columns]\n",
      "0      -0.267082\n",
      "1       -0.35966\n",
      "2      -0.422883\n",
      "3      -0.481263\n",
      "4      -0.487114\n",
      "5      -0.488082\n",
      "6      -0.488666\n",
      "7      -0.489113\n",
      "8      -0.489433\n",
      "9       -0.49034\n",
      "10     -0.489033\n",
      "11     -0.463369\n",
      "12     -0.474832\n",
      "13     -0.483173\n",
      "14     -0.485021\n",
      "15       -0.4859\n",
      "16     -0.485601\n",
      "17     -0.487938\n",
      "18     -0.489718\n",
      "19     -0.491435\n",
      "20     -0.484685\n",
      "21     -0.476788\n",
      "22     -0.483129\n",
      "23     -0.488993\n",
      "24     -0.490271\n",
      "25     -0.490325\n",
      "26     -0.490385\n",
      "27     -0.490425\n",
      "28     -0.490425\n",
      "29     -0.490425\n",
      "         ...    \n",
      "338     0.245096\n",
      "339     0.202238\n",
      "340     0.597642\n",
      "341     0.558954\n",
      "342     0.559252\n",
      "343     0.405867\n",
      "344     0.634646\n",
      "345     0.331132\n",
      "346     0.177289\n",
      "347    0.0749231\n",
      "348    0.0342096\n",
      "349    0.0494284\n",
      "350     0.226645\n",
      "351     0.570889\n",
      "352     0.786886\n",
      "353      0.87135\n",
      "354     0.991844\n",
      "355     0.824418\n",
      "356     0.746069\n",
      "357      0.64361\n",
      "358     0.610865\n",
      "359     0.629101\n",
      "360      0.87529\n",
      "361      1.14783\n",
      "362      1.31394\n",
      "363      1.43133\n",
      "364      1.46923\n",
      "365      1.50471\n",
      "366      1.07996\n",
      "367     0.823016\n",
      "Name: Irradiance, Length: 368, dtype: object\n"
     ]
    }
   ],
   "source": [
    "df1 = pd.read_excel('C:\\\\Users\\\\cd7\\\\Desktop\\\\Heat17Sunlight\\\\heat18parameters05jan.xlsx')\n",
    "df1.to_csv('heat19parameters05jan.csv',header=False,index=False)\n",
    "df1 = pd.read_csv('heat19parameters05jan.csv')\n",
    "b24 = df1.iloc[23,0:4]\n",
    "b25 = df1.iloc[24,0:4]\n",
    "print (b24)\n",
    "ndrop = 39\n",
    "\n",
    "df2 = pd.read_excel('C:\\\\Users\\\\cd7\\\\Desktop\\\\Heat17Sunlight\\\\heat17dec30irradiance1610-2017.xlsx')\n",
    "df2.drop(df2.head(ndrop+1).index,inplace=True) # drop last 5 rows\n",
    "df2.drop(df2.tail(1).index,inplace=True)\n",
    "df2.index = np.arange(0, len(df2))\n",
    "print (df2) \n",
    "yrs0 = df2.iloc[:,0]\n",
    "radabsolute = df2.iloc[:,1]\n",
    "rad0 = radabsolute - np.mean(radabsolute)\n",
    "print (rad0) \n"
   ]
  },
  {
   "cell_type": "markdown",
   "metadata": {},
   "source": [
    "Define the fitted function and use non-linear least square method to fit the historical data"
   ]
  },
  {
   "cell_type": "code",
   "execution_count": 3,
   "metadata": {},
   "outputs": [
    {
     "name": "stdout",
     "output_type": "stream",
     "text": [
      "841.916\n",
      "[7.82007211e-02 5.93303058e-01 1.22888627e-01 1.55544018e+03\n",
      " 2.49143921e+02 7.28972375e-01 2.01414187e+03]\n",
      "[3.07164504e-01 1.85415954e+03]\n"
     ]
    }
   ],
   "source": [
    "yrs0 = yrs0.tolist()\n",
    "rad0 = rad0.tolist()\n",
    "print (b24[1])\n",
    "\n",
    "def fit01(t,b0,b1,b4,b5,b6,b10,b11):\n",
    "     y = b0+b1*np.cos(2*np.pi*(t-b24[1])/b24[2])+b4*np.cos(2*np.pi*(t-b5)/b6)+b10*np.exp(-0.5*((t-b11)/5.5)**2)\n",
    "     return y\n",
    "# param_bounds=([-10,-10,-10,1000,0,-10,1000,-10,1000],[10,10,10,2000,500,10,2000,10,2500])\n",
    "param_bounds=([-1,-1,-1,1000,200,0,2000],[1,1,1,2000,300,1,2100])\n",
    "popt, pcov = curve_fit(fit01, yrs0, rad0, bounds=param_bounds)\n",
    "print (popt)\n",
    "\n",
    "def fit02(t,b7,b8):\n",
    "     y = popt[0]+popt[1]*np.cos(2*np.pi*(t-b24[1])/b24[2])+popt[2]*np.cos(2*np.pi*(t-popt[3])/popt[4])+popt[5]*np.exp(-0.5*((t-popt[6])/5.5)**2)-b7*np.exp(-0.5*((t-b8)/11)**2) \n",
    "     return y\n",
    "param_bounds1=([0,1600],[1,2000])\n",
    "popt1, pcov1 = curve_fit(fit02, yrs0, rad0, bounds=param_bounds1)\n",
    "print (popt1)\n",
    "\n",
    "# def fit0(t,b0,b1,b4,b5,b6,b7,b8,b10,b11):\n",
    "#      y = b0+b1*np.cos(2*np.pi*(t-b24[1])/b24[2])+b4*np.cos(2*np.pi*(t-b5)/b6)-b7*np.exp(-0.5*((t-b8)/11)**2)+b10*np.exp(-0.5*((t-b11)/5.5)**2)\n",
    "#      return y\n",
    "# param_bounds2=([-1,-1,-1,1000,200,0.4,1400,-1,1500],[1,1,1,2000,300,1,2000,1,2500])\n",
    "# popt2, pcov2 = curve_fit(fit0, yrs0, rad0, bounds=param_bounds2)\n",
    "# print (popt2)"
   ]
  },
  {
   "cell_type": "code",
   "execution_count": 4,
   "metadata": {},
   "outputs": [
    {
     "name": "stdout",
     "output_type": "stream",
     "text": [
      "0.43726109382390177\n"
     ]
    }
   ],
   "source": [
    "add = -np.mean(rad0[0:100])\n",
    "# add = []\n",
    "# add = add.append(add0)\n",
    "# print (type(add0))\n",
    "# print (add0)\n",
    "# add = [0.43726109382390177]\n",
    "print (add)"
   ]
  },
  {
   "cell_type": "code",
   "execution_count": 5,
   "metadata": {},
   "outputs": [],
   "source": [
    "nave = 11\n",
    "yrs0 = yrs0[0:-5]\n",
    "partitionyrs0 = [yrs0[i:i+nave] for i in range(0, len(yrs0), nave)]\n",
    "#print(partitionyrs0)\n",
    "# y1 = np.mean(partitionyrs0[0])\n",
    "yrs0ave = [None] * (len(partitionyrs0))\n",
    "for i in range(0,len(partitionyrs0)):\n",
    "    yrs0ave[i] = np.mean(partitionyrs0[i])\n",
    "# print(len(partitionyrs0)) \n",
    "# print (len(yrs0ave))\n",
    "# print (yrs0ave)\n",
    "# print (type(rad0[0:-5]))\n",
    "partitionrad0 = (rad0[0:-5]+add)/4\n",
    "partitionrad0 = [partitionrad0[i:i+nave] for i in range(0, len(rad0), nave)]\n",
    "# print (len(partitionyrs0))\n",
    "# print (partitionrad0)\n",
    "rad0ave = [None] * (len(partitionrad0)-1)\n",
    "#print (len(rad0ave))\n",
    "for i in range(0,len(partitionrad0)-1):\n",
    "    rad0ave[i] = np.mean(partitionrad0[i])\n",
    "#print (len(rad0ave))\n",
    "\n",
    "#rad0ave = rad0ave[0:-1]\n",
    "#print (rad0ave)"
   ]
  },
  {
   "cell_type": "code",
   "execution_count": 6,
   "metadata": {},
   "outputs": [
    {
     "data": {
      "image/png": "[encoded data removed]",
      "text/plain": [
       "<matplotlib.figure.Figure at 0x1895752fe10>"
      ]
     },
     "metadata": {},
     "output_type": "display_data"
    }
   ],
   "source": [
    "yrs0 = df2.iloc[:,0]\n",
    "x= yrs0.tolist()\n",
    "#print (x)\n",
    "#print (add)\n",
    "# fit1over4plus = (fit0(x, *popt2) + add)/4\n",
    "fit1over4plus = (fit02(x, *popt1) + add)/4\n",
    "#fit1over4plus1 = sp.expand_power_exp(fit1over4plus)\n",
    "plt.xlabel('Year')\n",
    "plt.ylabel('$W/m^2$') \n",
    "plt.plot(yrs0,fit1over4plus, label=\"fit1\")\n",
    "plt.scatter(yrs0,(rad0 + add)/4, label=\"fit2\",s=2,color = 'r', alpha = 0.5,marker='o')\n",
    "plt.plot(yrs0ave,rad0ave, label=\"fit3\")\n",
    "plt.legend(loc='best')\n",
    "plt.savefig('sunlight.eps',dpi=1000)\n",
    "plt.savefig('sunlight.pdf',dpi=1000)\n",
    "plt.show()"
   ]
  }
 ],
 "metadata": {
  "kernelspec": {
   "display_name": "Python 3",
   "language": "python",
   "name": "python3"
  },
  "language_info": {
   "codemirror_mode": {
    "name": "ipython",
    "version": 3
   },
   "file_extension": ".py",
   "mimetype": "text/x-python",
   "name": "python",
   "nbconvert_exporter": "python",
   "pygments_lexer": "ipython3",
   "version": "3.6.4"
  }
 },
 "nbformat": 4,
 "nbformat_minor": 2
}
