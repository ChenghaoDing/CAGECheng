{
 "cells": [
  {
   "cell_type": "markdown",
   "metadata": {},
   "source": [
    "# Purpose: Fit data points from an FAO graph, add a 2015 data point from Keenan et al., do an analytically integrable functional fit to global area deforestation using the global population increment logistic inflection time, and Export the data pairs to an Excel file"
   ]
  },
  {
   "cell_type": "markdown",
   "metadata": {},
   "source": [
    "Clear all variables and import necessary libararies and change the working directory"
   ]
  },
  {
   "cell_type": "code",
   "execution_count": 1,
   "metadata": {},
   "outputs": [],
   "source": [
    "%reset -f\n",
    "import os,sys\n",
    "import datetime\n",
    "import matplotlib.pyplot as plt\n",
    "import pandas as pd\n",
    "import csv\n",
    "import numpy as np\n",
    "from scipy.optimize import curve_fit\n",
    "os.chdir('C:\\\\Users\\\\cd7\\\\Desktop\\\\Heat17Deforest')"
   ]
  },
  {
   "cell_type": "markdown",
   "metadata": {},
   "source": [
    "Formulate the exported file name"
   ]
  },
  {
   "cell_type": "code",
   "execution_count": 2,
   "metadata": {},
   "outputs": [],
   "source": [
    "out1 = 'heat';\n",
    "out2 = 'deforest';\n",
    "months = ['jan', 'feb', 'mar', 'apr', 'may', 'jun', 'jul', 'aug', 'sep', 'oct', 'nov', 'dec'] # abbreviations for months to insert in output file name)\n",
    "date = datetime.date.today().strftime(\"%Y-%m-%d\")\n",
    "date_split = date.split('-')\n",
    "yrs = str(int(date_split[0])-2000)\n",
    "seq = [out1, yrs, months[int(date_split[1])-1],date_split[2],out2]\n",
    "seperator = ','\n",
    "filename = seperator.join(seq).replace(',', '')"
   ]
  },
  {
   "cell_type": "markdown",
   "metadata": {},
   "source": [
    "Read the raw data from excel sheet as inputs"
   ]
  },
  {
   "cell_type": "code",
   "execution_count": 3,
   "metadata": {
    "scrolled": true
   },
   "outputs": [
    {
     "name": "stdout",
     "output_type": "stream",
     "text": [
      "2003.34383068\n",
      "<class 'list'>\n",
      "<class 'list'>\n",
      "[0.840282686, 0.859363958, 0.889045936, 0.91024735, 0.939929329, 0.969611307, 0.999293286, 1.031095406, 1.077738516, 1.120141343, 1.168904594, 1.219787986, 1.268551237, 1.319434629, 1.36819788, 1.419081272, 1.47844523, 1.539929329, 1.607773852, 1.696819788, 1.758303887, 1.809187279, 1.825726278999999]\n"
     ]
    },
    {
     "data": {
      "image/png": "[encoded data removed]",
      "text/plain": [
       "<matplotlib.figure.Figure at 0x15c5dfe4c50>"
      ]
     },
     "metadata": {},
     "output_type": "display_data"
    }
   ],
   "source": [
    "df = pd.read_excel('raw data.xlsx') # The graph is from p.3 of Chapter 2, \"Forests and evolution of the modern world,\" Food and Agriculture Organization. 2012. State of the World's Forests 2012, http://www.fao.org/docrep/016/i3010e/i3010e.pdf. The 2010 and 2015 numbers for total forested area are from Keenan, R., G. Reams, F. Achard, J. de Freitas, A. Granger, and E. Lindquist, Dyanmics of global forest area: Results from the FAO global forest resources assessment 2015, Forest and Ecology Management 352, 9\\[Dash]20.\n",
    "gigahectare2010 = 4.015673;\n",
    "gigahectare2015 = 3.999134;\n",
    "y2015 = df.iloc[-1,-1] + gigahectare2010 - gigahectare2015;\n",
    "df.loc[22] = [2015, y2015]  # adding a row\n",
    "df.plot(x='Year',y='Deforestation',color = 'r', label ='data')\n",
    "# print (df)\n",
    "# f = open('C:\\\\Users\\\\cd7\\\\Desktop\\\\Heat17Population\\\\CAGE_Pop_Parameters.csv','r')\n",
    "# f = open('C:\\\\Users\\\\cd7\\\\Desktop\\\\Heat17Population\\\\heat19parameters16jul.xlsx','r')\n",
    "# readFile = csv.reader(f)\n",
    "# data = [row for row in readFile]\n",
    "# b2 = float(data[2][1]) # b2 is from heat17pop13dec.nb\n",
    "\n",
    "# df5 = pd.read_excel('heat19parameters16jul.xlsx')\n",
    "# df5.to_csv('heat19parameters16jul.csv',header=False,index=False)\n",
    "# df5 = pd.read_csv('heat19parameters16jul.csv')\n",
    "# b2 = df5.iloc[1,1]\n",
    "\n",
    "df5 = pd.read_excel('C:\\\\Users\\\\cd7\\\\Desktop\\\\Heat17Population\\\\heat19parameters16jul.xlsx')\n",
    "df5.to_csv('heat19parameters16jul.csv',header=False,index=False)\n",
    "df5 = pd.read_csv('heat19parameters16jul.csv')\n",
    "b2 = df5.iloc[1,1]\n",
    "print (b2)\n",
    "\n",
    "# f = pandas.read_excel(open('//X/str/Db/C/Source/selection/Date/Test/12.xlsx','rb'), sheetname='Sheet 1')\n",
    "\n",
    "yrs = df.iloc[:,0]\n",
    "yrs = yrs.tolist()\n",
    "ydata = df.iloc[:,1]\n",
    "ydata = ydata.tolist()\n",
    "print (type(ydata))\n",
    "print (type(yrs))\n",
    "print (ydata)"
   ]
  },
  {
   "cell_type": "markdown",
   "metadata": {},
   "source": [
    "Define the fitted logistic function and use non-linear least square method to fit the historical data"
   ]
  },
  {
   "cell_type": "code",
   "execution_count": 4,
   "metadata": {
    "scrolled": true
   },
   "outputs": [
    {
     "name": "stdout",
     "output_type": "stream",
     "text": [
      "[  3.46508368 162.69637407]\n"
     ]
    }
   ],
   "source": [
    "def logistic(yrs,b1,b3):\n",
    "     y = b1 / (1 + np.exp(-(yrs-b2)/b3))\n",
    "     return y\n",
    "param_bounds=([3,150],[5,200])\n",
    "popt, pcov = curve_fit(logistic, yrs, ydata, bounds=param_bounds)\n",
    "print (popt)"
   ]
  },
  {
   "cell_type": "markdown",
   "metadata": {},
   "source": [
    "Plot the fitted function and compare it with historical data and save the results in a csv file"
   ]
  },
  {
   "cell_type": "code",
   "execution_count": 5,
   "metadata": {},
   "outputs": [
    {
     "data": {
      "image/png": "[encoded data removed]",
      "text/plain": [
       "<matplotlib.figure.Figure at 0x15c63098cc0>"
      ]
     },
     "metadata": {},
     "output_type": "display_data"
    }
   ],
   "source": [
    "b1b2b3param = pd.DataFrame({'Name':['b1','b2','b3'],'Values':[popt[0],b2,popt[1]],'Units':['Year','Julian Year','1/Year'],'Meaning':['Saturation value','Inflection time','Initial growth rate']}, columns=[\"Name\", \"Values\", \"Units\", \"Meaning\"])\n",
    "b1b2b3param.to_csv('CAGE_Deforest_Parameters.csv', index=False)\n",
    "start = gigahectare2010 + ydata[-1] # estimated pre-anthropogenic forest cover, to be compared 6 GHa estimate from the FAO reference\n",
    "df.plot(x='Year',y='Deforestation',color = 'r',label ='data')\n",
    "x_new = list(range(1750,2301)) # plot from year 1750 to 2300\n",
    "x = np.array(x_new)\n",
    "fit = logistic(x, *popt)\n",
    "plt.ylim(0,start) # set y-axis limit for plotting\n",
    "plt.plot(x,fit, label ='fit')\n",
    "plt.xlabel('Year')\n",
    "plt.ylabel('GHa')\n",
    "plt.legend(loc='best')\n",
    "plt.savefig('deforest.eps',dpi=1000)\n",
    "plt.show()\n",
    "\n",
    "df.loc[-1]=['Julian','GHa'] # add an another header\n",
    "df.index = df.index+1 \n",
    "df = df.sort_index() # reorder rows by sorting their index number in an ascending way\n",
    "df.loc[(len(df))] = ['16Jul2018','heat18deforest13dec.nb'] # add a footer\n",
    "df.to_csv(filename + '.csv', index=False, encoding='utf-8')"
   ]
  }
 ],
 "metadata": {
  "kernelspec": {
   "display_name": "Python 3",
   "language": "python",
   "name": "python3"
  },
  "language_info": {
   "codemirror_mode": {
    "name": "ipython",
    "version": 3
   },
   "file_extension": ".py",
   "mimetype": "text/x-python",
   "name": "python",
   "nbconvert_exporter": "python",
   "pygments_lexer": "ipython3",
   "version": "3.6.4"
  }
 },
 "nbformat": 4,
 "nbformat_minor": 2
}
