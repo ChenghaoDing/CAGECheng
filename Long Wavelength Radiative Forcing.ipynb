{
 "cells": [
  {
   "cell_type": "markdown",
   "metadata": {},
   "source": [
    "# Purpose: Estimate, cumulate, and extrapolate and plot long wavelength radiative forcing from contrails, \"other well mixed greenhouse gases\", N2O, CH4, and CO2."
   ]
  },
  {
   "cell_type": "markdown",
   "metadata": {},
   "source": [
    "Clear all variables and reset the working directory and import necessary libraries"
   ]
  },
  {
   "cell_type": "code",
   "execution_count": 1,
   "metadata": {},
   "outputs": [],
   "source": [
    "%reset -f\n",
    "import os\n",
    "import pandas as pd\n",
    "import datetime\n",
    "import matplotlib.pyplot as plt\n",
    "import numpy as np\n",
    "import sympy as sp\n",
    "from scipy.optimize import curve_fit\n",
    "import csv\n",
    "import scipy\n",
    "import mpmath\n",
    "from scipy.special import erf\n",
    "os.chdir('C:\\\\Users\\\\cd7\\\\Desktop\\\\Heat17Forcings')"
   ]
  },
  {
   "cell_type": "markdown",
   "metadata": {},
   "source": [
    "Read the specified input file"
   ]
  },
  {
   "cell_type": "code",
   "execution_count": 2,
   "metadata": {},
   "outputs": [
    {
     "name": "stdout",
     "output_type": "stream",
     "text": [
      "            b1  JulianYrEtc    b3(Years)           b4  No.  No..1  \\\n",
      "0    10.664400  2003.340000    31.480700     1.000000   r1      1   \n",
      "1     3.465660  2003.340000   162.813000   212.309000   f2      1   \n",
      "2    18.252000  2011.180000    29.304500     2.130000   r3      4   \n",
      "3     0.242542  1910.930000    19.632700     0.271308   g4      5   \n",
      "4     0.199856  1932.790000     5.562510     1.515180   g5      5   \n",
      "5     0.770546  1959.730000     9.130070     1.000000   g6      5   \n",
      "6     0.964413  1993.140000    15.208900     1.000000   g7      5   \n",
      "7    64.156200   871.320000   237.898000     1.000000   f8      1   \n",
      "8   176.655000  1973.910000    41.383600     9.514280   r9      1   \n",
      "9     5.140880   735.908000     7.279600     1.000000  r10      1   \n",
      "10    2.390980  2003.340000    40.317800   128.012000  r11      1   \n",
      "11    0.360664  1980.040000     7.521900  1750.000000  r12      1   \n",
      "12    0.169096  2026.340000    17.811800  2017.000000  r13      1   \n",
      "13    3.465660  2003.340000   162.813000   161.441000  r14      1   \n",
      "14    0.592935  2000.390000    29.980600     1.000000  g15      2   \n",
      "15    0.147705  1952.340000    20.064000     1.000000  r16      1   \n",
      "16    8.509880  1893.040000    42.944000     1.000000  r17      3   \n",
      "17    0.000000     0.016545   277.853000     1.000000  l18      3   \n",
      "18    0.000000     0.000461   722.065000     1.000000  l19      3   \n",
      "19    0.000000     0.003061   267.291000     1.000000  l20      3   \n",
      "20    0.292705     0.760918     0.166427    34.731000  r21      3   \n",
      "21    0.077245  1782.000000     1.000000     0.251137  t22      3   \n",
      "22    3.810880  1956.340000     5.084310     1.000000  r23      1   \n",
      "23    0.154660   841.916000  1365.570000  1365.570000  s24      3   \n",
      "24    0.046142  1566.390000   257.658000     0.144291  s25      3   \n",
      "25    0.131567  1854.180000    11.000000   286.681000  s26      2   \n",
      "26    0.182904  2013.950000     5.500000     1.000000  s27      2   \n",
      "27    0.131567  1836.000000     1.000000    -0.049034  r28      1   \n",
      "\n",
      "            Type       Units      Units.1  \\\n",
      "0       Logistic     Billion            1   \n",
      "1       Logistic         Gha      ppm/Gha   \n",
      "2   Ln[1+Exp[x]]  GtonneC/yr  GtonneC/ppm   \n",
      "3       Guassian  GtonneC/yr            1   \n",
      "4       Guassian  GtonneC/yr            1   \n",
      "5       Guassian  GtonneC/yr            1   \n",
      "6       Guassian  GtonneC/yr            1   \n",
      "7       Logistic         ppb            1   \n",
      "8            NaN      ppb/yr           yr   \n",
      "9            NaN         ppb            1   \n",
      "10           NaN      ppb/yr           yr   \n",
      "11           NaN     W/(m*m)           yr   \n",
      "12           NaN     W/(m*m)           yr   \n",
      "13           NaN     W/(m*m)            1   \n",
      "14           NaN     W/(m*m)            1   \n",
      "15           NaN     W/(m*m)            1   \n",
      "16           NaN     W/(m*m)            1   \n",
      "17           NaN     W/(m*m)            1   \n",
      "18           NaN     W/(m*m)            1   \n",
      "19           NaN     W/(m*m)            1   \n",
      "20           NaN     W/(m*m)    Wyr/(m*m)   \n",
      "21           NaN          yr      W/(m*m)   \n",
      "22           NaN     W/(m*m)            1   \n",
      "23           NaN     W/(m*m)      W/(m*m)   \n",
      "24           NaN     W/(m*m)    julian yr   \n",
      "25           NaN     W/(m*m)      degreeK   \n",
      "26           NaN     W/(m*m)            1   \n",
      "27           NaN     W/(m*m)      W/(m*m)   \n",
      "\n",
      "                                    Description                      0  \n",
      "0            population increase from year 1820                      0  \n",
      "1     cumulative deforestation and land use CO2                      0  \n",
      "2                   industrial carbon emissions            GtonneC/ppm  \n",
      "3                    land use carbon emissions           kept fraction  \n",
      "4                    land use carbon emissions   industrial multiplier  \n",
      "5                     land use carbon emissions                      0  \n",
      "6                     land use carbon emissions                      0  \n",
      "7               preindustrial CH4 concentration                      0  \n",
      "8         post-1749 CH4 emissions rate increase                      0  \n",
      "9               preindustrial N2O concentration                      0  \n",
      "10        post-1749 N2O emissions rate increase                      0  \n",
      "11                 other greenhouse gas forcing   industrial start, t0  \n",
      "12                             contrail forcing        last year, tmax  \n",
      "13                   aerosols less black carbon                      0  \n",
      "14                   aerosols less black carbon                      0  \n",
      "15                       land use change albedo                      0  \n",
      "16       land use change albedo, d(logistic)/dt                      0  \n",
      "17         b2 in W/(m*m*ppm) and b3 in ppm CO2                       0  \n",
      "18         b2 in W/(m*m*ppb) and b3 in ppm CH4                       0  \n",
      "19         b2 in W/(m*m*ppb) and b3 in ppm N2O                       0  \n",
      "20               add to integrated volcano rate                      0  \n",
      "21                           volcanic shielding                      0  \n",
      "22                        1750 to c. 1955 <N2O>                      0  \n",
      "23     irradiance longest period cos function;                  radref  \n",
      "24  irradiance next longest period cos function    irradiance constant  \n",
      "25              irradiance guassian to subtract                   tup0  \n",
      "26              irradiance guassian to subtract                      0  \n",
      "27                           volcanic shielding                  rate3  \n"
     ]
    }
   ],
   "source": [
    "df1 = pd.read_excel('heat18parameters06jan.xlsx')\n",
    "df1.to_csv('heat18parameters06jan.csv',header=False,index=False)\n",
    "df1 = pd.read_csv('heat18parameters06jan.csv')\n",
    "print (df1) "
   ]
  },
  {
   "cell_type": "code",
   "execution_count": 3,
   "metadata": {
    "scrolled": true
   },
   "outputs": [],
   "source": [
    "b1 = df1.iloc[:,0:1]\n",
    "b1 = b1['b1'].tolist()\n",
    "b1 = list(map(float, b1))\n",
    "\n",
    "b2 = df1.iloc[:,1:2]\n",
    "b2 = b2['JulianYrEtc'].tolist()\n",
    "b2 = list(map(float, b2))\n",
    "\n",
    "b3 = df1.iloc[:,2:3]\n",
    "b3 = b3['b3(Years)'].tolist()\n",
    "b3 = list(map(float, b3))\n",
    "\n",
    "b4 = df1.iloc[:,3:4]\n",
    "b4 = b4['b4'].tolist()\n",
    "b4 = list(map(float, b4))\n",
    "\n",
    "# print (b3)"
   ]
  },
  {
   "cell_type": "markdown",
   "metadata": {},
   "source": [
    "Forcings"
   ]
  },
  {
   "cell_type": "markdown",
   "metadata": {},
   "source": [
    "Contrails and Other Greenhouse Gases"
   ]
  },
  {
   "cell_type": "code",
   "execution_count": 4,
   "metadata": {},
   "outputs": [
    {
     "name": "stdout",
     "output_type": "stream",
     "text": [
      "0.360664\n"
     ]
    }
   ],
   "source": [
    "def rad1(t):\n",
    "     y = b1[12]/(1 + np.exp(-(t - b2[12])/b3[12]))\n",
    "     return y\n",
    "\n",
    "print(b1[11])\n",
    "\n",
    "def rad2(t):\n",
    "    y = b1[11]/(1 + np.exp(-(t - b2[11])/b3[11]))\n",
    "    return y         "
   ]
  },
  {
   "cell_type": "markdown",
   "metadata": {},
   "source": [
    "N2O"
   ]
  },
  {
   "cell_type": "code",
   "execution_count": 5,
   "metadata": {},
   "outputs": [],
   "source": [
    "def xn2o(t):\n",
    "     y = (t - b2[10])/b3[10]\n",
    "     return y\n",
    "\n",
    "delta = b3[10]/b4[10]\n",
    "        \n",
    "def n2ofitindef(t):\n",
    "     y = b1[10]*b3[10]*(np.log(1+np.exp(xn2o(t)))+delta*mpmath.polylog(2,-np.exp(xn2o(t)))-delta**2*mpmath.polylog(3,-np.exp(xn2o(t))))\n",
    "     return y\n",
    "\n",
    "t0 = 1750\n",
    "tnow = 2017\n",
    "# xn2o0 = xn2o(t0)\n",
    "n2ofit0 = n2ofitindef(t0)\n",
    "n2o0 = b3[19]\n",
    "\n",
    "def n2ofit(t):\n",
    "     y = n2o0 + n2ofitindef(t) - n2ofit0 + b1[22]/(1 + np.exp(-(t - b2[22])/b3[22]))\n",
    "     return y\n",
    "\n",
    "n2ofit = np.vectorize(n2ofit)\n",
    "\n",
    "def rad3(t):\n",
    "     y = b1[19] + b2[19]*(n2ofit(t) - b3[19])\n",
    "     return y\n",
    " \n",
    "# t = np.arange(t0,tnow+1)\n",
    "# plt.plot(t,rad3(t))\n",
    "    "
   ]
  },
  {
   "cell_type": "markdown",
   "metadata": {},
   "source": [
    "CH4"
   ]
  },
  {
   "cell_type": "code",
   "execution_count": 6,
   "metadata": {},
   "outputs": [
    {
     "name": "stdout",
     "output_type": "stream",
     "text": [
      "0.5130045638443355\n"
     ]
    }
   ],
   "source": [
    "ch40 = b3[18]\n",
    "life = b4[8] #(* from heat17ch4emissions14dec.nb *)\n",
    "eps = life/b3[8]\n",
    "def x1(t):\n",
    "     y = (t-b2[8])/b3[8]\n",
    "     return y\n",
    "def u(t):\n",
    "     y = 1/(1 + np.exp(-x1(t)))\n",
    "     return y\n",
    "\n",
    "def ch4fit(t):\n",
    "     y = ch40 + life*b1[8]*u(t)*(1-eps*(1-u(t))-eps**2*(1-u(t))*(1-2*u(t)))\n",
    "     return y\n",
    "def rad4(t):\n",
    "     y = b1[18] + b2[18]*(ch4fit(t)-b3[18])\n",
    "     return y\n",
    "\n",
    "print (rad4(2010))\n"
   ]
  },
  {
   "cell_type": "markdown",
   "metadata": {},
   "source": [
    "CO2 from Land Use Changes"
   ]
  },
  {
   "cell_type": "code",
   "execution_count": 7,
   "metadata": {
    "scrolled": true
   },
   "outputs": [
    {
     "name": "stdout",
     "output_type": "stream",
     "text": [
      "57.9961083797746\n",
      "0.6902493490808028\n"
     ]
    }
   ],
   "source": [
    "co20 = b3[17]\n",
    "gtonnecperppm = 2.13;\n",
    "\n",
    "def dlogint(t):\n",
    "     y = b1[1]/(1 + np.exp(-(t - b2[1])/b3[1]))\n",
    "     return y\n",
    "dlogint0 = dlogint(t0)\n",
    "# print (dlogint0)\n",
    "\n",
    "def co2logintland(t):\n",
    "     y = b4[1]*(dlogint(t) - dlogint0)/gtonnecperppm\n",
    "     return y\n",
    "\n",
    "def gaussint(t,b1g,b2g,b3g):\n",
    "     y = b1g*b3g*np.sqrt(np.pi/2)*(-erf((b2g - t)/(b3g*np.sqrt(2))) + erf((b2g - t0)/(b3g*np.sqrt(2))))\n",
    "     return y\n",
    "\n",
    "# bg1 = np.zeros(shape=(4,1))\n",
    "# bg2 = np.zeros(shape=(4,1))\n",
    "# bg3 = np.zeros(shape=(4,1))\n",
    "\n",
    "# for i in range(0,4):\n",
    "#     bg1[i] = b1[i+3]\n",
    "#     bg2[i] = b2[i+3]\n",
    "#     bg3[i] = b3[i+3] \n",
    "\n",
    "bg = [] # results from co2 landuse fit from (g1 b1 d1) to (g4 b4 d4).\n",
    "for i in range(3,7):\n",
    "    sub_list=[]\n",
    "    for m in range(0,3):\n",
    "        x = df1.iloc[i,m].tolist()\n",
    "        sub_list.append(float(x))\n",
    "    bg.append(sub_list)\n",
    "# print (bg)\n",
    "# print (bg[0][0])\n",
    "\n",
    "def gaussland(t):\n",
    "#      y = gaussint(t,bg1[0],bg2[0],bg3[0])+gaussint(t,bg1[1],bg2[1],bg3[1])+gaussint(t,bg1[2],bg2[2],bg3[2])+gaussint(t,bg1[3],bg2[3],bg3[3])\n",
    "     y = gaussint(t,bg[0][0],bg[0][1],bg[0][2])+gaussint(t,bg[1][0],bg[1][1],bg[1][2])+gaussint(t,bg[2][0],bg[2][1],bg[2][2])+gaussint(t,bg[3][0],bg[3][1],bg[3][2])\n",
    "     return y\n",
    "\n",
    "print (gaussland(2001))\n",
    "\n",
    "def co2gauss(t):\n",
    "     y = gaussland(t)/gtonnecperppm\n",
    "     return y\n",
    "\n",
    "def co2land(t):\n",
    "     y = b4[3]*(co2logintland(t) + co2gauss(t))\n",
    "     return y\n",
    "# t = int(list(range(t0,tnow+1)))\n",
    "# t = np.arange(t0,tnow+1)\n",
    "# plt.plot(t,co2land(t))\n",
    "\n",
    "def rad5(t):\n",
    "     y = b1[17]+b2[17]*co2land(t)\n",
    "     return y\n",
    "# plt.figure()\n",
    "# plt.plot(t,rad5(t))\n",
    "\n",
    "print(rad5(2021))\n"
   ]
  },
  {
   "cell_type": "markdown",
   "metadata": {},
   "source": [
    "Industrial CO2"
   ]
  },
  {
   "cell_type": "code",
   "execution_count": 8,
   "metadata": {},
   "outputs": [
    {
     "name": "stdout",
     "output_type": "stream",
     "text": [
      "1.51518\n"
     ]
    }
   ],
   "source": [
    "x0 = (t0-b2[2])/b3[2]\n",
    "\n",
    "def x(t):\n",
    "     y = (t-b2[2])/b3[2]\n",
    "     return y\n",
    "\n",
    "def co2ind(t):\n",
    "     y = b4[3]*b4[4]*b1[2]*b3[2]*(np.log(1+np.exp(x(t)))-np.log(1+np.exp(x0)))/gtonnecperppm\n",
    "     return y\n",
    "\n",
    "print (b4[4])\n",
    "\n",
    "def rad6(t):\n",
    "     y = b1[17] + b2[17] * co2ind(t)\n",
    "     return y\n"
   ]
  },
  {
   "cell_type": "markdown",
   "metadata": {},
   "source": [
    "Tropospheric ozone"
   ]
  },
  {
   "cell_type": "code",
   "execution_count": 9,
   "metadata": {},
   "outputs": [
    {
     "name": "stdout",
     "output_type": "stream",
     "text": [
      "0.06965771195754156\n",
      "0.38386780428327616\n",
      "0.3588947748139308\n",
      "0.213935690096967\n",
      "0.5541791915143218\n",
      "0.6874718198240465\n",
      "1.4598792005918877\n"
     ]
    }
   ],
   "source": [
    "def o3(t):\n",
    "     y =  0.3046796148402036*np.exp(-0.0003741283886830488*(-2008.1969447572867+t)**2) + 42.160515888855294*(-0.0030623637478332457 + 0.021286138084796673*np.exp(0.006142015686708064*(2003.34-t))/(1+np.exp(0.006142015686708064*(2003.34 - t)))**2)\n",
    "     return y\n",
    "\n",
    "def rad1witho3(t):\n",
    "     y = rad1(t)\n",
    "     return y\n",
    "\n",
    "def rad2witho3(t):\n",
    "     y = o3(t)\n",
    "     return y\n",
    "\n",
    "\n",
    "def rad3witho3(t):\n",
    "     y = rad2(t)\n",
    "     return y\n",
    "\n",
    "def rad4witho3(t):\n",
    "     y = rad3(t)\n",
    "     return y\n",
    "\n",
    "# print (rad4witho3(2000))\n",
    "# print (rad3(2000))\n",
    "\n",
    "def rad5witho3(t):\n",
    "     y = rad4(t)\n",
    "     return y\n",
    "\n",
    "# print (rad4(2000))\n",
    "# print (rad5witho3(2000))\n",
    "\n",
    "\n",
    "def rad6witho3(t):\n",
    "     y = rad5(t)\n",
    "     return y\n",
    "\n",
    "def rad7witho3(t):\n",
    "     y = rad6(t)\n",
    "     return y\n",
    "\n",
    "print(rad1witho3(2020))\n",
    "print(rad2witho3(2020))\n",
    "print(rad3witho3(2020))\n",
    "print(rad4witho3(2020))\n",
    "print(rad5witho3(2020))\n",
    "print(rad6witho3(2020))\n",
    "print(rad7witho3(2020))\n",
    "\n",
    "dispatcher = {'rad1witho3': rad1witho3, 'rad2witho3': rad2witho3,'rad3witho3': rad3witho3,'rad4witho3': rad4witho3,'rad5witho3': rad5witho3,'rad6witho3': rad6witho3,'rad7witho3': rad7witho3}\n",
    "\n",
    "# dispatcher = {'total':[rad1witho3(t),rad2witho3(t),rad3witho3(t),rad4witho3(t),rad5witho3(t),rad6witho3(t),rad7witho3(t)]}\n",
    "\n",
    "# dispatcher = {'total':[rad1witho3(t)]}\n",
    "# dispatcher = {'total':[rad1(t)]}\n",
    "\n",
    "# dispatcher = {'foobar': [foo, bar], 'bazcat': [baz, cat]}\n",
    "\n",
    "# def fire_all(func_list):\n",
    "#     for f in func_list:\n",
    "#         f()\n",
    "\n",
    "# fire_all(dispatcher['foobar'])\n",
    "# print (len(dispatcher))\n",
    "\n",
    "# dispatcher['rad1witho3'](2000)\n",
    "# dispatcher['rad2witho3'](2000)\n",
    "# dispatcher['rad3witho3'](2000)\n",
    "# dispatcher['rad4witho3'](2000)\n",
    "# dispatcher['rad5witho3'](2000)\n",
    "# dispatcher['rad6witho3'](2000)\n",
    "# dispatcher['rad7witho3'](2000)\n",
    "\n",
    "# print(type(rad1witho3))\n",
    "# t = 2000\n",
    "\n",
    "# def fire_all(total):\n",
    "#     for f in total:\n",
    "#         f(t)\n",
    "\n",
    "# fire_all(dispatcher['total'])\n",
    "\n"
   ]
  },
  {
   "cell_type": "markdown",
   "metadata": {},
   "source": [
    "Summarize of Plots"
   ]
  },
  {
   "cell_type": "code",
   "execution_count": 10,
   "metadata": {},
   "outputs": [
    {
     "data": {
      "image/png": "[encoded data removed]",
      "text/plain": [
       "<matplotlib.figure.Figure at 0x1d7475de588>"
      ]
     },
     "metadata": {},
     "output_type": "display_data"
    },
    {
     "data": {
      "image/png": "[encoded data removed]",
      "text/plain": [
       "<matplotlib.figure.Figure at 0x1d7478f0780>"
      ]
     },
     "metadata": {},
     "output_type": "display_data"
    }
   ],
   "source": [
    "t = np.arange(t0,tnow+1)\n",
    "plt.plot(t,rad1witho3(t),label ='Contrails')\n",
    "plt.plot(t,rad1witho3(t)+rad2witho3(t), label ='Tropospheric ozone')\n",
    "plt.plot(t,rad1witho3(t)+rad2witho3(t)+rad3witho3(t), label ='other greenhouse gases')\n",
    "plt.xlabel('Year')\n",
    "plt.ylabel('$W/m^2$')\n",
    "plt.legend(loc='best')\n",
    "plt.figure()\n",
    "plt.savefig('sumforcings1.eps',dpi=1000)\n",
    "plt.savefig('sumforcings1.pdf',dpi=1000)\n",
    "\n",
    "plt.plot(t,rad1witho3(t)+rad2witho3(t)+rad3witho3(t)+rad4witho3(t), label ='$N_2O$ ')\n",
    "plt.plot(t,rad1witho3(t)+rad2witho3(t)+rad3witho3(t)+rad4witho3(t)+rad5witho3(t), label ='$CH_4$')\n",
    "plt.plot(t,rad1witho3(t)+rad2witho3(t)+rad3witho3(t)+rad4witho3(t)+rad5witho3(t)+rad6witho3(t), label ='CO2 from land Use Changes')\n",
    "plt.plot(t,rad1witho3(t)+rad2witho3(t)+rad3witho3(t)+rad4witho3(t)+rad5witho3(t)+rad6witho3(t)+rad7witho3(t), label ='Industrial CO2')\n",
    "plt.xlabel('Year')\n",
    "plt.ylabel('$W/m^2$')\n",
    "plt.legend(loc='best')\n",
    "plt.savefig('sumforcings2.eps',dpi=1000)\n",
    "plt.savefig('sumforcings2.pdf',dpi=1000)\n",
    "\n",
    "# loc='upper right', bbox_to_anchor=(0.5, 0.5)"
   ]
  },
  {
   "cell_type": "code",
   "execution_count": 11,
   "metadata": {},
   "outputs": [
    {
     "data": {
      "text/plain": [
       "<matplotlib.legend.Legend at 0x1d747afdcc0>"
      ]
     },
     "execution_count": 11,
     "metadata": {},
     "output_type": "execute_result"
    },
    {
     "data": {
      "image/png": "[encoded data removed]",
      "text/plain": [
       "<matplotlib.figure.Figure at 0x1d747a025c0>"
      ]
     },
     "metadata": {},
     "output_type": "display_data"
    }
   ],
   "source": [
    "# ax = plt.subplot(t,rad1witho3(t)+rad2witho3(t)+rad3witho3(t)+rad4witho3(t), label ='$N_2O$')\n",
    "# ax = plt.subplot(t,rad1witho3(t)+rad2witho3(t), label ='Tropospheric ozone')\n",
    "# ax.legend(loc='upper right', bbox_to_anchor=(0, 0.5))\n",
    "# ax.legend(bbox_to_anchor=(1,1))\n",
    "f, ax = plt.subplots()\n",
    "ax.plot(t,rad1witho3(t)+rad2witho3(t),label ='Tropospheric ozone')\n",
    "# ax.set_title('Simple plot')\n",
    "ax.legend(bbox_to_anchor=(1,1))"
   ]
  },
  {
   "cell_type": "code",
   "execution_count": 13,
   "metadata": {},
   "outputs": [
    {
     "name": "stdout",
     "output_type": "stream",
     "text": [
      "{0.3369437051644243, 0.39234034970208304, 0.46823151195064344, mpf('0.1569963233482686'), 0.6176271240300769, 0.8886889673897774, 0.03138582452727275}\n"
     ]
    }
   ],
   "source": [
    "def fireall(t):\n",
    "    y1 = rad1witho3(t)\n",
    "    y2 = rad2witho3(t)\n",
    "    y3 = rad3witho3(t)\n",
    "    y4 = rad4witho3(t)\n",
    "    y5 = rad5witho3(t)\n",
    "    y6 = rad6witho3(t)\n",
    "    y7 = rad7witho3(t)\n",
    "    array = {y1,y2,y3,y4,y5,y6,y7}\n",
    "    return array\n",
    "\n",
    "alpha = fireall(2000)\n",
    "print (alpha)"
   ]
  },
  {
   "cell_type": "code",
   "execution_count": null,
   "metadata": {},
   "outputs": [],
   "source": []
  }
 ],
 "metadata": {
  "kernelspec": {
   "display_name": "Python 3",
   "language": "python",
   "name": "python3"
  },
  "language_info": {
   "codemirror_mode": {
    "name": "ipython",
    "version": 3
   },
   "file_extension": ".py",
   "mimetype": "text/x-python",
   "name": "python",
   "nbconvert_exporter": "python",
   "pygments_lexer": "ipython3",
   "version": "3.6.4"
  }
 },
 "nbformat": 4,
 "nbformat_minor": 2
}
