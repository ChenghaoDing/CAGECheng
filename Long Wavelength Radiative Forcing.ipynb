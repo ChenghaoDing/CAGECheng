{
 "cells": [
  {
   "cell_type": "markdown",
   "metadata": {},
   "source": [
    "# Purpose: Estimate, cumulate, and extrapolate and plot long wavelength radiative forcing from contrails, \"other well mixed greenhouse gases\", N2O, CH4, and CO2."
   ]
  },
  {
   "cell_type": "markdown",
   "metadata": {},
   "source": [
    "Clear all variables and reset the working directory and import necessary libraries"
   ]
  },
  {
   "cell_type": "code",
   "execution_count": 1,
   "metadata": {},
   "outputs": [],
   "source": [
    "%reset -f\n",
    "import os\n",
    "import pandas as pd\n",
    "import datetime\n",
    "import matplotlib.pyplot as plt\n",
    "import numpy as np\n",
    "import sympy as sp\n",
    "from scipy.optimize import curve_fit\n",
    "import csv\n",
    "import scipy\n",
    "import mpmath\n",
    "from scipy.special import erf\n",
    "import sys\n",
    "os.chdir('C:\\\\Users\\\\cd7\\\\Desktop\\\\Heat17Forcings')"
   ]
  },
  {
   "cell_type": "markdown",
   "metadata": {},
   "source": [
    "Read the specified input file"
   ]
  },
  {
   "cell_type": "code",
   "execution_count": 2,
   "metadata": {},
   "outputs": [],
   "source": [
    "df1 = pd.read_excel('heat18parameters06jan.xlsx')\n",
    "df1.to_csv('heat18parameters06jan.csv',header=False,index=False)\n",
    "df1 = pd.read_csv('heat18parameters06jan.csv')\n",
    "# print (df1) "
   ]
  },
  {
   "cell_type": "code",
   "execution_count": 3,
   "metadata": {
    "scrolled": true
   },
   "outputs": [
    {
     "name": "stdout",
     "output_type": "stream",
     "text": [
      "[10.6644, 3.4656599999999997, 18.252, 0.242542, 0.199856, 0.770546, 0.964413, 64.1562, 176.655, 5.14088, 2.39098, 0.360664, 0.169096, 3.4656599999999997, 0.592935, 0.147705, 8.50988, 0.0, 0.0, 0.0, 0.292705, 0.0772446, 3.8108800000000005, 0.15466, 0.0461415, 0.13156700000000002, 0.18290399999999998, 0.13156700000000002]\n"
     ]
    }
   ],
   "source": [
    "b1 = df1.iloc[:,0:1]\n",
    "b1 = b1['b1'].tolist()\n",
    "b1 = list(map(float, b1))\n",
    "print (b1)\n",
    "\n",
    "b2 = df1.iloc[:,1:2]\n",
    "b2 = b2['JulianYrEtc'].tolist()\n",
    "b2 = list(map(float, b2))\n",
    "\n",
    "b3 = df1.iloc[:,2:3]\n",
    "b3 = b3['b3(Years)'].tolist()\n",
    "b3 = list(map(float, b3))\n",
    "\n",
    "b4 = df1.iloc[:,3:4]\n",
    "b4 = b4['b4'].tolist()\n",
    "b4 = list(map(float, b4))"
   ]
  },
  {
   "cell_type": "markdown",
   "metadata": {},
   "source": [
    "Forcings"
   ]
  },
  {
   "cell_type": "markdown",
   "metadata": {},
   "source": [
    "Contrails and Other Greenhouse Gases"
   ]
  },
  {
   "cell_type": "code",
   "execution_count": 4,
   "metadata": {},
   "outputs": [
    {
     "name": "stdout",
     "output_type": "stream",
     "text": [
      "0.360664\n"
     ]
    }
   ],
   "source": [
    "def rad1(t):\n",
    "    y = b1[12]/(1 + np.exp(-(t - b2[12])/b3[12]))\n",
    "    return y\n",
    "\n",
    "print(b1[11])\n",
    "\n",
    "def rad2(t):\n",
    "    y = b1[11]/(1 + np.exp(-(t - b2[11])/b3[11]))\n",
    "    return y         "
   ]
  },
  {
   "cell_type": "markdown",
   "metadata": {},
   "source": [
    "N2O"
   ]
  },
  {
   "cell_type": "code",
   "execution_count": 15,
   "metadata": {},
   "outputs": [
    {
     "name": "stdout",
     "output_type": "stream",
     "text": [
      "267.291\n",
      "0.140978301597955\n",
      "314.771773217386\n",
      "3.8108800000000005\n",
      "0.3149532856294722\n"
     ]
    }
   ],
   "source": [
    "def xn2o(t):\n",
    "    y = (t - b2[10])/b3[10]\n",
    "    return y\n",
    "\n",
    "delta = b3[10]/b4[10]\n",
    "        \n",
    "def n2ofitindef(t):\n",
    "    y = b1[10]*b3[10]*(np.log(1+np.exp(xn2o(t)))+delta*mpmath.polylog(2,-np.exp(xn2o(t)))-delta**2*mpmath.polylog(3,-np.exp(xn2o(t))))\n",
    "    return y\n",
    "\n",
    "t0 = 1750\n",
    "tnow = 2017\n",
    "# xn2o0 = xn2o(t0)\n",
    "n2ofit0 = n2ofitindef(t0)\n",
    "n2o0 = b3[19]\n",
    "print (n2o0)\n",
    "print (n2ofit0)\n",
    "def n2ofit(t):\n",
    "    y = n2o0 + n2ofitindef(t) - n2ofit0 + b1[22]*(1-1/(1 + np.exp(-(t - b2[22])/b3[22])))\n",
    "    return y\n",
    "\n",
    "n2ofit = np.vectorize(n2ofit)\n",
    "\n",
    "def rad3(t):\n",
    "    y = b1[19] + b2[19]*(n2ofit(t) - b3[19])\n",
    "    return y\n",
    " \n",
    "# t = np.arange(t0,tnow+1)\n",
    "# plt.plot(t,rad3(t))\n",
    "print (n2ofit(2000))\n",
    "print (b1[22])\n",
    "print (delta)"
   ]
  },
  {
   "cell_type": "markdown",
   "metadata": {},
   "source": [
    "CH4"
   ]
  },
  {
   "cell_type": "code",
   "execution_count": 6,
   "metadata": {},
   "outputs": [
    {
     "name": "stdout",
     "output_type": "stream",
     "text": [
      "0.2299045998898114\n",
      "0.46256261522663905\n",
      "9.51428\n",
      "1725.1499963712517\n",
      "176.655\n"
     ]
    }
   ],
   "source": [
    "ch40 = b3[18]\n",
    "life = b4[8] #(* from heat17ch4emissions14dec.nb *)\n",
    "eps = life/b3[8]\n",
    "print (eps)\n",
    "def x1(t):\n",
    "    y = (t-b2[8])/b3[8]\n",
    "    return y\n",
    "def u(t):\n",
    "    y = 1/(1 + np.exp(-x1(t)))\n",
    "    return y\n",
    "\n",
    "def ch4fit(t):\n",
    "     y = ch40 + life*b1[8]*u(t)*(1-eps*(1-u(t))+eps**2*(1-u(t))*(1-2*u(t)))\n",
    "#      y = ch40 + life*b1[8]*u(t)*(1-eps*(1-u(t))-eps**2*(1-u(t))*(1-2*u(t)))\n",
    "     return y\n",
    "def rad4(t):\n",
    "    y = b1[18] + b2[18]*(ch4fit(t)-b3[18])\n",
    "    return y\n",
    "\n",
    "print (rad4(2000))\n",
    "print (life)\n",
    "print (ch4fit(2000))\n",
    "print (b1[8])"
   ]
  },
  {
   "cell_type": "markdown",
   "metadata": {},
   "source": [
    "CO2 from Land Use Changes"
   ]
  },
  {
   "cell_type": "code",
   "execution_count": 7,
   "metadata": {
    "scrolled": true
   },
   "outputs": [
    {
     "name": "stdout",
     "output_type": "stream",
     "text": [
      "0.242542\n",
      "57.9961083797746\n",
      "37.32991181860955\n",
      "0.271308\n"
     ]
    }
   ],
   "source": [
    "# co20 = b3[17]\n",
    "gtonnecperppm = 2.13;\n",
    "\n",
    "def dlogint(t):\n",
    "    y = b1[1]/(1 + np.exp(-(t - b2[1])/b3[1]))\n",
    "    return y\n",
    "dlogint0 = dlogint(t0)\n",
    "# print (dlogint0)\n",
    "\n",
    "def co2logintland(t):\n",
    "    y = b4[1]*(dlogint(t) - dlogint0)/gtonnecperppm\n",
    "    return y\n",
    "\n",
    "def gaussint(t,b1g,b2g,b3g):\n",
    "    y = b1g*b3g*np.sqrt(np.pi/2)*(-erf((b2g - t)/(b3g*np.sqrt(2))) + erf((b2g - t0)/(b3g*np.sqrt(2))))\n",
    "    return y\n",
    "\n",
    "\n",
    "bg = [] # results from co2 landuse fit from (g1 b1 d1) to (g4 b4 d4).\n",
    "for i in range(3,7):\n",
    "    sub_list=[]\n",
    "    for m in range(0,3):\n",
    "        x = df1.iloc[i,m].tolist()\n",
    "        sub_list.append(float(x))\n",
    "    bg.append(sub_list)\n",
    "# print (bg)\n",
    "print (bg[0][0])\n",
    "\n",
    "def gaussland(t):\n",
    "    y = gaussint(t,bg[0][0],bg[0][1],bg[0][2])+gaussint(t,bg[1][0],bg[1][1],bg[1][2])+gaussint(t,bg[2][0],bg[2][1],bg[2][2])+gaussint(t,bg[3][0],bg[3][1],bg[3][2])\n",
    "    return y\n",
    "\n",
    "print (gaussland(2001))\n",
    "\n",
    "def co2gauss(t):\n",
    "    y = gaussland(t)/gtonnecperppm\n",
    "    return y\n",
    "\n",
    "def co2land(t):\n",
    "    y = b4[3]*(co2logintland(t) + co2gauss(t))\n",
    "    return y\n",
    "# t = int(list(range(t0,tnow+1)))\n",
    "# t = np.arange(t0,tnow+1)\n",
    "# plt.plot(t,co2land(t))\n",
    "\n",
    "def rad5(t):\n",
    "    y = b1[17]+b2[17]*co2land(t)\n",
    "    return y\n",
    "# plt.figure()\n",
    "# plt.plot(t,rad5(t))\n",
    "\n",
    "print(co2land(2000))\n",
    "print(b4[3])"
   ]
  },
  {
   "cell_type": "markdown",
   "metadata": {},
   "source": [
    "Industrial CO2"
   ]
  },
  {
   "cell_type": "code",
   "execution_count": 8,
   "metadata": {},
   "outputs": [
    {
     "name": "stdout",
     "output_type": "stream",
     "text": [
      "1.51518\n",
      "53.71312155198684\n",
      "2011.18\n",
      "103.22668992111264\n"
     ]
    }
   ],
   "source": [
    "x0 = (t0-b2[2])/b3[2]\n",
    "\n",
    "def x(t):\n",
    "    y = (t-b2[2])/b3[2]\n",
    "    return y\n",
    "\n",
    "def co2ind(t):\n",
    "    y = b4[3]*b4[4]*b1[2]*b3[2]*(np.log(1+np.exp(x(t)))-np.log(1+np.exp(x0)))/gtonnecperppm\n",
    "    return y\n",
    "\n",
    "print (b4[4])\n",
    "\n",
    "def rad6(t):\n",
    "    y = b1[17] + b2[17] * co2ind(t)\n",
    "    return y\n",
    "print(co2ind(2000))\n",
    "print (b2[2])\n",
    "print (b4[3]*b4[4]*b1[2]*b3[2]/gtonnecperppm)"
   ]
  },
  {
   "cell_type": "markdown",
   "metadata": {},
   "source": [
    "Tropospheric ozone"
   ]
  },
  {
   "cell_type": "code",
   "execution_count": 9,
   "metadata": {},
   "outputs": [
    {
     "name": "stdout",
     "output_type": "stream",
     "text": [
      "2008.1957203634392\n",
      "0.3046749294982277\n",
      "36.55645135955279\n",
      "42.16088803305843\n"
     ]
    }
   ],
   "source": [
    "# df7 = pd.read_excel('C:\\\\Users\\\\cd7\\\\Desktop\\\\Heat17Forcings\\\\CAGE_O3_Parameters.xlsx')\n",
    "# df7.to_csv('CAGE_O3_Parameters.csv',header=False,index=False)\n",
    "df7 = pd.read_csv('CAGE_O3_Parameters.csv')\n",
    "d1 = df7.iloc[1,1]\n",
    "d2 = df7.iloc[2,1]\n",
    "d3 = df7.iloc[3,1]\n",
    "d4 = df7.iloc[4,1]\n",
    "print (d2)\n",
    "print (d1)\n",
    "print (d3)\n",
    "print (d4)\n",
    "\n",
    "def o3(t):\n",
    "    y =  0.3046796148402036*np.exp(-0.0003741283886830488*(-2008.1969447572867+t)**2) + 42.160515888855294*(-0.0030623637478332457 + 0.021286138084796673*np.exp(0.006142015686708064*(2003.34-t))/(1+np.exp(0.006142015686708064*(2003.34 - t)))**2)\n",
    "    return y\n",
    "# from Fit Aerosol less Black Carbon import fito3\n",
    "\n",
    "# from Fit Aerosol less Black Carbon and ozone import fito3\n",
    "\n",
    "def rad1witho3(t):\n",
    "    y = rad1(t)\n",
    "    return y\n",
    "\n",
    "def rad2witho3(t):\n",
    "    y = o3(t)\n",
    "    return y\n",
    "\n",
    "\n",
    "def rad3witho3(t):\n",
    "    y = rad2(t)\n",
    "    return y\n",
    "\n",
    "def rad4witho3(t):\n",
    "    y = rad3(t)\n",
    "    return y\n",
    "\n",
    "def rad5witho3(t):\n",
    "    y = rad4(t)\n",
    "    return y\n",
    "\n",
    "def rad6witho3(t):\n",
    "    y = rad5(t)\n",
    "    return y\n",
    "\n",
    "def rad7witho3(t):\n",
    "    y = rad6(t)\n",
    "    return y"
   ]
  },
  {
   "cell_type": "markdown",
   "metadata": {},
   "source": [
    "Summarize of Plots"
   ]
  },
  {
   "cell_type": "code",
   "execution_count": 10,
   "metadata": {},
   "outputs": [
    {
     "data": {
      "image/png": "[encoded data removed]",
      "text/plain": [
       "<matplotlib.figure.Figure at 0x1cfd850e828>"
      ]
     },
     "metadata": {},
     "output_type": "display_data"
    },
    {
     "data": {
      "image/png": "[encoded data removed]",
      "text/plain": [
       "<matplotlib.figure.Figure at 0x1cfd85fdf98>"
      ]
     },
     "metadata": {},
     "output_type": "display_data"
    }
   ],
   "source": [
    "t = np.arange(t0,tnow+1)\n",
    "plt.plot(t,rad1witho3(t),label ='Contrails')\n",
    "plt.plot(t,rad1witho3(t)+rad2witho3(t), label ='Tropospheric ozone')\n",
    "plt.plot(t,rad1witho3(t)+rad2witho3(t)+rad3witho3(t), label ='other greenhouse gases')\n",
    "plt.xlabel('Year')\n",
    "plt.ylabel('$W/m^2$')\n",
    "plt.legend(loc='best')\n",
    "plt.savefig('sumforcings1.eps',dpi=1000)\n",
    "plt.savefig('sumforcings1.pdf',dpi=1000)\n",
    "plt.figure()\n",
    "\n",
    "plt.plot(t,rad1witho3(t)+rad2witho3(t)+rad3witho3(t)+rad4witho3(t), label ='$N_2O$')\n",
    "plt.plot(t,rad1witho3(t)+rad2witho3(t)+rad3witho3(t)+rad4witho3(t)+rad5witho3(t), label ='$CH_4$')\n",
    "plt.plot(t,rad1witho3(t)+rad2witho3(t)+rad3witho3(t)+rad4witho3(t)+rad5witho3(t)+rad6witho3(t), label ='CO2 from land Use Changes')\n",
    "plt.plot(t,rad1witho3(t)+rad2witho3(t)+rad3witho3(t)+rad4witho3(t)+rad5witho3(t)+rad6witho3(t)+rad7witho3(t), label ='Industrial CO2')\n",
    "plt.xlabel('Year')\n",
    "plt.ylabel('$W/m^2$')\n",
    "plt.legend(loc='best')\n",
    "plt.savefig('sumforcings2.eps',dpi=1000)\n",
    "plt.savefig('sumforcings2.pdf',dpi=1000)"
   ]
  },
  {
   "cell_type": "code",
   "execution_count": 11,
   "metadata": {},
   "outputs": [
    {
     "name": "stdout",
     "output_type": "stream",
     "text": [
      "[0.03138582452727275, 0.39234034970208304, 0.3369437051644243, 0.1453357979720248, 0.46256261522663905, 0.6176271240300769, 0.8886889673897774]\n"
     ]
    }
   ],
   "source": [
    "def fireall(t):\n",
    "    y1 = rad1witho3(t)\n",
    "    y2 = rad2witho3(t)\n",
    "    y3 = rad3witho3(t)\n",
    "    y4 = rad4witho3(t)\n",
    "    y5 = rad5witho3(t)\n",
    "    y6 = rad6witho3(t)\n",
    "    y7 = rad7witho3(t)\n",
    "    list  = [y1,y2,y3,float(y4),y5,y6,y7]\n",
    "    return list\n",
    "\n",
    "alpha = fireall(2000)\n",
    "print (alpha)"
   ]
  },
  {
   "cell_type": "code",
   "execution_count": 12,
   "metadata": {},
   "outputs": [
    {
     "name": "stdout",
     "output_type": "stream",
     "text": [
      "0.7606698793937801\n",
      "0.42372617422935577\n",
      "0.03138582452727275\n"
     ]
    },
    {
     "data": {
      "image/png": "[encoded data removed]",
      "text/plain": [
       "<matplotlib.figure.Figure at 0x1cfd886db38>"
      ]
     },
     "metadata": {},
     "output_type": "display_data"
    }
   ],
   "source": [
    "%matplotlib inline\n",
    "\n",
    "fig = plt.figure()\n",
    "ax = fig.add_subplot(111)\n",
    "\n",
    "t = np.arange(t0,tnow+1)\n",
    "s1 = rad1witho3(t)+rad2witho3(t)\n",
    "s2 = rad1witho3(t)+rad2witho3(t)+rad3witho3(t)\n",
    "s3 = rad1witho3(t)\n",
    "line, = ax.plot(t, s1, lw=2)\n",
    "line1, = ax.plot(t, s2, lw=2)\n",
    "line2, = ax.plot(t, s3, lw=2)\n",
    "\n",
    "ax.annotate('Ozone', xy=(2000, 0.42372617422935577), xytext=(1990, 0.3))\n",
    "ax.annotate('Others', xy=(2000, 0.7606698793937801), xytext=(1960, 0.7))\n",
    "ax.annotate('Contrails', xy=(2000, 0.03138582452727275), xytext=(1980, 0.1))\n",
    "\n",
    "print(rad1witho3(2000)+rad2witho3(2000)+rad3witho3(2000))\n",
    "print(rad1witho3(2000)+rad2witho3(2000))\n",
    "print(rad1witho3(2000))\n",
    "plt.xlabel('Year')\n",
    "plt.ylabel('$w/m^2$')\n",
    "plt.savefig('sumforcings3.eps',dpi=1000)\n",
    "plt.savefig('sumforcings3.pdf',dpi=1000)\n",
    "plt.show()"
   ]
  },
  {
   "cell_type": "code",
   "execution_count": 13,
   "metadata": {},
   "outputs": [
    {
     "data": {
      "image/png": "[encoded data removed]",
      "text/plain": [
       "<matplotlib.figure.Figure at 0x1cfd8892358>"
      ]
     },
     "metadata": {},
     "output_type": "display_data"
    }
   ],
   "source": [
    "%matplotlib inline\n",
    "fig = plt.figure()\n",
    "ax = fig.add_subplot(111)\n",
    "\n",
    "s4 = rad1witho3(t)+rad2witho3(t)+rad3witho3(t)+rad4witho3(t)\n",
    "s5 = rad1witho3(t)+rad2witho3(t)+rad3witho3(t)+rad4witho3(t)+rad5witho3(t)\n",
    "s6 = rad1witho3(t)+rad2witho3(t)+rad3witho3(t)+rad4witho3(t)+rad5witho3(t)+rad6witho3(t)\n",
    "s7 = rad1witho3(t)+rad2witho3(t)+rad3witho3(t)+rad4witho3(t)+rad5witho3(t)+rad6witho3(t)+rad7witho3(t)\n",
    "line3, = ax.plot(t, s4, lw=2)\n",
    "line4, = ax.plot(t, s5, lw=2)\n",
    "line5, = ax.plot(t, s6, lw=2)\n",
    "line6, = ax.plot(t, s7, lw=2)\n",
    "\n",
    "ax.annotate('$N_2O$', xy=(2000, 0.917666202742049), xytext=(1990, 0.5))\n",
    "ax.annotate('$CH_4$', xy=(2000, 1.38022881796869), xytext=(2000, 1.7))\n",
    "ax.annotate('CO2 Land Use', xy=(2000, 1.99785594199876), xytext=(1950, 2.3))\n",
    "ax.annotate('Industrial CO2', xy=(2000, 2.88654490938854), xytext=(1940, 3.2))\n",
    "plt.xlabel('Year')\n",
    "plt.ylabel('$w/m^2$')\n",
    "plt.savefig('sumforcings4.eps',dpi=1000)\n",
    "plt.savefig('sumforcings4.pdf',dpi=1000)\n",
    "plt.show()\n",
    "# print(rad1witho3(2000)+rad2witho3(2000)+rad3witho3(2000)+rad4witho3(2000))\n",
    "# print(rad1witho3(2000)+rad2witho3(2000)+rad3witho3(2000)+rad4witho3(2000)+rad5witho3(2000))\n",
    "# print(rad1witho3(2000)+rad2witho3(2000)+rad3witho3(2000)+rad4witho3(2000)+rad5witho3(2000)+rad6witho3(2000))\n",
    "# print(rad1witho3(2000)+rad2witho3(2000)+rad3witho3(2000)+rad4witho3(2000)+rad5witho3(2000)+rad6witho3(2000)+rad7witho3(2000))"
   ]
  }
 ],
 "metadata": {
  "kernelspec": {
   "display_name": "Python 3",
   "language": "python",
   "name": "python3"
  },
  "language_info": {
   "codemirror_mode": {
    "name": "ipython",
    "version": 3
   },
   "file_extension": ".py",
   "mimetype": "text/x-python",
   "name": "python",
   "nbconvert_exporter": "python",
   "pygments_lexer": "ipython3",
   "version": "3.6.4"
  }
 },
 "nbformat": 4,
 "nbformat_minor": 2
}
