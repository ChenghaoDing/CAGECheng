{
 "cells": [
  {
   "cell_type": "markdown",
   "metadata": {},
   "source": [
    "# Purpose: Fit logistic function to anthropogenic CH4 emissions from 1750-2016, using emissions estimates compiled in heat17ch4emitdec14.nb"
   ]
  },
  {
   "cell_type": "markdown",
   "metadata": {},
   "source": [
    "Clear all variables and reset the working directory and import necessary libraries"
   ]
  },
  {
   "cell_type": "code",
   "execution_count": 1,
   "metadata": {},
   "outputs": [],
   "source": [
    "%reset -f\n",
    "import os\n",
    "import pandas as pd\n",
    "import matplotlib.pyplot as plt\n",
    "import numpy as np\n",
    "from scipy.optimize import curve_fit\n",
    "os.chdir('C:\\\\Users\\\\cd7\\\\Desktop\\\\Heat17CH4')"
   ]
  },
  {
   "cell_type": "markdown",
   "metadata": {},
   "source": [
    "Read input files and assign the year values and methane historical concentration data"
   ]
  },
  {
   "cell_type": "code",
   "execution_count": 2,
   "metadata": {},
   "outputs": [],
   "source": [
    "df = pd.read_excel('heat17ch4emitdec14.xlsx')\n",
    "df.to_csv('heat17ch4emitdec14.csv',header=False,index=False)\n",
    "df = pd.read_csv('heat17ch4emitdec14.csv')\n",
    "df.drop(df.index[[-1]],inplace=True)\n",
    "emit = df.iloc[:,1].tolist()\n",
    "emit = list(map(float, emit))\n",
    "yrs = df.iloc[:,0].tolist()\n",
    "yrs = list(map(int, yrs))"
   ]
  },
  {
   "cell_type": "markdown",
   "metadata": {},
   "source": [
    "Define the fitted logistic function and fit data"
   ]
  },
  {
   "cell_type": "code",
   "execution_count": 3,
   "metadata": {},
   "outputs": [
    {
     "name": "stdout",
     "output_type": "stream",
     "text": [
      "[ 176.65456961 1973.90925511   41.38339773]\n"
     ]
    }
   ],
   "source": [
    "def logistic(yrs,b1,b2,b3):\n",
    "     y = b1 / (1 + np.exp(-(yrs-b2)/b3))\n",
    "     return y\n",
    "param_bounds=([100,1500,0],[200,2500,50])\n",
    "popt, pcov = curve_fit(logistic, yrs, emit, bounds=param_bounds)\n",
    "print (popt)"
   ]
  },
  {
   "cell_type": "markdown",
   "metadata": {},
   "source": [
    "Plot the fitted logistic function,comparing with the historical data and save the results as a csv file."
   ]
  },
  {
   "cell_type": "code",
   "execution_count": 4,
   "metadata": {},
   "outputs": [
    {
     "data": {
      "image/png": "[encoded data removed]",
      "text/plain": [
       "<matplotlib.figure.Figure at 0x23cd0145748>"
      ]
     },
     "metadata": {},
     "output_type": "display_data"
    }
   ],
   "source": [
    "x = np.array(yrs)\n",
    "y = logistic(x, *popt)\n",
    "plt.scatter(yrs, emit, s=2, c='r' , alpha = 0.5, label=\"data\",marker='o') # make the scatter plot for historical data\n",
    "plt.plot(yrs,y, label='fit') # make plot of the fitted data\n",
    "plt.xlabel('Year')\n",
    "plt.ylabel('ppb/yr')\n",
    "plt.legend(loc='best')\n",
    "plt.savefig('ch4post.eps',dpi=1000)"
   ]
  }
 ],
 "metadata": {
  "kernelspec": {
   "display_name": "Python 3",
   "language": "python",
   "name": "python3"
  },
  "language_info": {
   "codemirror_mode": {
    "name": "ipython",
    "version": 3
   },
   "file_extension": ".py",
   "mimetype": "text/x-python",
   "name": "python",
   "nbconvert_exporter": "python",
   "pygments_lexer": "ipython3",
   "version": "3.6.4"
  }
 },
 "nbformat": 4,
 "nbformat_minor": 2
}
