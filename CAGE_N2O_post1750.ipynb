{
 "cells": [
  {
   "cell_type": "markdown",
   "metadata": {},
   "source": [
    "# Nitrous Oxide Emissions Logistic Fit"
   ]
  },
  {
   "cell_type": "markdown",
   "metadata": {},
   "source": [
    "Purpose: Fit logistic function to anthropogenic N2O emissions from 1750-2016, using emissions estimates compiled in heat17n2oemitdec16.nb and the inflection point from a logistic fit to the increment in global population over its 1820 value"
   ]
  },
  {
   "cell_type": "markdown",
   "metadata": {},
   "source": [
    "Clear all variables and reset the working directory and import necessary libraries"
   ]
  },
  {
   "cell_type": "code",
   "execution_count": 1,
   "metadata": {},
   "outputs": [],
   "source": [
    "%reset -f\n",
    "import os\n",
    "import pandas as pd\n",
    "import matplotlib.pyplot as plt\n",
    "import numpy as np\n",
    "from scipy.optimize import curve_fit\n",
    "import csv\n",
    "os.chdir('C:\\\\Users\\\\cd7\\\\Desktop\\\\Heat17N2O')"
   ]
  },
  {
   "cell_type": "markdown",
   "metadata": {},
   "source": [
    "Read input files and assign the year values and methane historical concentration data"
   ]
  },
  {
   "cell_type": "code",
   "execution_count": 2,
   "metadata": {},
   "outputs": [],
   "source": [
    "df = pd.read_excel('heat17n2oemitdec16.xlsx')\n",
    "df.to_csv('heat17n2oemitdec16.csv',header=False,index=False)\n",
    "df = pd.read_csv('heat17n2oemitdec16.csv')\n",
    "df.drop(df.index[[-1]],inplace=True)\n",
    "emit = df.iloc[:,1].tolist()\n",
    "emit = list(map(float, emit))\n",
    "yrs = df.iloc[:,0].tolist()\n",
    "yrs = list(map(int, yrs))\n",
    "f = open('C:\\\\Users\\\\cd7\\\\Desktop\\\\Heat17Population\\\\CAGE_Pop_Parameters.csv','r')\n",
    "readFile = csv.reader(f)\n",
    "data = [row for row in readFile]\n",
    "b21 = float(data[3][1])"
   ]
  },
  {
   "cell_type": "markdown",
   "metadata": {},
   "source": [
    "Define the fitted logistic function and fit data"
   ]
  },
  {
   "cell_type": "code",
   "execution_count": 3,
   "metadata": {},
   "outputs": [
    {
     "name": "stdout",
     "output_type": "stream",
     "text": [
      "[ 2.39110876 40.31831361]\n"
     ]
    }
   ],
   "source": [
    "def logistic(yrs,b1,b3):\n",
    "     y = b1 / (1 + np.exp(-(yrs-b21)/b3))\n",
    "     return y\n",
    "param_bounds=([0,0],[200,100])\n",
    "popt, pcov = curve_fit(logistic, yrs, emit, bounds=param_bounds)\n",
    "print (popt)"
   ]
  },
  {
   "cell_type": "markdown",
   "metadata": {},
   "source": [
    "Plot the fitted logistic function,comparing with the historical data and save the results as a csv file."
   ]
  },
  {
   "cell_type": "code",
   "execution_count": 4,
   "metadata": {},
   "outputs": [
    {
     "data": {
      "image/png": "[encoded data removed]",
      "text/plain": [
       "<matplotlib.figure.Figure at 0x179a06d6a90>"
      ]
     },
     "metadata": {},
     "output_type": "display_data"
    }
   ],
   "source": [
    "x = np.array(yrs)\n",
    "y = logistic(x, *popt)\n",
    "plt.scatter(yrs, emit, s=2, c='r' , alpha = 0.5, label=\"data\",marker='o') # make the scatter plot for historical data\n",
    "plt.plot(yrs,y, label='fit') # make plot of the fitted data\n",
    "plt.xlabel('Year')\n",
    "plt.ylabel('ppb/yr')\n",
    "plt.legend(loc='best')\n",
    "plt.savefig('n2opost.eps',dpi=1000)\n",
    "plt.show()"
   ]
  }
 ],
 "metadata": {
  "kernelspec": {
   "display_name": "Python 3",
   "language": "python",
   "name": "python3"
  },
  "language_info": {
   "codemirror_mode": {
    "name": "ipython",
    "version": 3
   },
   "file_extension": ".py",
   "mimetype": "text/x-python",
   "name": "python",
   "nbconvert_exporter": "python",
   "pygments_lexer": "ipython3",
   "version": "3.6.4"
  }
 },
 "nbformat": 4,
 "nbformat_minor": 2
}
