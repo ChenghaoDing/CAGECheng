{
 "cells": [
  {
   "cell_type": "markdown",
   "metadata": {},
   "source": [
    "# Modified from heat18temps200-2017jan15.nb "
   ]
  },
  {
   "cell_type": "markdown",
   "metadata": {},
   "source": [
    "Purpose: From thermometer and multi-proxy estimates, merge temperature data differences from an estimate of 1961-1990 mean absolute temperature and find the 1650--1749 average, based on the references at the end of this notebook."
   ]
  },
  {
   "cell_type": "code",
   "execution_count": 1,
   "metadata": {},
   "outputs": [],
   "source": [
    "%reset -f\n",
    "import os\n",
    "import pandas as pd\n",
    "import datetime\n",
    "import matplotlib.pyplot as plt\n",
    "import numpy as np\n",
    "os.chdir('C:\\\\Users\\\\cd7\\\\Desktop\\\\Heat18Temperature')"
   ]
  },
  {
   "cell_type": "code",
   "execution_count": 2,
   "metadata": {},
   "outputs": [
    {
     "name": "stderr",
     "output_type": "stream",
     "text": [
      "C:\\Users\\cd7\\AppData\\Local\\Continuum\\anaconda3\\lib\\site-packages\\ipykernel_launcher.py:3: ParserWarning: Falling back to the 'python' engine because the 'c' engine does not support skipfooter; you can avoid this warning by specifying engine='python'.\n",
      "  This is separate from the ipykernel package so we can avoid doing imports until\n",
      "C:\\Users\\cd7\\AppData\\Local\\Continuum\\anaconda3\\lib\\site-packages\\ipykernel_launcher.py:7: ParserWarning: Falling back to the 'python' engine because the 'c' engine does not support skipfooter; you can avoid this warning by specifying engine='python'.\n",
      "  import sys\n"
     ]
    }
   ],
   "source": [
    "df1 = pd.read_excel('C:\\\\Users\\\\cd7\\\\Desktop\\\\Heat18Temperature\\\\GLB.Ts+dSST(1Jan2018).xlsx')\n",
    "df1.to_csv('heat19GLB.csv',header=False,index=False)\n",
    "df1 = pd.read_csv('heat19GLB.csv',skipfooter=1)\n",
    "\n",
    "df2 = pd.read_excel('C:\\\\Users\\\\cd7\\\\Desktop\\\\Heat18Temperature\\\\heat17decadalglobaltemp19oct200-1980.xlsx')\n",
    "df2.to_csv('heat19decadal.csv',header=False,index=False)\n",
    "df2 = pd.read_csv('heat19decadal.csv',skipfooter=1)"
   ]
  },
  {
   "cell_type": "code",
   "execution_count": 3,
   "metadata": {},
   "outputs": [
    {
     "name": "stdout",
     "output_type": "stream",
     "text": [
      "heat20warming05apr200-2017\n"
     ]
    }
   ],
   "source": [
    "out1 = 'heat'\n",
    "out2 = 'warming'\n",
    "out3 = '200-2017'\n",
    "months = ['jan', 'feb', 'mar', 'apr', 'may', 'jun', 'jul', 'aug', 'sep', 'oct', 'nov', 'dec'] # abbreviations for months to insert in output file name)\n",
    "date = datetime.date.today().strftime(\"%Y-%m-%d\")\n",
    "date_split = date.split('-')\n",
    "yrs = str(int(date_split[0])-2000)\n",
    "seq = [out1, yrs, out2, date_split[2], months[int(date_split[1])-1],out3 ]\n",
    "seperator = ','\n",
    "filename = seperator.join(seq).replace(',', '')\n",
    "print (filename)"
   ]
  },
  {
   "cell_type": "markdown",
   "metadata": {},
   "source": [
    "# Global Average Thermometer Data"
   ]
  },
  {
   "cell_type": "markdown",
   "metadata": {},
   "source": [
    "Global average temperature direct measurements as deviations from 1951-1980 mean.\n",
    "https://data.giss.nasa.gov/gistemp"
   ]
  },
  {
   "cell_type": "code",
   "execution_count": 4,
   "metadata": {},
   "outputs": [],
   "source": [
    "thermoyrs = df1.iloc[:,0]\n",
    "dec2017temp = df1.iloc[-1,:][11]*np.mean(df1.iloc[:,12][:-1].astype(float).div(df1.iloc[:,11][:-1].astype(float)))"
   ]
  },
  {
   "cell_type": "code",
   "execution_count": 5,
   "metadata": {
    "scrolled": true
   },
   "outputs": [
    {
     "data": {
      "text/plain": [
       "0.7664302149429327"
      ]
     },
     "execution_count": 5,
     "metadata": {},
     "output_type": "execute_result"
    }
   ],
   "source": [
    "dec2017temp"
   ]
  },
  {
   "cell_type": "code",
   "execution_count": 6,
   "metadata": {},
   "outputs": [
    {
     "data": {
      "text/plain": [
       "Text(0, 0.5, '$^\\\\circ$C')"
      ]
     },
     "execution_count": 6,
     "metadata": {},
     "output_type": "execute_result"
    },
    {
     "data": {
      "image/png": "[encoded data removed]",
      "text/plain": [
       "<Figure size 432x288 with 1 Axes>"
      ]
     },
     "metadata": {
      "needs_background": "light"
     },
     "output_type": "display_data"
    }
   ],
   "source": [
    "thermotemps = df1.iloc[:,13][:-1].append(pd.Series([np.mean(df1.iloc[-1,:][1:12].append(pd.Series([dec2017temp]), ignore_index=True))]), ignore_index=True)\n",
    "thermotemps = thermotemps.astype(float)\n",
    "plt.scatter(thermoyrs, thermotemps, s=2,color = 'red', alpha = 0.5,marker='o')\n",
    "plt.xlabel('Year') \n",
    "plt.ylabel('$^\\circ$C')"
   ]
  },
  {
   "cell_type": "markdown",
   "metadata": {},
   "source": [
    "If this = 0 confirms the reference temperature for this data."
   ]
  },
  {
   "cell_type": "code",
   "execution_count": 7,
   "metadata": {},
   "outputs": [
    {
     "data": {
      "text/plain": [
       "3.7007434154171884e-18"
      ]
     },
     "execution_count": 7,
     "metadata": {},
     "output_type": "execute_result"
    }
   ],
   "source": [
    "thermoyrs[thermoyrs == 1951].index[0]\n",
    "thermoyrs[thermoyrs == 1980].index[0]\n",
    "np.mean(thermotemps[thermoyrs[thermoyrs == 1951].index[0]:thermoyrs[thermoyrs == 1980].index[0]+1])\n",
    "# this is enough small to ignore as zero"
   ]
  },
  {
   "cell_type": "markdown",
   "metadata": {},
   "source": [
    "From a measurement off of figure 9.8a of the IPPC AR5 reference below, the 1961 to 1990 average  of the global average temperature is "
   ]
  },
  {
   "cell_type": "code",
   "execution_count": 8,
   "metadata": {},
   "outputs": [],
   "source": [
    "tokelvin = 14 - 4/22 + 273.15"
   ]
  },
  {
   "cell_type": "markdown",
   "metadata": {},
   "source": [
    "Differences from 1961 to 1990 average are lower than from the 1951 to 1980 average by:"
   ]
  },
  {
   "cell_type": "code",
   "execution_count": 9,
   "metadata": {},
   "outputs": [],
   "source": [
    "shift = np.mean(thermotemps[thermoyrs[thermoyrs == 1961].index[0]:thermoyrs[thermoyrs == 1990].index[0]+1])"
   ]
  },
  {
   "cell_type": "code",
   "execution_count": 10,
   "metadata": {},
   "outputs": [],
   "source": [
    "thermokelvin = thermotemps - shift + tokelvin"
   ]
  },
  {
   "cell_type": "code",
   "execution_count": 11,
   "metadata": {},
   "outputs": [],
   "source": [
    "tempsmooth = thermokelvin.rolling(window=11).mean()\n",
    "tempsmooth = tempsmooth.dropna()"
   ]
  },
  {
   "cell_type": "code",
   "execution_count": 12,
   "metadata": {},
   "outputs": [],
   "source": [
    "yrsmooth = thermoyrs.rolling(window=11).mean()\n",
    "yrsmooth = yrsmooth.dropna()"
   ]
  },
  {
   "cell_type": "markdown",
   "metadata": {},
   "source": [
    "#Multi-proxy Global Average Temperature Changes from 200-1980"
   ]
  },
  {
   "cell_type": "markdown",
   "metadata": {},
   "source": [
    "Mann, M.E. and P.D. Jones, 2003, Global Surface Temperatures over the Past Two Millennia,Geophysical Research Letters, Vol. 30, No. 15, 1820, August 2003. doi: 10.1029/2003GL017814. Results are deviations from 1961-1990 instrumental mean."
   ]
  },
  {
   "cell_type": "markdown",
   "metadata": {},
   "source": [
    "IPPC AR5 Figure 9.8a has the 1961-1990 absolute global average temperature at 287 K for the CIMP5 simulations mean:"
   ]
  },
  {
   "cell_type": "code",
   "execution_count": 13,
   "metadata": {},
   "outputs": [
    {
     "data": {
      "text/plain": [
       "Text(0, 0.5, '$^\\\\circ$C')"
      ]
     },
     "execution_count": 13,
     "metadata": {},
     "output_type": "execute_result"
    },
    {
     "data": {
      "image/png": "[encoded data removed]",
      "text/plain": [
       "<Figure size 432x288 with 1 Axes>"
      ]
     },
     "metadata": {
      "needs_background": "light"
     },
     "output_type": "display_data"
    }
   ],
   "source": [
    "tempkelvinraw = df2.iloc[:,1] + tokelvin\n",
    "yrsmulti = df2.iloc[:,0] \n",
    "plt.scatter(yrsmulti, tempkelvinraw, s=2,color = 'red', alpha = 0.5,marker='o')\n",
    "plt.xlabel('Year') \n",
    "plt.ylabel('$^\\circ$C')"
   ]
  },
  {
   "cell_type": "code",
   "execution_count": 14,
   "metadata": {
    "scrolled": true
   },
   "outputs": [],
   "source": [
    "tempkelvinraws  = tempkelvinraw[1885 - 200:].reset_index(drop=True)\n",
    "tempsmooths = tempsmooth[:-32].reset_index(drop=True)"
   ]
  },
  {
   "cell_type": "code",
   "execution_count": 15,
   "metadata": {},
   "outputs": [],
   "source": [
    "subratctfromtempkelvin = np.mean(tempkelvinraws.subtract(tempsmooths))"
   ]
  },
  {
   "cell_type": "code",
   "execution_count": 16,
   "metadata": {},
   "outputs": [],
   "source": [
    "yrsall = yrsmulti[:-101].append(thermoyrs)\n",
    "kelvinall = tempkelvinraw[:-101] - subratctfromtempkelvin\n",
    "kelvinall = kelvinall.append(thermokelvin)"
   ]
  },
  {
   "cell_type": "code",
   "execution_count": 17,
   "metadata": {},
   "outputs": [],
   "source": [
    "yrsall = yrsall.reset_index(drop=True)\n",
    "kelvinall = kelvinall.reset_index(drop=True)"
   ]
  },
  {
   "cell_type": "code",
   "execution_count": 18,
   "metadata": {},
   "outputs": [
    {
     "data": {
      "text/plain": [
       "100"
      ]
     },
     "execution_count": 18,
     "metadata": {},
     "output_type": "execute_result"
    }
   ],
   "source": [
    "kelvinall[yrsall[yrsall == 1650].index[0]:yrsall[yrsall == 1749].index[0]+1]\n",
    "len(kelvinall[yrsall[yrsall == 1650].index[0]:yrsall[yrsall == 1749].index[0]+1])"
   ]
  },
  {
   "cell_type": "code",
   "execution_count": 19,
   "metadata": {},
   "outputs": [
    {
     "data": {
      "text/plain": [
       "286.6814093939393"
      ]
     },
     "execution_count": 19,
     "metadata": {},
     "output_type": "execute_result"
    }
   ],
   "source": [
    "tup0 = np.mean(kelvinall[yrsall[yrsall == 1650].index[0]:yrsall[yrsall == 1749].index[0]+1])\n",
    "tup0"
   ]
  },
  {
   "cell_type": "code",
   "execution_count": 20,
   "metadata": {},
   "outputs": [
    {
     "data": {
      "text/plain": [
       "Text(0, 0.5, '$^\\\\circ$C')"
      ]
     },
     "execution_count": 20,
     "metadata": {},
     "output_type": "execute_result"
    },
    {
     "data": {
      "image/png": "[encoded data removed]",
      "text/plain": [
       "<Figure size 432x288 with 1 Axes>"
      ]
     },
     "metadata": {
      "needs_background": "light"
     },
     "output_type": "display_data"
    }
   ],
   "source": [
    "warm = kelvinall - tup0\n",
    "plt.scatter(yrsall,warm, s=2,color = 'red', alpha = 0.5,marker='o')\n",
    "plt.xlabel('Year') \n",
    "plt.ylabel('$^\\circ$C')"
   ]
  },
  {
   "cell_type": "code",
   "execution_count": 21,
   "metadata": {},
   "outputs": [],
   "source": [
    "years = pd.DataFrame({'Year':yrsall})\n",
    "warm = pd.DataFrame({'WarmOver1650-1749Ave':warm})\n",
    "dfout = pd.merge(years,warm, left_index =True, right_index =True,how='outer')"
   ]
  },
  {
   "cell_type": "code",
   "execution_count": 22,
   "metadata": {},
   "outputs": [],
   "source": [
    "dfout.loc[-1]=['Julian','degreeC']\n",
    "dfout.index = dfout.index+1\n",
    "dfout = dfout.sort_index()\n",
    "\n",
    "dfout.loc[(len(dfout))] = ['2020/04/03','Join Multiproxy and Thermometer.ipynb']\n",
    "dfout.to_csv(filename + '.csv', index=False)"
   ]
  },
  {
   "cell_type": "markdown",
   "metadata": {},
   "source": [
    "# References"
   ]
  },
  {
   "cell_type": "markdown",
   "metadata": {},
   "source": [
    "Schmidt, G., and B. Schmunk. 2017. GISS surface temperature anomaly global-mean monthly, seasonal, and annual means, 1889-present, updated through most recent month, National Aeronautics and Space Administration Goddard Institute for Space Studies, https://data.giss.nasa.gov/gistemp/, accessed 2 January 2018.\n",
    "\n",
    "Mann, M.E. and P.D. Jones, 2003, Global Surface Temperatures over the Past Two Millennia,Geophysical Research Letters, Vol. 30, No. 15, 1820, August 2003. doi: 10.1029/2003GL017814. Results are deviations from 1961-1990 instrumental mean.\n",
    "\n",
    "IPCC. 2013. Climate Change 2013: The Physical Science  Basis, Contributions of Working Group ! to the Fifth Assessment Report of the Intergovernmental Panel on Climate Change, Stocker, T., D. Qin, G.-K. Plattner, M. Tignor, S. Allen, J. Boshcung, A. Nauels, Y. Xia, V. Bex, and P. Midgely, eds., Cambridge University Press, Cambridge, United Kingdom and New York, NY, USA, 1535pp, with Table AII-1-2, corrected xls-sheets as of 20 August 2014, http://www.climatechange2013.org/, accessed 23 December 2017."
   ]
  }
 ],
 "metadata": {
  "kernelspec": {
   "display_name": "Python 3",
   "language": "python",
   "name": "python3"
  },
  "language_info": {
   "codemirror_mode": {
    "name": "ipython",
    "version": 3
   },
   "file_extension": ".py",
   "mimetype": "text/x-python",
   "name": "python",
   "nbconvert_exporter": "python",
   "pygments_lexer": "ipython3",
   "version": "3.6.9"
  }
 },
 "nbformat": 4,
 "nbformat_minor": 2
}
