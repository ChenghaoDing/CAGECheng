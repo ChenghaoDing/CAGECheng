{
 "cells": [
  {
   "cell_type": "markdown",
   "metadata": {},
   "source": [
    "# Combine N2O concentration estimates"
   ]
  },
  {
   "cell_type": "markdown",
   "metadata": {},
   "source": [
    "Purpose: Combine methane atmospheric concentration estimates from Julian years 1-2017, from references at the end of this notebook, and do a logistic fit to the year 200-1749 estimates"
   ]
  },
  {
   "cell_type": "markdown",
   "metadata": {},
   "source": [
    "Clear all variables and reset the working directory and import necessary libraries"
   ]
  },
  {
   "cell_type": "code",
   "execution_count": 1,
   "metadata": {},
   "outputs": [],
   "source": [
    "%reset -f\n",
    "import os\n",
    "import pandas as pd\n",
    "import datetime\n",
    "import matplotlib.pyplot as plt\n",
    "import numpy as np\n",
    "from scipy.optimize import curve_fit\n",
    "os.chdir('C:\\\\Users\\\\cd7\\\\Desktop\\\\Heat17N2O')"
   ]
  },
  {
   "cell_type": "markdown",
   "metadata": {},
   "source": [
    "Read two input files separately and assign the year values and nitride dioxide concentration data"
   ]
  },
  {
   "cell_type": "code",
   "execution_count": 2,
   "metadata": {},
   "outputs": [],
   "source": [
    "df1 = pd.read_excel('cage17lawdome1-2004nov02_ud.xlsx')\n",
    "df1.to_csv('cage17lawdome1-2004nov02_ud.csv',header=False,index=False)\n",
    "df1 = pd.read_csv('cage17lawdome1-2004nov02_ud.csv')\n",
    "df1.drop(df1.index[[-1]],inplace=True)\n",
    "df1.drop(df1.columns[5], axis=1,inplace=True)\n",
    "\n",
    "df2 = pd.read_excel('NOAA_MoleFractions_2016_ud.xlsx')\n",
    "df2.to_csv('NOAA_MoleFractions_2016_ud.csv',header=False,index=False)\n",
    "df2 = pd.read_csv('NOAA_MoleFractions_2016_ud.csv')\n",
    "df2.drop(df2.index[[-1]],inplace=True)"
   ]
  },
  {
   "cell_type": "markdown",
   "metadata": {},
   "source": [
    "Prepare for the nomenclature for the output excel sheet"
   ]
  },
  {
   "cell_type": "code",
   "execution_count": 3,
   "metadata": {},
   "outputs": [],
   "source": [
    "out1 = 'heat'\n",
    "out2 = 'n2o-1-2017'\n",
    "months = ['jan', 'feb', 'mar', 'apr', 'may', 'jun', 'jul', 'aug', 'sep', 'oct', 'nov', 'dec'] # abbreviations for months to insert in output file name\n",
    "date = datetime.date.today().strftime(\"%Y-%m-%d\")\n",
    "date_split = date.split('-') # split the date string we create by symbol \"-\"\n",
    "yrs = str(int(date_split[0])-2000) # real years minus 2000\n",
    "seq = [out1, yrs, out2,months[int(date_split[1])-1],date_split[2]]\n",
    "seperator = ','\n",
    "filename = seperator.join(seq).replace(',', '')"
   ]
  },
  {
   "cell_type": "markdown",
   "metadata": {},
   "source": [
    "Combine N2O concentration estimates, after rescaling Law Dome to NOAA"
   ]
  },
  {
   "cell_type": "code",
   "execution_count": 4,
   "metadata": {},
   "outputs": [],
   "source": [
    "yrslaw = df1.iloc[:,0:1]\n",
    "newyrslaw = yrslaw['YearAD'].tolist()\n",
    "newyrslaw = list(map(float, newyrslaw))\n",
    "n2olaw =  df1.iloc[:,4:5]\n",
    "df1 = pd.merge(yrslaw,n2olaw, left_index =True, right_index =True,how='outer')\n",
    "df1 = df1.astype(float)\n",
    "yrsnoaa = df2.iloc[:,0:1]\n",
    "yrsnoaa = yrsnoaa['Year'].tolist()\n",
    "yrsnoaa = list(map(float, yrsnoaa))\n",
    "newyrsnoaa = [x -0.5 for x in yrsnoaa]\n",
    "yrsnoaa = list(map(str, newyrsnoaa))\n",
    "yrsnoaa = pd.DataFrame({'Year':yrsnoaa})\n",
    "noaa = len(yrsnoaa)\n",
    "n2onoaa = df2.iloc[:,3:4]\n",
    "df2 = pd.merge(yrsnoaa,n2onoaa, left_index =True, right_index =True,how='outer')\n",
    "df2 = df2.astype(float)\n",
    "c1 = newyrsnoaa\n",
    "c2 = newyrslaw\n",
    "yrsboth = list(set(c1) & set(c2))\n",
    "a = yrsboth[0]\n",
    "b = yrsboth[-1]\n",
    "n2olawboth = n2olaw[newyrslaw.index(a):newyrslaw.index(b)+1]\n",
    "n2onoaaboth = n2onoaa[0:len(yrsboth)]\n",
    "n2onoaaboth = n2onoaaboth['N2O'].tolist()\n",
    "n2onoaaboth = list(map(float, n2onoaaboth))\n",
    "n2olawboth = n2olawboth['N2Ospl'].tolist()\n",
    "n2olawboth = list(map(float, n2olawboth))\n",
    "rescalelaw = n2onoaaboth[0]/n2olawboth[0] # rescale the data of Law Dome to NOAA\n",
    "yrs = list(range(1, 2018))\n",
    "n2olaw = n2olaw.astype(float)\n",
    "n2olaw *= float(rescalelaw)\n",
    "n2olaw.drop(n2olaw.index[-int((1+newyrslaw[-1]-newyrsnoaa[0])):-1],inplace=True,axis=0) \n",
    "n2olaw = n2olaw[:-1]\n",
    "n2olaw = n2olaw['N2Ospl'].tolist()\n",
    "n2olaw = list(map(float, n2olaw))\n",
    "n2onoaa = n2onoaa['N2O'].tolist()\n",
    "n2onoaa = list(map(float, n2onoaa))\n",
    "last = n2onoaa[-1] + 0.9 # \n",
    "# last = n2onoaa[-1] #\n",
    "last = [float(last)]\n",
    "n2o = n2olaw + n2onoaa + last\n",
    "# print (n2o)\n",
    "n2opre = n2o[yrs.index(200):yrs.index(1749)+1]\n",
    "yrspre = range(200,1750)\n",
    "# print(rescalelaw)"
   ]
  },
  {
   "cell_type": "markdown",
   "metadata": {},
   "source": [
    "Define the fitted logistic function and fit data"
   ]
  },
  {
   "cell_type": "code",
   "execution_count": 5,
   "metadata": {},
   "outputs": [
    {
     "name": "stdout",
     "output_type": "stream",
     "text": [
      "[262.15046478   5.14085694 735.90876299   7.27679809]\n",
      "267.2913217292295\n"
     ]
    }
   ],
   "source": [
    "def logistic(yrspre,c0,c1,c2,c3):\n",
    "     y = c1 / (1 + np.exp(-(yrspre-c2)/c3))+c0\n",
    "     return y\n",
    "param_bounds=([200,0,700,0],[300,10,800,10])\n",
    "popt,pcov = curve_fit(logistic, yrspre, n2opre, bounds=param_bounds)\n",
    "print (popt)\n",
    "print (popt[0]+popt[1])"
   ]
  },
  {
   "cell_type": "markdown",
   "metadata": {},
   "source": [
    "Plot the fitted logistic function,comparing with the historical data and save the results as a csv file."
   ]
  },
  {
   "cell_type": "code",
   "execution_count": 6,
   "metadata": {},
   "outputs": [
    {
     "data": {
      "image/png": "[encoded data removed]",
      "text/plain": [
       "<matplotlib.figure.Figure at 0x26b63fe6588>"
      ]
     },
     "metadata": {},
     "output_type": "display_data"
    }
   ],
   "source": [
    "x = np.array(yrspre)\n",
    "y = logistic(x, *popt)\n",
    "plt.plot(x,y, label=\"fit\")\n",
    "plt.xlabel('Year')\n",
    "plt.ylabel('ppb') \n",
    "plt.scatter(yrspre,n2opre,s=2,color = 'r', alpha = 0.5,label ='data',marker='o')\n",
    "plt.legend(loc='best')\n",
    "plt.savefig('n2o1.eps',dpi=1000)\n",
    "plt.show()\n",
    "\n",
    "yrs = list(map(str, yrs))\n",
    "yrs = pd.DataFrame({'Year':yrs})\n",
    "n2o = list(map(str, n2o))\n",
    "n2o = pd.DataFrame({'N2O':n2o})\n",
    "df = pd.merge(yrs, n2o, left_index =True, right_index =True,how='outer')\n",
    "df.loc[-1]=['Julian','ppb']\n",
    "df.index = df.index+1\n",
    "df = df.sort_index()\n",
    "df.loc[(len(df))] = ['2017/12/16','heat17n2odec16.nb']\n",
    "df.to_csv(filename + '.csv', index=False)"
   ]
  }
 ],
 "metadata": {
  "kernelspec": {
   "display_name": "Python 3",
   "language": "python",
   "name": "python3"
  },
  "language_info": {
   "codemirror_mode": {
    "name": "ipython",
    "version": 3
   },
   "file_extension": ".py",
   "mimetype": "text/x-python",
   "name": "python",
   "nbconvert_exporter": "python",
   "pygments_lexer": "ipython3",
   "version": "3.6.4"
  }
 },
 "nbformat": 4,
 "nbformat_minor": 2
}
